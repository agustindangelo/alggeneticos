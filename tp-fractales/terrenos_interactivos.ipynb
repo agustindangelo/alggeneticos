{
 "cells": [
  {
   "cell_type": "code",
   "execution_count": 1,
   "metadata": {},
   "outputs": [],
   "source": [
    "import dash\n",
    "import plotly.express as px\n",
    "import plotly.graph_objs as go\n",
    "from jupyter_dash import JupyterDash\n",
    "import dash_core_components as dcc\n",
    "import dash_html_components as html\n",
    "import dash_bootstrap_components as dbc\n",
    "from dash.dependencies import Input, Output\n",
    "import numpy as np\n",
    "import pandas as pd"
   ]
  },
  {
   "cell_type": "code",
   "execution_count": 2,
   "metadata": {},
   "outputs": [],
   "source": [
    "def calcular_tamaño_interno_iteraciones(tamaño, maxima_potencia=13):\n",
    "    if maxima_potencia < 3:\n",
    "        maxima_potencia = 3\n",
    "\n",
    "    borde_mas_largo = max(tamaño)\n",
    "\n",
    "    for potencia in range(1, maxima_potencia + 1):\n",
    "        d = (2**potencia) + 1\n",
    "        if borde_mas_largo <= d:\n",
    "            return (d, d), potencia\n",
    "\n",
    "    #failsafe: no values in the dimensions array were allowed, so print a warning and return\n",
    "    # the maximum size.\n",
    "    d = 2**maxima_potencia + 1\n",
    "    print(f\"Tamaño solicitado muy grande, usted ingresó {d} unidades\")\n",
    "    return (d, d), maxima_potencia"
   ]
  },
  {
   "cell_type": "code",
   "execution_count": 3,
   "metadata": {},
   "outputs": [],
   "source": [
    "def ejecutar_paso_diamante(array, paso, variabilidad):\n",
    "    # calcular las esquinas del diamante\n",
    "    medio_paso = int(np.floor(paso / 2))\n",
    "    pasos_x = range(medio_paso, array.shape[0], paso)\n",
    "    pasos_y = pasos_x[:]\n",
    "\n",
    "    for i in pasos_x:\n",
    "        for j in pasos_y:\n",
    "            if array[i,j] == -1.0:\n",
    "                array[i,j] = definir_desplazamiento_diamante(array, i, j, medio_paso, variabilidad)"
   ]
  },
  {
   "cell_type": "code",
   "execution_count": 4,
   "metadata": {},
   "outputs": [],
   "source": [
    "def ejecutar_paso_cuadrado(array, paso, variabilidad):\n",
    "\n",
    "    medio_paso = int(np.floor(paso / 2))\n",
    "\n",
    "    pasos_verticales_x = range(medio_paso, array.shape[0], paso)\n",
    "    pasos_verticales_y = range(0, array.shape[1], paso)\n",
    "\n",
    "    pasos_horizontales_x = range(0, array.shape[0], paso)\n",
    "    pasos_horizontales_y = range(medio_paso, array.shape[1], paso)\n",
    "\n",
    "    for i in pasos_horizontales_x:\n",
    "        for j in pasos_horizontales_y:\n",
    "            array[i,j] = definir_desplazamiento_cuadrado(array, i, j, medio_paso, variabilidad)\n",
    "\n",
    "    for i in pasos_verticales_x:\n",
    "        for j in pasos_verticales_y:\n",
    "            array[i,j] = definir_desplazamiento_cuadrado(array, i, j, medio_paso, variabilidad)"
   ]
  },
  {
   "cell_type": "code",
   "execution_count": 5,
   "metadata": {},
   "outputs": [],
   "source": [
    "def definir_desplazamiento_diamante(array, i, j, medio_paso, variabilidad):\n",
    "\n",
    "    # defines the midpoint displacement for the diamond step\n",
    "\n",
    "    arriba_izq = array[i - medio_paso, j - medio_paso]\n",
    "    arriba_der = array[i - medio_paso, j + medio_paso]\n",
    "    abajo_izq = array[i + medio_paso, j - medio_paso]\n",
    "    abajo_der = array[i + medio_paso, j + medio_paso]\n",
    "\n",
    "    promedio = (arriba_izq + arriba_der + abajo_izq + abajo_der) / 4.0\n",
    "\n",
    "    valor_aleatorio = np.random.uniform()\n",
    "\n",
    "    return (variabilidad * valor_aleatorio) + (1.0 - variabilidad) * promedio"
   ]
  },
  {
   "cell_type": "code",
   "execution_count": 6,
   "metadata": {},
   "outputs": [],
   "source": [
    "def definir_desplazamiento_cuadrado(array, i, j, medio_paso, variabilidad):\n",
    "    #Defines the midpoint displacement for the square step\n",
    "    \n",
    "    acumulador = 0.0\n",
    "    dividir_por = 4\n",
    "\n",
    "    # checkear celda superior\n",
    "    if i - medio_paso >= 0:\n",
    "        acumulador += array[i - medio_paso, j]\n",
    "    else:\n",
    "        dividir_por -= 1\n",
    "\n",
    "    # checkear celda inferior\n",
    "    if i + medio_paso < array.shape[0]:\n",
    "        acumulador += array[i + medio_paso, j]\n",
    "    else:\n",
    "        dividir_por -= 1\n",
    "\n",
    "    # checkear celda a la izquierda\n",
    "    if j - medio_paso >= 0:\n",
    "        acumulador += array[i, j - medio_paso]\n",
    "    else:\n",
    "        dividir_por -= 1\n",
    "\n",
    "    # checkear celda a la derecha\n",
    "    if j + medio_paso < array.shape[0]:\n",
    "        acumulador += array[i, j + medio_paso]\n",
    "    else:\n",
    "        dividir_por -= 1\n",
    "\n",
    "    promedio = acumulador / dividir_por\n",
    "\n",
    "    valor_aleatorio = np.random.uniform()\n",
    "\n",
    "    return (variabilidad * valor_aleatorio) + (1.0 - variabilidad) * promedio"
   ]
  },
  {
   "cell_type": "code",
   "execution_count": 7,
   "metadata": {},
   "outputs": [],
   "source": [
    "def generar_terreno(tamaño = (1, 1),\n",
    "                   altura_min = 0.5,\n",
    "                   altura_max = 1,\n",
    "                   variabilidad = 2,\n",
    "                   semilla = None):\n",
    "\n",
    "    # checkeo de parametros\n",
    "    if variabilidad > 1:\n",
    "        return 'Error! parametro de variabilidad excedido'\n",
    "    if variabilidad < 0:\n",
    "        return 'Error! parametro de variabilidad excedido'\n",
    "\n",
    "    tamaño_interno, iteraciones = calcular_tamaño_interno_iteraciones(tamaño)\n",
    "    \n",
    "    # inicializar el arreglo de floats, los llenamos de \"-1\"\n",
    "    array = np.full(tamaño_interno, -1, dtype='float')\n",
    "\n",
    "    # establecemos la semilla para que al ejecutarlo varias veces nos dé el mismo resultado\n",
    "    np.random.seed(semilla)\n",
    "\n",
    "    # paso 1: inicializar las esquinas\n",
    "    array[0, 0] = np.random.uniform()\n",
    "    array[tamaño_interno[0] - 1, 0] = np.random.uniform()\n",
    "    array[0, tamaño_interno[1] - 1] = np.random.uniform()\n",
    "    array[tamaño_interno[0] - 1, tamaño_interno[1] - 1] = np.random.uniform()\n",
    "\n",
    "    # repetir los pasos\n",
    "    for i in range(iteraciones):\n",
    "        r = np.power(variabilidad, i)\n",
    "\n",
    "        paso = int(np.floor((tamaño_interno[0] - 1) / np.power(2, i)))\n",
    "\n",
    "        ejecutar_paso_diamante(array, paso, r)\n",
    "        ejecutar_paso_cuadrado(array, paso, r)\n",
    "\n",
    "    # reescalar los valores para satisfacer los limites de altura que se pasaron por parámetro\n",
    "    array = altura_min + (array * (altura_max - altura_min))\n",
    "\n",
    "    # recortar el arreglo para satisfacer el tamaño que se pasó por parámetro\n",
    "    return array[:tamaño[0], :tamaño[1]]"
   ]
  },
  {
   "cell_type": "code",
   "execution_count": 8,
   "metadata": {},
   "outputs": [],
   "source": [
    "app = JupyterDash(__name__,\n",
    "external_stylesheets=[dbc.themes.BOOTSTRAP])\n",
    "\n",
    "# Build App\n",
    "app.layout = html.Div([\n",
    "    dbc.Row(\n",
    "        dbc.Col(\n",
    "                html.H1(\"Terrenos Interactivos\")\n",
    "           )\n",
    "    ),\n",
    "    dbc.Row(\n",
    "        dbc.Col([\n",
    "            html.H3(\"Altura Mínima del Terreno\"),\n",
    "            dcc.Slider(\n",
    "                id='slider_altura_min',\n",
    "                min=0,\n",
    "                max=5,\n",
    "                value=3,\n",
    "                marks={i: f'{i}' for i in range(0,6)}\n",
    "            )\n",
    "        ])\n",
    "    ),\n",
    "    dbc.Row(\n",
    "        dbc.Col([\n",
    "            html.H3(\"Altura Máxima del Terreno\"),\n",
    "            dcc.Slider(\n",
    "                id='slider_altura_max',\n",
    "                min=5,\n",
    "                max=10,\n",
    "                value=7,\n",
    "                marks={i: f'{i}' for i in range(5,11)}\n",
    "            )\n",
    "        ])\n",
    "    ),\n",
    "    dbc.Row(\n",
    "        dbc.Col([\n",
    "            html.H3(\"Variabilidad del Terreno\"),\n",
    "            dcc.Slider(\n",
    "                id='slider_variabilidad',\n",
    "                min=0,\n",
    "                max=100,\n",
    "                value=50,\n",
    "                marks={i: f'{i/100}' for i in range(0,101,10)}\n",
    "            )\n",
    "        ])\n",
    "    ),\n",
    "    dbc.Row(\n",
    "        dbc.Col([\n",
    "            html.H3(\"Longitud del Lado 1\"),\n",
    "            dcc.Slider(\n",
    "                id='slider_tamaño_x',\n",
    "                min=1,\n",
    "                max=25,\n",
    "                value=5,\n",
    "                marks={i: f'{i}' for i in range(1, 26, 2)}\n",
    "            )\n",
    "        ])\n",
    "    ),\n",
    "    dbc.Row(\n",
    "        dbc.Col([\n",
    "            html.H3(\"Longitud del Lado 2\"),\n",
    "            dcc.Slider(\n",
    "                id='slider_tamaño_y',\n",
    "                min=1,\n",
    "                max=25,\n",
    "                value=5,\n",
    "                marks={i: f'{i}' for i in range(1, 26, 2)}\n",
    "            )\n",
    "        ])\n",
    "    ),    \n",
    "    dbc.Row(\n",
    "        dbc.Col([\n",
    "            html.H3(\"La magia:\"),\n",
    "            dcc.Graph(id='graph')\n",
    "        ])\n",
    "    )]\n",
    ")\n",
    "# Define callback to update graph\n",
    "@app.callback(\n",
    "    Output('graph', 'figure'),\n",
    "    [Input('slider_altura_min', 'value'),\n",
    "     Input('slider_altura_max', 'value'),\n",
    "     Input('slider_variabilidad', 'value'),\n",
    "     Input('slider_tamaño_x', 'value'),\n",
    "     Input('slider_tamaño_y', 'value')]\n",
    ")\n",
    "\n",
    "def update_figure(altura_min, altura_max, variabilidad, tamaño_x, tamaño_y):\n",
    "    Z = generar_terreno(\n",
    "            tamaño=(tamaño_x, tamaño_y),\n",
    "            altura_min=altura_min,\n",
    "            altura_max=altura_max,\n",
    "            variabilidad=variabilidad/100,\n",
    "            semilla=0\n",
    "    )\n",
    "\n",
    "    x = np.linspace(-tamaño_x/2, tamaño_x/2, tamaño_x)\n",
    "    y = np.linspace(-tamaño_y/2, tamaño_y/2, tamaño_y)\n",
    "\n",
    "    X,Y = np.meshgrid(x,y)\n",
    "    \n",
    "    fig = go.Figure(data=[go.Surface(z=Z, colorscale='Blues', reversescale=True)])\n",
    "    return fig\n",
    "\n",
    "# Run app and display result inline in the notebook\n",
    "app.run_server(mode='jupyterlab', port=8088)"
   ]
  },
  {
   "cell_type": "code",
   "execution_count": 30,
   "metadata": {},
   "outputs": [],
   "source": [
    "# Load Data\n",
    "\n",
    "app = JupyterDash(__name__,\n",
    "external_stylesheets=[dbc.themes.BOOTSTRAP])\n",
    "\n",
    "# Build App\n",
    "app.layout = html.Div([\n",
    "    dbc.Row(\n",
    "        dbc.Col(\n",
    "                html.H1(\"Terrenos Interactivos\")\n",
    "           )\n",
    "    ),\n",
    "    \n",
    "    dbc.Row(\n",
    "        dbc.Col([\n",
    "            html.H3(\"Año: \"),\n",
    "            dcc.Slider(\n",
    "                id='slider_anio',\n",
    "                min=1950,\n",
    "                max=2090,\n",
    "                value=2020,\n",
    "                step=None,\n",
    "                marks={i: f'{i}' for i in range(1950, 2091, 10)}\n",
    "            )\n",
    "        ])\n",
    "    ),\n",
    "    dbc.Row(\n",
    "        dbc.Col([\n",
    "            html.H3(\"Glaciar resultante: \"),\n",
    "            dcc.Graph(id='graph')\n",
    "        ])\n",
    "    )\n",
    "]\n",
    ")\n",
    "# Define callback to update graph\n",
    "@app.callback(\n",
    "    Output('graph', 'figure'),\n",
    "    Input('slider_anio', 'value')\n",
    ")\n",
    "\n",
    "def update_figure(anio):\n",
    "    if (anio==1950):\n",
    "        altura_min=9\n",
    "        altura_max=10\n",
    "        variabilidad=0.7\n",
    "        temp=\"4.9°C\"\n",
    "    elif (anio==1960):\n",
    "        altura_min=8.8696\n",
    "        altura_max=9.8696\n",
    "        variabilidad=0.6913\n",
    "        temp=\"5°C\"\n",
    "    elif (anio==1970):\n",
    "        altura_min=8.8044\n",
    "        altura_max=9.8044\n",
    "        variabilidad=0.6869\n",
    "        temp=\"6.05°C\"\n",
    "    elif (anio==1980):\n",
    "        altura_min=8.6088\n",
    "        altura_max=9.6088\n",
    "        variabilidad=0.6739\n",
    "        temp=\"6.2°C\"\n",
    "    elif (anio==1990):\n",
    "        altura_min=8.45232\n",
    "        altura_max=9.45232\n",
    "        variabilidad=0.6635\n",
    "        temp=\"6.32°C\"\n",
    "    elif (anio==2000):\n",
    "        altura_min=8.0872\n",
    "        altura_max=9.0872\n",
    "        variabilidad=0.6391\n",
    "        temp=\"6.6°C\"\n",
    "    elif (anio==2010):\n",
    "        altura_min=7.8916\n",
    "        altura_max=8.8916\n",
    "        variabilidad=0.6261\n",
    "        temp=\"6.75°C\"\n",
    "    elif (anio==2020):\n",
    "        altura_min=7.5656\n",
    "        altura_max=8.5656\n",
    "        variabilidad=0.6\n",
    "        temp=\"7°C\"\n",
    "    elif (anio==2030):\n",
    "        altura_min=6.9136\n",
    "        altura_max=7.9136\n",
    "        variabilidad=0.5609\n",
    "        temp=\"7.5°C\"\n",
    "    elif (anio==2040):\n",
    "        altura_min=6.2616\n",
    "        altura_max=7.2616\n",
    "        variabilidad=0.5175\n",
    "        temp=\"8°C\"\n",
    "    elif (anio==2050):\n",
    "        altura_min=4.9576\n",
    "        altura_max=5.9576\n",
    "        variabilidad=0.4306\n",
    "        temp=\"9°C\"\n",
    "    elif (anio==2060):\n",
    "        altura_min=3.6536\n",
    "        altura_max=4.6536\n",
    "        variabilidad=0.3437\n",
    "        temp=\"10°C\"\n",
    "    elif (anio==2070):\n",
    "        altura_min=3.0016\n",
    "        altura_max=4.0016\n",
    "        variabilidad=0.3\n",
    "        temp=\"10.5°C\"\n",
    "    elif (anio==2080):\n",
    "        altura_min=1.5672\n",
    "        altura_max=2.5672\n",
    "        variabilidad=0.2047\n",
    "        temp=\"11.6°C\"\n",
    "    else:\n",
    "        altura_min=0\n",
    "        altura_max=1\n",
    "        variabilidad=0.1\n",
    "        temp=\"12.8°C\"\n",
    "    #para mostrar medidas de altura mas realistas (en metros)\n",
    "    altura_min=altura_min*7 \n",
    "    altura_max=altura_max*7\n",
    "    longitud = 50\n",
    "    tamaño_x=longitud\n",
    "    tamaño_y=longitud\n",
    "    Z = generar_terreno(tamaño=(tamaño_x, tamaño_y), altura_min=altura_min, altura_max=altura_max, variabilidad=variabilidad, semilla=0)\n",
    "\n",
    "    superficies = [go.Surface(z=Z, colorscale='blues', reversescale=True)] \n",
    "    \n",
    "    z_minimo = np.min(Z)\n",
    "    z_maximo= np.max(Z)\n",
    "    fila_de_ceros = np.full(longitud, 0)\n",
    "    fila_z_minimo = np.full(longitud, z_minimo)\n",
    "    fila_de_valor_limite = np.full(longitud, longitud-1)\n",
    "    fila_lineal = np.linspace(0, longitud-1, longitud)\n",
    "    \n",
    "#   ---------- Pared 1:\n",
    "    x = np.array([fila_de_ceros, fila_de_ceros])\n",
    "    y = np.array([fila_lineal, fila_lineal])\n",
    "    z = np.array([fila_z_minimo, Z[:,0]])\n",
    "    \n",
    "    superficies.append(go.Surface(x=x, y=y, z=z, colorscale=[[0,'rgb(192,229,232)'],[1,'rgb(66,146,198)']],cmin=z_minimo, cmax=z_maximo, reversescale=True))\n",
    "#   ---------- Pared 2:\n",
    "    x = np.array([fila_lineal, fila_lineal])\n",
    "    y = np.array([fila_de_ceros, fila_de_ceros])\n",
    "    z = np.array([fila_z_minimo, Z[0,:]])   \n",
    "\n",
    "    superficies.append(go.Surface(x=x, y=y, z=z, colorscale=[[0,'rgb(192,229,232)'],[1,'rgb(66,146,198)']],cmin=z_minimo, cmax=z_maximo, reversescale=True))\n",
    "#   ---------- Pared 3:\n",
    "    x = np.array([fila_lineal, fila_lineal])\n",
    "    y = np.array([fila_de_valor_limite, fila_de_valor_limite])\n",
    "    z = np.array([fila_z_minimo, Z[longitud-1,:]])   \n",
    "\n",
    "    superficies.append(go.Surface(x=x, y=y, z=z, colorscale=[[0,'rgb(192,229,232)'],[1,'rgb(66,146,198)']],cmin=z_minimo, cmax=z_maximo, reversescale=True))\n",
    "#   ---------- Pared 4:\n",
    "    x = np.array([fila_de_valor_limite, fila_de_valor_limite])\n",
    "    y = np.array([fila_lineal, fila_lineal])\n",
    "    z = np.array([fila_z_minimo, Z[:, longitud-1]]) \n",
    "\n",
    "    superficies.append(go.Surface(x=x, y=y, z=z, colorscale=[[0,'rgb(192,229,232)'],[1,'rgb(66,146,198)']],cmin=z_minimo, cmax=z_maximo, reversescale=True))\n",
    "#   ----------- Piso:\n",
    "    x, y = np.meshgrid(fila_lineal, fila_lineal)\n",
    "    z = np.full((longitud, longitud), z_minimo)\n",
    "    \n",
    "    superficies.append(go.Surface(x = x, y = y, z = z, colorscale='blues'))\n",
    "    \n",
    "    fig = go.Figure(data=superficies)\n",
    "    return fig \n",
    "# Run app and display result inline in the notebook\n",
    "app.run_server(mode='jupyterlab', port=8080)"
   ]
  },
  {
   "cell_type": "markdown",
   "metadata": {},
   "source": [
    "**versión con paredes**"
   ]
  },
  {
   "cell_type": "code",
   "execution_count": 9,
   "metadata": {},
   "outputs": [],
   "source": [
    "app = JupyterDash(__name__,\n",
    "external_stylesheets=[dbc.themes.BOOTSTRAP])\n",
    "\n",
    "# Build App\n",
    "app.layout = html.Div([\n",
    "    dbc.Row(\n",
    "        dbc.Col(\n",
    "                html.H1(\"Terrenos Interactivos\")\n",
    "           )\n",
    "    ),\n",
    "    dbc.Row(\n",
    "        dbc.Col([\n",
    "            html.H3(\"Altura Mínima del Terreno\"),\n",
    "            dcc.Slider(\n",
    "                id='slider_altura_min',\n",
    "                min=0,\n",
    "                max=5,\n",
    "                value=3,\n",
    "                marks={i: f'{i}' for i in range(0,6)}\n",
    "            )\n",
    "        ])\n",
    "    ),\n",
    "    dbc.Row(\n",
    "        dbc.Col([\n",
    "            html.H3(\"Altura Máxima del Terreno\"),\n",
    "            dcc.Slider(\n",
    "                id='slider_altura_max',\n",
    "                min=5,\n",
    "                max=10,\n",
    "                value=7,\n",
    "                marks={i: f'{i}' for i in range(5,11)}\n",
    "            )\n",
    "        ])\n",
    "    ),\n",
    "    dbc.Row(\n",
    "        dbc.Col([\n",
    "            html.H3(\"Variabilidad del Terreno\"),\n",
    "            dcc.Slider(\n",
    "                id='slider_variabilidad',\n",
    "                min=0,\n",
    "                max=100,\n",
    "                value=50,\n",
    "                marks={i: f'{i/100}' for i in range(0,101,10)}\n",
    "            )\n",
    "        ])\n",
    "    ),\n",
    "    dbc.Row(\n",
    "        dbc.Col([\n",
    "            html.H3(\"Longitud \"),\n",
    "            dcc.Slider(\n",
    "                id='slider_longitud',\n",
    "                min=1,\n",
    "                max=25,\n",
    "                value=5,\n",
    "                marks={i: f'{i}' for i in range(1, 26, 2)}\n",
    "            )\n",
    "        ])\n",
    "    ),\n",
    "    dbc.Row(\n",
    "        dbc.Col([\n",
    "            dcc.Graph(id='graph')\n",
    "        ])\n",
    "    )]\n",
    ")\n",
    "# Define callback to update graph\n",
    "@app.callback(\n",
    "    Output('graph', 'figure'),\n",
    "    [Input('slider_altura_min', 'value'),\n",
    "     Input('slider_altura_max', 'value'),\n",
    "     Input('slider_variabilidad', 'value'),\n",
    "     Input('slider_longitud', 'value')]\n",
    ")\n",
    "\n",
    "def update_figure(altura_min, altura_max, variabilidad, longitud):\n",
    "    Z = generar_terreno(\n",
    "            tamaño=(longitud, longitud),\n",
    "            altura_min=altura_min,\n",
    "            altura_max=altura_max,\n",
    "            variabilidad=variabilidad/100,\n",
    "            semilla=0\n",
    "    )\n",
    "    \n",
    "    superficies = [go.Surface(z=Z)] \n",
    "    fila_de_ceros = np.full(longitud, 0)\n",
    "    fila_de_valor_limite = np.full(longitud, longitud-1)\n",
    "    fila_lineal = np.linspace(0, longitud-1, longitud)\n",
    "    max_r = np.linspace(9,9,10)\n",
    "    lin_r = np.linspace(0,9,10)\n",
    "\n",
    "#   ---------- Pared 1:\n",
    "    x = np.array([fila_de_ceros, fila_de_ceros])\n",
    "    y = np.array([fila_lineal, fila_lineal])\n",
    "    z = np.array([fila_de_ceros, Z[:,0]])\n",
    "    \n",
    "    superficies.append(go.Surface(x=x, y=y, z=z, opacity = 0.9))\n",
    "#   ---------- Pared 2:\n",
    "    x = np.array([fila_lineal, fila_lineal])\n",
    "    y = np.array([fila_de_ceros, fila_de_ceros])\n",
    "    z = np.array([fila_de_ceros, Z[0,:]])   \n",
    "\n",
    "    superficies.append(go.Surface(x=x, y=y, z=z, opacity = 0.9))\n",
    "#   ---------- Pared 3:\n",
    "    x = np.array([fila_lineal, fila_lineal])\n",
    "    y = np.array([fila_de_valor_limite, fila_de_valor_limite])\n",
    "    z = np.array([fila_de_ceros, Z[longitud-1,:]])   \n",
    "\n",
    "    superficies.append(go.Surface(x=x, y=y, z=z, opacity = 0.9))\n",
    "#   ---------- Pared 4:\n",
    "    x = np.array([fila_de_valor_limite, fila_de_valor_limite])\n",
    "    y = np.array([fila_lineal, fila_lineal])\n",
    "    z = np.array([fila_de_ceros, Z[:, longitud-1]]) \n",
    "\n",
    "    superficies.append(go.Surface(x=x, y=y, z=z, opacity = 0.9))\n",
    "#   ----------- Piso:\n",
    "    x, y = np.meshgrid(fila_lineal, fila_lineal)\n",
    "    z = np.full((longitud, longitud), 0)\n",
    "    superficies.append(go.Surface(x = x, y = y, z = z, opacity = 0.9))\n",
    "\n",
    "    fig = go.Figure(data = superficies)\n",
    "    return fig\n",
    "\n",
    "# Run app and display result inline in the notebook\n",
    "app.run_server(mode='jupyterlab', port=8088)"
   ]
  },
  {
   "cell_type": "markdown",
   "metadata": {},
   "source": [
    "**pruebas**"
   ]
  },
  {
   "cell_type": "code",
   "execution_count": 167,
   "metadata": {},
   "outputs": [],
   "source": [
    "f11 = np.linspace(0,0,10)\n",
    "f21 = []\n",
    "for j in range(len(Z)):\n",
    "    f21.append(Z[j,0])\n",
    "x1 = np.array([fila_de_ceros, fila_de_ceros])\n",
    "y1 = np.array([fila_lineal, fila_lineal])\n",
    "z1 = np.array([fila_de_ceros, Z[:,0]])\n",
    "s1 = go.Surface(x = x1, y = y1, z = z1, opacity = 0.5)\n"
   ]
  },
  {
   "cell_type": "code",
   "execution_count": 176,
   "metadata": {},
   "outputs": [],
   "source": [
    "f12 = np.linspace(0,0,10)\n",
    "f22 = []\n",
    "for j in range(len(Z)):\n",
    "    f22.append(Z[0,j])"
   ]
  },
  {
   "cell_type": "code",
   "execution_count": 178,
   "metadata": {},
   "outputs": [],
   "source": [
    "f13 = np.linspace(0,0,10)\n",
    "f23 = []\n",
    "for j in range(len(Z)):\n",
    "    f23.append(Z[9,j])"
   ]
  },
  {
   "cell_type": "code",
   "execution_count": 170,
   "metadata": {},
   "outputs": [],
   "source": [
    "f14 = np.linspace(0,0,10)\n",
    "f24 = []\n",
    "for j in range(len(Z)):\n",
    "    f24.append(Z[j,9])"
   ]
  },
  {
   "cell_type": "code",
   "execution_count": 224,
   "metadata": {},
   "outputs": [
    {
     "data": {
      "application/vnd.plotly.v1+json": {
       "config": {
        "plotlyServerURL": "https://plot.ly"
       },
       "data": [
        {
         "opacity": 1,
         "type": "surface",
         "x": [
          0,
          0,
          9,
          9
         ],
         "y": [
          0,
          9,
          0,
          9
         ],
         "z": [
          0,
          0,
          0,
          0
         ]
        }
       ],
       "layout": {
        "scene": {
         "aspectmode": "auto",
         "aspectratio": {
          "x": 1,
          "y": 1,
          "z": 1
         }
        },
        "template": {
         "data": {
          "bar": [
           {
            "error_x": {
             "color": "#2a3f5f"
            },
            "error_y": {
             "color": "#2a3f5f"
            },
            "marker": {
             "line": {
              "color": "#E5ECF6",
              "width": 0.5
             }
            },
            "type": "bar"
           }
          ],
          "barpolar": [
           {
            "marker": {
             "line": {
              "color": "#E5ECF6",
              "width": 0.5
             }
            },
            "type": "barpolar"
           }
          ],
          "carpet": [
           {
            "aaxis": {
             "endlinecolor": "#2a3f5f",
             "gridcolor": "white",
             "linecolor": "white",
             "minorgridcolor": "white",
             "startlinecolor": "#2a3f5f"
            },
            "baxis": {
             "endlinecolor": "#2a3f5f",
             "gridcolor": "white",
             "linecolor": "white",
             "minorgridcolor": "white",
             "startlinecolor": "#2a3f5f"
            },
            "type": "carpet"
           }
          ],
          "choropleth": [
           {
            "colorbar": {
             "outlinewidth": 0,
             "ticks": ""
            },
            "type": "choropleth"
           }
          ],
          "contour": [
           {
            "colorbar": {
             "outlinewidth": 0,
             "ticks": ""
            },
            "colorscale": [
             [
              0,
              "#0d0887"
             ],
             [
              0.1111111111111111,
              "#46039f"
             ],
             [
              0.2222222222222222,
              "#7201a8"
             ],
             [
              0.3333333333333333,
              "#9c179e"
             ],
             [
              0.4444444444444444,
              "#bd3786"
             ],
             [
              0.5555555555555556,
              "#d8576b"
             ],
             [
              0.6666666666666666,
              "#ed7953"
             ],
             [
              0.7777777777777778,
              "#fb9f3a"
             ],
             [
              0.8888888888888888,
              "#fdca26"
             ],
             [
              1,
              "#f0f921"
             ]
            ],
            "type": "contour"
           }
          ],
          "contourcarpet": [
           {
            "colorbar": {
             "outlinewidth": 0,
             "ticks": ""
            },
            "type": "contourcarpet"
           }
          ],
          "heatmap": [
           {
            "colorbar": {
             "outlinewidth": 0,
             "ticks": ""
            },
            "colorscale": [
             [
              0,
              "#0d0887"
             ],
             [
              0.1111111111111111,
              "#46039f"
             ],
             [
              0.2222222222222222,
              "#7201a8"
             ],
             [
              0.3333333333333333,
              "#9c179e"
             ],
             [
              0.4444444444444444,
              "#bd3786"
             ],
             [
              0.5555555555555556,
              "#d8576b"
             ],
             [
              0.6666666666666666,
              "#ed7953"
             ],
             [
              0.7777777777777778,
              "#fb9f3a"
             ],
             [
              0.8888888888888888,
              "#fdca26"
             ],
             [
              1,
              "#f0f921"
             ]
            ],
            "type": "heatmap"
           }
          ],
          "heatmapgl": [
           {
            "colorbar": {
             "outlinewidth": 0,
             "ticks": ""
            },
            "colorscale": [
             [
              0,
              "#0d0887"
             ],
             [
              0.1111111111111111,
              "#46039f"
             ],
             [
              0.2222222222222222,
              "#7201a8"
             ],
             [
              0.3333333333333333,
              "#9c179e"
             ],
             [
              0.4444444444444444,
              "#bd3786"
             ],
             [
              0.5555555555555556,
              "#d8576b"
             ],
             [
              0.6666666666666666,
              "#ed7953"
             ],
             [
              0.7777777777777778,
              "#fb9f3a"
             ],
             [
              0.8888888888888888,
              "#fdca26"
             ],
             [
              1,
              "#f0f921"
             ]
            ],
            "type": "heatmapgl"
           }
          ],
          "histogram": [
           {
            "marker": {
             "colorbar": {
              "outlinewidth": 0,
              "ticks": ""
             }
            },
            "type": "histogram"
           }
          ],
          "histogram2d": [
           {
            "colorbar": {
             "outlinewidth": 0,
             "ticks": ""
            },
            "colorscale": [
             [
              0,
              "#0d0887"
             ],
             [
              0.1111111111111111,
              "#46039f"
             ],
             [
              0.2222222222222222,
              "#7201a8"
             ],
             [
              0.3333333333333333,
              "#9c179e"
             ],
             [
              0.4444444444444444,
              "#bd3786"
             ],
             [
              0.5555555555555556,
              "#d8576b"
             ],
             [
              0.6666666666666666,
              "#ed7953"
             ],
             [
              0.7777777777777778,
              "#fb9f3a"
             ],
             [
              0.8888888888888888,
              "#fdca26"
             ],
             [
              1,
              "#f0f921"
             ]
            ],
            "type": "histogram2d"
           }
          ],
          "histogram2dcontour": [
           {
            "colorbar": {
             "outlinewidth": 0,
             "ticks": ""
            },
            "colorscale": [
             [
              0,
              "#0d0887"
             ],
             [
              0.1111111111111111,
              "#46039f"
             ],
             [
              0.2222222222222222,
              "#7201a8"
             ],
             [
              0.3333333333333333,
              "#9c179e"
             ],
             [
              0.4444444444444444,
              "#bd3786"
             ],
             [
              0.5555555555555556,
              "#d8576b"
             ],
             [
              0.6666666666666666,
              "#ed7953"
             ],
             [
              0.7777777777777778,
              "#fb9f3a"
             ],
             [
              0.8888888888888888,
              "#fdca26"
             ],
             [
              1,
              "#f0f921"
             ]
            ],
            "type": "histogram2dcontour"
           }
          ],
          "mesh3d": [
           {
            "colorbar": {
             "outlinewidth": 0,
             "ticks": ""
            },
            "type": "mesh3d"
           }
          ],
          "parcoords": [
           {
            "line": {
             "colorbar": {
              "outlinewidth": 0,
              "ticks": ""
             }
            },
            "type": "parcoords"
           }
          ],
          "pie": [
           {
            "automargin": true,
            "type": "pie"
           }
          ],
          "scatter": [
           {
            "marker": {
             "colorbar": {
              "outlinewidth": 0,
              "ticks": ""
             }
            },
            "type": "scatter"
           }
          ],
          "scatter3d": [
           {
            "line": {
             "colorbar": {
              "outlinewidth": 0,
              "ticks": ""
             }
            },
            "marker": {
             "colorbar": {
              "outlinewidth": 0,
              "ticks": ""
             }
            },
            "type": "scatter3d"
           }
          ],
          "scattercarpet": [
           {
            "marker": {
             "colorbar": {
              "outlinewidth": 0,
              "ticks": ""
             }
            },
            "type": "scattercarpet"
           }
          ],
          "scattergeo": [
           {
            "marker": {
             "colorbar": {
              "outlinewidth": 0,
              "ticks": ""
             }
            },
            "type": "scattergeo"
           }
          ],
          "scattergl": [
           {
            "marker": {
             "colorbar": {
              "outlinewidth": 0,
              "ticks": ""
             }
            },
            "type": "scattergl"
           }
          ],
          "scattermapbox": [
           {
            "marker": {
             "colorbar": {
              "outlinewidth": 0,
              "ticks": ""
             }
            },
            "type": "scattermapbox"
           }
          ],
          "scatterpolar": [
           {
            "marker": {
             "colorbar": {
              "outlinewidth": 0,
              "ticks": ""
             }
            },
            "type": "scatterpolar"
           }
          ],
          "scatterpolargl": [
           {
            "marker": {
             "colorbar": {
              "outlinewidth": 0,
              "ticks": ""
             }
            },
            "type": "scatterpolargl"
           }
          ],
          "scatterternary": [
           {
            "marker": {
             "colorbar": {
              "outlinewidth": 0,
              "ticks": ""
             }
            },
            "type": "scatterternary"
           }
          ],
          "surface": [
           {
            "colorbar": {
             "outlinewidth": 0,
             "ticks": ""
            },
            "colorscale": [
             [
              0,
              "#0d0887"
             ],
             [
              0.1111111111111111,
              "#46039f"
             ],
             [
              0.2222222222222222,
              "#7201a8"
             ],
             [
              0.3333333333333333,
              "#9c179e"
             ],
             [
              0.4444444444444444,
              "#bd3786"
             ],
             [
              0.5555555555555556,
              "#d8576b"
             ],
             [
              0.6666666666666666,
              "#ed7953"
             ],
             [
              0.7777777777777778,
              "#fb9f3a"
             ],
             [
              0.8888888888888888,
              "#fdca26"
             ],
             [
              1,
              "#f0f921"
             ]
            ],
            "type": "surface"
           }
          ],
          "table": [
           {
            "cells": {
             "fill": {
              "color": "#EBF0F8"
             },
             "line": {
              "color": "white"
             }
            },
            "header": {
             "fill": {
              "color": "#C8D4E3"
             },
             "line": {
              "color": "white"
             }
            },
            "type": "table"
           }
          ]
         },
         "layout": {
          "annotationdefaults": {
           "arrowcolor": "#2a3f5f",
           "arrowhead": 0,
           "arrowwidth": 1
          },
          "coloraxis": {
           "colorbar": {
            "outlinewidth": 0,
            "ticks": ""
           }
          },
          "colorscale": {
           "diverging": [
            [
             0,
             "#8e0152"
            ],
            [
             0.1,
             "#c51b7d"
            ],
            [
             0.2,
             "#de77ae"
            ],
            [
             0.3,
             "#f1b6da"
            ],
            [
             0.4,
             "#fde0ef"
            ],
            [
             0.5,
             "#f7f7f7"
            ],
            [
             0.6,
             "#e6f5d0"
            ],
            [
             0.7,
             "#b8e186"
            ],
            [
             0.8,
             "#7fbc41"
            ],
            [
             0.9,
             "#4d9221"
            ],
            [
             1,
             "#276419"
            ]
           ],
           "sequential": [
            [
             0,
             "#0d0887"
            ],
            [
             0.1111111111111111,
             "#46039f"
            ],
            [
             0.2222222222222222,
             "#7201a8"
            ],
            [
             0.3333333333333333,
             "#9c179e"
            ],
            [
             0.4444444444444444,
             "#bd3786"
            ],
            [
             0.5555555555555556,
             "#d8576b"
            ],
            [
             0.6666666666666666,
             "#ed7953"
            ],
            [
             0.7777777777777778,
             "#fb9f3a"
            ],
            [
             0.8888888888888888,
             "#fdca26"
            ],
            [
             1,
             "#f0f921"
            ]
           ],
           "sequentialminus": [
            [
             0,
             "#0d0887"
            ],
            [
             0.1111111111111111,
             "#46039f"
            ],
            [
             0.2222222222222222,
             "#7201a8"
            ],
            [
             0.3333333333333333,
             "#9c179e"
            ],
            [
             0.4444444444444444,
             "#bd3786"
            ],
            [
             0.5555555555555556,
             "#d8576b"
            ],
            [
             0.6666666666666666,
             "#ed7953"
            ],
            [
             0.7777777777777778,
             "#fb9f3a"
            ],
            [
             0.8888888888888888,
             "#fdca26"
            ],
            [
             1,
             "#f0f921"
            ]
           ]
          },
          "colorway": [
           "#636efa",
           "#EF553B",
           "#00cc96",
           "#ab63fa",
           "#FFA15A",
           "#19d3f3",
           "#FF6692",
           "#B6E880",
           "#FF97FF",
           "#FECB52"
          ],
          "font": {
           "color": "#2a3f5f"
          },
          "geo": {
           "bgcolor": "white",
           "lakecolor": "white",
           "landcolor": "#E5ECF6",
           "showlakes": true,
           "showland": true,
           "subunitcolor": "white"
          },
          "hoverlabel": {
           "align": "left"
          },
          "hovermode": "closest",
          "mapbox": {
           "style": "light"
          },
          "paper_bgcolor": "white",
          "plot_bgcolor": "#E5ECF6",
          "polar": {
           "angularaxis": {
            "gridcolor": "white",
            "linecolor": "white",
            "ticks": ""
           },
           "bgcolor": "#E5ECF6",
           "radialaxis": {
            "gridcolor": "white",
            "linecolor": "white",
            "ticks": ""
           }
          },
          "scene": {
           "xaxis": {
            "backgroundcolor": "#E5ECF6",
            "gridcolor": "white",
            "gridwidth": 2,
            "linecolor": "white",
            "showbackground": true,
            "ticks": "",
            "zerolinecolor": "white"
           },
           "yaxis": {
            "backgroundcolor": "#E5ECF6",
            "gridcolor": "white",
            "gridwidth": 2,
            "linecolor": "white",
            "showbackground": true,
            "ticks": "",
            "zerolinecolor": "white"
           },
           "zaxis": {
            "backgroundcolor": "#E5ECF6",
            "gridcolor": "white",
            "gridwidth": 2,
            "linecolor": "white",
            "showbackground": true,
            "ticks": "",
            "zerolinecolor": "white"
           }
          },
          "shapedefaults": {
           "line": {
            "color": "#2a3f5f"
           }
          },
          "ternary": {
           "aaxis": {
            "gridcolor": "white",
            "linecolor": "white",
            "ticks": ""
           },
           "baxis": {
            "gridcolor": "white",
            "linecolor": "white",
            "ticks": ""
           },
           "bgcolor": "#E5ECF6",
           "caxis": {
            "gridcolor": "white",
            "linecolor": "white",
            "ticks": ""
           }
          },
          "title": {
           "x": 0.05
          },
          "xaxis": {
           "automargin": true,
           "gridcolor": "white",
           "linecolor": "white",
           "ticks": "",
           "title": {
            "standoff": 15
           },
           "zerolinecolor": "white",
           "zerolinewidth": 2
          },
          "yaxis": {
           "automargin": true,
           "gridcolor": "white",
           "linecolor": "white",
           "ticks": "",
           "title": {
            "standoff": 15
           },
           "zerolinecolor": "white",
           "zerolinewidth": 2
          }
         }
        }
       }
      },
      "text/html": [
       "<div>\n",
       "        \n",
       "        \n",
       "            <div id=\"426933b3-7476-4005-ad3d-57fb2b69da74\" class=\"plotly-graph-div\" style=\"height:525px; width:100%;\"></div>\n",
       "            <script type=\"text/javascript\">\n",
       "                require([\"plotly\"], function(Plotly) {\n",
       "                    window.PLOTLYENV=window.PLOTLYENV || {};\n",
       "                    \n",
       "                if (document.getElementById(\"426933b3-7476-4005-ad3d-57fb2b69da74\")) {\n",
       "                    Plotly.newPlot(\n",
       "                        '426933b3-7476-4005-ad3d-57fb2b69da74',\n",
       "                        [{\"opacity\": 1, \"type\": \"surface\", \"x\": [0, 0, 9, 9], \"y\": [0, 9, 0, 9], \"z\": [0, 0, 0, 0]}],\n",
       "                        {\"template\": {\"data\": {\"bar\": [{\"error_x\": {\"color\": \"#2a3f5f\"}, \"error_y\": {\"color\": \"#2a3f5f\"}, \"marker\": {\"line\": {\"color\": \"#E5ECF6\", \"width\": 0.5}}, \"type\": \"bar\"}], \"barpolar\": [{\"marker\": {\"line\": {\"color\": \"#E5ECF6\", \"width\": 0.5}}, \"type\": \"barpolar\"}], \"carpet\": [{\"aaxis\": {\"endlinecolor\": \"#2a3f5f\", \"gridcolor\": \"white\", \"linecolor\": \"white\", \"minorgridcolor\": \"white\", \"startlinecolor\": \"#2a3f5f\"}, \"baxis\": {\"endlinecolor\": \"#2a3f5f\", \"gridcolor\": \"white\", \"linecolor\": \"white\", \"minorgridcolor\": \"white\", \"startlinecolor\": \"#2a3f5f\"}, \"type\": \"carpet\"}], \"choropleth\": [{\"colorbar\": {\"outlinewidth\": 0, \"ticks\": \"\"}, \"type\": \"choropleth\"}], \"contour\": [{\"colorbar\": {\"outlinewidth\": 0, \"ticks\": \"\"}, \"colorscale\": [[0.0, \"#0d0887\"], [0.1111111111111111, \"#46039f\"], [0.2222222222222222, \"#7201a8\"], [0.3333333333333333, \"#9c179e\"], [0.4444444444444444, \"#bd3786\"], [0.5555555555555556, \"#d8576b\"], [0.6666666666666666, \"#ed7953\"], [0.7777777777777778, \"#fb9f3a\"], [0.8888888888888888, \"#fdca26\"], [1.0, \"#f0f921\"]], \"type\": \"contour\"}], \"contourcarpet\": [{\"colorbar\": {\"outlinewidth\": 0, \"ticks\": \"\"}, \"type\": \"contourcarpet\"}], \"heatmap\": [{\"colorbar\": {\"outlinewidth\": 0, \"ticks\": \"\"}, \"colorscale\": [[0.0, \"#0d0887\"], [0.1111111111111111, \"#46039f\"], [0.2222222222222222, \"#7201a8\"], [0.3333333333333333, \"#9c179e\"], [0.4444444444444444, \"#bd3786\"], [0.5555555555555556, \"#d8576b\"], [0.6666666666666666, \"#ed7953\"], [0.7777777777777778, \"#fb9f3a\"], [0.8888888888888888, \"#fdca26\"], [1.0, \"#f0f921\"]], \"type\": \"heatmap\"}], \"heatmapgl\": [{\"colorbar\": {\"outlinewidth\": 0, \"ticks\": \"\"}, \"colorscale\": [[0.0, \"#0d0887\"], [0.1111111111111111, \"#46039f\"], [0.2222222222222222, \"#7201a8\"], [0.3333333333333333, \"#9c179e\"], [0.4444444444444444, \"#bd3786\"], [0.5555555555555556, \"#d8576b\"], [0.6666666666666666, \"#ed7953\"], [0.7777777777777778, \"#fb9f3a\"], [0.8888888888888888, \"#fdca26\"], [1.0, \"#f0f921\"]], \"type\": \"heatmapgl\"}], \"histogram\": [{\"marker\": {\"colorbar\": {\"outlinewidth\": 0, \"ticks\": \"\"}}, \"type\": \"histogram\"}], \"histogram2d\": [{\"colorbar\": {\"outlinewidth\": 0, \"ticks\": \"\"}, \"colorscale\": [[0.0, \"#0d0887\"], [0.1111111111111111, \"#46039f\"], [0.2222222222222222, \"#7201a8\"], [0.3333333333333333, \"#9c179e\"], [0.4444444444444444, \"#bd3786\"], [0.5555555555555556, \"#d8576b\"], [0.6666666666666666, \"#ed7953\"], [0.7777777777777778, \"#fb9f3a\"], [0.8888888888888888, \"#fdca26\"], [1.0, \"#f0f921\"]], \"type\": \"histogram2d\"}], \"histogram2dcontour\": [{\"colorbar\": {\"outlinewidth\": 0, \"ticks\": \"\"}, \"colorscale\": [[0.0, \"#0d0887\"], [0.1111111111111111, \"#46039f\"], [0.2222222222222222, \"#7201a8\"], [0.3333333333333333, \"#9c179e\"], [0.4444444444444444, \"#bd3786\"], [0.5555555555555556, \"#d8576b\"], [0.6666666666666666, \"#ed7953\"], [0.7777777777777778, \"#fb9f3a\"], [0.8888888888888888, \"#fdca26\"], [1.0, \"#f0f921\"]], \"type\": \"histogram2dcontour\"}], \"mesh3d\": [{\"colorbar\": {\"outlinewidth\": 0, \"ticks\": \"\"}, \"type\": \"mesh3d\"}], \"parcoords\": [{\"line\": {\"colorbar\": {\"outlinewidth\": 0, \"ticks\": \"\"}}, \"type\": \"parcoords\"}], \"pie\": [{\"automargin\": true, \"type\": \"pie\"}], \"scatter\": [{\"marker\": {\"colorbar\": {\"outlinewidth\": 0, \"ticks\": \"\"}}, \"type\": \"scatter\"}], \"scatter3d\": [{\"line\": {\"colorbar\": {\"outlinewidth\": 0, \"ticks\": \"\"}}, \"marker\": {\"colorbar\": {\"outlinewidth\": 0, \"ticks\": \"\"}}, \"type\": \"scatter3d\"}], \"scattercarpet\": [{\"marker\": {\"colorbar\": {\"outlinewidth\": 0, \"ticks\": \"\"}}, \"type\": \"scattercarpet\"}], \"scattergeo\": [{\"marker\": {\"colorbar\": {\"outlinewidth\": 0, \"ticks\": \"\"}}, \"type\": \"scattergeo\"}], \"scattergl\": [{\"marker\": {\"colorbar\": {\"outlinewidth\": 0, \"ticks\": \"\"}}, \"type\": \"scattergl\"}], \"scattermapbox\": [{\"marker\": {\"colorbar\": {\"outlinewidth\": 0, \"ticks\": \"\"}}, \"type\": \"scattermapbox\"}], \"scatterpolar\": [{\"marker\": {\"colorbar\": {\"outlinewidth\": 0, \"ticks\": \"\"}}, \"type\": \"scatterpolar\"}], \"scatterpolargl\": [{\"marker\": {\"colorbar\": {\"outlinewidth\": 0, \"ticks\": \"\"}}, \"type\": \"scatterpolargl\"}], \"scatterternary\": [{\"marker\": {\"colorbar\": {\"outlinewidth\": 0, \"ticks\": \"\"}}, \"type\": \"scatterternary\"}], \"surface\": [{\"colorbar\": {\"outlinewidth\": 0, \"ticks\": \"\"}, \"colorscale\": [[0.0, \"#0d0887\"], [0.1111111111111111, \"#46039f\"], [0.2222222222222222, \"#7201a8\"], [0.3333333333333333, \"#9c179e\"], [0.4444444444444444, \"#bd3786\"], [0.5555555555555556, \"#d8576b\"], [0.6666666666666666, \"#ed7953\"], [0.7777777777777778, \"#fb9f3a\"], [0.8888888888888888, \"#fdca26\"], [1.0, \"#f0f921\"]], \"type\": \"surface\"}], \"table\": [{\"cells\": {\"fill\": {\"color\": \"#EBF0F8\"}, \"line\": {\"color\": \"white\"}}, \"header\": {\"fill\": {\"color\": \"#C8D4E3\"}, \"line\": {\"color\": \"white\"}}, \"type\": \"table\"}]}, \"layout\": {\"annotationdefaults\": {\"arrowcolor\": \"#2a3f5f\", \"arrowhead\": 0, \"arrowwidth\": 1}, \"coloraxis\": {\"colorbar\": {\"outlinewidth\": 0, \"ticks\": \"\"}}, \"colorscale\": {\"diverging\": [[0, \"#8e0152\"], [0.1, \"#c51b7d\"], [0.2, \"#de77ae\"], [0.3, \"#f1b6da\"], [0.4, \"#fde0ef\"], [0.5, \"#f7f7f7\"], [0.6, \"#e6f5d0\"], [0.7, \"#b8e186\"], [0.8, \"#7fbc41\"], [0.9, \"#4d9221\"], [1, \"#276419\"]], \"sequential\": [[0.0, \"#0d0887\"], [0.1111111111111111, \"#46039f\"], [0.2222222222222222, \"#7201a8\"], [0.3333333333333333, \"#9c179e\"], [0.4444444444444444, \"#bd3786\"], [0.5555555555555556, \"#d8576b\"], [0.6666666666666666, \"#ed7953\"], [0.7777777777777778, \"#fb9f3a\"], [0.8888888888888888, \"#fdca26\"], [1.0, \"#f0f921\"]], \"sequentialminus\": [[0.0, \"#0d0887\"], [0.1111111111111111, \"#46039f\"], [0.2222222222222222, \"#7201a8\"], [0.3333333333333333, \"#9c179e\"], [0.4444444444444444, \"#bd3786\"], [0.5555555555555556, \"#d8576b\"], [0.6666666666666666, \"#ed7953\"], [0.7777777777777778, \"#fb9f3a\"], [0.8888888888888888, \"#fdca26\"], [1.0, \"#f0f921\"]]}, \"colorway\": [\"#636efa\", \"#EF553B\", \"#00cc96\", \"#ab63fa\", \"#FFA15A\", \"#19d3f3\", \"#FF6692\", \"#B6E880\", \"#FF97FF\", \"#FECB52\"], \"font\": {\"color\": \"#2a3f5f\"}, \"geo\": {\"bgcolor\": \"white\", \"lakecolor\": \"white\", \"landcolor\": \"#E5ECF6\", \"showlakes\": true, \"showland\": true, \"subunitcolor\": \"white\"}, \"hoverlabel\": {\"align\": \"left\"}, \"hovermode\": \"closest\", \"mapbox\": {\"style\": \"light\"}, \"paper_bgcolor\": \"white\", \"plot_bgcolor\": \"#E5ECF6\", \"polar\": {\"angularaxis\": {\"gridcolor\": \"white\", \"linecolor\": \"white\", \"ticks\": \"\"}, \"bgcolor\": \"#E5ECF6\", \"radialaxis\": {\"gridcolor\": \"white\", \"linecolor\": \"white\", \"ticks\": \"\"}}, \"scene\": {\"xaxis\": {\"backgroundcolor\": \"#E5ECF6\", \"gridcolor\": \"white\", \"gridwidth\": 2, \"linecolor\": \"white\", \"showbackground\": true, \"ticks\": \"\", \"zerolinecolor\": \"white\"}, \"yaxis\": {\"backgroundcolor\": \"#E5ECF6\", \"gridcolor\": \"white\", \"gridwidth\": 2, \"linecolor\": \"white\", \"showbackground\": true, \"ticks\": \"\", \"zerolinecolor\": \"white\"}, \"zaxis\": {\"backgroundcolor\": \"#E5ECF6\", \"gridcolor\": \"white\", \"gridwidth\": 2, \"linecolor\": \"white\", \"showbackground\": true, \"ticks\": \"\", \"zerolinecolor\": \"white\"}}, \"shapedefaults\": {\"line\": {\"color\": \"#2a3f5f\"}}, \"ternary\": {\"aaxis\": {\"gridcolor\": \"white\", \"linecolor\": \"white\", \"ticks\": \"\"}, \"baxis\": {\"gridcolor\": \"white\", \"linecolor\": \"white\", \"ticks\": \"\"}, \"bgcolor\": \"#E5ECF6\", \"caxis\": {\"gridcolor\": \"white\", \"linecolor\": \"white\", \"ticks\": \"\"}}, \"title\": {\"x\": 0.05}, \"xaxis\": {\"automargin\": true, \"gridcolor\": \"white\", \"linecolor\": \"white\", \"ticks\": \"\", \"title\": {\"standoff\": 15}, \"zerolinecolor\": \"white\", \"zerolinewidth\": 2}, \"yaxis\": {\"automargin\": true, \"gridcolor\": \"white\", \"linecolor\": \"white\", \"ticks\": \"\", \"title\": {\"standoff\": 15}, \"zerolinecolor\": \"white\", \"zerolinewidth\": 2}}}},\n",
       "                        {\"responsive\": true}\n",
       "                    ).then(function(){\n",
       "                            \n",
       "var gd = document.getElementById('426933b3-7476-4005-ad3d-57fb2b69da74');\n",
       "var x = new MutationObserver(function (mutations, observer) {{\n",
       "        var display = window.getComputedStyle(gd).display;\n",
       "        if (!display || display === 'none') {{\n",
       "            console.log([gd, 'removed!']);\n",
       "            Plotly.purge(gd);\n",
       "            observer.disconnect();\n",
       "        }}\n",
       "}});\n",
       "\n",
       "// Listen for the removal of the full notebook cells\n",
       "var notebookContainer = gd.closest('#notebook-container');\n",
       "if (notebookContainer) {{\n",
       "    x.observe(notebookContainer, {childList: true});\n",
       "}}\n",
       "\n",
       "// Listen for the clearing of the current output cell\n",
       "var outputEl = gd.closest('.output');\n",
       "if (outputEl) {{\n",
       "    x.observe(outputEl, {childList: true});\n",
       "}}\n",
       "\n",
       "                        })\n",
       "                };\n",
       "                });\n",
       "            </script>\n",
       "        </div>"
      ]
     },
     "metadata": {},
     "output_type": "display_data"
    }
   ],
   "source": [
    "zero_r = np.linspace(0,0,10)\n",
    "max_r = np.linspace(9,9,10)\n",
    "lin_r = np.linspace(0,9,10)\n",
    "\n",
    "x1 = np.array([zero_r, zero_r])\n",
    "y1 = np.array([lin_r,lin_r])\n",
    "z1 = np.array([f11,f21])\n",
    "s1 = go.Surface(x = x1, y = y1, z = z1, opacity = 0.5)\n",
    "\n",
    "x2 = np.array((lin_r,lin_r))\n",
    "y2 = np.array((zero_r, zero_r))\n",
    "z2 = np.array((f12,f22))\n",
    "s2 = go.Surface(x = x2, y = y2, z = z2, opacity = 0.5)\n",
    "\n",
    "x3 = np.array((lin_r,lin_r))\n",
    "y3 = np.array((max_r,max_r))\n",
    "z3 = np.array((f13,f23))\n",
    "s3 = go.Surface(x = x3, y = y3, z = z3, opacity = 0.5)\n",
    "\n",
    "x4 = np.array((max_r, max_r))\n",
    "y4 = np.array((lin_r,lin_r))\n",
    "z4 = np.array((f14,f24))\n",
    "s4 = go.Surface(x = x4, y = y4, z = z4, opacity = 0.5)\n",
    "\n",
    "\n",
    "x_piso = [0,0,9,9]\n",
    "y_piso = [0,9,0,9]\n",
    "z_piso = [0,0,0,0]\n",
    "\n",
    "piso = go.Surface(x = x_piso, y = y_piso, z = z_piso, opacity = 1)\n",
    "\n",
    "\n",
    "\n",
    "s = go.Surface(z=Z)\n",
    "fig = go.Figure(data=[piso])\n",
    "fig.show()"
   ]
  },
  {
   "cell_type": "code",
   "execution_count": 222,
   "metadata": {},
   "outputs": [
    {
     "data": {
      "application/vnd.plotly.v1+json": {
       "config": {
        "plotlyServerURL": "https://plot.ly"
       },
       "data": [
        {
         "opacity": 1,
         "type": "surface",
         "x": [
          0,
          0,
          9,
          9
         ],
         "y": [
          0,
          9,
          0,
          9
         ],
         "z": [
          0,
          0,
          0,
          0
         ]
        },
        {
         "type": "surface",
         "z": [
          [
           5.4881350392732475,
           5.783887754520942,
           5.918483761110905,
           6.031006587088158,
           6.0836240039423295,
           6.164603101216356,
           6.240242027156367,
           6.324205333966107,
           6.458941130666561,
           6.391968364840041
          ],
          [
           5.874323622197996,
           5.945044222219029,
           6.034551864873566,
           6.090912961728941,
           6.130564784552043,
           6.169942690747513,
           6.215435759715881,
           6.273432686979513,
           6.323028673472343,
           6.343318130296904
          ],
          [
           6.189791996721193,
           6.197557522900895,
           6.183766553188859,
           6.190761232913818,
           6.17777892372989,
           6.170982814567506,
           6.178125614938159,
           6.186374409679728,
           6.21642213065602,
           6.259009503040987
          ],
          [
           6.519712642228768,
           6.471627330216739,
           6.3953030189776205,
           6.310587760863385,
           6.228006450646659,
           6.158083437724956,
           6.1061450785906555,
           6.077516723120504,
           6.087659228821285,
           6.152032835290423
          ],
          [
           6.897718531555702,
           6.763014240153983,
           6.615231517139487,
           6.445155872340499,
           6.265574849369296,
           6.129501883163185,
           6.01085423076126,
           5.937435032908876,
           5.9046661345684095,
           6.011786545083977
          ],
          [
           7.2027700440084095,
           7.067480151966416,
           6.846450084677114,
           6.589229163487379,
           6.3251368744128005,
           6.0834943660109095,
           5.8865875610926235,
           5.756702065833582,
           5.726256074515913,
           5.827668802906975
          ],
          [
           7.643112016038893,
           7.398609995917768,
           7.113860300931298,
           6.719832870556938,
           6.362249551265597,
           6.027856247645325,
           5.695300378001721,
           5.516822555509105,
           5.41598725850831,
           5.580770537856017
          ],
          [
           8.110276937487946,
           7.76998896940674,
           7.275773835402532,
           6.813992852967006,
           6.3803080097792435,
           5.970382099329107,
           5.578588437120832,
           5.199301420008333,
           5.026004590961469,
           5.2521826077871525
          ],
          [
           8.917730007820797,
           7.984655378754964,
           7.4052540669904054,
           6.855144454877596,
           6.374607721435565,
           5.925274799319488,
           5.449370810066486,
           4.988512138231556,
           4.236547993389047,
           5.025892824862861
          ],
          [
           8.202642778170677,
           7.845648138985556,
           7.323171294374919,
           6.826723129733518,
           6.355010107871176,
           5.906740001809575,
           5.478987747188031,
           5.068829184904477,
           4.872413649255713,
           5.085891172629794
          ]
         ]
        },
        {
         "opacity": 0.5,
         "type": "surface",
         "x": [
          [
           0,
           0,
           0,
           0,
           0,
           0,
           0,
           0,
           0,
           0
          ],
          [
           0,
           0,
           0,
           0,
           0,
           0,
           0,
           0,
           0,
           0
          ]
         ],
         "y": [
          [
           0,
           1,
           2,
           3,
           4,
           5,
           6,
           7,
           8,
           9
          ],
          [
           0,
           1,
           2,
           3,
           4,
           5,
           6,
           7,
           8,
           9
          ]
         ],
         "z": [
          [
           0,
           0,
           0,
           0,
           0,
           0,
           0,
           0,
           0,
           0
          ],
          [
           5.4881350392732475,
           5.874323622197996,
           6.189791996721193,
           6.519712642228768,
           6.897718531555702,
           7.2027700440084095,
           7.643112016038893,
           8.110276937487946,
           8.917730007820797,
           8.202642778170677
          ]
         ]
        },
        {
         "opacity": 0.5,
         "type": "surface",
         "x": [
          [
           0,
           1,
           2,
           3,
           4,
           5,
           6,
           7,
           8,
           9
          ],
          [
           0,
           1,
           2,
           3,
           4,
           5,
           6,
           7,
           8,
           9
          ]
         ],
         "y": [
          [
           0,
           0,
           0,
           0,
           0,
           0,
           0,
           0,
           0,
           0
          ],
          [
           0,
           0,
           0,
           0,
           0,
           0,
           0,
           0,
           0,
           0
          ]
         ],
         "z": [
          [
           0,
           0,
           0,
           0,
           0,
           0,
           0,
           0,
           0,
           0
          ],
          [
           5.4881350392732475,
           5.783887754520942,
           5.918483761110905,
           6.031006587088158,
           6.0836240039423295,
           6.164603101216356,
           6.240242027156367,
           6.324205333966107,
           6.458941130666561,
           6.391968364840041
          ]
         ]
        },
        {
         "opacity": 0.5,
         "type": "surface",
         "x": [
          [
           0,
           1,
           2,
           3,
           4,
           5,
           6,
           7,
           8,
           9
          ],
          [
           0,
           1,
           2,
           3,
           4,
           5,
           6,
           7,
           8,
           9
          ]
         ],
         "y": [
          [
           9,
           9,
           9,
           9,
           9,
           9,
           9,
           9,
           9,
           9
          ],
          [
           9,
           9,
           9,
           9,
           9,
           9,
           9,
           9,
           9,
           9
          ]
         ],
         "z": [
          [
           0,
           0,
           0,
           0,
           0,
           0,
           0,
           0,
           0,
           0
          ],
          [
           8.202642778170677,
           7.845648138985556,
           7.323171294374919,
           6.826723129733518,
           6.355010107871176,
           5.906740001809575,
           5.478987747188031,
           5.068829184904477,
           4.872413649255713,
           5.085891172629794
          ]
         ]
        },
        {
         "opacity": 0.5,
         "type": "surface",
         "x": [
          [
           9,
           9,
           9,
           9,
           9,
           9,
           9,
           9,
           9,
           9
          ],
          [
           9,
           9,
           9,
           9,
           9,
           9,
           9,
           9,
           9,
           9
          ]
         ],
         "y": [
          [
           0,
           1,
           2,
           3,
           4,
           5,
           6,
           7,
           8,
           9
          ],
          [
           0,
           1,
           2,
           3,
           4,
           5,
           6,
           7,
           8,
           9
          ]
         ],
         "z": [
          [
           0,
           0,
           0,
           0,
           0,
           0,
           0,
           0,
           0,
           0
          ],
          [
           6.391968364840041,
           6.343318130296904,
           6.259009503040987,
           6.152032835290423,
           6.011786545083977,
           5.827668802906975,
           5.580770537856017,
           5.2521826077871525,
           5.025892824862861,
           5.085891172629794
          ]
         ]
        }
       ],
       "layout": {
        "scene": {
         "aspectmode": "auto",
         "aspectratio": {
          "x": 1,
          "y": 1,
          "z": 1
         }
        },
        "template": {
         "data": {
          "bar": [
           {
            "error_x": {
             "color": "#2a3f5f"
            },
            "error_y": {
             "color": "#2a3f5f"
            },
            "marker": {
             "line": {
              "color": "#E5ECF6",
              "width": 0.5
             }
            },
            "type": "bar"
           }
          ],
          "barpolar": [
           {
            "marker": {
             "line": {
              "color": "#E5ECF6",
              "width": 0.5
             }
            },
            "type": "barpolar"
           }
          ],
          "carpet": [
           {
            "aaxis": {
             "endlinecolor": "#2a3f5f",
             "gridcolor": "white",
             "linecolor": "white",
             "minorgridcolor": "white",
             "startlinecolor": "#2a3f5f"
            },
            "baxis": {
             "endlinecolor": "#2a3f5f",
             "gridcolor": "white",
             "linecolor": "white",
             "minorgridcolor": "white",
             "startlinecolor": "#2a3f5f"
            },
            "type": "carpet"
           }
          ],
          "choropleth": [
           {
            "colorbar": {
             "outlinewidth": 0,
             "ticks": ""
            },
            "type": "choropleth"
           }
          ],
          "contour": [
           {
            "colorbar": {
             "outlinewidth": 0,
             "ticks": ""
            },
            "colorscale": [
             [
              0,
              "#0d0887"
             ],
             [
              0.1111111111111111,
              "#46039f"
             ],
             [
              0.2222222222222222,
              "#7201a8"
             ],
             [
              0.3333333333333333,
              "#9c179e"
             ],
             [
              0.4444444444444444,
              "#bd3786"
             ],
             [
              0.5555555555555556,
              "#d8576b"
             ],
             [
              0.6666666666666666,
              "#ed7953"
             ],
             [
              0.7777777777777778,
              "#fb9f3a"
             ],
             [
              0.8888888888888888,
              "#fdca26"
             ],
             [
              1,
              "#f0f921"
             ]
            ],
            "type": "contour"
           }
          ],
          "contourcarpet": [
           {
            "colorbar": {
             "outlinewidth": 0,
             "ticks": ""
            },
            "type": "contourcarpet"
           }
          ],
          "heatmap": [
           {
            "colorbar": {
             "outlinewidth": 0,
             "ticks": ""
            },
            "colorscale": [
             [
              0,
              "#0d0887"
             ],
             [
              0.1111111111111111,
              "#46039f"
             ],
             [
              0.2222222222222222,
              "#7201a8"
             ],
             [
              0.3333333333333333,
              "#9c179e"
             ],
             [
              0.4444444444444444,
              "#bd3786"
             ],
             [
              0.5555555555555556,
              "#d8576b"
             ],
             [
              0.6666666666666666,
              "#ed7953"
             ],
             [
              0.7777777777777778,
              "#fb9f3a"
             ],
             [
              0.8888888888888888,
              "#fdca26"
             ],
             [
              1,
              "#f0f921"
             ]
            ],
            "type": "heatmap"
           }
          ],
          "heatmapgl": [
           {
            "colorbar": {
             "outlinewidth": 0,
             "ticks": ""
            },
            "colorscale": [
             [
              0,
              "#0d0887"
             ],
             [
              0.1111111111111111,
              "#46039f"
             ],
             [
              0.2222222222222222,
              "#7201a8"
             ],
             [
              0.3333333333333333,
              "#9c179e"
             ],
             [
              0.4444444444444444,
              "#bd3786"
             ],
             [
              0.5555555555555556,
              "#d8576b"
             ],
             [
              0.6666666666666666,
              "#ed7953"
             ],
             [
              0.7777777777777778,
              "#fb9f3a"
             ],
             [
              0.8888888888888888,
              "#fdca26"
             ],
             [
              1,
              "#f0f921"
             ]
            ],
            "type": "heatmapgl"
           }
          ],
          "histogram": [
           {
            "marker": {
             "colorbar": {
              "outlinewidth": 0,
              "ticks": ""
             }
            },
            "type": "histogram"
           }
          ],
          "histogram2d": [
           {
            "colorbar": {
             "outlinewidth": 0,
             "ticks": ""
            },
            "colorscale": [
             [
              0,
              "#0d0887"
             ],
             [
              0.1111111111111111,
              "#46039f"
             ],
             [
              0.2222222222222222,
              "#7201a8"
             ],
             [
              0.3333333333333333,
              "#9c179e"
             ],
             [
              0.4444444444444444,
              "#bd3786"
             ],
             [
              0.5555555555555556,
              "#d8576b"
             ],
             [
              0.6666666666666666,
              "#ed7953"
             ],
             [
              0.7777777777777778,
              "#fb9f3a"
             ],
             [
              0.8888888888888888,
              "#fdca26"
             ],
             [
              1,
              "#f0f921"
             ]
            ],
            "type": "histogram2d"
           }
          ],
          "histogram2dcontour": [
           {
            "colorbar": {
             "outlinewidth": 0,
             "ticks": ""
            },
            "colorscale": [
             [
              0,
              "#0d0887"
             ],
             [
              0.1111111111111111,
              "#46039f"
             ],
             [
              0.2222222222222222,
              "#7201a8"
             ],
             [
              0.3333333333333333,
              "#9c179e"
             ],
             [
              0.4444444444444444,
              "#bd3786"
             ],
             [
              0.5555555555555556,
              "#d8576b"
             ],
             [
              0.6666666666666666,
              "#ed7953"
             ],
             [
              0.7777777777777778,
              "#fb9f3a"
             ],
             [
              0.8888888888888888,
              "#fdca26"
             ],
             [
              1,
              "#f0f921"
             ]
            ],
            "type": "histogram2dcontour"
           }
          ],
          "mesh3d": [
           {
            "colorbar": {
             "outlinewidth": 0,
             "ticks": ""
            },
            "type": "mesh3d"
           }
          ],
          "parcoords": [
           {
            "line": {
             "colorbar": {
              "outlinewidth": 0,
              "ticks": ""
             }
            },
            "type": "parcoords"
           }
          ],
          "pie": [
           {
            "automargin": true,
            "type": "pie"
           }
          ],
          "scatter": [
           {
            "marker": {
             "colorbar": {
              "outlinewidth": 0,
              "ticks": ""
             }
            },
            "type": "scatter"
           }
          ],
          "scatter3d": [
           {
            "line": {
             "colorbar": {
              "outlinewidth": 0,
              "ticks": ""
             }
            },
            "marker": {
             "colorbar": {
              "outlinewidth": 0,
              "ticks": ""
             }
            },
            "type": "scatter3d"
           }
          ],
          "scattercarpet": [
           {
            "marker": {
             "colorbar": {
              "outlinewidth": 0,
              "ticks": ""
             }
            },
            "type": "scattercarpet"
           }
          ],
          "scattergeo": [
           {
            "marker": {
             "colorbar": {
              "outlinewidth": 0,
              "ticks": ""
             }
            },
            "type": "scattergeo"
           }
          ],
          "scattergl": [
           {
            "marker": {
             "colorbar": {
              "outlinewidth": 0,
              "ticks": ""
             }
            },
            "type": "scattergl"
           }
          ],
          "scattermapbox": [
           {
            "marker": {
             "colorbar": {
              "outlinewidth": 0,
              "ticks": ""
             }
            },
            "type": "scattermapbox"
           }
          ],
          "scatterpolar": [
           {
            "marker": {
             "colorbar": {
              "outlinewidth": 0,
              "ticks": ""
             }
            },
            "type": "scatterpolar"
           }
          ],
          "scatterpolargl": [
           {
            "marker": {
             "colorbar": {
              "outlinewidth": 0,
              "ticks": ""
             }
            },
            "type": "scatterpolargl"
           }
          ],
          "scatterternary": [
           {
            "marker": {
             "colorbar": {
              "outlinewidth": 0,
              "ticks": ""
             }
            },
            "type": "scatterternary"
           }
          ],
          "surface": [
           {
            "colorbar": {
             "outlinewidth": 0,
             "ticks": ""
            },
            "colorscale": [
             [
              0,
              "#0d0887"
             ],
             [
              0.1111111111111111,
              "#46039f"
             ],
             [
              0.2222222222222222,
              "#7201a8"
             ],
             [
              0.3333333333333333,
              "#9c179e"
             ],
             [
              0.4444444444444444,
              "#bd3786"
             ],
             [
              0.5555555555555556,
              "#d8576b"
             ],
             [
              0.6666666666666666,
              "#ed7953"
             ],
             [
              0.7777777777777778,
              "#fb9f3a"
             ],
             [
              0.8888888888888888,
              "#fdca26"
             ],
             [
              1,
              "#f0f921"
             ]
            ],
            "type": "surface"
           }
          ],
          "table": [
           {
            "cells": {
             "fill": {
              "color": "#EBF0F8"
             },
             "line": {
              "color": "white"
             }
            },
            "header": {
             "fill": {
              "color": "#C8D4E3"
             },
             "line": {
              "color": "white"
             }
            },
            "type": "table"
           }
          ]
         },
         "layout": {
          "annotationdefaults": {
           "arrowcolor": "#2a3f5f",
           "arrowhead": 0,
           "arrowwidth": 1
          },
          "coloraxis": {
           "colorbar": {
            "outlinewidth": 0,
            "ticks": ""
           }
          },
          "colorscale": {
           "diverging": [
            [
             0,
             "#8e0152"
            ],
            [
             0.1,
             "#c51b7d"
            ],
            [
             0.2,
             "#de77ae"
            ],
            [
             0.3,
             "#f1b6da"
            ],
            [
             0.4,
             "#fde0ef"
            ],
            [
             0.5,
             "#f7f7f7"
            ],
            [
             0.6,
             "#e6f5d0"
            ],
            [
             0.7,
             "#b8e186"
            ],
            [
             0.8,
             "#7fbc41"
            ],
            [
             0.9,
             "#4d9221"
            ],
            [
             1,
             "#276419"
            ]
           ],
           "sequential": [
            [
             0,
             "#0d0887"
            ],
            [
             0.1111111111111111,
             "#46039f"
            ],
            [
             0.2222222222222222,
             "#7201a8"
            ],
            [
             0.3333333333333333,
             "#9c179e"
            ],
            [
             0.4444444444444444,
             "#bd3786"
            ],
            [
             0.5555555555555556,
             "#d8576b"
            ],
            [
             0.6666666666666666,
             "#ed7953"
            ],
            [
             0.7777777777777778,
             "#fb9f3a"
            ],
            [
             0.8888888888888888,
             "#fdca26"
            ],
            [
             1,
             "#f0f921"
            ]
           ],
           "sequentialminus": [
            [
             0,
             "#0d0887"
            ],
            [
             0.1111111111111111,
             "#46039f"
            ],
            [
             0.2222222222222222,
             "#7201a8"
            ],
            [
             0.3333333333333333,
             "#9c179e"
            ],
            [
             0.4444444444444444,
             "#bd3786"
            ],
            [
             0.5555555555555556,
             "#d8576b"
            ],
            [
             0.6666666666666666,
             "#ed7953"
            ],
            [
             0.7777777777777778,
             "#fb9f3a"
            ],
            [
             0.8888888888888888,
             "#fdca26"
            ],
            [
             1,
             "#f0f921"
            ]
           ]
          },
          "colorway": [
           "#636efa",
           "#EF553B",
           "#00cc96",
           "#ab63fa",
           "#FFA15A",
           "#19d3f3",
           "#FF6692",
           "#B6E880",
           "#FF97FF",
           "#FECB52"
          ],
          "font": {
           "color": "#2a3f5f"
          },
          "geo": {
           "bgcolor": "white",
           "lakecolor": "white",
           "landcolor": "#E5ECF6",
           "showlakes": true,
           "showland": true,
           "subunitcolor": "white"
          },
          "hoverlabel": {
           "align": "left"
          },
          "hovermode": "closest",
          "mapbox": {
           "style": "light"
          },
          "paper_bgcolor": "white",
          "plot_bgcolor": "#E5ECF6",
          "polar": {
           "angularaxis": {
            "gridcolor": "white",
            "linecolor": "white",
            "ticks": ""
           },
           "bgcolor": "#E5ECF6",
           "radialaxis": {
            "gridcolor": "white",
            "linecolor": "white",
            "ticks": ""
           }
          },
          "scene": {
           "xaxis": {
            "backgroundcolor": "#E5ECF6",
            "gridcolor": "white",
            "gridwidth": 2,
            "linecolor": "white",
            "showbackground": true,
            "ticks": "",
            "zerolinecolor": "white"
           },
           "yaxis": {
            "backgroundcolor": "#E5ECF6",
            "gridcolor": "white",
            "gridwidth": 2,
            "linecolor": "white",
            "showbackground": true,
            "ticks": "",
            "zerolinecolor": "white"
           },
           "zaxis": {
            "backgroundcolor": "#E5ECF6",
            "gridcolor": "white",
            "gridwidth": 2,
            "linecolor": "white",
            "showbackground": true,
            "ticks": "",
            "zerolinecolor": "white"
           }
          },
          "shapedefaults": {
           "line": {
            "color": "#2a3f5f"
           }
          },
          "ternary": {
           "aaxis": {
            "gridcolor": "white",
            "linecolor": "white",
            "ticks": ""
           },
           "baxis": {
            "gridcolor": "white",
            "linecolor": "white",
            "ticks": ""
           },
           "bgcolor": "#E5ECF6",
           "caxis": {
            "gridcolor": "white",
            "linecolor": "white",
            "ticks": ""
           }
          },
          "title": {
           "x": 0.05
          },
          "xaxis": {
           "automargin": true,
           "gridcolor": "white",
           "linecolor": "white",
           "ticks": "",
           "title": {
            "standoff": 15
           },
           "zerolinecolor": "white",
           "zerolinewidth": 2
          },
          "yaxis": {
           "automargin": true,
           "gridcolor": "white",
           "linecolor": "white",
           "ticks": "",
           "title": {
            "standoff": 15
           },
           "zerolinecolor": "white",
           "zerolinewidth": 2
          }
         }
        }
       }
      },
      "text/html": [
       "<div>\n",
       "        \n",
       "        \n",
       "            <div id=\"1a0cd9b1-056a-41de-8314-d12964ff2fda\" class=\"plotly-graph-div\" style=\"height:525px; width:100%;\"></div>\n",
       "            <script type=\"text/javascript\">\n",
       "                require([\"plotly\"], function(Plotly) {\n",
       "                    window.PLOTLYENV=window.PLOTLYENV || {};\n",
       "                    \n",
       "                if (document.getElementById(\"1a0cd9b1-056a-41de-8314-d12964ff2fda\")) {\n",
       "                    Plotly.newPlot(\n",
       "                        '1a0cd9b1-056a-41de-8314-d12964ff2fda',\n",
       "                        [{\"opacity\": 1, \"type\": \"surface\", \"x\": [0, 0, 9, 9], \"y\": [0, 9, 0, 9], \"z\": [0, 0, 0, 0]}, {\"type\": \"surface\", \"z\": [[5.4881350392732475, 5.783887754520942, 5.918483761110905, 6.031006587088158, 6.0836240039423295, 6.164603101216356, 6.240242027156367, 6.324205333966107, 6.458941130666561, 6.391968364840041], [5.874323622197996, 5.945044222219029, 6.034551864873566, 6.090912961728941, 6.130564784552043, 6.169942690747513, 6.215435759715881, 6.273432686979513, 6.323028673472343, 6.343318130296904], [6.189791996721193, 6.197557522900895, 6.183766553188859, 6.190761232913818, 6.17777892372989, 6.170982814567506, 6.178125614938159, 6.186374409679728, 6.21642213065602, 6.259009503040987], [6.519712642228768, 6.471627330216739, 6.3953030189776205, 6.310587760863385, 6.228006450646659, 6.158083437724956, 6.1061450785906555, 6.077516723120504, 6.087659228821285, 6.152032835290423], [6.897718531555702, 6.763014240153983, 6.615231517139487, 6.445155872340499, 6.265574849369296, 6.129501883163185, 6.01085423076126, 5.937435032908876, 5.9046661345684095, 6.011786545083977], [7.2027700440084095, 7.067480151966416, 6.846450084677114, 6.589229163487379, 6.3251368744128005, 6.0834943660109095, 5.8865875610926235, 5.756702065833582, 5.726256074515913, 5.827668802906975], [7.643112016038893, 7.398609995917768, 7.113860300931298, 6.719832870556938, 6.362249551265597, 6.027856247645325, 5.695300378001721, 5.516822555509105, 5.41598725850831, 5.580770537856017], [8.110276937487946, 7.76998896940674, 7.275773835402532, 6.813992852967006, 6.3803080097792435, 5.970382099329107, 5.578588437120832, 5.199301420008333, 5.026004590961469, 5.2521826077871525], [8.917730007820797, 7.984655378754964, 7.4052540669904054, 6.855144454877596, 6.374607721435565, 5.925274799319488, 5.449370810066486, 4.988512138231556, 4.236547993389047, 5.025892824862861], [8.202642778170677, 7.845648138985556, 7.323171294374919, 6.826723129733518, 6.355010107871176, 5.906740001809575, 5.478987747188031, 5.068829184904477, 4.872413649255713, 5.085891172629794]]}, {\"opacity\": 0.5, \"type\": \"surface\", \"x\": [[0.0, 0.0, 0.0, 0.0, 0.0, 0.0, 0.0, 0.0, 0.0, 0.0], [0.0, 0.0, 0.0, 0.0, 0.0, 0.0, 0.0, 0.0, 0.0, 0.0]], \"y\": [[0.0, 1.0, 2.0, 3.0, 4.0, 5.0, 6.0, 7.0, 8.0, 9.0], [0.0, 1.0, 2.0, 3.0, 4.0, 5.0, 6.0, 7.0, 8.0, 9.0]], \"z\": [[0.0, 0.0, 0.0, 0.0, 0.0, 0.0, 0.0, 0.0, 0.0, 0.0], [5.4881350392732475, 5.874323622197996, 6.189791996721193, 6.519712642228768, 6.897718531555702, 7.2027700440084095, 7.643112016038893, 8.110276937487946, 8.917730007820797, 8.202642778170677]]}, {\"opacity\": 0.5, \"type\": \"surface\", \"x\": [[0.0, 1.0, 2.0, 3.0, 4.0, 5.0, 6.0, 7.0, 8.0, 9.0], [0.0, 1.0, 2.0, 3.0, 4.0, 5.0, 6.0, 7.0, 8.0, 9.0]], \"y\": [[0.0, 0.0, 0.0, 0.0, 0.0, 0.0, 0.0, 0.0, 0.0, 0.0], [0.0, 0.0, 0.0, 0.0, 0.0, 0.0, 0.0, 0.0, 0.0, 0.0]], \"z\": [[0.0, 0.0, 0.0, 0.0, 0.0, 0.0, 0.0, 0.0, 0.0, 0.0], [5.4881350392732475, 5.783887754520942, 5.918483761110905, 6.031006587088158, 6.0836240039423295, 6.164603101216356, 6.240242027156367, 6.324205333966107, 6.458941130666561, 6.391968364840041]]}, {\"opacity\": 0.5, \"type\": \"surface\", \"x\": [[0.0, 1.0, 2.0, 3.0, 4.0, 5.0, 6.0, 7.0, 8.0, 9.0], [0.0, 1.0, 2.0, 3.0, 4.0, 5.0, 6.0, 7.0, 8.0, 9.0]], \"y\": [[9.0, 9.0, 9.0, 9.0, 9.0, 9.0, 9.0, 9.0, 9.0, 9.0], [9.0, 9.0, 9.0, 9.0, 9.0, 9.0, 9.0, 9.0, 9.0, 9.0]], \"z\": [[0.0, 0.0, 0.0, 0.0, 0.0, 0.0, 0.0, 0.0, 0.0, 0.0], [8.202642778170677, 7.845648138985556, 7.323171294374919, 6.826723129733518, 6.355010107871176, 5.906740001809575, 5.478987747188031, 5.068829184904477, 4.872413649255713, 5.085891172629794]]}, {\"opacity\": 0.5, \"type\": \"surface\", \"x\": [[9.0, 9.0, 9.0, 9.0, 9.0, 9.0, 9.0, 9.0, 9.0, 9.0], [9.0, 9.0, 9.0, 9.0, 9.0, 9.0, 9.0, 9.0, 9.0, 9.0]], \"y\": [[0.0, 1.0, 2.0, 3.0, 4.0, 5.0, 6.0, 7.0, 8.0, 9.0], [0.0, 1.0, 2.0, 3.0, 4.0, 5.0, 6.0, 7.0, 8.0, 9.0]], \"z\": [[0.0, 0.0, 0.0, 0.0, 0.0, 0.0, 0.0, 0.0, 0.0, 0.0], [6.391968364840041, 6.343318130296904, 6.259009503040987, 6.152032835290423, 6.011786545083977, 5.827668802906975, 5.580770537856017, 5.2521826077871525, 5.025892824862861, 5.085891172629794]]}],\n",
       "                        {\"template\": {\"data\": {\"bar\": [{\"error_x\": {\"color\": \"#2a3f5f\"}, \"error_y\": {\"color\": \"#2a3f5f\"}, \"marker\": {\"line\": {\"color\": \"#E5ECF6\", \"width\": 0.5}}, \"type\": \"bar\"}], \"barpolar\": [{\"marker\": {\"line\": {\"color\": \"#E5ECF6\", \"width\": 0.5}}, \"type\": \"barpolar\"}], \"carpet\": [{\"aaxis\": {\"endlinecolor\": \"#2a3f5f\", \"gridcolor\": \"white\", \"linecolor\": \"white\", \"minorgridcolor\": \"white\", \"startlinecolor\": \"#2a3f5f\"}, \"baxis\": {\"endlinecolor\": \"#2a3f5f\", \"gridcolor\": \"white\", \"linecolor\": \"white\", \"minorgridcolor\": \"white\", \"startlinecolor\": \"#2a3f5f\"}, \"type\": \"carpet\"}], \"choropleth\": [{\"colorbar\": {\"outlinewidth\": 0, \"ticks\": \"\"}, \"type\": \"choropleth\"}], \"contour\": [{\"colorbar\": {\"outlinewidth\": 0, \"ticks\": \"\"}, \"colorscale\": [[0.0, \"#0d0887\"], [0.1111111111111111, \"#46039f\"], [0.2222222222222222, \"#7201a8\"], [0.3333333333333333, \"#9c179e\"], [0.4444444444444444, \"#bd3786\"], [0.5555555555555556, \"#d8576b\"], [0.6666666666666666, \"#ed7953\"], [0.7777777777777778, \"#fb9f3a\"], [0.8888888888888888, \"#fdca26\"], [1.0, \"#f0f921\"]], \"type\": \"contour\"}], \"contourcarpet\": [{\"colorbar\": {\"outlinewidth\": 0, \"ticks\": \"\"}, \"type\": \"contourcarpet\"}], \"heatmap\": [{\"colorbar\": {\"outlinewidth\": 0, \"ticks\": \"\"}, \"colorscale\": [[0.0, \"#0d0887\"], [0.1111111111111111, \"#46039f\"], [0.2222222222222222, \"#7201a8\"], [0.3333333333333333, \"#9c179e\"], [0.4444444444444444, \"#bd3786\"], [0.5555555555555556, \"#d8576b\"], [0.6666666666666666, \"#ed7953\"], [0.7777777777777778, \"#fb9f3a\"], [0.8888888888888888, \"#fdca26\"], [1.0, \"#f0f921\"]], \"type\": \"heatmap\"}], \"heatmapgl\": [{\"colorbar\": {\"outlinewidth\": 0, \"ticks\": \"\"}, \"colorscale\": [[0.0, \"#0d0887\"], [0.1111111111111111, \"#46039f\"], [0.2222222222222222, \"#7201a8\"], [0.3333333333333333, \"#9c179e\"], [0.4444444444444444, \"#bd3786\"], [0.5555555555555556, \"#d8576b\"], [0.6666666666666666, \"#ed7953\"], [0.7777777777777778, \"#fb9f3a\"], [0.8888888888888888, \"#fdca26\"], [1.0, \"#f0f921\"]], \"type\": \"heatmapgl\"}], \"histogram\": [{\"marker\": {\"colorbar\": {\"outlinewidth\": 0, \"ticks\": \"\"}}, \"type\": \"histogram\"}], \"histogram2d\": [{\"colorbar\": {\"outlinewidth\": 0, \"ticks\": \"\"}, \"colorscale\": [[0.0, \"#0d0887\"], [0.1111111111111111, \"#46039f\"], [0.2222222222222222, \"#7201a8\"], [0.3333333333333333, \"#9c179e\"], [0.4444444444444444, \"#bd3786\"], [0.5555555555555556, \"#d8576b\"], [0.6666666666666666, \"#ed7953\"], [0.7777777777777778, \"#fb9f3a\"], [0.8888888888888888, \"#fdca26\"], [1.0, \"#f0f921\"]], \"type\": \"histogram2d\"}], \"histogram2dcontour\": [{\"colorbar\": {\"outlinewidth\": 0, \"ticks\": \"\"}, \"colorscale\": [[0.0, \"#0d0887\"], [0.1111111111111111, \"#46039f\"], [0.2222222222222222, \"#7201a8\"], [0.3333333333333333, \"#9c179e\"], [0.4444444444444444, \"#bd3786\"], [0.5555555555555556, \"#d8576b\"], [0.6666666666666666, \"#ed7953\"], [0.7777777777777778, \"#fb9f3a\"], [0.8888888888888888, \"#fdca26\"], [1.0, \"#f0f921\"]], \"type\": \"histogram2dcontour\"}], \"mesh3d\": [{\"colorbar\": {\"outlinewidth\": 0, \"ticks\": \"\"}, \"type\": \"mesh3d\"}], \"parcoords\": [{\"line\": {\"colorbar\": {\"outlinewidth\": 0, \"ticks\": \"\"}}, \"type\": \"parcoords\"}], \"pie\": [{\"automargin\": true, \"type\": \"pie\"}], \"scatter\": [{\"marker\": {\"colorbar\": {\"outlinewidth\": 0, \"ticks\": \"\"}}, \"type\": \"scatter\"}], \"scatter3d\": [{\"line\": {\"colorbar\": {\"outlinewidth\": 0, \"ticks\": \"\"}}, \"marker\": {\"colorbar\": {\"outlinewidth\": 0, \"ticks\": \"\"}}, \"type\": \"scatter3d\"}], \"scattercarpet\": [{\"marker\": {\"colorbar\": {\"outlinewidth\": 0, \"ticks\": \"\"}}, \"type\": \"scattercarpet\"}], \"scattergeo\": [{\"marker\": {\"colorbar\": {\"outlinewidth\": 0, \"ticks\": \"\"}}, \"type\": \"scattergeo\"}], \"scattergl\": [{\"marker\": {\"colorbar\": {\"outlinewidth\": 0, \"ticks\": \"\"}}, \"type\": \"scattergl\"}], \"scattermapbox\": [{\"marker\": {\"colorbar\": {\"outlinewidth\": 0, \"ticks\": \"\"}}, \"type\": \"scattermapbox\"}], \"scatterpolar\": [{\"marker\": {\"colorbar\": {\"outlinewidth\": 0, \"ticks\": \"\"}}, \"type\": \"scatterpolar\"}], \"scatterpolargl\": [{\"marker\": {\"colorbar\": {\"outlinewidth\": 0, \"ticks\": \"\"}}, \"type\": \"scatterpolargl\"}], \"scatterternary\": [{\"marker\": {\"colorbar\": {\"outlinewidth\": 0, \"ticks\": \"\"}}, \"type\": \"scatterternary\"}], \"surface\": [{\"colorbar\": {\"outlinewidth\": 0, \"ticks\": \"\"}, \"colorscale\": [[0.0, \"#0d0887\"], [0.1111111111111111, \"#46039f\"], [0.2222222222222222, \"#7201a8\"], [0.3333333333333333, \"#9c179e\"], [0.4444444444444444, \"#bd3786\"], [0.5555555555555556, \"#d8576b\"], [0.6666666666666666, \"#ed7953\"], [0.7777777777777778, \"#fb9f3a\"], [0.8888888888888888, \"#fdca26\"], [1.0, \"#f0f921\"]], \"type\": \"surface\"}], \"table\": [{\"cells\": {\"fill\": {\"color\": \"#EBF0F8\"}, \"line\": {\"color\": \"white\"}}, \"header\": {\"fill\": {\"color\": \"#C8D4E3\"}, \"line\": {\"color\": \"white\"}}, \"type\": \"table\"}]}, \"layout\": {\"annotationdefaults\": {\"arrowcolor\": \"#2a3f5f\", \"arrowhead\": 0, \"arrowwidth\": 1}, \"coloraxis\": {\"colorbar\": {\"outlinewidth\": 0, \"ticks\": \"\"}}, \"colorscale\": {\"diverging\": [[0, \"#8e0152\"], [0.1, \"#c51b7d\"], [0.2, \"#de77ae\"], [0.3, \"#f1b6da\"], [0.4, \"#fde0ef\"], [0.5, \"#f7f7f7\"], [0.6, \"#e6f5d0\"], [0.7, \"#b8e186\"], [0.8, \"#7fbc41\"], [0.9, \"#4d9221\"], [1, \"#276419\"]], \"sequential\": [[0.0, \"#0d0887\"], [0.1111111111111111, \"#46039f\"], [0.2222222222222222, \"#7201a8\"], [0.3333333333333333, \"#9c179e\"], [0.4444444444444444, \"#bd3786\"], [0.5555555555555556, \"#d8576b\"], [0.6666666666666666, \"#ed7953\"], [0.7777777777777778, \"#fb9f3a\"], [0.8888888888888888, \"#fdca26\"], [1.0, \"#f0f921\"]], \"sequentialminus\": [[0.0, \"#0d0887\"], [0.1111111111111111, \"#46039f\"], [0.2222222222222222, \"#7201a8\"], [0.3333333333333333, \"#9c179e\"], [0.4444444444444444, \"#bd3786\"], [0.5555555555555556, \"#d8576b\"], [0.6666666666666666, \"#ed7953\"], [0.7777777777777778, \"#fb9f3a\"], [0.8888888888888888, \"#fdca26\"], [1.0, \"#f0f921\"]]}, \"colorway\": [\"#636efa\", \"#EF553B\", \"#00cc96\", \"#ab63fa\", \"#FFA15A\", \"#19d3f3\", \"#FF6692\", \"#B6E880\", \"#FF97FF\", \"#FECB52\"], \"font\": {\"color\": \"#2a3f5f\"}, \"geo\": {\"bgcolor\": \"white\", \"lakecolor\": \"white\", \"landcolor\": \"#E5ECF6\", \"showlakes\": true, \"showland\": true, \"subunitcolor\": \"white\"}, \"hoverlabel\": {\"align\": \"left\"}, \"hovermode\": \"closest\", \"mapbox\": {\"style\": \"light\"}, \"paper_bgcolor\": \"white\", \"plot_bgcolor\": \"#E5ECF6\", \"polar\": {\"angularaxis\": {\"gridcolor\": \"white\", \"linecolor\": \"white\", \"ticks\": \"\"}, \"bgcolor\": \"#E5ECF6\", \"radialaxis\": {\"gridcolor\": \"white\", \"linecolor\": \"white\", \"ticks\": \"\"}}, \"scene\": {\"xaxis\": {\"backgroundcolor\": \"#E5ECF6\", \"gridcolor\": \"white\", \"gridwidth\": 2, \"linecolor\": \"white\", \"showbackground\": true, \"ticks\": \"\", \"zerolinecolor\": \"white\"}, \"yaxis\": {\"backgroundcolor\": \"#E5ECF6\", \"gridcolor\": \"white\", \"gridwidth\": 2, \"linecolor\": \"white\", \"showbackground\": true, \"ticks\": \"\", \"zerolinecolor\": \"white\"}, \"zaxis\": {\"backgroundcolor\": \"#E5ECF6\", \"gridcolor\": \"white\", \"gridwidth\": 2, \"linecolor\": \"white\", \"showbackground\": true, \"ticks\": \"\", \"zerolinecolor\": \"white\"}}, \"shapedefaults\": {\"line\": {\"color\": \"#2a3f5f\"}}, \"ternary\": {\"aaxis\": {\"gridcolor\": \"white\", \"linecolor\": \"white\", \"ticks\": \"\"}, \"baxis\": {\"gridcolor\": \"white\", \"linecolor\": \"white\", \"ticks\": \"\"}, \"bgcolor\": \"#E5ECF6\", \"caxis\": {\"gridcolor\": \"white\", \"linecolor\": \"white\", \"ticks\": \"\"}}, \"title\": {\"x\": 0.05}, \"xaxis\": {\"automargin\": true, \"gridcolor\": \"white\", \"linecolor\": \"white\", \"ticks\": \"\", \"title\": {\"standoff\": 15}, \"zerolinecolor\": \"white\", \"zerolinewidth\": 2}, \"yaxis\": {\"automargin\": true, \"gridcolor\": \"white\", \"linecolor\": \"white\", \"ticks\": \"\", \"title\": {\"standoff\": 15}, \"zerolinecolor\": \"white\", \"zerolinewidth\": 2}}}},\n",
       "                        {\"responsive\": true}\n",
       "                    ).then(function(){\n",
       "                            \n",
       "var gd = document.getElementById('1a0cd9b1-056a-41de-8314-d12964ff2fda');\n",
       "var x = new MutationObserver(function (mutations, observer) {{\n",
       "        var display = window.getComputedStyle(gd).display;\n",
       "        if (!display || display === 'none') {{\n",
       "            console.log([gd, 'removed!']);\n",
       "            Plotly.purge(gd);\n",
       "            observer.disconnect();\n",
       "        }}\n",
       "}});\n",
       "\n",
       "// Listen for the removal of the full notebook cells\n",
       "var notebookContainer = gd.closest('#notebook-container');\n",
       "if (notebookContainer) {{\n",
       "    x.observe(notebookContainer, {childList: true});\n",
       "}}\n",
       "\n",
       "// Listen for the clearing of the current output cell\n",
       "var outputEl = gd.closest('.output');\n",
       "if (outputEl) {{\n",
       "    x.observe(outputEl, {childList: true});\n",
       "}}\n",
       "\n",
       "                        })\n",
       "                };\n",
       "                });\n",
       "            </script>\n",
       "        </div>"
      ]
     },
     "metadata": {},
     "output_type": "display_data"
    }
   ],
   "source": [
    "fig.show()"
   ]
  }
 ],
 "metadata": {
  "kernelspec": {
   "display_name": "Python 3",
   "language": "python",
   "name": "python3"
  },
  "language_info": {
   "codemirror_mode": {
    "name": "ipython",
    "version": 3
   },
   "file_extension": ".py",
   "mimetype": "text/x-python",
   "name": "python",
   "nbconvert_exporter": "python",
   "pygments_lexer": "ipython3",
   "version": "3.8.0"
  }
 },
 "nbformat": 4,
 "nbformat_minor": 4
}
