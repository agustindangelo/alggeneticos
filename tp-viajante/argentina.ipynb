{
 "cells": [
  {
   "cell_type": "markdown",
   "metadata": {},
   "source": [
    "**versión con botones anterior-siguiente**"
   ]
  },
  {
   "cell_type": "code",
   "execution_count": 9,
   "metadata": {},
   "outputs": [],
   "source": [
    "import dash\n",
    "import plotly.express as px\n",
    "from jupyter_dash import JupyterDash\n",
    "import dash_core_components as dcc\n",
    "import dash_html_components as html\n",
    "from dash.dependencies import Input, Output\n",
    "import plotly.graph_objs as go\n",
    "from operator import itemgetter\n",
    "import pandas as pd\n",
    "import numpy as np\n",
    "from bitarray import bitarray"
   ]
  },
  {
   "cell_type": "code",
   "execution_count": 5,
   "metadata": {},
   "outputs": [],
   "source": [
    "import dash\n",
    "import plotly.express as px\n",
    "from jupyter_dash import JupyterDash\n",
    "import dash_core_components as dcc\n",
    "import dash_html_components as html\n",
    "from dash.dependencies import Input, Output\n",
    "import plotly.graph_objs as go\n",
    "\n",
    "# Load Data\n",
    "cap = pd.read_csv('capitales.csv')\n",
    "# Build App\n",
    "app = JupyterDash(__name__)\n",
    "app.layout = html.Div([\n",
    "    html.H1(\"Recorrido sobre las capitales de Argentina\"),\n",
    "    \n",
    "    html.Button('Siguiente', id='btn-siguiente', n_clicks=0),\n",
    "    html.Button('Anterior', id='btn-anterior', n_clicks=0),\n",
    "    html.Div(id='container-button-basic',\n",
    "             children='Enter a value and press submit'),\n",
    "    dcc.Graph(id='graph'),\n",
    "])\n",
    "# Define callback to update graph\n",
    "@app.callback(\n",
    "    [Output('graph', 'figure'),\n",
    "     dash.dependencies.Output('container-button-basic', 'children')],\n",
    "    [Input(\"btn-siguiente\", 'n_clicks'),\n",
    "     Input(\"btn-anterior\", 'n_clicks')],\n",
    ")\n",
    "\n",
    "def update_figure(n_sig, n_ant):\n",
    "    changed_id = [p['prop_id'] for p in dash.callback_context.triggered][0]\n",
    "    pos_actual = n_sig - n_ant\n",
    "    if 'btn-siguiente.n_clicks' in changed_id:\n",
    "        fig = px.scatter_mapbox(cap, lat=\"latitud\", lon=\"longitud\", hover_name=\"capital\", hover_data=[\"capital\"],\n",
    "                        color_discrete_sequence=[\"red\"], zoom=3, height=500, width=500)\n",
    "        fig.update_layout(margin={\"r\":0,\"t\":0,\"l\":0,\"b\":0})\n",
    "        fig.update_layout(mapbox_style=\"open-street-map\")\n",
    "        fig.add_trace(\n",
    "            go.Scattermapbox(\n",
    "                mode = \"lines\",\n",
    "                lon = cap['longitud'][:pos_actual + 1],\n",
    "                lat = cap['latitud'][:pos_actual + 1],\n",
    "            )\n",
    "        )\n",
    "        return fig, f'pos_actual = {pos_actual} -- n_sig {n_sig}, n_ant {n_ant} -- changed_id {changed_id}'\n",
    "        \n",
    "    elif 'btn-anterior.n_clicks' in changed_id:  \n",
    "        if pos_actual > len(cap):\n",
    "            raise dash.exceptions.PreventUpdate\n",
    "        else:    \n",
    "            fig = px.scatter_mapbox(cap, lat=\"latitud\", lon=\"longitud\", hover_name=\"capital\", hover_data=[\"capital\"],\n",
    "                            color_discrete_sequence=[\"red\"], zoom=3, height=500, width=500)\n",
    "            fig.update_layout(margin={\"r\":0,\"t\":0,\"l\":0,\"b\":0})\n",
    "            fig.update_layout(mapbox_style=\"open-street-map\")\n",
    "            fig.add_trace(\n",
    "                go.Scattermapbox(\n",
    "                    mode = \"lines\",\n",
    "                    lon = cap['longitud'][:pos_actual + 1],\n",
    "                    lat = cap['latitud'][:pos_actual + 1],\n",
    "                )\n",
    "            )\n",
    "            return fig, f'pos_actual = {pos_actual} -- n_sig {n_sig}, n_ant {n_ant} -- changed_id {changed_id}'\n",
    "    else:\n",
    "        fig = px.scatter_mapbox(cap, lat=\"latitud\", lon=\"longitud\", hover_name=\"capital\", hover_data=[\"capital\"],\n",
    "                            color_discrete_sequence=[\"red\"], zoom=3, height=500, width=500)\n",
    "        fig.update_layout(margin={\"r\":0,\"t\":0,\"l\":0,\"b\":0})\n",
    "        fig.update_layout(mapbox_style=\"open-street-map\")\n",
    "        return fig, f'pos_actual = {pos_actual} -- n_sig {n_sig}, n_ant {n_ant} -- changed_id {changed_id}'\n",
    "\n",
    "# Run app and display result inline in the notebook\n",
    "app.run_server(mode='jupyterlab', port=8080)"
   ]
  },
  {
   "cell_type": "markdown",
   "metadata": {},
   "source": [
    "**Versión con slider**"
   ]
  },
  {
   "cell_type": "code",
   "execution_count": 10,
   "metadata": {},
   "outputs": [],
   "source": [
    "import dash\n",
    "import pandas as pd\n",
    "import plotly.express as px\n",
    "from jupyter_dash import JupyterDash\n",
    "import dash_core_components as dcc\n",
    "import dash_html_components as html\n",
    "import dash_bootstrap_components as dbc\n",
    "from dash.dependencies import Input, Output\n",
    "import plotly.graph_objs as go\n",
    "\n",
    "# Load Data\n",
    "cap = pd.read_csv('capitales.csv')\n",
    "\n",
    "app = JupyterDash(__name__,\n",
    "external_stylesheets=[dbc.themes.BOOTSTRAP])\n",
    "\n",
    "# Build App\n",
    "app.layout = html.Div(\n",
    "    [ \n",
    "        dbc.NavbarSimple(\n",
    "            children=[\n",
    "                dbc.NavItem(dbc.NavLink(\"Ejercicio 1\", href=\"#\", className='disabled')),\n",
    "                dbc.NavItem(dbc.NavLink(\"Ejercicio 2\", href=\"ejercicio-2.ipynb\")),\n",
    "                dbc.NavItem(dbc.NavLink(\"Ejercicio 3\", href=\"ejercicio-3.ipynb\"))\n",
    "            ],\n",
    "            brand=\"GRUPO 1 - TRABAJO PRÁCICO N°3\",\n",
    "            color=\"primary\",\n",
    "            dark=True,\n",
    "        ),\n",
    "        dbc.Row(\n",
    "            dbc.Col(\n",
    "                html.H3(\"Recorrido sobre las capitales de Argentina\")\n",
    "            )\n",
    "       ),\n",
    "        dbc.Row(\n",
    "            [\n",
    "                dbc.Col(\n",
    "                    dcc.Slider(\n",
    "                        id='slider',\n",
    "                        vertical=True,\n",
    "                        min=1,\n",
    "                        max=23,\n",
    "                        marks={i: str(cap['capital'][i]) for i in range(1, len(cap))},\n",
    "                        value=23,\n",
    "                        verticalHeight=800\n",
    "                        )\n",
    "                    ),\n",
    "                    dbc.Col(dcc.Graph(id='graph'))\n",
    "            ]\n",
    "        )\n",
    "    ]\n",
    ")\n",
    "# Define callback to update graph\n",
    "@app.callback(\n",
    "    Output('graph', 'figure'),\n",
    "    Input('slider', 'value'),\n",
    ")\n",
    "\n",
    "def update_figure(slider_value):\n",
    "    pos_actual = slider_value\n",
    "    fig = px.scatter_mapbox(cap, lat=\"latitud\", lon=\"longitud\", hover_name=\"capital\", hover_data=[\"capital\"],\n",
    "                    color_discrete_sequence=[\"red\"], zoom=3, height=400, width=500)\n",
    "    \n",
    "    fig.update_layout(margin={\"r\":0,\"t\":0,\"l\":0,\"b\":0})\n",
    "    fig.update_layout(mapbox_style=\"open-street-map\")\n",
    "    \n",
    "    fig.add_trace(\n",
    "        go.Scattermapbox(\n",
    "            mode = \"lines\",\n",
    "            lon = cap['longitud'][:pos_actual],\n",
    "            lat = cap['latitud'][:pos_actual],\n",
    "        )\n",
    "    )\n",
    "    return fig\n",
    "\n",
    "# Run app and display result inline in the notebook\n",
    "app.run_server(mode='jupyterlab', port=8080)"
   ]
  },
  {
   "cell_type": "code",
   "execution_count": 22,
   "metadata": {},
   "outputs": [],
   "source": [
    "import dash\n",
    "import pandas as pd\n",
    "import plotly.express as px\n",
    "from jupyter_dash import JupyterDash\n",
    "import dash_core_components as dcc\n",
    "import dash_html_components as html\n",
    "import dash_bootstrap_components as dbc\n",
    "from dash.dependencies import Input, Output\n",
    "import plotly.graph_objs as go\n",
    "\n",
    "# Since we're adding callbacks to elements that don't exist in the app.layout,\n",
    "# Dash will raise an exception to warn us that we might be\n",
    "# doing something wrong.\n",
    "# In this case, we're adding the elements through a callback, so we can ignore\n",
    "# the exception.\n",
    "app = JupyterDash(__name__, external_stylesheets=[dbc.themes.BOOTSTRAP], suppress_callback_exceptions=True)\n",
    "\n",
    "app.layout = html.Div([\n",
    "    dcc.Location(id='url', refresh=False),\n",
    "    html.Div(id='contenido')\n",
    "])\n",
    "\n",
    "pagina_inicio = html.Div(\n",
    "    [\n",
    "        dbc.NavbarSimple(\n",
    "                children=[\n",
    "                    dbc.NavItem(dbc.NavLink(\"Ejercicio 1\", href=\"/ejercicio-1\")),\n",
    "                    dbc.NavItem(dbc.NavLink(\"Ejercicio 2\", href=\"/page-2\")),\n",
    "                    dbc.NavItem(dbc.NavLink(\"Ejercicio 3\", href=\"/page-3\"))\n",
    "                ],\n",
    "                brand=\"GRUPO 1 - TRABAJO PRÁCICO N°3\",\n",
    "                color=\"primary\",\n",
    "                dark=True,\n",
    "        ),\n",
    "        html.Div(id=\"pagina-inicio-content\"),\n",
    "        dbc.Jumbotron(\n",
    "            [\n",
    "                html.H3(\"Grupo 1 - Problema del Viajante\", className=\"display-3\"),\n",
    "                html.H3(\n",
    "                    \"Integrantes:\"\n",
    "                ),\n",
    "                html.P(\n",
    "                    \"D'Angelo Agustín, Fabbri Lucía, Lostumbo Julian, Serenelli Lucio\"\n",
    "                ),\n",
    "                html.P(dbc.Button(\"Continuar\", color=\"primary\", href=\"/page-1\"), className=\"lead\"),\n",
    "            ]\n",
    "        )\n",
    "    ]\n",
    ")\n",
    "\n",
    "ejercicio_1_layout = html.Div(\n",
    "    [\n",
    "        dbc.NavbarSimple(\n",
    "            children=[\n",
    "                dbc.NavItem(dbc.NavLink(\"Ejercicio 1\", href=\"/ejercicio-1\")),\n",
    "                dbc.NavItem(dbc.NavLink(\"Ejercicio 2\", href=\"/ejercicio-2\")),\n",
    "                dbc.NavItem(dbc.NavLink(\"Ejercicio 3\", href=\"/ejercicio-3\"))\n",
    "            ],\n",
    "            brand=\"Grupo 1 - Ejercicio 1\",\n",
    "            color=\"primary\",\n",
    "            dark=True,\n",
    "        ),\n",
    "        html.Div(id=\"ejercicio-1-content\"),\n",
    "        html.P(\"primera linea de la pagina 1\"),\n",
    "        html.P(\"segunda linea de la pagina 1\")         \n",
    "    ]\n",
    ")\n",
    "ejercicio_2_layout = html.Div(\n",
    "    [\n",
    "        dbc.NavbarSimple(\n",
    "            children=[\n",
    "                dbc.NavItem(dbc.NavLink(\"Ejercicio 1\", href=\"/ejercicio-1\")),\n",
    "                dbc.NavItem(dbc.NavLink(\"Ejercicio 2\", href=\"/ejercicio-2\")),\n",
    "                dbc.NavItem(dbc.NavLink(\"Ejercicio 3\", href=\"/ejercicio-3\"))\n",
    "            ],\n",
    "            brand=\"Grupo 1 - Ejercicio 2\",\n",
    "            color=\"primary\",\n",
    "            dark=True,\n",
    "        ),\n",
    "        html.Div(id=\"ejercicio-2-content\"),\n",
    "        html.P(\"primera linea de la pagina 2\"),\n",
    "        html.P(\"segunda linea de la pagina 2\")\n",
    "    ]\n",
    ")\n",
    "ejercicio_3_layout = html.Div(\n",
    "    [\n",
    "        dbc.NavbarSimple(\n",
    "            children=[\n",
    "                dbc.NavItem(dbc.NavLink(\"Ejercicio 1\", href=\"/ejercicio-1\")),\n",
    "                dbc.NavItem(dbc.NavLink(\"Ejercicio 2\", href=\"/ejercicio-2\")),\n",
    "                dbc.NavItem(dbc.NavLink(\"Ejercicio 3\", href=\"/ejercicio-3\"))\n",
    "            ],\n",
    "            brand=\"Grupo 1 - Ejercicio 3\",\n",
    "            color=\"primary\",\n",
    "            dark=True,\n",
    "        ),\n",
    "        html.Div(id=\"ejercicio-3-content\"),\n",
    "        html.P(\"primera linea de la pagina 3\"),\n",
    "        html.P(\"segunda linea de la pagina 3\")\n",
    "    ]\n",
    ")\n",
    "\n",
    "@app.callback(dash.dependencies.Output('ejercicio-1-content', 'children'),\n",
    "              [dash.dependencies.Input('ejercicio-1-dropdown', 'value')])\n",
    "\n",
    "\n",
    "@app.callback(dash.dependencies.Output('ejercicio-2-content', 'children'),\n",
    "              [dash.dependencies.Input('ejercicio-2-radios', 'value')])\n",
    "\n",
    "@app.callback(dash.dependencies.Output('ejercicio-3-content', 'children'),\n",
    "              [dash.dependencies.Input('ejercicio-3-radios', 'value')])\n",
    "\n",
    "# Update the index\n",
    "@app.callback(dash.dependencies.Output('contenido', 'children'),\n",
    "              [dash.dependencies.Input('url', 'pathname')])\n",
    "\n",
    "def display_page(pathname):\n",
    "    if pathname == '/ejercicio-1':\n",
    "        return ejercicio_1_layout\n",
    "    elif pathname == '/ejercicio-2':\n",
    "        return ejercicio_2_layout\n",
    "    elif pathname == '/ejercicio-3':\n",
    "        return ejercicio_3_layout\n",
    "    else:\n",
    "        return pagina_inicio\n",
    "\n",
    "app.run_server(mode='jupyterlab', port=8080)"
   ]
  },
  {
   "cell_type": "code",
   "execution_count": null,
   "metadata": {},
   "outputs": [],
   "source": []
  },
  {
   "cell_type": "code",
   "execution_count": 19,
   "metadata": {},
   "outputs": [],
   "source": [
    "cap = pd.read_csv('capitales.csv')\n",
    "def permutacion_binaria(n, m):\n",
    "  # función recursiva que genera permutaciones en cadenas binarias de longitud n, con m cantidad de unos\n",
    "  # Detalle de implementacion en python: la palabra clave yield es el análogo de return, pero retorna un objeto generador\n",
    "    if m < n:                                                  \n",
    "        if m > 0:\n",
    "            for x in permutacion_binaria(n-1,m-1):\n",
    "                yield bitarray([1]) + x\n",
    "            for x in permutacion_binaria(n-1,m):\n",
    "                yield bitarray([0]) + x\n",
    "        else:\n",
    "            yield n * bitarray('0') \n",
    "    else:\n",
    "        yield n * bitarray('1')\n",
    "\n",
    "def generar_combinaciones(n):\n",
    " \n",
    "    # función que genera todas las cadenas binarias posibles de longitud n,\n",
    "    # el valor de n debe indicarse como parámetro de la función.\n",
    "    n = int(n)\n",
    "    cadenas = []\n",
    "    for i in range(n):\n",
    "        for cadena in permutacion_binaria(n,i):\n",
    "            cadenas.append((cadena))\n",
    " \n",
    "    for index, cadena in enumerate(cadenas):\n",
    "        cadenas[index] = [int(xi) for xi in cadena.tolist()]   # convertimos el arreglo de bits en una lista de python\n",
    "    for index, cadena in enumerate(cadenas):\n",
    "        cadenas[index] = ''.join([str(xi) for xi in cadena])   # convertimos la lista de python en un string\n",
    " \n",
    "    cadenas.append('1' * n)\n",
    "    #se devuelve una lista con las combinaciones posibles de '1's y '0's donde cada bit representa un elemento y si ese elemento se encuentra en la combinacion o no   \n",
    "    return cadenas"
   ]
  },
  {
   "cell_type": "code",
   "execution_count": 122,
   "metadata": {},
   "outputs": [],
   "source": [
    "frames = [go.Frame(data=[go.Scattermapbox(mode='lines',lon=[cap['longitud'][0], cap['longitud'][1]], lat=[cap['latitud'][0], cap['latitud'][1]])])]\n",
    "frames.append(go.Frame(data=[go.Scattermapbox(mode='lines',lon=[cap['longitud'][1], cap['longitud'][2]], lat=[cap['latitud'][1], cap['latitud'][2]])]))\n",
    "frames.append(go.Frame(data=[go.Scattermapbox(mode='lines',lon=[cap['longitud'][2], cap['longitud'][3]], lat=[cap['latitud'][2], cap['latitud'][3]])]))\n"
   ]
  },
  {
   "cell_type": "code",
   "execution_count": 123,
   "metadata": {},
   "outputs": [
    {
     "data": {
      "application/vnd.plotly.v1+json": {
       "config": {
        "plotlyServerURL": "https://plot.ly"
       },
       "data": [
        {
         "hoverinfo": "text",
         "lat": [
          -27.483745000000003,
          -26.18129
         ],
         "lon": [
          -58.812996,
          -58.190585999999996
         ],
         "mode": "lines",
         "text": [
          "Cdad. de Bs. As.",
          "Córdoba",
          "Corrientes",
          "Formosa",
          "La Plata",
          "La Rioja",
          "Mendoza",
          "Neuquen",
          "Paraná",
          "Posadas",
          "Rawson",
          "Resistencia",
          "Río Gallegos",
          "S.F.d.V.d. Catamarca",
          "S.M. de Tucumán",
          "S.S. de Jujuy",
          "Salta",
          "San Juan",
          "San Luis",
          "Santa Fe",
          "Santa Rosa",
          "Sgo. del Estero",
          "Ushuaia",
          "Viedma"
         ],
         "type": "scattermapbox"
        }
       ],
       "frames": [
        {
         "data": [
          {
           "lat": [
            -34.560063,
            -31.4135
           ],
           "lon": [
            -58.390526,
            -64.18105
           ],
           "mode": "lines",
           "type": "scattermapbox"
          }
         ]
        },
        {
         "data": [
          {
           "lat": [
            -31.4135,
            -27.483745000000003
           ],
           "lon": [
            -64.18105,
            -58.812996
           ],
           "mode": "lines",
           "type": "scattermapbox"
          }
         ]
        },
        {
         "data": [
          {
           "lat": [
            -27.483745000000003,
            -26.18129
           ],
           "lon": [
            -58.812996,
            -58.190585999999996
           ],
           "mode": "lines",
           "type": "scattermapbox"
          }
         ]
        }
       ],
       "layout": {
        "autosize": true,
        "hovermode": "closest",
        "mapbox": {
         "bearing": 0,
         "center": {
          "lat": -39.369420832962476,
          "lon": -55.9350406591152
         },
         "pitch": 0,
         "style": "open-street-map",
         "zoom": 2.592690011730971
        },
        "margin": {
         "b": 0,
         "l": 0,
         "r": 0,
         "t": 0
        },
        "sliders": [
         {
          "active": 0,
          "currentvalue": {
           "font": {
            "size": 20
           },
           "visible": true,
           "xanchor": "right"
          },
          "len": 0.9,
          "pad": {
           "b": 10,
           "t": 50
          },
          "steps": [
           {
            "args": [
             {
              "frame": {
               "duration": 300,
               "redraw": false
              },
              "mode": "immediate"
             }
            ],
            "label": "Cdad. de Bs. As.",
            "method": "animate"
           },
           {
            "args": [
             {
              "frame": {
               "duration": 300,
               "redraw": false
              },
              "mode": "immediate"
             }
            ],
            "label": "Córdoba",
            "method": "animate"
           },
           {
            "args": [
             {
              "frame": {
               "duration": 300,
               "redraw": false
              },
              "mode": "immediate"
             }
            ],
            "label": "Corrientes",
            "method": "animate"
           },
           {
            "args": [
             {
              "frame": {
               "duration": 300,
               "redraw": false
              },
              "mode": "immediate"
             }
            ],
            "label": "Formosa",
            "method": "animate"
           },
           {
            "args": [
             {
              "frame": {
               "duration": 300,
               "redraw": false
              },
              "mode": "immediate"
             }
            ],
            "label": "La Plata",
            "method": "animate"
           },
           {
            "args": [
             {
              "frame": {
               "duration": 300,
               "redraw": false
              },
              "mode": "immediate"
             }
            ],
            "label": "La Rioja",
            "method": "animate"
           },
           {
            "args": [
             {
              "frame": {
               "duration": 300,
               "redraw": false
              },
              "mode": "immediate"
             }
            ],
            "label": "Mendoza",
            "method": "animate"
           },
           {
            "args": [
             {
              "frame": {
               "duration": 300,
               "redraw": false
              },
              "mode": "immediate"
             }
            ],
            "label": "Neuquen",
            "method": "animate"
           },
           {
            "args": [
             {
              "frame": {
               "duration": 300,
               "redraw": false
              },
              "mode": "immediate"
             }
            ],
            "label": "Paraná",
            "method": "animate"
           },
           {
            "args": [
             {
              "frame": {
               "duration": 300,
               "redraw": false
              },
              "mode": "immediate"
             }
            ],
            "label": "Posadas",
            "method": "animate"
           },
           {
            "args": [
             {
              "frame": {
               "duration": 300,
               "redraw": false
              },
              "mode": "immediate"
             }
            ],
            "label": "Rawson",
            "method": "animate"
           },
           {
            "args": [
             {
              "frame": {
               "duration": 300,
               "redraw": false
              },
              "mode": "immediate"
             }
            ],
            "label": "Resistencia",
            "method": "animate"
           },
           {
            "args": [
             {
              "frame": {
               "duration": 300,
               "redraw": false
              },
              "mode": "immediate"
             }
            ],
            "label": "Río Gallegos",
            "method": "animate"
           },
           {
            "args": [
             {
              "frame": {
               "duration": 300,
               "redraw": false
              },
              "mode": "immediate"
             }
            ],
            "label": "S.F.d.V.d. Catamarca",
            "method": "animate"
           },
           {
            "args": [
             {
              "frame": {
               "duration": 300,
               "redraw": false
              },
              "mode": "immediate"
             }
            ],
            "label": "S.M. de Tucumán",
            "method": "animate"
           },
           {
            "args": [
             {
              "frame": {
               "duration": 300,
               "redraw": false
              },
              "mode": "immediate"
             }
            ],
            "label": "S.S. de Jujuy",
            "method": "animate"
           },
           {
            "args": [
             {
              "frame": {
               "duration": 300,
               "redraw": false
              },
              "mode": "immediate"
             }
            ],
            "label": "Salta",
            "method": "animate"
           },
           {
            "args": [
             {
              "frame": {
               "duration": 300,
               "redraw": false
              },
              "mode": "immediate"
             }
            ],
            "label": "San Juan",
            "method": "animate"
           },
           {
            "args": [
             {
              "frame": {
               "duration": 300,
               "redraw": false
              },
              "mode": "immediate"
             }
            ],
            "label": "San Luis",
            "method": "animate"
           },
           {
            "args": [
             {
              "frame": {
               "duration": 300,
               "redraw": false
              },
              "mode": "immediate"
             }
            ],
            "label": "Santa Fe",
            "method": "animate"
           },
           {
            "args": [
             {
              "frame": {
               "duration": 300,
               "redraw": false
              },
              "mode": "immediate"
             }
            ],
            "label": "Santa Rosa",
            "method": "animate"
           },
           {
            "args": [
             {
              "frame": {
               "duration": 300,
               "redraw": false
              },
              "mode": "immediate"
             }
            ],
            "label": "Sgo. del Estero",
            "method": "animate"
           },
           {
            "args": [
             {
              "frame": {
               "duration": 300,
               "redraw": false
              },
              "mode": "immediate"
             }
            ],
            "label": "Ushuaia",
            "method": "animate"
           },
           {
            "args": [
             {
              "frame": {
               "duration": 300,
               "redraw": false
              },
              "mode": "immediate"
             }
            ],
            "label": "Viedma",
            "method": "animate"
           }
          ],
          "transition": {
           "duration": 300,
           "easing": "cubic-in-out"
          },
          "x": 0.1,
          "xanchor": "left",
          "y": 0,
          "yanchor": "top"
         }
        ],
        "template": {
         "data": {
          "bar": [
           {
            "error_x": {
             "color": "#2a3f5f"
            },
            "error_y": {
             "color": "#2a3f5f"
            },
            "marker": {
             "line": {
              "color": "#E5ECF6",
              "width": 0.5
             }
            },
            "type": "bar"
           }
          ],
          "barpolar": [
           {
            "marker": {
             "line": {
              "color": "#E5ECF6",
              "width": 0.5
             }
            },
            "type": "barpolar"
           }
          ],
          "carpet": [
           {
            "aaxis": {
             "endlinecolor": "#2a3f5f",
             "gridcolor": "white",
             "linecolor": "white",
             "minorgridcolor": "white",
             "startlinecolor": "#2a3f5f"
            },
            "baxis": {
             "endlinecolor": "#2a3f5f",
             "gridcolor": "white",
             "linecolor": "white",
             "minorgridcolor": "white",
             "startlinecolor": "#2a3f5f"
            },
            "type": "carpet"
           }
          ],
          "choropleth": [
           {
            "colorbar": {
             "outlinewidth": 0,
             "ticks": ""
            },
            "type": "choropleth"
           }
          ],
          "contour": [
           {
            "colorbar": {
             "outlinewidth": 0,
             "ticks": ""
            },
            "colorscale": [
             [
              0,
              "#0d0887"
             ],
             [
              0.1111111111111111,
              "#46039f"
             ],
             [
              0.2222222222222222,
              "#7201a8"
             ],
             [
              0.3333333333333333,
              "#9c179e"
             ],
             [
              0.4444444444444444,
              "#bd3786"
             ],
             [
              0.5555555555555556,
              "#d8576b"
             ],
             [
              0.6666666666666666,
              "#ed7953"
             ],
             [
              0.7777777777777778,
              "#fb9f3a"
             ],
             [
              0.8888888888888888,
              "#fdca26"
             ],
             [
              1,
              "#f0f921"
             ]
            ],
            "type": "contour"
           }
          ],
          "contourcarpet": [
           {
            "colorbar": {
             "outlinewidth": 0,
             "ticks": ""
            },
            "type": "contourcarpet"
           }
          ],
          "heatmap": [
           {
            "colorbar": {
             "outlinewidth": 0,
             "ticks": ""
            },
            "colorscale": [
             [
              0,
              "#0d0887"
             ],
             [
              0.1111111111111111,
              "#46039f"
             ],
             [
              0.2222222222222222,
              "#7201a8"
             ],
             [
              0.3333333333333333,
              "#9c179e"
             ],
             [
              0.4444444444444444,
              "#bd3786"
             ],
             [
              0.5555555555555556,
              "#d8576b"
             ],
             [
              0.6666666666666666,
              "#ed7953"
             ],
             [
              0.7777777777777778,
              "#fb9f3a"
             ],
             [
              0.8888888888888888,
              "#fdca26"
             ],
             [
              1,
              "#f0f921"
             ]
            ],
            "type": "heatmap"
           }
          ],
          "heatmapgl": [
           {
            "colorbar": {
             "outlinewidth": 0,
             "ticks": ""
            },
            "colorscale": [
             [
              0,
              "#0d0887"
             ],
             [
              0.1111111111111111,
              "#46039f"
             ],
             [
              0.2222222222222222,
              "#7201a8"
             ],
             [
              0.3333333333333333,
              "#9c179e"
             ],
             [
              0.4444444444444444,
              "#bd3786"
             ],
             [
              0.5555555555555556,
              "#d8576b"
             ],
             [
              0.6666666666666666,
              "#ed7953"
             ],
             [
              0.7777777777777778,
              "#fb9f3a"
             ],
             [
              0.8888888888888888,
              "#fdca26"
             ],
             [
              1,
              "#f0f921"
             ]
            ],
            "type": "heatmapgl"
           }
          ],
          "histogram": [
           {
            "marker": {
             "colorbar": {
              "outlinewidth": 0,
              "ticks": ""
             }
            },
            "type": "histogram"
           }
          ],
          "histogram2d": [
           {
            "colorbar": {
             "outlinewidth": 0,
             "ticks": ""
            },
            "colorscale": [
             [
              0,
              "#0d0887"
             ],
             [
              0.1111111111111111,
              "#46039f"
             ],
             [
              0.2222222222222222,
              "#7201a8"
             ],
             [
              0.3333333333333333,
              "#9c179e"
             ],
             [
              0.4444444444444444,
              "#bd3786"
             ],
             [
              0.5555555555555556,
              "#d8576b"
             ],
             [
              0.6666666666666666,
              "#ed7953"
             ],
             [
              0.7777777777777778,
              "#fb9f3a"
             ],
             [
              0.8888888888888888,
              "#fdca26"
             ],
             [
              1,
              "#f0f921"
             ]
            ],
            "type": "histogram2d"
           }
          ],
          "histogram2dcontour": [
           {
            "colorbar": {
             "outlinewidth": 0,
             "ticks": ""
            },
            "colorscale": [
             [
              0,
              "#0d0887"
             ],
             [
              0.1111111111111111,
              "#46039f"
             ],
             [
              0.2222222222222222,
              "#7201a8"
             ],
             [
              0.3333333333333333,
              "#9c179e"
             ],
             [
              0.4444444444444444,
              "#bd3786"
             ],
             [
              0.5555555555555556,
              "#d8576b"
             ],
             [
              0.6666666666666666,
              "#ed7953"
             ],
             [
              0.7777777777777778,
              "#fb9f3a"
             ],
             [
              0.8888888888888888,
              "#fdca26"
             ],
             [
              1,
              "#f0f921"
             ]
            ],
            "type": "histogram2dcontour"
           }
          ],
          "mesh3d": [
           {
            "colorbar": {
             "outlinewidth": 0,
             "ticks": ""
            },
            "type": "mesh3d"
           }
          ],
          "parcoords": [
           {
            "line": {
             "colorbar": {
              "outlinewidth": 0,
              "ticks": ""
             }
            },
            "type": "parcoords"
           }
          ],
          "pie": [
           {
            "automargin": true,
            "type": "pie"
           }
          ],
          "scatter": [
           {
            "marker": {
             "colorbar": {
              "outlinewidth": 0,
              "ticks": ""
             }
            },
            "type": "scatter"
           }
          ],
          "scatter3d": [
           {
            "line": {
             "colorbar": {
              "outlinewidth": 0,
              "ticks": ""
             }
            },
            "marker": {
             "colorbar": {
              "outlinewidth": 0,
              "ticks": ""
             }
            },
            "type": "scatter3d"
           }
          ],
          "scattercarpet": [
           {
            "marker": {
             "colorbar": {
              "outlinewidth": 0,
              "ticks": ""
             }
            },
            "type": "scattercarpet"
           }
          ],
          "scattergeo": [
           {
            "marker": {
             "colorbar": {
              "outlinewidth": 0,
              "ticks": ""
             }
            },
            "type": "scattergeo"
           }
          ],
          "scattergl": [
           {
            "marker": {
             "colorbar": {
              "outlinewidth": 0,
              "ticks": ""
             }
            },
            "type": "scattergl"
           }
          ],
          "scattermapbox": [
           {
            "marker": {
             "colorbar": {
              "outlinewidth": 0,
              "ticks": ""
             }
            },
            "type": "scattermapbox"
           }
          ],
          "scatterpolar": [
           {
            "marker": {
             "colorbar": {
              "outlinewidth": 0,
              "ticks": ""
             }
            },
            "type": "scatterpolar"
           }
          ],
          "scatterpolargl": [
           {
            "marker": {
             "colorbar": {
              "outlinewidth": 0,
              "ticks": ""
             }
            },
            "type": "scatterpolargl"
           }
          ],
          "scatterternary": [
           {
            "marker": {
             "colorbar": {
              "outlinewidth": 0,
              "ticks": ""
             }
            },
            "type": "scatterternary"
           }
          ],
          "surface": [
           {
            "colorbar": {
             "outlinewidth": 0,
             "ticks": ""
            },
            "colorscale": [
             [
              0,
              "#0d0887"
             ],
             [
              0.1111111111111111,
              "#46039f"
             ],
             [
              0.2222222222222222,
              "#7201a8"
             ],
             [
              0.3333333333333333,
              "#9c179e"
             ],
             [
              0.4444444444444444,
              "#bd3786"
             ],
             [
              0.5555555555555556,
              "#d8576b"
             ],
             [
              0.6666666666666666,
              "#ed7953"
             ],
             [
              0.7777777777777778,
              "#fb9f3a"
             ],
             [
              0.8888888888888888,
              "#fdca26"
             ],
             [
              1,
              "#f0f921"
             ]
            ],
            "type": "surface"
           }
          ],
          "table": [
           {
            "cells": {
             "fill": {
              "color": "#EBF0F8"
             },
             "line": {
              "color": "white"
             }
            },
            "header": {
             "fill": {
              "color": "#C8D4E3"
             },
             "line": {
              "color": "white"
             }
            },
            "type": "table"
           }
          ]
         },
         "layout": {
          "annotationdefaults": {
           "arrowcolor": "#2a3f5f",
           "arrowhead": 0,
           "arrowwidth": 1
          },
          "coloraxis": {
           "colorbar": {
            "outlinewidth": 0,
            "ticks": ""
           }
          },
          "colorscale": {
           "diverging": [
            [
             0,
             "#8e0152"
            ],
            [
             0.1,
             "#c51b7d"
            ],
            [
             0.2,
             "#de77ae"
            ],
            [
             0.3,
             "#f1b6da"
            ],
            [
             0.4,
             "#fde0ef"
            ],
            [
             0.5,
             "#f7f7f7"
            ],
            [
             0.6,
             "#e6f5d0"
            ],
            [
             0.7,
             "#b8e186"
            ],
            [
             0.8,
             "#7fbc41"
            ],
            [
             0.9,
             "#4d9221"
            ],
            [
             1,
             "#276419"
            ]
           ],
           "sequential": [
            [
             0,
             "#0d0887"
            ],
            [
             0.1111111111111111,
             "#46039f"
            ],
            [
             0.2222222222222222,
             "#7201a8"
            ],
            [
             0.3333333333333333,
             "#9c179e"
            ],
            [
             0.4444444444444444,
             "#bd3786"
            ],
            [
             0.5555555555555556,
             "#d8576b"
            ],
            [
             0.6666666666666666,
             "#ed7953"
            ],
            [
             0.7777777777777778,
             "#fb9f3a"
            ],
            [
             0.8888888888888888,
             "#fdca26"
            ],
            [
             1,
             "#f0f921"
            ]
           ],
           "sequentialminus": [
            [
             0,
             "#0d0887"
            ],
            [
             0.1111111111111111,
             "#46039f"
            ],
            [
             0.2222222222222222,
             "#7201a8"
            ],
            [
             0.3333333333333333,
             "#9c179e"
            ],
            [
             0.4444444444444444,
             "#bd3786"
            ],
            [
             0.5555555555555556,
             "#d8576b"
            ],
            [
             0.6666666666666666,
             "#ed7953"
            ],
            [
             0.7777777777777778,
             "#fb9f3a"
            ],
            [
             0.8888888888888888,
             "#fdca26"
            ],
            [
             1,
             "#f0f921"
            ]
           ]
          },
          "colorway": [
           "#636efa",
           "#EF553B",
           "#00cc96",
           "#ab63fa",
           "#FFA15A",
           "#19d3f3",
           "#FF6692",
           "#B6E880",
           "#FF97FF",
           "#FECB52"
          ],
          "font": {
           "color": "#2a3f5f"
          },
          "geo": {
           "bgcolor": "white",
           "lakecolor": "white",
           "landcolor": "#E5ECF6",
           "showlakes": true,
           "showland": true,
           "subunitcolor": "white"
          },
          "hoverlabel": {
           "align": "left"
          },
          "hovermode": "closest",
          "mapbox": {
           "style": "light"
          },
          "paper_bgcolor": "white",
          "plot_bgcolor": "#E5ECF6",
          "polar": {
           "angularaxis": {
            "gridcolor": "white",
            "linecolor": "white",
            "ticks": ""
           },
           "bgcolor": "#E5ECF6",
           "radialaxis": {
            "gridcolor": "white",
            "linecolor": "white",
            "ticks": ""
           }
          },
          "scene": {
           "xaxis": {
            "backgroundcolor": "#E5ECF6",
            "gridcolor": "white",
            "gridwidth": 2,
            "linecolor": "white",
            "showbackground": true,
            "ticks": "",
            "zerolinecolor": "white"
           },
           "yaxis": {
            "backgroundcolor": "#E5ECF6",
            "gridcolor": "white",
            "gridwidth": 2,
            "linecolor": "white",
            "showbackground": true,
            "ticks": "",
            "zerolinecolor": "white"
           },
           "zaxis": {
            "backgroundcolor": "#E5ECF6",
            "gridcolor": "white",
            "gridwidth": 2,
            "linecolor": "white",
            "showbackground": true,
            "ticks": "",
            "zerolinecolor": "white"
           }
          },
          "shapedefaults": {
           "line": {
            "color": "#2a3f5f"
           }
          },
          "ternary": {
           "aaxis": {
            "gridcolor": "white",
            "linecolor": "white",
            "ticks": ""
           },
           "baxis": {
            "gridcolor": "white",
            "linecolor": "white",
            "ticks": ""
           },
           "bgcolor": "#E5ECF6",
           "caxis": {
            "gridcolor": "white",
            "linecolor": "white",
            "ticks": ""
           }
          },
          "title": {
           "x": 0.05
          },
          "xaxis": {
           "automargin": true,
           "gridcolor": "white",
           "linecolor": "white",
           "ticks": "",
           "title": {
            "standoff": 15
           },
           "zerolinecolor": "white",
           "zerolinewidth": 2
          },
          "yaxis": {
           "automargin": true,
           "gridcolor": "white",
           "linecolor": "white",
           "ticks": "",
           "title": {
            "standoff": 15
           },
           "zerolinecolor": "white",
           "zerolinewidth": 2
          }
         }
        },
        "updatemenus": [
         {
          "active": 0,
          "buttons": [
           {
            "args": [
             null
            ],
            "label": "Play",
            "method": "animate"
           }
          ],
          "type": "buttons"
         }
        ]
       }
      },
      "image/png": "[encoded data removed]",
      "text/html": [
       "<div>\n",
       "        \n",
       "        \n",
       "            <div id=\"8d13f609-667d-4aa2-8ec7-3f6526202cb5\" class=\"plotly-graph-div\" style=\"height:525px; width:100%;\"></div>\n",
       "            <script type=\"text/javascript\">\n",
       "                require([\"plotly\"], function(Plotly) {\n",
       "                    window.PLOTLYENV=window.PLOTLYENV || {};\n",
       "                    \n",
       "                if (document.getElementById(\"8d13f609-667d-4aa2-8ec7-3f6526202cb5\")) {\n",
       "                    Plotly.newPlot(\n",
       "                        '8d13f609-667d-4aa2-8ec7-3f6526202cb5',\n",
       "                        [{\"hoverinfo\": \"text\", \"lat\": [-34.560063, -31.4135, -27.483745000000003, -26.18129, -34.920879, -29.416017999999998, -32.890840000000004, -38.948093, -31.735546999999997, -27.38225, -43.298843, -27.426056, -51.627644000000004, -28.470552, -26.824140000000003, -24.192795, -24.793298999999998, -31.539365000000004, -33.29643, -31.630437, -36.619642, -27.803519, -54.818684999999995, -40.815129999999996], \"lon\": [-58.390526, -64.18105, -58.812996, -58.190585999999996, -57.954325, -66.872266, -68.82717, -68.07764399999999, -60.524664, -55.92013000000001, -65.092815, -58.988848, -69.242917, -65.78580500000001, -65.2226, -65.29888299999999, -65.41314, -68.534052, -66.320661, -60.705592, -64.285102, -64.26808100000001, -68.32900500000001, -62.995335], \"text\": [\"Cdad. de Bs. As.\", \"C\\u00f3rdoba\", \"Corrientes\", \"Formosa\", \"La Plata\", \"La Rioja\", \"Mendoza\", \"Neuquen\", \"Paran\\u00e1\", \"Posadas\", \"Rawson\", \"Resistencia\", \"R\\u00edo Gallegos\", \"S.F.d.V.d. Catamarca\", \"S.M. de Tucum\\u00e1n\", \"S.S. de Jujuy\", \"Salta\", \"San Juan\", \"San Luis\", \"Santa Fe\", \"Santa Rosa\", \"Sgo. del Estero\", \"Ushuaia\", \"Viedma\"], \"type\": \"scattermapbox\"}],\n",
       "                        {\"autosize\": true, \"hovermode\": \"closest\", \"mapbox\": {\"center\": {\"lat\": -35.876958, \"lon\": -65.293389}, \"style\": \"open-street-map\", \"zoom\": 3}, \"margin\": {\"b\": 0, \"l\": 0, \"r\": 0, \"t\": 0}, \"sliders\": [{\"active\": 0, \"currentvalue\": {\"font\": {\"size\": 20}, \"visible\": true, \"xanchor\": \"right\"}, \"len\": 0.9, \"pad\": {\"b\": 10, \"t\": 50}, \"steps\": [{\"args\": [{\"frame\": {\"duration\": 300, \"redraw\": false}, \"mode\": \"immediate\"}], \"label\": \"Cdad. de Bs. As.\", \"method\": \"animate\"}, {\"args\": [{\"frame\": {\"duration\": 300, \"redraw\": false}, \"mode\": \"immediate\"}], \"label\": \"C\\u00f3rdoba\", \"method\": \"animate\"}, {\"args\": [{\"frame\": {\"duration\": 300, \"redraw\": false}, \"mode\": \"immediate\"}], \"label\": \"Corrientes\", \"method\": \"animate\"}, {\"args\": [{\"frame\": {\"duration\": 300, \"redraw\": false}, \"mode\": \"immediate\"}], \"label\": \"Formosa\", \"method\": \"animate\"}, {\"args\": [{\"frame\": {\"duration\": 300, \"redraw\": false}, \"mode\": \"immediate\"}], \"label\": \"La Plata\", \"method\": \"animate\"}, {\"args\": [{\"frame\": {\"duration\": 300, \"redraw\": false}, \"mode\": \"immediate\"}], \"label\": \"La Rioja\", \"method\": \"animate\"}, {\"args\": [{\"frame\": {\"duration\": 300, \"redraw\": false}, \"mode\": \"immediate\"}], \"label\": \"Mendoza\", \"method\": \"animate\"}, {\"args\": [{\"frame\": {\"duration\": 300, \"redraw\": false}, \"mode\": \"immediate\"}], \"label\": \"Neuquen\", \"method\": \"animate\"}, {\"args\": [{\"frame\": {\"duration\": 300, \"redraw\": false}, \"mode\": \"immediate\"}], \"label\": \"Paran\\u00e1\", \"method\": \"animate\"}, {\"args\": [{\"frame\": {\"duration\": 300, \"redraw\": false}, \"mode\": \"immediate\"}], \"label\": \"Posadas\", \"method\": \"animate\"}, {\"args\": [{\"frame\": {\"duration\": 300, \"redraw\": false}, \"mode\": \"immediate\"}], \"label\": \"Rawson\", \"method\": \"animate\"}, {\"args\": [{\"frame\": {\"duration\": 300, \"redraw\": false}, \"mode\": \"immediate\"}], \"label\": \"Resistencia\", \"method\": \"animate\"}, {\"args\": [{\"frame\": {\"duration\": 300, \"redraw\": false}, \"mode\": \"immediate\"}], \"label\": \"R\\u00edo Gallegos\", \"method\": \"animate\"}, {\"args\": [{\"frame\": {\"duration\": 300, \"redraw\": false}, \"mode\": \"immediate\"}], \"label\": \"S.F.d.V.d. Catamarca\", \"method\": \"animate\"}, {\"args\": [{\"frame\": {\"duration\": 300, \"redraw\": false}, \"mode\": \"immediate\"}], \"label\": \"S.M. de Tucum\\u00e1n\", \"method\": \"animate\"}, {\"args\": [{\"frame\": {\"duration\": 300, \"redraw\": false}, \"mode\": \"immediate\"}], \"label\": \"S.S. de Jujuy\", \"method\": \"animate\"}, {\"args\": [{\"frame\": {\"duration\": 300, \"redraw\": false}, \"mode\": \"immediate\"}], \"label\": \"Salta\", \"method\": \"animate\"}, {\"args\": [{\"frame\": {\"duration\": 300, \"redraw\": false}, \"mode\": \"immediate\"}], \"label\": \"San Juan\", \"method\": \"animate\"}, {\"args\": [{\"frame\": {\"duration\": 300, \"redraw\": false}, \"mode\": \"immediate\"}], \"label\": \"San Luis\", \"method\": \"animate\"}, {\"args\": [{\"frame\": {\"duration\": 300, \"redraw\": false}, \"mode\": \"immediate\"}], \"label\": \"Santa Fe\", \"method\": \"animate\"}, {\"args\": [{\"frame\": {\"duration\": 300, \"redraw\": false}, \"mode\": \"immediate\"}], \"label\": \"Santa Rosa\", \"method\": \"animate\"}, {\"args\": [{\"frame\": {\"duration\": 300, \"redraw\": false}, \"mode\": \"immediate\"}], \"label\": \"Sgo. del Estero\", \"method\": \"animate\"}, {\"args\": [{\"frame\": {\"duration\": 300, \"redraw\": false}, \"mode\": \"immediate\"}], \"label\": \"Ushuaia\", \"method\": \"animate\"}, {\"args\": [{\"frame\": {\"duration\": 300, \"redraw\": false}, \"mode\": \"immediate\"}], \"label\": \"Viedma\", \"method\": \"animate\"}], \"transition\": {\"duration\": 300, \"easing\": \"cubic-in-out\"}, \"x\": 0.1, \"xanchor\": \"left\", \"y\": 0, \"yanchor\": \"top\"}], \"template\": {\"data\": {\"bar\": [{\"error_x\": {\"color\": \"#2a3f5f\"}, \"error_y\": {\"color\": \"#2a3f5f\"}, \"marker\": {\"line\": {\"color\": \"#E5ECF6\", \"width\": 0.5}}, \"type\": \"bar\"}], \"barpolar\": [{\"marker\": {\"line\": {\"color\": \"#E5ECF6\", \"width\": 0.5}}, \"type\": \"barpolar\"}], \"carpet\": [{\"aaxis\": {\"endlinecolor\": \"#2a3f5f\", \"gridcolor\": \"white\", \"linecolor\": \"white\", \"minorgridcolor\": \"white\", \"startlinecolor\": \"#2a3f5f\"}, \"baxis\": {\"endlinecolor\": \"#2a3f5f\", \"gridcolor\": \"white\", \"linecolor\": \"white\", \"minorgridcolor\": \"white\", \"startlinecolor\": \"#2a3f5f\"}, \"type\": \"carpet\"}], \"choropleth\": [{\"colorbar\": {\"outlinewidth\": 0, \"ticks\": \"\"}, \"type\": \"choropleth\"}], \"contour\": [{\"colorbar\": {\"outlinewidth\": 0, \"ticks\": \"\"}, \"colorscale\": [[0.0, \"#0d0887\"], [0.1111111111111111, \"#46039f\"], [0.2222222222222222, \"#7201a8\"], [0.3333333333333333, \"#9c179e\"], [0.4444444444444444, \"#bd3786\"], [0.5555555555555556, \"#d8576b\"], [0.6666666666666666, \"#ed7953\"], [0.7777777777777778, \"#fb9f3a\"], [0.8888888888888888, \"#fdca26\"], [1.0, \"#f0f921\"]], \"type\": \"contour\"}], \"contourcarpet\": [{\"colorbar\": {\"outlinewidth\": 0, \"ticks\": \"\"}, \"type\": \"contourcarpet\"}], \"heatmap\": [{\"colorbar\": {\"outlinewidth\": 0, \"ticks\": \"\"}, \"colorscale\": [[0.0, \"#0d0887\"], [0.1111111111111111, \"#46039f\"], [0.2222222222222222, \"#7201a8\"], [0.3333333333333333, \"#9c179e\"], [0.4444444444444444, \"#bd3786\"], [0.5555555555555556, \"#d8576b\"], [0.6666666666666666, \"#ed7953\"], [0.7777777777777778, \"#fb9f3a\"], [0.8888888888888888, \"#fdca26\"], [1.0, \"#f0f921\"]], \"type\": \"heatmap\"}], \"heatmapgl\": [{\"colorbar\": {\"outlinewidth\": 0, \"ticks\": \"\"}, \"colorscale\": [[0.0, \"#0d0887\"], [0.1111111111111111, \"#46039f\"], [0.2222222222222222, \"#7201a8\"], [0.3333333333333333, \"#9c179e\"], [0.4444444444444444, \"#bd3786\"], [0.5555555555555556, \"#d8576b\"], [0.6666666666666666, \"#ed7953\"], [0.7777777777777778, \"#fb9f3a\"], [0.8888888888888888, \"#fdca26\"], [1.0, \"#f0f921\"]], \"type\": \"heatmapgl\"}], \"histogram\": [{\"marker\": {\"colorbar\": {\"outlinewidth\": 0, \"ticks\": \"\"}}, \"type\": \"histogram\"}], \"histogram2d\": [{\"colorbar\": {\"outlinewidth\": 0, \"ticks\": \"\"}, \"colorscale\": [[0.0, \"#0d0887\"], [0.1111111111111111, \"#46039f\"], [0.2222222222222222, \"#7201a8\"], [0.3333333333333333, \"#9c179e\"], [0.4444444444444444, \"#bd3786\"], [0.5555555555555556, \"#d8576b\"], [0.6666666666666666, \"#ed7953\"], [0.7777777777777778, \"#fb9f3a\"], [0.8888888888888888, \"#fdca26\"], [1.0, \"#f0f921\"]], \"type\": \"histogram2d\"}], \"histogram2dcontour\": [{\"colorbar\": {\"outlinewidth\": 0, \"ticks\": \"\"}, \"colorscale\": [[0.0, \"#0d0887\"], [0.1111111111111111, \"#46039f\"], [0.2222222222222222, \"#7201a8\"], [0.3333333333333333, \"#9c179e\"], [0.4444444444444444, \"#bd3786\"], [0.5555555555555556, \"#d8576b\"], [0.6666666666666666, \"#ed7953\"], [0.7777777777777778, \"#fb9f3a\"], [0.8888888888888888, \"#fdca26\"], [1.0, \"#f0f921\"]], \"type\": \"histogram2dcontour\"}], \"mesh3d\": [{\"colorbar\": {\"outlinewidth\": 0, \"ticks\": \"\"}, \"type\": \"mesh3d\"}], \"parcoords\": [{\"line\": {\"colorbar\": {\"outlinewidth\": 0, \"ticks\": \"\"}}, \"type\": \"parcoords\"}], \"pie\": [{\"automargin\": true, \"type\": \"pie\"}], \"scatter\": [{\"marker\": {\"colorbar\": {\"outlinewidth\": 0, \"ticks\": \"\"}}, \"type\": \"scatter\"}], \"scatter3d\": [{\"line\": {\"colorbar\": {\"outlinewidth\": 0, \"ticks\": \"\"}}, \"marker\": {\"colorbar\": {\"outlinewidth\": 0, \"ticks\": \"\"}}, \"type\": \"scatter3d\"}], \"scattercarpet\": [{\"marker\": {\"colorbar\": {\"outlinewidth\": 0, \"ticks\": \"\"}}, \"type\": \"scattercarpet\"}], \"scattergeo\": [{\"marker\": {\"colorbar\": {\"outlinewidth\": 0, \"ticks\": \"\"}}, \"type\": \"scattergeo\"}], \"scattergl\": [{\"marker\": {\"colorbar\": {\"outlinewidth\": 0, \"ticks\": \"\"}}, \"type\": \"scattergl\"}], \"scattermapbox\": [{\"marker\": {\"colorbar\": {\"outlinewidth\": 0, \"ticks\": \"\"}}, \"type\": \"scattermapbox\"}], \"scatterpolar\": [{\"marker\": {\"colorbar\": {\"outlinewidth\": 0, \"ticks\": \"\"}}, \"type\": \"scatterpolar\"}], \"scatterpolargl\": [{\"marker\": {\"colorbar\": {\"outlinewidth\": 0, \"ticks\": \"\"}}, \"type\": \"scatterpolargl\"}], \"scatterternary\": [{\"marker\": {\"colorbar\": {\"outlinewidth\": 0, \"ticks\": \"\"}}, \"type\": \"scatterternary\"}], \"surface\": [{\"colorbar\": {\"outlinewidth\": 0, \"ticks\": \"\"}, \"colorscale\": [[0.0, \"#0d0887\"], [0.1111111111111111, \"#46039f\"], [0.2222222222222222, \"#7201a8\"], [0.3333333333333333, \"#9c179e\"], [0.4444444444444444, \"#bd3786\"], [0.5555555555555556, \"#d8576b\"], [0.6666666666666666, \"#ed7953\"], [0.7777777777777778, \"#fb9f3a\"], [0.8888888888888888, \"#fdca26\"], [1.0, \"#f0f921\"]], \"type\": \"surface\"}], \"table\": [{\"cells\": {\"fill\": {\"color\": \"#EBF0F8\"}, \"line\": {\"color\": \"white\"}}, \"header\": {\"fill\": {\"color\": \"#C8D4E3\"}, \"line\": {\"color\": \"white\"}}, \"type\": \"table\"}]}, \"layout\": {\"annotationdefaults\": {\"arrowcolor\": \"#2a3f5f\", \"arrowhead\": 0, \"arrowwidth\": 1}, \"coloraxis\": {\"colorbar\": {\"outlinewidth\": 0, \"ticks\": \"\"}}, \"colorscale\": {\"diverging\": [[0, \"#8e0152\"], [0.1, \"#c51b7d\"], [0.2, \"#de77ae\"], [0.3, \"#f1b6da\"], [0.4, \"#fde0ef\"], [0.5, \"#f7f7f7\"], [0.6, \"#e6f5d0\"], [0.7, \"#b8e186\"], [0.8, \"#7fbc41\"], [0.9, \"#4d9221\"], [1, \"#276419\"]], \"sequential\": [[0.0, \"#0d0887\"], [0.1111111111111111, \"#46039f\"], [0.2222222222222222, \"#7201a8\"], [0.3333333333333333, \"#9c179e\"], [0.4444444444444444, \"#bd3786\"], [0.5555555555555556, \"#d8576b\"], [0.6666666666666666, \"#ed7953\"], [0.7777777777777778, \"#fb9f3a\"], [0.8888888888888888, \"#fdca26\"], [1.0, \"#f0f921\"]], \"sequentialminus\": [[0.0, \"#0d0887\"], [0.1111111111111111, \"#46039f\"], [0.2222222222222222, \"#7201a8\"], [0.3333333333333333, \"#9c179e\"], [0.4444444444444444, \"#bd3786\"], [0.5555555555555556, \"#d8576b\"], [0.6666666666666666, \"#ed7953\"], [0.7777777777777778, \"#fb9f3a\"], [0.8888888888888888, \"#fdca26\"], [1.0, \"#f0f921\"]]}, \"colorway\": [\"#636efa\", \"#EF553B\", \"#00cc96\", \"#ab63fa\", \"#FFA15A\", \"#19d3f3\", \"#FF6692\", \"#B6E880\", \"#FF97FF\", \"#FECB52\"], \"font\": {\"color\": \"#2a3f5f\"}, \"geo\": {\"bgcolor\": \"white\", \"lakecolor\": \"white\", \"landcolor\": \"#E5ECF6\", \"showlakes\": true, \"showland\": true, \"subunitcolor\": \"white\"}, \"hoverlabel\": {\"align\": \"left\"}, \"hovermode\": \"closest\", \"mapbox\": {\"style\": \"light\"}, \"paper_bgcolor\": \"white\", \"plot_bgcolor\": \"#E5ECF6\", \"polar\": {\"angularaxis\": {\"gridcolor\": \"white\", \"linecolor\": \"white\", \"ticks\": \"\"}, \"bgcolor\": \"#E5ECF6\", \"radialaxis\": {\"gridcolor\": \"white\", \"linecolor\": \"white\", \"ticks\": \"\"}}, \"scene\": {\"xaxis\": {\"backgroundcolor\": \"#E5ECF6\", \"gridcolor\": \"white\", \"gridwidth\": 2, \"linecolor\": \"white\", \"showbackground\": true, \"ticks\": \"\", \"zerolinecolor\": \"white\"}, \"yaxis\": {\"backgroundcolor\": \"#E5ECF6\", \"gridcolor\": \"white\", \"gridwidth\": 2, \"linecolor\": \"white\", \"showbackground\": true, \"ticks\": \"\", \"zerolinecolor\": \"white\"}, \"zaxis\": {\"backgroundcolor\": \"#E5ECF6\", \"gridcolor\": \"white\", \"gridwidth\": 2, \"linecolor\": \"white\", \"showbackground\": true, \"ticks\": \"\", \"zerolinecolor\": \"white\"}}, \"shapedefaults\": {\"line\": {\"color\": \"#2a3f5f\"}}, \"ternary\": {\"aaxis\": {\"gridcolor\": \"white\", \"linecolor\": \"white\", \"ticks\": \"\"}, \"baxis\": {\"gridcolor\": \"white\", \"linecolor\": \"white\", \"ticks\": \"\"}, \"bgcolor\": \"#E5ECF6\", \"caxis\": {\"gridcolor\": \"white\", \"linecolor\": \"white\", \"ticks\": \"\"}}, \"title\": {\"x\": 0.05}, \"xaxis\": {\"automargin\": true, \"gridcolor\": \"white\", \"linecolor\": \"white\", \"ticks\": \"\", \"title\": {\"standoff\": 15}, \"zerolinecolor\": \"white\", \"zerolinewidth\": 2}, \"yaxis\": {\"automargin\": true, \"gridcolor\": \"white\", \"linecolor\": \"white\", \"ticks\": \"\", \"title\": {\"standoff\": 15}, \"zerolinecolor\": \"white\", \"zerolinewidth\": 2}}}, \"updatemenus\": [{\"buttons\": [{\"args\": [null], \"label\": \"Play\", \"method\": \"animate\"}], \"type\": \"buttons\"}]},\n",
       "                        {\"responsive\": true}\n",
       "                    ).then(function(){\n",
       "                            Plotly.addFrames('8d13f609-667d-4aa2-8ec7-3f6526202cb5', [{\"data\": [{\"lat\": [-34.560063, -31.4135], \"lon\": [-58.390526, -64.18105], \"mode\": \"lines\", \"type\": \"scattermapbox\"}]}, {\"data\": [{\"lat\": [-31.4135, -27.483745000000003], \"lon\": [-64.18105, -58.812996], \"mode\": \"lines\", \"type\": \"scattermapbox\"}]}, {\"data\": [{\"lat\": [-27.483745000000003, -26.18129], \"lon\": [-58.812996, -58.190585999999996], \"mode\": \"lines\", \"type\": \"scattermapbox\"}]}]);\n",
       "                        }).then(function(){\n",
       "                            \n",
       "var gd = document.getElementById('8d13f609-667d-4aa2-8ec7-3f6526202cb5');\n",
       "var x = new MutationObserver(function (mutations, observer) {{\n",
       "        var display = window.getComputedStyle(gd).display;\n",
       "        if (!display || display === 'none') {{\n",
       "            console.log([gd, 'removed!']);\n",
       "            Plotly.purge(gd);\n",
       "            observer.disconnect();\n",
       "        }}\n",
       "}});\n",
       "\n",
       "// Listen for the removal of the full notebook cells\n",
       "var notebookContainer = gd.closest('#notebook-container');\n",
       "if (notebookContainer) {{\n",
       "    x.observe(notebookContainer, {childList: true});\n",
       "}}\n",
       "\n",
       "// Listen for the clearing of the current output cell\n",
       "var outputEl = gd.closest('.output');\n",
       "if (outputEl) {{\n",
       "    x.observe(outputEl, {childList: true});\n",
       "}}\n",
       "\n",
       "                        })\n",
       "                };\n",
       "                });\n",
       "            </script>\n",
       "        </div>"
      ]
     },
     "metadata": {},
     "output_type": "display_data"
    }
   ],
   "source": [
    "# primero, dibujo los cuadros que se animarán, cada uno es un mapa que tiene más trayectorias que el anterior\n",
    "\n",
    "\n",
    "# dibujo la figura, y le asigno los cuadros\n",
    "fig = go.Figure(\n",
    "    data=go.Scattermapbox(\n",
    "        lat=cap['latitud'], \n",
    "        lon=cap['longitud'],\n",
    "        text=cap['capital'],\n",
    "        hoverinfo='text'\n",
    "    ),\n",
    "    layout=go.Layout( #dibujo el boton de play\n",
    "        updatemenus=[dict(\n",
    "            type=\"buttons\",\n",
    "            buttons=[dict(\n",
    "                label=\"Play\",\n",
    "                method=\"animate\",\n",
    "                args=[None])])],\n",
    "    ),\n",
    "    frames=frames\n",
    ")\n",
    "\n",
    "steps = [{\n",
    "    'method': 'animate',\n",
    "    'label': cap['capital'][k],\n",
    "    'args': [{'frame': {'duration': 300, 'redraw': False},\n",
    "         'mode': 'immediate'}\n",
    "    ],\n",
    "} for k in range(len(cap))]\n",
    "\n",
    "fig['layout']['sliders'] = [{\n",
    "    'active': 0,\n",
    "    'yanchor': 'top',\n",
    "    'xanchor': 'left',\n",
    "    'currentvalue': {\n",
    "        'font': {'size': 20},\n",
    "        'visible': True,\n",
    "        'xanchor': 'right'\n",
    "    },\n",
    "    'transition': {'duration': 300, 'easing': 'cubic-in-out'},\n",
    "    'pad': {'b': 10, 't': 50},\n",
    "    'len': 0.9,\n",
    "    'x': 0.1,\n",
    "    'y': 0,\n",
    "    'steps': steps\n",
    "}]\n",
    "\n",
    "\n",
    "fig.update_layout(margin={\"r\":0,\"t\":0,\"l\":0,\"b\":0})\n",
    "fig.update_layout(mapbox_style=\"open-street-map\")\n",
    "fig.update_layout(\n",
    "    autosize=True,\n",
    "    hovermode='closest',\n",
    "    mapbox=dict(\n",
    "        center=dict(\n",
    "            lat=-35.876958,\n",
    "            lon=-65.293389\n",
    "        ),\n",
    "        zoom=3\n",
    "    ),\n",
    ")\n",
    "fig.show()"
   ]
  },
  {
   "cell_type": "code",
   "execution_count": 125,
   "metadata": {},
   "outputs": [
    {
     "data": {
      "application/vnd.plotly.v1+json": {
       "config": {
        "plotlyServerURL": "https://plot.ly"
       },
       "data": [
        {
         "hoverinfo": "text",
         "lat": [
          -27.426056,
          -51.627644000000004
         ],
         "lon": [
          -58.988848,
          -69.242917
         ],
         "mode": "lines",
         "text": [
          "Cdad. de Bs. As.",
          "Córdoba",
          "Corrientes",
          "Formosa",
          "La Plata",
          "La Rioja",
          "Mendoza",
          "Neuquen",
          "Paraná",
          "Posadas",
          "Rawson",
          "Resistencia",
          "Río Gallegos",
          "S.F.d.V.d. Catamarca",
          "S.M. de Tucumán",
          "S.S. de Jujuy",
          "Salta",
          "San Juan",
          "San Luis",
          "Santa Fe",
          "Santa Rosa",
          "Sgo. del Estero",
          "Ushuaia",
          "Viedma"
         ],
         "type": "scattermapbox"
        }
       ],
       "frames": [
        {
         "data": [
          {
           "lat": [
            -34.560063,
            -31.4135
           ],
           "lon": [
            -58.390526,
            -64.18105
           ],
           "mode": "lines",
           "type": "scattermapbox"
          }
         ],
         "name": "frame0"
        },
        {
         "data": [
          {
           "lat": [
            -31.4135,
            -27.483745000000003
           ],
           "lon": [
            -64.18105,
            -58.812996
           ],
           "mode": "lines",
           "type": "scattermapbox"
          }
         ],
         "name": "frame1"
        },
        {
         "data": [
          {
           "lat": [
            -27.483745000000003,
            -26.18129
           ],
           "lon": [
            -58.812996,
            -58.190585999999996
           ],
           "mode": "lines",
           "type": "scattermapbox"
          }
         ],
         "name": "frame2"
        },
        {
         "data": [
          {
           "lat": [
            -26.18129,
            -34.920879
           ],
           "lon": [
            -58.190585999999996,
            -57.954325
           ],
           "mode": "lines",
           "type": "scattermapbox"
          }
         ],
         "name": "frame3"
        },
        {
         "data": [
          {
           "lat": [
            -34.920879,
            -29.416017999999998
           ],
           "lon": [
            -57.954325,
            -66.872266
           ],
           "mode": "lines",
           "type": "scattermapbox"
          }
         ],
         "name": "frame4"
        },
        {
         "data": [
          {
           "lat": [
            -29.416017999999998,
            -32.890840000000004
           ],
           "lon": [
            -66.872266,
            -68.82717
           ],
           "mode": "lines",
           "type": "scattermapbox"
          }
         ],
         "name": "frame5"
        },
        {
         "data": [
          {
           "lat": [
            -32.890840000000004,
            -38.948093
           ],
           "lon": [
            -68.82717,
            -68.07764399999999
           ],
           "mode": "lines",
           "type": "scattermapbox"
          }
         ],
         "name": "frame6"
        },
        {
         "data": [
          {
           "lat": [
            -38.948093,
            -31.735546999999997
           ],
           "lon": [
            -68.07764399999999,
            -60.524664
           ],
           "mode": "lines",
           "type": "scattermapbox"
          }
         ],
         "name": "frame7"
        },
        {
         "data": [
          {
           "lat": [
            -31.735546999999997,
            -27.38225
           ],
           "lon": [
            -60.524664,
            -55.92013000000001
           ],
           "mode": "lines",
           "type": "scattermapbox"
          }
         ],
         "name": "frame8"
        },
        {
         "data": [
          {
           "lat": [
            -27.38225,
            -43.298843
           ],
           "lon": [
            -55.92013000000001,
            -65.092815
           ],
           "mode": "lines",
           "type": "scattermapbox"
          }
         ],
         "name": "frame9"
        },
        {
         "data": [
          {
           "lat": [
            -43.298843,
            -27.426056
           ],
           "lon": [
            -65.092815,
            -58.988848
           ],
           "mode": "lines",
           "type": "scattermapbox"
          }
         ],
         "name": "frame10"
        },
        {
         "data": [
          {
           "lat": [
            -27.426056,
            -51.627644000000004
           ],
           "lon": [
            -58.988848,
            -69.242917
           ],
           "mode": "lines",
           "type": "scattermapbox"
          }
         ],
         "name": "frame11"
        },
        {
         "data": [
          {
           "lat": [
            -51.627644000000004,
            -28.470552
           ],
           "lon": [
            -69.242917,
            -65.78580500000001
           ],
           "mode": "lines",
           "type": "scattermapbox"
          }
         ],
         "name": "frame12"
        },
        {
         "data": [
          {
           "lat": [
            -28.470552,
            -26.824140000000003
           ],
           "lon": [
            -65.78580500000001,
            -65.2226
           ],
           "mode": "lines",
           "type": "scattermapbox"
          }
         ],
         "name": "frame13"
        },
        {
         "data": [
          {
           "lat": [
            -26.824140000000003,
            -24.192795
           ],
           "lon": [
            -65.2226,
            -65.29888299999999
           ],
           "mode": "lines",
           "type": "scattermapbox"
          }
         ],
         "name": "frame14"
        },
        {
         "data": [
          {
           "lat": [
            -24.192795,
            -24.793298999999998
           ],
           "lon": [
            -65.29888299999999,
            -65.41314
           ],
           "mode": "lines",
           "type": "scattermapbox"
          }
         ],
         "name": "frame15"
        },
        {
         "data": [
          {
           "lat": [
            -24.793298999999998,
            -31.539365000000004
           ],
           "lon": [
            -65.41314,
            -68.534052
           ],
           "mode": "lines",
           "type": "scattermapbox"
          }
         ],
         "name": "frame16"
        },
        {
         "data": [
          {
           "lat": [
            -31.539365000000004,
            -33.29643
           ],
           "lon": [
            -68.534052,
            -66.320661
           ],
           "mode": "lines",
           "type": "scattermapbox"
          }
         ],
         "name": "frame17"
        },
        {
         "data": [
          {
           "lat": [
            -33.29643,
            -31.630437
           ],
           "lon": [
            -66.320661,
            -60.705592
           ],
           "mode": "lines",
           "type": "scattermapbox"
          }
         ],
         "name": "frame18"
        },
        {
         "data": [
          {
           "lat": [
            -31.630437,
            -36.619642
           ],
           "lon": [
            -60.705592,
            -64.285102
           ],
           "mode": "lines",
           "type": "scattermapbox"
          }
         ],
         "name": "frame19"
        },
        {
         "data": [
          {
           "lat": [
            -36.619642,
            -27.803519
           ],
           "lon": [
            -64.285102,
            -64.26808100000001
           ],
           "mode": "lines",
           "type": "scattermapbox"
          }
         ],
         "name": "frame20"
        },
        {
         "data": [
          {
           "lat": [
            -27.803519,
            -54.818684999999995
           ],
           "lon": [
            -64.26808100000001,
            -68.32900500000001
           ],
           "mode": "lines",
           "type": "scattermapbox"
          }
         ],
         "name": "frame21"
        },
        {
         "data": [
          {
           "lat": [
            -54.818684999999995,
            -40.815129999999996
           ],
           "lon": [
            -68.32900500000001,
            -62.995335
           ],
           "mode": "lines",
           "type": "scattermapbox"
          }
         ],
         "name": "frame22"
        }
       ],
       "layout": {
        "autosize": true,
        "hovermode": "closest",
        "mapbox": {
         "bearing": 0,
         "center": {
          "lat": -43.83412795513993,
          "lon": -63.11413475830028
         },
         "pitch": 0,
         "style": "open-street-map",
         "zoom": 2.5976729761254593
        },
        "margin": {
         "b": 0,
         "l": 0,
         "r": 0,
         "t": 0
        },
        "sliders": [
         {
          "active": 11,
          "currentvalue": {
           "font": {
            "size": 12
           },
           "prefix": "Capital: ",
           "visible": true,
           "xanchor": "center"
          },
          "len": 1,
          "steps": [
           {
            "args": [
             [
              "frame0"
             ],
             {
              "frame": {
               "duration": 400,
               "redraw": true
              },
              "mode": "immediate",
              "transition": {
               "duration": 0
              }
             }
            ],
            "label": "Cdad. de Bs. As.",
            "method": "animate"
           },
           {
            "args": [
             [
              "frame1"
             ],
             {
              "frame": {
               "duration": 400,
               "redraw": true
              },
              "mode": "immediate",
              "transition": {
               "duration": 0
              }
             }
            ],
            "label": "Córdoba",
            "method": "animate"
           },
           {
            "args": [
             [
              "frame2"
             ],
             {
              "frame": {
               "duration": 400,
               "redraw": true
              },
              "mode": "immediate",
              "transition": {
               "duration": 0
              }
             }
            ],
            "label": "Corrientes",
            "method": "animate"
           },
           {
            "args": [
             [
              "frame3"
             ],
             {
              "frame": {
               "duration": 400,
               "redraw": true
              },
              "mode": "immediate",
              "transition": {
               "duration": 0
              }
             }
            ],
            "label": "Formosa",
            "method": "animate"
           },
           {
            "args": [
             [
              "frame4"
             ],
             {
              "frame": {
               "duration": 400,
               "redraw": true
              },
              "mode": "immediate",
              "transition": {
               "duration": 0
              }
             }
            ],
            "label": "La Plata",
            "method": "animate"
           },
           {
            "args": [
             [
              "frame5"
             ],
             {
              "frame": {
               "duration": 400,
               "redraw": true
              },
              "mode": "immediate",
              "transition": {
               "duration": 0
              }
             }
            ],
            "label": "La Rioja",
            "method": "animate"
           },
           {
            "args": [
             [
              "frame6"
             ],
             {
              "frame": {
               "duration": 400,
               "redraw": true
              },
              "mode": "immediate",
              "transition": {
               "duration": 0
              }
             }
            ],
            "label": "Mendoza",
            "method": "animate"
           },
           {
            "args": [
             [
              "frame7"
             ],
             {
              "frame": {
               "duration": 400,
               "redraw": true
              },
              "mode": "immediate",
              "transition": {
               "duration": 0
              }
             }
            ],
            "label": "Neuquen",
            "method": "animate"
           },
           {
            "args": [
             [
              "frame8"
             ],
             {
              "frame": {
               "duration": 400,
               "redraw": true
              },
              "mode": "immediate",
              "transition": {
               "duration": 0
              }
             }
            ],
            "label": "Paraná",
            "method": "animate"
           },
           {
            "args": [
             [
              "frame9"
             ],
             {
              "frame": {
               "duration": 400,
               "redraw": true
              },
              "mode": "immediate",
              "transition": {
               "duration": 0
              }
             }
            ],
            "label": "Posadas",
            "method": "animate"
           },
           {
            "args": [
             [
              "frame10"
             ],
             {
              "frame": {
               "duration": 400,
               "redraw": true
              },
              "mode": "immediate",
              "transition": {
               "duration": 0
              }
             }
            ],
            "label": "Rawson",
            "method": "animate"
           },
           {
            "args": [
             [
              "frame11"
             ],
             {
              "frame": {
               "duration": 400,
               "redraw": true
              },
              "mode": "immediate",
              "transition": {
               "duration": 0
              }
             }
            ],
            "label": "Resistencia",
            "method": "animate"
           },
           {
            "args": [
             [
              "frame12"
             ],
             {
              "frame": {
               "duration": 400,
               "redraw": true
              },
              "mode": "immediate",
              "transition": {
               "duration": 0
              }
             }
            ],
            "label": "Río Gallegos",
            "method": "animate"
           },
           {
            "args": [
             [
              "frame13"
             ],
             {
              "frame": {
               "duration": 400,
               "redraw": true
              },
              "mode": "immediate",
              "transition": {
               "duration": 0
              }
             }
            ],
            "label": "S.F.d.V.d. Catamarca",
            "method": "animate"
           },
           {
            "args": [
             [
              "frame14"
             ],
             {
              "frame": {
               "duration": 400,
               "redraw": true
              },
              "mode": "immediate",
              "transition": {
               "duration": 0
              }
             }
            ],
            "label": "S.M. de Tucumán",
            "method": "animate"
           },
           {
            "args": [
             [
              "frame15"
             ],
             {
              "frame": {
               "duration": 400,
               "redraw": true
              },
              "mode": "immediate",
              "transition": {
               "duration": 0
              }
             }
            ],
            "label": "S.S. de Jujuy",
            "method": "animate"
           },
           {
            "args": [
             [
              "frame16"
             ],
             {
              "frame": {
               "duration": 400,
               "redraw": true
              },
              "mode": "immediate",
              "transition": {
               "duration": 0
              }
             }
            ],
            "label": "Salta",
            "method": "animate"
           },
           {
            "args": [
             [
              "frame17"
             ],
             {
              "frame": {
               "duration": 400,
               "redraw": true
              },
              "mode": "immediate",
              "transition": {
               "duration": 0
              }
             }
            ],
            "label": "San Juan",
            "method": "animate"
           },
           {
            "args": [
             [
              "frame18"
             ],
             {
              "frame": {
               "duration": 400,
               "redraw": true
              },
              "mode": "immediate",
              "transition": {
               "duration": 0
              }
             }
            ],
            "label": "San Luis",
            "method": "animate"
           },
           {
            "args": [
             [
              "frame19"
             ],
             {
              "frame": {
               "duration": 400,
               "redraw": true
              },
              "mode": "immediate",
              "transition": {
               "duration": 0
              }
             }
            ],
            "label": "Santa Fe",
            "method": "animate"
           },
           {
            "args": [
             [
              "frame20"
             ],
             {
              "frame": {
               "duration": 400,
               "redraw": true
              },
              "mode": "immediate",
              "transition": {
               "duration": 0
              }
             }
            ],
            "label": "Santa Rosa",
            "method": "animate"
           },
           {
            "args": [
             [
              "frame21"
             ],
             {
              "frame": {
               "duration": 400,
               "redraw": true
              },
              "mode": "immediate",
              "transition": {
               "duration": 0
              }
             }
            ],
            "label": "Sgo. del Estero",
            "method": "animate"
           },
           {
            "args": [
             [
              "frame22"
             ],
             {
              "frame": {
               "duration": 400,
               "redraw": true
              },
              "mode": "immediate",
              "transition": {
               "duration": 0
              }
             }
            ],
            "label": "Ushuaia",
            "method": "animate"
           },
           {
            "args": [
             [
              "frame23"
             ],
             {
              "frame": {
               "duration": 400,
               "redraw": true
              },
              "mode": "immediate",
              "transition": {
               "duration": 0
              }
             }
            ],
            "label": "Viedma",
            "method": "animate"
           }
          ],
          "transition": {
           "duration": 500,
           "easing": "cubic-in-out"
          },
          "x": 0,
          "y": 0
         }
        ],
        "template": {
         "data": {
          "bar": [
           {
            "error_x": {
             "color": "#2a3f5f"
            },
            "error_y": {
             "color": "#2a3f5f"
            },
            "marker": {
             "line": {
              "color": "#E5ECF6",
              "width": 0.5
             }
            },
            "type": "bar"
           }
          ],
          "barpolar": [
           {
            "marker": {
             "line": {
              "color": "#E5ECF6",
              "width": 0.5
             }
            },
            "type": "barpolar"
           }
          ],
          "carpet": [
           {
            "aaxis": {
             "endlinecolor": "#2a3f5f",
             "gridcolor": "white",
             "linecolor": "white",
             "minorgridcolor": "white",
             "startlinecolor": "#2a3f5f"
            },
            "baxis": {
             "endlinecolor": "#2a3f5f",
             "gridcolor": "white",
             "linecolor": "white",
             "minorgridcolor": "white",
             "startlinecolor": "#2a3f5f"
            },
            "type": "carpet"
           }
          ],
          "choropleth": [
           {
            "colorbar": {
             "outlinewidth": 0,
             "ticks": ""
            },
            "type": "choropleth"
           }
          ],
          "contour": [
           {
            "colorbar": {
             "outlinewidth": 0,
             "ticks": ""
            },
            "colorscale": [
             [
              0,
              "#0d0887"
             ],
             [
              0.1111111111111111,
              "#46039f"
             ],
             [
              0.2222222222222222,
              "#7201a8"
             ],
             [
              0.3333333333333333,
              "#9c179e"
             ],
             [
              0.4444444444444444,
              "#bd3786"
             ],
             [
              0.5555555555555556,
              "#d8576b"
             ],
             [
              0.6666666666666666,
              "#ed7953"
             ],
             [
              0.7777777777777778,
              "#fb9f3a"
             ],
             [
              0.8888888888888888,
              "#fdca26"
             ],
             [
              1,
              "#f0f921"
             ]
            ],
            "type": "contour"
           }
          ],
          "contourcarpet": [
           {
            "colorbar": {
             "outlinewidth": 0,
             "ticks": ""
            },
            "type": "contourcarpet"
           }
          ],
          "heatmap": [
           {
            "colorbar": {
             "outlinewidth": 0,
             "ticks": ""
            },
            "colorscale": [
             [
              0,
              "#0d0887"
             ],
             [
              0.1111111111111111,
              "#46039f"
             ],
             [
              0.2222222222222222,
              "#7201a8"
             ],
             [
              0.3333333333333333,
              "#9c179e"
             ],
             [
              0.4444444444444444,
              "#bd3786"
             ],
             [
              0.5555555555555556,
              "#d8576b"
             ],
             [
              0.6666666666666666,
              "#ed7953"
             ],
             [
              0.7777777777777778,
              "#fb9f3a"
             ],
             [
              0.8888888888888888,
              "#fdca26"
             ],
             [
              1,
              "#f0f921"
             ]
            ],
            "type": "heatmap"
           }
          ],
          "heatmapgl": [
           {
            "colorbar": {
             "outlinewidth": 0,
             "ticks": ""
            },
            "colorscale": [
             [
              0,
              "#0d0887"
             ],
             [
              0.1111111111111111,
              "#46039f"
             ],
             [
              0.2222222222222222,
              "#7201a8"
             ],
             [
              0.3333333333333333,
              "#9c179e"
             ],
             [
              0.4444444444444444,
              "#bd3786"
             ],
             [
              0.5555555555555556,
              "#d8576b"
             ],
             [
              0.6666666666666666,
              "#ed7953"
             ],
             [
              0.7777777777777778,
              "#fb9f3a"
             ],
             [
              0.8888888888888888,
              "#fdca26"
             ],
             [
              1,
              "#f0f921"
             ]
            ],
            "type": "heatmapgl"
           }
          ],
          "histogram": [
           {
            "marker": {
             "colorbar": {
              "outlinewidth": 0,
              "ticks": ""
             }
            },
            "type": "histogram"
           }
          ],
          "histogram2d": [
           {
            "colorbar": {
             "outlinewidth": 0,
             "ticks": ""
            },
            "colorscale": [
             [
              0,
              "#0d0887"
             ],
             [
              0.1111111111111111,
              "#46039f"
             ],
             [
              0.2222222222222222,
              "#7201a8"
             ],
             [
              0.3333333333333333,
              "#9c179e"
             ],
             [
              0.4444444444444444,
              "#bd3786"
             ],
             [
              0.5555555555555556,
              "#d8576b"
             ],
             [
              0.6666666666666666,
              "#ed7953"
             ],
             [
              0.7777777777777778,
              "#fb9f3a"
             ],
             [
              0.8888888888888888,
              "#fdca26"
             ],
             [
              1,
              "#f0f921"
             ]
            ],
            "type": "histogram2d"
           }
          ],
          "histogram2dcontour": [
           {
            "colorbar": {
             "outlinewidth": 0,
             "ticks": ""
            },
            "colorscale": [
             [
              0,
              "#0d0887"
             ],
             [
              0.1111111111111111,
              "#46039f"
             ],
             [
              0.2222222222222222,
              "#7201a8"
             ],
             [
              0.3333333333333333,
              "#9c179e"
             ],
             [
              0.4444444444444444,
              "#bd3786"
             ],
             [
              0.5555555555555556,
              "#d8576b"
             ],
             [
              0.6666666666666666,
              "#ed7953"
             ],
             [
              0.7777777777777778,
              "#fb9f3a"
             ],
             [
              0.8888888888888888,
              "#fdca26"
             ],
             [
              1,
              "#f0f921"
             ]
            ],
            "type": "histogram2dcontour"
           }
          ],
          "mesh3d": [
           {
            "colorbar": {
             "outlinewidth": 0,
             "ticks": ""
            },
            "type": "mesh3d"
           }
          ],
          "parcoords": [
           {
            "line": {
             "colorbar": {
              "outlinewidth": 0,
              "ticks": ""
             }
            },
            "type": "parcoords"
           }
          ],
          "pie": [
           {
            "automargin": true,
            "type": "pie"
           }
          ],
          "scatter": [
           {
            "marker": {
             "colorbar": {
              "outlinewidth": 0,
              "ticks": ""
             }
            },
            "type": "scatter"
           }
          ],
          "scatter3d": [
           {
            "line": {
             "colorbar": {
              "outlinewidth": 0,
              "ticks": ""
             }
            },
            "marker": {
             "colorbar": {
              "outlinewidth": 0,
              "ticks": ""
             }
            },
            "type": "scatter3d"
           }
          ],
          "scattercarpet": [
           {
            "marker": {
             "colorbar": {
              "outlinewidth": 0,
              "ticks": ""
             }
            },
            "type": "scattercarpet"
           }
          ],
          "scattergeo": [
           {
            "marker": {
             "colorbar": {
              "outlinewidth": 0,
              "ticks": ""
             }
            },
            "type": "scattergeo"
           }
          ],
          "scattergl": [
           {
            "marker": {
             "colorbar": {
              "outlinewidth": 0,
              "ticks": ""
             }
            },
            "type": "scattergl"
           }
          ],
          "scattermapbox": [
           {
            "marker": {
             "colorbar": {
              "outlinewidth": 0,
              "ticks": ""
             }
            },
            "type": "scattermapbox"
           }
          ],
          "scatterpolar": [
           {
            "marker": {
             "colorbar": {
              "outlinewidth": 0,
              "ticks": ""
             }
            },
            "type": "scatterpolar"
           }
          ],
          "scatterpolargl": [
           {
            "marker": {
             "colorbar": {
              "outlinewidth": 0,
              "ticks": ""
             }
            },
            "type": "scatterpolargl"
           }
          ],
          "scatterternary": [
           {
            "marker": {
             "colorbar": {
              "outlinewidth": 0,
              "ticks": ""
             }
            },
            "type": "scatterternary"
           }
          ],
          "surface": [
           {
            "colorbar": {
             "outlinewidth": 0,
             "ticks": ""
            },
            "colorscale": [
             [
              0,
              "#0d0887"
             ],
             [
              0.1111111111111111,
              "#46039f"
             ],
             [
              0.2222222222222222,
              "#7201a8"
             ],
             [
              0.3333333333333333,
              "#9c179e"
             ],
             [
              0.4444444444444444,
              "#bd3786"
             ],
             [
              0.5555555555555556,
              "#d8576b"
             ],
             [
              0.6666666666666666,
              "#ed7953"
             ],
             [
              0.7777777777777778,
              "#fb9f3a"
             ],
             [
              0.8888888888888888,
              "#fdca26"
             ],
             [
              1,
              "#f0f921"
             ]
            ],
            "type": "surface"
           }
          ],
          "table": [
           {
            "cells": {
             "fill": {
              "color": "#EBF0F8"
             },
             "line": {
              "color": "white"
             }
            },
            "header": {
             "fill": {
              "color": "#C8D4E3"
             },
             "line": {
              "color": "white"
             }
            },
            "type": "table"
           }
          ]
         },
         "layout": {
          "annotationdefaults": {
           "arrowcolor": "#2a3f5f",
           "arrowhead": 0,
           "arrowwidth": 1
          },
          "coloraxis": {
           "colorbar": {
            "outlinewidth": 0,
            "ticks": ""
           }
          },
          "colorscale": {
           "diverging": [
            [
             0,
             "#8e0152"
            ],
            [
             0.1,
             "#c51b7d"
            ],
            [
             0.2,
             "#de77ae"
            ],
            [
             0.3,
             "#f1b6da"
            ],
            [
             0.4,
             "#fde0ef"
            ],
            [
             0.5,
             "#f7f7f7"
            ],
            [
             0.6,
             "#e6f5d0"
            ],
            [
             0.7,
             "#b8e186"
            ],
            [
             0.8,
             "#7fbc41"
            ],
            [
             0.9,
             "#4d9221"
            ],
            [
             1,
             "#276419"
            ]
           ],
           "sequential": [
            [
             0,
             "#0d0887"
            ],
            [
             0.1111111111111111,
             "#46039f"
            ],
            [
             0.2222222222222222,
             "#7201a8"
            ],
            [
             0.3333333333333333,
             "#9c179e"
            ],
            [
             0.4444444444444444,
             "#bd3786"
            ],
            [
             0.5555555555555556,
             "#d8576b"
            ],
            [
             0.6666666666666666,
             "#ed7953"
            ],
            [
             0.7777777777777778,
             "#fb9f3a"
            ],
            [
             0.8888888888888888,
             "#fdca26"
            ],
            [
             1,
             "#f0f921"
            ]
           ],
           "sequentialminus": [
            [
             0,
             "#0d0887"
            ],
            [
             0.1111111111111111,
             "#46039f"
            ],
            [
             0.2222222222222222,
             "#7201a8"
            ],
            [
             0.3333333333333333,
             "#9c179e"
            ],
            [
             0.4444444444444444,
             "#bd3786"
            ],
            [
             0.5555555555555556,
             "#d8576b"
            ],
            [
             0.6666666666666666,
             "#ed7953"
            ],
            [
             0.7777777777777778,
             "#fb9f3a"
            ],
            [
             0.8888888888888888,
             "#fdca26"
            ],
            [
             1,
             "#f0f921"
            ]
           ]
          },
          "colorway": [
           "#636efa",
           "#EF553B",
           "#00cc96",
           "#ab63fa",
           "#FFA15A",
           "#19d3f3",
           "#FF6692",
           "#B6E880",
           "#FF97FF",
           "#FECB52"
          ],
          "font": {
           "color": "#2a3f5f"
          },
          "geo": {
           "bgcolor": "white",
           "lakecolor": "white",
           "landcolor": "#E5ECF6",
           "showlakes": true,
           "showland": true,
           "subunitcolor": "white"
          },
          "hoverlabel": {
           "align": "left"
          },
          "hovermode": "closest",
          "mapbox": {
           "style": "light"
          },
          "paper_bgcolor": "white",
          "plot_bgcolor": "#E5ECF6",
          "polar": {
           "angularaxis": {
            "gridcolor": "white",
            "linecolor": "white",
            "ticks": ""
           },
           "bgcolor": "#E5ECF6",
           "radialaxis": {
            "gridcolor": "white",
            "linecolor": "white",
            "ticks": ""
           }
          },
          "scene": {
           "xaxis": {
            "backgroundcolor": "#E5ECF6",
            "gridcolor": "white",
            "gridwidth": 2,
            "linecolor": "white",
            "showbackground": true,
            "ticks": "",
            "zerolinecolor": "white"
           },
           "yaxis": {
            "backgroundcolor": "#E5ECF6",
            "gridcolor": "white",
            "gridwidth": 2,
            "linecolor": "white",
            "showbackground": true,
            "ticks": "",
            "zerolinecolor": "white"
           },
           "zaxis": {
            "backgroundcolor": "#E5ECF6",
            "gridcolor": "white",
            "gridwidth": 2,
            "linecolor": "white",
            "showbackground": true,
            "ticks": "",
            "zerolinecolor": "white"
           }
          },
          "shapedefaults": {
           "line": {
            "color": "#2a3f5f"
           }
          },
          "ternary": {
           "aaxis": {
            "gridcolor": "white",
            "linecolor": "white",
            "ticks": ""
           },
           "baxis": {
            "gridcolor": "white",
            "linecolor": "white",
            "ticks": ""
           },
           "bgcolor": "#E5ECF6",
           "caxis": {
            "gridcolor": "white",
            "linecolor": "white",
            "ticks": ""
           }
          },
          "title": {
           "x": 0.05
          },
          "xaxis": {
           "automargin": true,
           "gridcolor": "white",
           "linecolor": "white",
           "ticks": "",
           "title": {
            "standoff": 15
           },
           "zerolinecolor": "white",
           "zerolinewidth": 2
          },
          "yaxis": {
           "automargin": true,
           "gridcolor": "white",
           "linecolor": "white",
           "ticks": "",
           "title": {
            "standoff": 15
           },
           "zerolinecolor": "white",
           "zerolinewidth": 2
          }
         }
        },
        "updatemenus": [
         {
          "active": 1,
          "buttons": [
           {
            "args": [
             null,
             {
              "frame": {
               "duration": 500,
               "redraw": true
              },
              "fromcurrent": true,
              "transition": {
               "duration": 300
              }
             }
            ],
            "label": "Play",
            "method": "animate"
           },
           {
            "args": [
             [
              null
             ],
             {
              "frame": {
               "duration": 0,
               "redraw": true
              },
              "mode": "immediate",
              "transition": {
               "duration": 0
              }
             }
            ],
            "label": "Pause",
            "method": "animate"
           }
          ],
          "direction": "left",
          "pad": {
           "r": 10,
           "t": 87
          },
          "showactive": false,
          "type": "buttons",
          "x": 0.1,
          "xanchor": "right",
          "y": 0,
          "yanchor": "top"
         }
        ]
       }
      },
      "image/png": "[encoded data removed]",
      "text/html": [
       "<div>\n",
       "        \n",
       "        \n",
       "            <div id=\"6b872822-9d34-471d-b2c8-6a1e8da17feb\" class=\"plotly-graph-div\" style=\"height:525px; width:100%;\"></div>\n",
       "            <script type=\"text/javascript\">\n",
       "                require([\"plotly\"], function(Plotly) {\n",
       "                    window.PLOTLYENV=window.PLOTLYENV || {};\n",
       "                    \n",
       "                if (document.getElementById(\"6b872822-9d34-471d-b2c8-6a1e8da17feb\")) {\n",
       "                    Plotly.newPlot(\n",
       "                        '6b872822-9d34-471d-b2c8-6a1e8da17feb',\n",
       "                        [{\"hoverinfo\": \"text\", \"lat\": [-34.560063, -31.4135, -27.483745000000003, -26.18129, -34.920879, -29.416017999999998, -32.890840000000004, -38.948093, -31.735546999999997, -27.38225, -43.298843, -27.426056, -51.627644000000004, -28.470552, -26.824140000000003, -24.192795, -24.793298999999998, -31.539365000000004, -33.29643, -31.630437, -36.619642, -27.803519, -54.818684999999995, -40.815129999999996], \"lon\": [-58.390526, -64.18105, -58.812996, -58.190585999999996, -57.954325, -66.872266, -68.82717, -68.07764399999999, -60.524664, -55.92013000000001, -65.092815, -58.988848, -69.242917, -65.78580500000001, -65.2226, -65.29888299999999, -65.41314, -68.534052, -66.320661, -60.705592, -64.285102, -64.26808100000001, -68.32900500000001, -62.995335], \"text\": [\"Cdad. de Bs. As.\", \"C\\u00f3rdoba\", \"Corrientes\", \"Formosa\", \"La Plata\", \"La Rioja\", \"Mendoza\", \"Neuquen\", \"Paran\\u00e1\", \"Posadas\", \"Rawson\", \"Resistencia\", \"R\\u00edo Gallegos\", \"S.F.d.V.d. Catamarca\", \"S.M. de Tucum\\u00e1n\", \"S.S. de Jujuy\", \"Salta\", \"San Juan\", \"San Luis\", \"Santa Fe\", \"Santa Rosa\", \"Sgo. del Estero\", \"Ushuaia\", \"Viedma\"], \"type\": \"scattermapbox\"}],\n",
       "                        {\"autosize\": true, \"hovermode\": \"closest\", \"mapbox\": {\"center\": {\"lat\": -35.876958, \"lon\": -65.293389}, \"style\": \"open-street-map\", \"zoom\": 3}, \"margin\": {\"b\": 0, \"l\": 0, \"r\": 0, \"t\": 0}, \"sliders\": [{\"active\": 0, \"currentvalue\": {\"font\": {\"size\": 12}, \"prefix\": \"Capital: \", \"visible\": true, \"xanchor\": \"center\"}, \"len\": 1.0, \"steps\": [{\"args\": [[\"frame0\"], {\"frame\": {\"duration\": 400, \"redraw\": true}, \"mode\": \"immediate\", \"transition\": {\"duration\": 0}}], \"label\": \"Cdad. de Bs. As.\", \"method\": \"animate\"}, {\"args\": [[\"frame1\"], {\"frame\": {\"duration\": 400, \"redraw\": true}, \"mode\": \"immediate\", \"transition\": {\"duration\": 0}}], \"label\": \"C\\u00f3rdoba\", \"method\": \"animate\"}, {\"args\": [[\"frame2\"], {\"frame\": {\"duration\": 400, \"redraw\": true}, \"mode\": \"immediate\", \"transition\": {\"duration\": 0}}], \"label\": \"Corrientes\", \"method\": \"animate\"}, {\"args\": [[\"frame3\"], {\"frame\": {\"duration\": 400, \"redraw\": true}, \"mode\": \"immediate\", \"transition\": {\"duration\": 0}}], \"label\": \"Formosa\", \"method\": \"animate\"}, {\"args\": [[\"frame4\"], {\"frame\": {\"duration\": 400, \"redraw\": true}, \"mode\": \"immediate\", \"transition\": {\"duration\": 0}}], \"label\": \"La Plata\", \"method\": \"animate\"}, {\"args\": [[\"frame5\"], {\"frame\": {\"duration\": 400, \"redraw\": true}, \"mode\": \"immediate\", \"transition\": {\"duration\": 0}}], \"label\": \"La Rioja\", \"method\": \"animate\"}, {\"args\": [[\"frame6\"], {\"frame\": {\"duration\": 400, \"redraw\": true}, \"mode\": \"immediate\", \"transition\": {\"duration\": 0}}], \"label\": \"Mendoza\", \"method\": \"animate\"}, {\"args\": [[\"frame7\"], {\"frame\": {\"duration\": 400, \"redraw\": true}, \"mode\": \"immediate\", \"transition\": {\"duration\": 0}}], \"label\": \"Neuquen\", \"method\": \"animate\"}, {\"args\": [[\"frame8\"], {\"frame\": {\"duration\": 400, \"redraw\": true}, \"mode\": \"immediate\", \"transition\": {\"duration\": 0}}], \"label\": \"Paran\\u00e1\", \"method\": \"animate\"}, {\"args\": [[\"frame9\"], {\"frame\": {\"duration\": 400, \"redraw\": true}, \"mode\": \"immediate\", \"transition\": {\"duration\": 0}}], \"label\": \"Posadas\", \"method\": \"animate\"}, {\"args\": [[\"frame10\"], {\"frame\": {\"duration\": 400, \"redraw\": true}, \"mode\": \"immediate\", \"transition\": {\"duration\": 0}}], \"label\": \"Rawson\", \"method\": \"animate\"}, {\"args\": [[\"frame11\"], {\"frame\": {\"duration\": 400, \"redraw\": true}, \"mode\": \"immediate\", \"transition\": {\"duration\": 0}}], \"label\": \"Resistencia\", \"method\": \"animate\"}, {\"args\": [[\"frame12\"], {\"frame\": {\"duration\": 400, \"redraw\": true}, \"mode\": \"immediate\", \"transition\": {\"duration\": 0}}], \"label\": \"R\\u00edo Gallegos\", \"method\": \"animate\"}, {\"args\": [[\"frame13\"], {\"frame\": {\"duration\": 400, \"redraw\": true}, \"mode\": \"immediate\", \"transition\": {\"duration\": 0}}], \"label\": \"S.F.d.V.d. Catamarca\", \"method\": \"animate\"}, {\"args\": [[\"frame14\"], {\"frame\": {\"duration\": 400, \"redraw\": true}, \"mode\": \"immediate\", \"transition\": {\"duration\": 0}}], \"label\": \"S.M. de Tucum\\u00e1n\", \"method\": \"animate\"}, {\"args\": [[\"frame15\"], {\"frame\": {\"duration\": 400, \"redraw\": true}, \"mode\": \"immediate\", \"transition\": {\"duration\": 0}}], \"label\": \"S.S. de Jujuy\", \"method\": \"animate\"}, {\"args\": [[\"frame16\"], {\"frame\": {\"duration\": 400, \"redraw\": true}, \"mode\": \"immediate\", \"transition\": {\"duration\": 0}}], \"label\": \"Salta\", \"method\": \"animate\"}, {\"args\": [[\"frame17\"], {\"frame\": {\"duration\": 400, \"redraw\": true}, \"mode\": \"immediate\", \"transition\": {\"duration\": 0}}], \"label\": \"San Juan\", \"method\": \"animate\"}, {\"args\": [[\"frame18\"], {\"frame\": {\"duration\": 400, \"redraw\": true}, \"mode\": \"immediate\", \"transition\": {\"duration\": 0}}], \"label\": \"San Luis\", \"method\": \"animate\"}, {\"args\": [[\"frame19\"], {\"frame\": {\"duration\": 400, \"redraw\": true}, \"mode\": \"immediate\", \"transition\": {\"duration\": 0}}], \"label\": \"Santa Fe\", \"method\": \"animate\"}, {\"args\": [[\"frame20\"], {\"frame\": {\"duration\": 400, \"redraw\": true}, \"mode\": \"immediate\", \"transition\": {\"duration\": 0}}], \"label\": \"Santa Rosa\", \"method\": \"animate\"}, {\"args\": [[\"frame21\"], {\"frame\": {\"duration\": 400, \"redraw\": true}, \"mode\": \"immediate\", \"transition\": {\"duration\": 0}}], \"label\": \"Sgo. del Estero\", \"method\": \"animate\"}, {\"args\": [[\"frame22\"], {\"frame\": {\"duration\": 400, \"redraw\": true}, \"mode\": \"immediate\", \"transition\": {\"duration\": 0}}], \"label\": \"Ushuaia\", \"method\": \"animate\"}, {\"args\": [[\"frame23\"], {\"frame\": {\"duration\": 400, \"redraw\": true}, \"mode\": \"immediate\", \"transition\": {\"duration\": 0}}], \"label\": \"Viedma\", \"method\": \"animate\"}], \"transition\": {\"duration\": 500, \"easing\": \"cubic-in-out\"}, \"x\": 0, \"y\": 0}], \"template\": {\"data\": {\"bar\": [{\"error_x\": {\"color\": \"#2a3f5f\"}, \"error_y\": {\"color\": \"#2a3f5f\"}, \"marker\": {\"line\": {\"color\": \"#E5ECF6\", \"width\": 0.5}}, \"type\": \"bar\"}], \"barpolar\": [{\"marker\": {\"line\": {\"color\": \"#E5ECF6\", \"width\": 0.5}}, \"type\": \"barpolar\"}], \"carpet\": [{\"aaxis\": {\"endlinecolor\": \"#2a3f5f\", \"gridcolor\": \"white\", \"linecolor\": \"white\", \"minorgridcolor\": \"white\", \"startlinecolor\": \"#2a3f5f\"}, \"baxis\": {\"endlinecolor\": \"#2a3f5f\", \"gridcolor\": \"white\", \"linecolor\": \"white\", \"minorgridcolor\": \"white\", \"startlinecolor\": \"#2a3f5f\"}, \"type\": \"carpet\"}], \"choropleth\": [{\"colorbar\": {\"outlinewidth\": 0, \"ticks\": \"\"}, \"type\": \"choropleth\"}], \"contour\": [{\"colorbar\": {\"outlinewidth\": 0, \"ticks\": \"\"}, \"colorscale\": [[0.0, \"#0d0887\"], [0.1111111111111111, \"#46039f\"], [0.2222222222222222, \"#7201a8\"], [0.3333333333333333, \"#9c179e\"], [0.4444444444444444, \"#bd3786\"], [0.5555555555555556, \"#d8576b\"], [0.6666666666666666, \"#ed7953\"], [0.7777777777777778, \"#fb9f3a\"], [0.8888888888888888, \"#fdca26\"], [1.0, \"#f0f921\"]], \"type\": \"contour\"}], \"contourcarpet\": [{\"colorbar\": {\"outlinewidth\": 0, \"ticks\": \"\"}, \"type\": \"contourcarpet\"}], \"heatmap\": [{\"colorbar\": {\"outlinewidth\": 0, \"ticks\": \"\"}, \"colorscale\": [[0.0, \"#0d0887\"], [0.1111111111111111, \"#46039f\"], [0.2222222222222222, \"#7201a8\"], [0.3333333333333333, \"#9c179e\"], [0.4444444444444444, \"#bd3786\"], [0.5555555555555556, \"#d8576b\"], [0.6666666666666666, \"#ed7953\"], [0.7777777777777778, \"#fb9f3a\"], [0.8888888888888888, \"#fdca26\"], [1.0, \"#f0f921\"]], \"type\": \"heatmap\"}], \"heatmapgl\": [{\"colorbar\": {\"outlinewidth\": 0, \"ticks\": \"\"}, \"colorscale\": [[0.0, \"#0d0887\"], [0.1111111111111111, \"#46039f\"], [0.2222222222222222, \"#7201a8\"], [0.3333333333333333, \"#9c179e\"], [0.4444444444444444, \"#bd3786\"], [0.5555555555555556, \"#d8576b\"], [0.6666666666666666, \"#ed7953\"], [0.7777777777777778, \"#fb9f3a\"], [0.8888888888888888, \"#fdca26\"], [1.0, \"#f0f921\"]], \"type\": \"heatmapgl\"}], \"histogram\": [{\"marker\": {\"colorbar\": {\"outlinewidth\": 0, \"ticks\": \"\"}}, \"type\": \"histogram\"}], \"histogram2d\": [{\"colorbar\": {\"outlinewidth\": 0, \"ticks\": \"\"}, \"colorscale\": [[0.0, \"#0d0887\"], [0.1111111111111111, \"#46039f\"], [0.2222222222222222, \"#7201a8\"], [0.3333333333333333, \"#9c179e\"], [0.4444444444444444, \"#bd3786\"], [0.5555555555555556, \"#d8576b\"], [0.6666666666666666, \"#ed7953\"], [0.7777777777777778, \"#fb9f3a\"], [0.8888888888888888, \"#fdca26\"], [1.0, \"#f0f921\"]], \"type\": \"histogram2d\"}], \"histogram2dcontour\": [{\"colorbar\": {\"outlinewidth\": 0, \"ticks\": \"\"}, \"colorscale\": [[0.0, \"#0d0887\"], [0.1111111111111111, \"#46039f\"], [0.2222222222222222, \"#7201a8\"], [0.3333333333333333, \"#9c179e\"], [0.4444444444444444, \"#bd3786\"], [0.5555555555555556, \"#d8576b\"], [0.6666666666666666, \"#ed7953\"], [0.7777777777777778, \"#fb9f3a\"], [0.8888888888888888, \"#fdca26\"], [1.0, \"#f0f921\"]], \"type\": \"histogram2dcontour\"}], \"mesh3d\": [{\"colorbar\": {\"outlinewidth\": 0, \"ticks\": \"\"}, \"type\": \"mesh3d\"}], \"parcoords\": [{\"line\": {\"colorbar\": {\"outlinewidth\": 0, \"ticks\": \"\"}}, \"type\": \"parcoords\"}], \"pie\": [{\"automargin\": true, \"type\": \"pie\"}], \"scatter\": [{\"marker\": {\"colorbar\": {\"outlinewidth\": 0, \"ticks\": \"\"}}, \"type\": \"scatter\"}], \"scatter3d\": [{\"line\": {\"colorbar\": {\"outlinewidth\": 0, \"ticks\": \"\"}}, \"marker\": {\"colorbar\": {\"outlinewidth\": 0, \"ticks\": \"\"}}, \"type\": \"scatter3d\"}], \"scattercarpet\": [{\"marker\": {\"colorbar\": {\"outlinewidth\": 0, \"ticks\": \"\"}}, \"type\": \"scattercarpet\"}], \"scattergeo\": [{\"marker\": {\"colorbar\": {\"outlinewidth\": 0, \"ticks\": \"\"}}, \"type\": \"scattergeo\"}], \"scattergl\": [{\"marker\": {\"colorbar\": {\"outlinewidth\": 0, \"ticks\": \"\"}}, \"type\": \"scattergl\"}], \"scattermapbox\": [{\"marker\": {\"colorbar\": {\"outlinewidth\": 0, \"ticks\": \"\"}}, \"type\": \"scattermapbox\"}], \"scatterpolar\": [{\"marker\": {\"colorbar\": {\"outlinewidth\": 0, \"ticks\": \"\"}}, \"type\": \"scatterpolar\"}], \"scatterpolargl\": [{\"marker\": {\"colorbar\": {\"outlinewidth\": 0, \"ticks\": \"\"}}, \"type\": \"scatterpolargl\"}], \"scatterternary\": [{\"marker\": {\"colorbar\": {\"outlinewidth\": 0, \"ticks\": \"\"}}, \"type\": \"scatterternary\"}], \"surface\": [{\"colorbar\": {\"outlinewidth\": 0, \"ticks\": \"\"}, \"colorscale\": [[0.0, \"#0d0887\"], [0.1111111111111111, \"#46039f\"], [0.2222222222222222, \"#7201a8\"], [0.3333333333333333, \"#9c179e\"], [0.4444444444444444, \"#bd3786\"], [0.5555555555555556, \"#d8576b\"], [0.6666666666666666, \"#ed7953\"], [0.7777777777777778, \"#fb9f3a\"], [0.8888888888888888, \"#fdca26\"], [1.0, \"#f0f921\"]], \"type\": \"surface\"}], \"table\": [{\"cells\": {\"fill\": {\"color\": \"#EBF0F8\"}, \"line\": {\"color\": \"white\"}}, \"header\": {\"fill\": {\"color\": \"#C8D4E3\"}, \"line\": {\"color\": \"white\"}}, \"type\": \"table\"}]}, \"layout\": {\"annotationdefaults\": {\"arrowcolor\": \"#2a3f5f\", \"arrowhead\": 0, \"arrowwidth\": 1}, \"coloraxis\": {\"colorbar\": {\"outlinewidth\": 0, \"ticks\": \"\"}}, \"colorscale\": {\"diverging\": [[0, \"#8e0152\"], [0.1, \"#c51b7d\"], [0.2, \"#de77ae\"], [0.3, \"#f1b6da\"], [0.4, \"#fde0ef\"], [0.5, \"#f7f7f7\"], [0.6, \"#e6f5d0\"], [0.7, \"#b8e186\"], [0.8, \"#7fbc41\"], [0.9, \"#4d9221\"], [1, \"#276419\"]], \"sequential\": [[0.0, \"#0d0887\"], [0.1111111111111111, \"#46039f\"], [0.2222222222222222, \"#7201a8\"], [0.3333333333333333, \"#9c179e\"], [0.4444444444444444, \"#bd3786\"], [0.5555555555555556, \"#d8576b\"], [0.6666666666666666, \"#ed7953\"], [0.7777777777777778, \"#fb9f3a\"], [0.8888888888888888, \"#fdca26\"], [1.0, \"#f0f921\"]], \"sequentialminus\": [[0.0, \"#0d0887\"], [0.1111111111111111, \"#46039f\"], [0.2222222222222222, \"#7201a8\"], [0.3333333333333333, \"#9c179e\"], [0.4444444444444444, \"#bd3786\"], [0.5555555555555556, \"#d8576b\"], [0.6666666666666666, \"#ed7953\"], [0.7777777777777778, \"#fb9f3a\"], [0.8888888888888888, \"#fdca26\"], [1.0, \"#f0f921\"]]}, \"colorway\": [\"#636efa\", \"#EF553B\", \"#00cc96\", \"#ab63fa\", \"#FFA15A\", \"#19d3f3\", \"#FF6692\", \"#B6E880\", \"#FF97FF\", \"#FECB52\"], \"font\": {\"color\": \"#2a3f5f\"}, \"geo\": {\"bgcolor\": \"white\", \"lakecolor\": \"white\", \"landcolor\": \"#E5ECF6\", \"showlakes\": true, \"showland\": true, \"subunitcolor\": \"white\"}, \"hoverlabel\": {\"align\": \"left\"}, \"hovermode\": \"closest\", \"mapbox\": {\"style\": \"light\"}, \"paper_bgcolor\": \"white\", \"plot_bgcolor\": \"#E5ECF6\", \"polar\": {\"angularaxis\": {\"gridcolor\": \"white\", \"linecolor\": \"white\", \"ticks\": \"\"}, \"bgcolor\": \"#E5ECF6\", \"radialaxis\": {\"gridcolor\": \"white\", \"linecolor\": \"white\", \"ticks\": \"\"}}, \"scene\": {\"xaxis\": {\"backgroundcolor\": \"#E5ECF6\", \"gridcolor\": \"white\", \"gridwidth\": 2, \"linecolor\": \"white\", \"showbackground\": true, \"ticks\": \"\", \"zerolinecolor\": \"white\"}, \"yaxis\": {\"backgroundcolor\": \"#E5ECF6\", \"gridcolor\": \"white\", \"gridwidth\": 2, \"linecolor\": \"white\", \"showbackground\": true, \"ticks\": \"\", \"zerolinecolor\": \"white\"}, \"zaxis\": {\"backgroundcolor\": \"#E5ECF6\", \"gridcolor\": \"white\", \"gridwidth\": 2, \"linecolor\": \"white\", \"showbackground\": true, \"ticks\": \"\", \"zerolinecolor\": \"white\"}}, \"shapedefaults\": {\"line\": {\"color\": \"#2a3f5f\"}}, \"ternary\": {\"aaxis\": {\"gridcolor\": \"white\", \"linecolor\": \"white\", \"ticks\": \"\"}, \"baxis\": {\"gridcolor\": \"white\", \"linecolor\": \"white\", \"ticks\": \"\"}, \"bgcolor\": \"#E5ECF6\", \"caxis\": {\"gridcolor\": \"white\", \"linecolor\": \"white\", \"ticks\": \"\"}}, \"title\": {\"x\": 0.05}, \"xaxis\": {\"automargin\": true, \"gridcolor\": \"white\", \"linecolor\": \"white\", \"ticks\": \"\", \"title\": {\"standoff\": 15}, \"zerolinecolor\": \"white\", \"zerolinewidth\": 2}, \"yaxis\": {\"automargin\": true, \"gridcolor\": \"white\", \"linecolor\": \"white\", \"ticks\": \"\", \"title\": {\"standoff\": 15}, \"zerolinecolor\": \"white\", \"zerolinewidth\": 2}}}, \"updatemenus\": [{\"buttons\": [{\"args\": [null, {\"frame\": {\"duration\": 500, \"redraw\": true}, \"fromcurrent\": true, \"transition\": {\"duration\": 300}}], \"label\": \"Play\", \"method\": \"animate\"}, {\"args\": [[null], {\"frame\": {\"duration\": 0, \"redraw\": true}, \"mode\": \"immediate\", \"transition\": {\"duration\": 0}}], \"label\": \"Pause\", \"method\": \"animate\"}], \"direction\": \"left\", \"pad\": {\"r\": 10, \"t\": 87}, \"showactive\": false, \"type\": \"buttons\", \"x\": 0.1, \"xanchor\": \"right\", \"y\": 0, \"yanchor\": \"top\"}]},\n",
       "                        {\"responsive\": true}\n",
       "                    ).then(function(){\n",
       "                            Plotly.addFrames('6b872822-9d34-471d-b2c8-6a1e8da17feb', [{\"data\": [{\"lat\": [-34.560063, -31.4135], \"lon\": [-58.390526, -64.18105], \"mode\": \"lines\", \"type\": \"scattermapbox\"}], \"name\": \"frame0\"}, {\"data\": [{\"lat\": [-31.4135, -27.483745000000003], \"lon\": [-64.18105, -58.812996], \"mode\": \"lines\", \"type\": \"scattermapbox\"}], \"name\": \"frame1\"}, {\"data\": [{\"lat\": [-27.483745000000003, -26.18129], \"lon\": [-58.812996, -58.190585999999996], \"mode\": \"lines\", \"type\": \"scattermapbox\"}], \"name\": \"frame2\"}, {\"data\": [{\"lat\": [-26.18129, -34.920879], \"lon\": [-58.190585999999996, -57.954325], \"mode\": \"lines\", \"type\": \"scattermapbox\"}], \"name\": \"frame3\"}, {\"data\": [{\"lat\": [-34.920879, -29.416017999999998], \"lon\": [-57.954325, -66.872266], \"mode\": \"lines\", \"type\": \"scattermapbox\"}], \"name\": \"frame4\"}, {\"data\": [{\"lat\": [-29.416017999999998, -32.890840000000004], \"lon\": [-66.872266, -68.82717], \"mode\": \"lines\", \"type\": \"scattermapbox\"}], \"name\": \"frame5\"}, {\"data\": [{\"lat\": [-32.890840000000004, -38.948093], \"lon\": [-68.82717, -68.07764399999999], \"mode\": \"lines\", \"type\": \"scattermapbox\"}], \"name\": \"frame6\"}, {\"data\": [{\"lat\": [-38.948093, -31.735546999999997], \"lon\": [-68.07764399999999, -60.524664], \"mode\": \"lines\", \"type\": \"scattermapbox\"}], \"name\": \"frame7\"}, {\"data\": [{\"lat\": [-31.735546999999997, -27.38225], \"lon\": [-60.524664, -55.92013000000001], \"mode\": \"lines\", \"type\": \"scattermapbox\"}], \"name\": \"frame8\"}, {\"data\": [{\"lat\": [-27.38225, -43.298843], \"lon\": [-55.92013000000001, -65.092815], \"mode\": \"lines\", \"type\": \"scattermapbox\"}], \"name\": \"frame9\"}, {\"data\": [{\"lat\": [-43.298843, -27.426056], \"lon\": [-65.092815, -58.988848], \"mode\": \"lines\", \"type\": \"scattermapbox\"}], \"name\": \"frame10\"}, {\"data\": [{\"lat\": [-27.426056, -51.627644000000004], \"lon\": [-58.988848, -69.242917], \"mode\": \"lines\", \"type\": \"scattermapbox\"}], \"name\": \"frame11\"}, {\"data\": [{\"lat\": [-51.627644000000004, -28.470552], \"lon\": [-69.242917, -65.78580500000001], \"mode\": \"lines\", \"type\": \"scattermapbox\"}], \"name\": \"frame12\"}, {\"data\": [{\"lat\": [-28.470552, -26.824140000000003], \"lon\": [-65.78580500000001, -65.2226], \"mode\": \"lines\", \"type\": \"scattermapbox\"}], \"name\": \"frame13\"}, {\"data\": [{\"lat\": [-26.824140000000003, -24.192795], \"lon\": [-65.2226, -65.29888299999999], \"mode\": \"lines\", \"type\": \"scattermapbox\"}], \"name\": \"frame14\"}, {\"data\": [{\"lat\": [-24.192795, -24.793298999999998], \"lon\": [-65.29888299999999, -65.41314], \"mode\": \"lines\", \"type\": \"scattermapbox\"}], \"name\": \"frame15\"}, {\"data\": [{\"lat\": [-24.793298999999998, -31.539365000000004], \"lon\": [-65.41314, -68.534052], \"mode\": \"lines\", \"type\": \"scattermapbox\"}], \"name\": \"frame16\"}, {\"data\": [{\"lat\": [-31.539365000000004, -33.29643], \"lon\": [-68.534052, -66.320661], \"mode\": \"lines\", \"type\": \"scattermapbox\"}], \"name\": \"frame17\"}, {\"data\": [{\"lat\": [-33.29643, -31.630437], \"lon\": [-66.320661, -60.705592], \"mode\": \"lines\", \"type\": \"scattermapbox\"}], \"name\": \"frame18\"}, {\"data\": [{\"lat\": [-31.630437, -36.619642], \"lon\": [-60.705592, -64.285102], \"mode\": \"lines\", \"type\": \"scattermapbox\"}], \"name\": \"frame19\"}, {\"data\": [{\"lat\": [-36.619642, -27.803519], \"lon\": [-64.285102, -64.26808100000001], \"mode\": \"lines\", \"type\": \"scattermapbox\"}], \"name\": \"frame20\"}, {\"data\": [{\"lat\": [-27.803519, -54.818684999999995], \"lon\": [-64.26808100000001, -68.32900500000001], \"mode\": \"lines\", \"type\": \"scattermapbox\"}], \"name\": \"frame21\"}, {\"data\": [{\"lat\": [-54.818684999999995, -40.815129999999996], \"lon\": [-68.32900500000001, -62.995335], \"mode\": \"lines\", \"type\": \"scattermapbox\"}], \"name\": \"frame22\"}]);\n",
       "                        }).then(function(){\n",
       "                            \n",
       "var gd = document.getElementById('6b872822-9d34-471d-b2c8-6a1e8da17feb');\n",
       "var x = new MutationObserver(function (mutations, observer) {{\n",
       "        var display = window.getComputedStyle(gd).display;\n",
       "        if (!display || display === 'none') {{\n",
       "            console.log([gd, 'removed!']);\n",
       "            Plotly.purge(gd);\n",
       "            observer.disconnect();\n",
       "        }}\n",
       "}});\n",
       "\n",
       "// Listen for the removal of the full notebook cells\n",
       "var notebookContainer = gd.closest('#notebook-container');\n",
       "if (notebookContainer) {{\n",
       "    x.observe(notebookContainer, {childList: true});\n",
       "}}\n",
       "\n",
       "// Listen for the clearing of the current output cell\n",
       "var outputEl = gd.closest('.output');\n",
       "if (outputEl) {{\n",
       "    x.observe(outputEl, {childList: true});\n",
       "}}\n",
       "\n",
       "                        })\n",
       "                };\n",
       "                });\n",
       "            </script>\n",
       "        </div>"
      ]
     },
     "metadata": {},
     "output_type": "display_data"
    }
   ],
   "source": [
    "# primero, dibujo los cuadros que se animarán, cada uno es un mapa que tiene más trayectorias que el anterior\n",
    "mantener_trazo = False\n",
    "frames = []\n",
    "if mantener_trazo:\n",
    "    for k in range(len(cap)):\n",
    "        frames.append(go.Frame(data=[go.Scattermapbox(mode='lines', lat=cap['latitud'][:k+1],  lon=cap['longitud'][:k+1])], name=f'frame{k}'))\n",
    "else:\n",
    "    for k in range(len(cap)-1):\n",
    "        frames.append(go.Frame(data=[go.Scattermapbox(mode='lines', lat=[cap['latitud'][k], cap['latitud'][k+1]],  lon=[cap['longitud'][k], cap['longitud'][k+1]])], name=f'frame{k}'))\n",
    "# dibujo la figura, y le asigno los cuadros\n",
    "fig = go.Figure(\n",
    "    data=go.Scattermapbox(\n",
    "        lat=cap['latitud'], \n",
    "        lon=cap['longitud'],\n",
    "        text=cap['capital'],\n",
    "        hoverinfo='text'\n",
    "    ),\n",
    "    layout=go.Layout(),\n",
    "    frames=frames\n",
    ")\n",
    "\n",
    "\n",
    "updatemenus = [dict(\n",
    "        buttons = [\n",
    "            dict(\n",
    "                args = [None, {\"frame\": {\"duration\": 500, \"redraw\": True},\n",
    "                                \"fromcurrent\": True, \"transition\": {\"duration\": 300}}],\n",
    "                label = \"Play\",\n",
    "                method = \"animate\"\n",
    "                ),\n",
    "            dict(\n",
    "                 args = [[None], {\"frame\": {\"duration\": 0, \"redraw\": True},\n",
    "                                  \"mode\": \"immediate\",\n",
    "                                  \"transition\": {\"duration\": 0}}],\n",
    "                label = \"Pause\",\n",
    "                method = \"animate\"\n",
    "                )\n",
    "        ],\n",
    "        direction = \"left\",\n",
    "        pad = {\"r\": 10, \"t\": 87},\n",
    "        showactive = False,\n",
    "        type = \"buttons\",\n",
    "        x = 0.1,\n",
    "        xanchor = \"right\",\n",
    "        y = 0,\n",
    "        yanchor = \"top\"\n",
    "    )]  \n",
    "\n",
    "sliders = [dict(steps = [dict(method= 'animate',\n",
    "                              args= [[f'frame{k}'],                           \n",
    "                              dict(mode= 'immediate',\n",
    "                                   frame=dict(duration=400, redraw=True),\n",
    "                                   transition=dict(duration= 0))\n",
    "                                 ],\n",
    "                              label=f'{cap[\"capital\"][k]}'\n",
    "                             ) for k in range(len(cap))], \n",
    "                active=0,\n",
    "                transition={'duration':500 , 'easing': 'cubic-in-out'},\n",
    "                x=0, # slider starting position  \n",
    "                y=0, \n",
    "                currentvalue=dict(font=dict(size=12), \n",
    "                                  prefix='Capital: ', \n",
    "                                  visible=True, \n",
    "                                  xanchor= 'center'\n",
    "                                 ),  \n",
    "                len=1.0) #slider length\n",
    "           ]\n",
    "fig.update_layout(updatemenus = updatemenus, sliders = sliders)\n",
    "\n",
    "\n",
    "fig.update_layout(margin={\"r\":0,\"t\":0,\"l\":0,\"b\":0})\n",
    "fig.update_layout(mapbox_style=\"open-street-map\")\n",
    "fig.update_layout(\n",
    "    autosize=True,\n",
    "    hovermode='closest',\n",
    "    mapbox=dict(\n",
    "        center=dict(\n",
    "            lat=-35.876958,\n",
    "            lon=-65.293389\n",
    "        ),\n",
    "        zoom=3\n",
    "    ),\n",
    ")\n",
    "fig.show()"
   ]
  },
  {
   "cell_type": "code",
   "execution_count": 133,
   "metadata": {},
   "outputs": [
    {
     "data": {
      "application/vnd.plotly.v1+json": {
       "config": {
        "plotlyServerURL": "https://plot.ly"
       },
       "data": [
        {
         "hoverinfo": "text",
         "lat": [
          -34.560063,
          -31.4135,
          -27.483745000000003,
          -26.18129,
          -34.920879,
          -29.416017999999998,
          -32.890840000000004,
          -38.948093,
          -31.735546999999997,
          -27.38225,
          -43.298843,
          -27.426056,
          -51.627644000000004,
          -28.470552,
          -26.824140000000003,
          -24.192795,
          -24.793298999999998,
          -31.539365000000004,
          -33.29643,
          -31.630437,
          -36.619642,
          -27.803519,
          -54.818684999999995,
          -40.815129999999996
         ],
         "lon": [
          -58.390526,
          -64.18105,
          -58.812996,
          -58.190585999999996,
          -57.954325,
          -66.872266,
          -68.82717,
          -68.07764399999999,
          -60.524664,
          -55.92013000000001,
          -65.092815,
          -58.988848,
          -69.242917,
          -65.78580500000001,
          -65.2226,
          -65.29888299999999,
          -65.41314,
          -68.534052,
          -66.320661,
          -60.705592,
          -64.285102,
          -64.26808100000001,
          -68.32900500000001,
          -62.995335
         ],
         "text": [
          "Cdad. de Bs. As.",
          "Córdoba",
          "Corrientes",
          "Formosa",
          "La Plata",
          "La Rioja",
          "Mendoza",
          "Neuquen",
          "Paraná",
          "Posadas",
          "Rawson",
          "Resistencia",
          "Río Gallegos",
          "S.F.d.V.d. Catamarca",
          "S.M. de Tucumán",
          "S.S. de Jujuy",
          "Salta",
          "San Juan",
          "San Luis",
          "Santa Fe",
          "Santa Rosa",
          "Sgo. del Estero",
          "Ushuaia",
          "Viedma"
         ],
         "type": "scattermapbox"
        }
       ],
       "frames": [
        {
         "data": [
          {
           "lat": [
            -34.560063,
            -31.4135
           ],
           "lon": [
            -58.390526,
            -64.18105
           ],
           "mode": "lines",
           "type": "scattermapbox"
          }
         ],
         "name": "frame0"
        },
        {
         "data": [
          {
           "lat": [
            -31.4135,
            -27.483745000000003
           ],
           "lon": [
            -64.18105,
            -58.812996
           ],
           "mode": "lines",
           "type": "scattermapbox"
          }
         ],
         "name": "frame1"
        },
        {
         "data": [
          {
           "lat": [
            -27.483745000000003,
            -26.18129
           ],
           "lon": [
            -58.812996,
            -58.190585999999996
           ],
           "mode": "lines",
           "type": "scattermapbox"
          }
         ],
         "name": "frame2"
        },
        {
         "data": [
          {
           "lat": [
            -26.18129,
            -34.920879
           ],
           "lon": [
            -58.190585999999996,
            -57.954325
           ],
           "mode": "lines",
           "type": "scattermapbox"
          }
         ],
         "name": "frame3"
        },
        {
         "data": [
          {
           "lat": [
            -34.920879,
            -29.416017999999998
           ],
           "lon": [
            -57.954325,
            -66.872266
           ],
           "mode": "lines",
           "type": "scattermapbox"
          }
         ],
         "name": "frame4"
        },
        {
         "data": [
          {
           "lat": [
            -29.416017999999998,
            -32.890840000000004
           ],
           "lon": [
            -66.872266,
            -68.82717
           ],
           "mode": "lines",
           "type": "scattermapbox"
          }
         ],
         "name": "frame5"
        },
        {
         "data": [
          {
           "lat": [
            -32.890840000000004,
            -38.948093
           ],
           "lon": [
            -68.82717,
            -68.07764399999999
           ],
           "mode": "lines",
           "type": "scattermapbox"
          }
         ],
         "name": "frame6"
        },
        {
         "data": [
          {
           "lat": [
            -38.948093,
            -31.735546999999997
           ],
           "lon": [
            -68.07764399999999,
            -60.524664
           ],
           "mode": "lines",
           "type": "scattermapbox"
          }
         ],
         "name": "frame7"
        },
        {
         "data": [
          {
           "lat": [
            -31.735546999999997,
            -27.38225
           ],
           "lon": [
            -60.524664,
            -55.92013000000001
           ],
           "mode": "lines",
           "type": "scattermapbox"
          }
         ],
         "name": "frame8"
        },
        {
         "data": [
          {
           "lat": [
            -27.38225,
            -43.298843
           ],
           "lon": [
            -55.92013000000001,
            -65.092815
           ],
           "mode": "lines",
           "type": "scattermapbox"
          }
         ],
         "name": "frame9"
        },
        {
         "data": [
          {
           "lat": [
            -43.298843,
            -27.426056
           ],
           "lon": [
            -65.092815,
            -58.988848
           ],
           "mode": "lines",
           "type": "scattermapbox"
          }
         ],
         "name": "frame10"
        },
        {
         "data": [
          {
           "lat": [
            -27.426056,
            -51.627644000000004
           ],
           "lon": [
            -58.988848,
            -69.242917
           ],
           "mode": "lines",
           "type": "scattermapbox"
          }
         ],
         "name": "frame11"
        },
        {
         "data": [
          {
           "lat": [
            -51.627644000000004,
            -28.470552
           ],
           "lon": [
            -69.242917,
            -65.78580500000001
           ],
           "mode": "lines",
           "type": "scattermapbox"
          }
         ],
         "name": "frame12"
        },
        {
         "data": [
          {
           "lat": [
            -28.470552,
            -26.824140000000003
           ],
           "lon": [
            -65.78580500000001,
            -65.2226
           ],
           "mode": "lines",
           "type": "scattermapbox"
          }
         ],
         "name": "frame13"
        },
        {
         "data": [
          {
           "lat": [
            -26.824140000000003,
            -24.192795
           ],
           "lon": [
            -65.2226,
            -65.29888299999999
           ],
           "mode": "lines",
           "type": "scattermapbox"
          }
         ],
         "name": "frame14"
        },
        {
         "data": [
          {
           "lat": [
            -24.192795,
            -24.793298999999998
           ],
           "lon": [
            -65.29888299999999,
            -65.41314
           ],
           "mode": "lines",
           "type": "scattermapbox"
          }
         ],
         "name": "frame15"
        },
        {
         "data": [
          {
           "lat": [
            -24.793298999999998,
            -31.539365000000004
           ],
           "lon": [
            -65.41314,
            -68.534052
           ],
           "mode": "lines",
           "type": "scattermapbox"
          }
         ],
         "name": "frame16"
        },
        {
         "data": [
          {
           "lat": [
            -31.539365000000004,
            -33.29643
           ],
           "lon": [
            -68.534052,
            -66.320661
           ],
           "mode": "lines",
           "type": "scattermapbox"
          }
         ],
         "name": "frame17"
        },
        {
         "data": [
          {
           "lat": [
            -33.29643,
            -31.630437
           ],
           "lon": [
            -66.320661,
            -60.705592
           ],
           "mode": "lines",
           "type": "scattermapbox"
          }
         ],
         "name": "frame18"
        },
        {
         "data": [
          {
           "lat": [
            -31.630437,
            -36.619642
           ],
           "lon": [
            -60.705592,
            -64.285102
           ],
           "mode": "lines",
           "type": "scattermapbox"
          }
         ],
         "name": "frame19"
        },
        {
         "data": [
          {
           "lat": [
            -36.619642,
            -27.803519
           ],
           "lon": [
            -64.285102,
            -64.26808100000001
           ],
           "mode": "lines",
           "type": "scattermapbox"
          }
         ],
         "name": "frame20"
        },
        {
         "data": [
          {
           "lat": [
            -27.803519,
            -54.818684999999995
           ],
           "lon": [
            -64.26808100000001,
            -68.32900500000001
           ],
           "mode": "lines",
           "type": "scattermapbox"
          }
         ],
         "name": "frame21"
        },
        {
         "data": [
          {
           "lat": [
            -54.818684999999995,
            -40.815129999999996
           ],
           "lon": [
            -68.32900500000001,
            -62.995335
           ],
           "mode": "lines",
           "type": "scattermapbox"
          }
         ],
         "name": "frame22"
        }
       ],
       "layout": {
        "autosize": true,
        "hovermode": "closest",
        "mapbox": {
         "bearing": 0,
         "center": {
          "lat": -33.67878099318918,
          "lon": -64.2158450601363
         },
         "pitch": 0,
         "style": "open-street-map",
         "zoom": 3.4897685788017343
        },
        "margin": {
         "b": 0,
         "l": 0,
         "r": 0,
         "t": 0
        },
        "sliders": [
         {
          "active": 0,
          "currentvalue": {
           "font": {
            "size": 25
           },
           "prefix": "Capital: ",
           "visible": true,
           "xanchor": "center"
          },
          "len": 1,
          "steps": [
           {
            "args": [
             [
              "frame0"
             ],
             {
              "frame": {
               "duration": 400,
               "redraw": true
              },
              "mode": "immediate",
              "transition": {
               "duration": 0
              }
             }
            ],
            "label": "Cdad. de Bs. As.",
            "method": "animate"
           },
           {
            "args": [
             [
              "frame1"
             ],
             {
              "frame": {
               "duration": 400,
               "redraw": true
              },
              "mode": "immediate",
              "transition": {
               "duration": 0
              }
             }
            ],
            "label": "Córdoba",
            "method": "animate"
           },
           {
            "args": [
             [
              "frame2"
             ],
             {
              "frame": {
               "duration": 400,
               "redraw": true
              },
              "mode": "immediate",
              "transition": {
               "duration": 0
              }
             }
            ],
            "label": "Corrientes",
            "method": "animate"
           },
           {
            "args": [
             [
              "frame3"
             ],
             {
              "frame": {
               "duration": 400,
               "redraw": true
              },
              "mode": "immediate",
              "transition": {
               "duration": 0
              }
             }
            ],
            "label": "Formosa",
            "method": "animate"
           },
           {
            "args": [
             [
              "frame4"
             ],
             {
              "frame": {
               "duration": 400,
               "redraw": true
              },
              "mode": "immediate",
              "transition": {
               "duration": 0
              }
             }
            ],
            "label": "La Plata",
            "method": "animate"
           },
           {
            "args": [
             [
              "frame5"
             ],
             {
              "frame": {
               "duration": 400,
               "redraw": true
              },
              "mode": "immediate",
              "transition": {
               "duration": 0
              }
             }
            ],
            "label": "La Rioja",
            "method": "animate"
           },
           {
            "args": [
             [
              "frame6"
             ],
             {
              "frame": {
               "duration": 400,
               "redraw": true
              },
              "mode": "immediate",
              "transition": {
               "duration": 0
              }
             }
            ],
            "label": "Mendoza",
            "method": "animate"
           },
           {
            "args": [
             [
              "frame7"
             ],
             {
              "frame": {
               "duration": 400,
               "redraw": true
              },
              "mode": "immediate",
              "transition": {
               "duration": 0
              }
             }
            ],
            "label": "Neuquen",
            "method": "animate"
           },
           {
            "args": [
             [
              "frame8"
             ],
             {
              "frame": {
               "duration": 400,
               "redraw": true
              },
              "mode": "immediate",
              "transition": {
               "duration": 0
              }
             }
            ],
            "label": "Paraná",
            "method": "animate"
           },
           {
            "args": [
             [
              "frame9"
             ],
             {
              "frame": {
               "duration": 400,
               "redraw": true
              },
              "mode": "immediate",
              "transition": {
               "duration": 0
              }
             }
            ],
            "label": "Posadas",
            "method": "animate"
           },
           {
            "args": [
             [
              "frame10"
             ],
             {
              "frame": {
               "duration": 400,
               "redraw": true
              },
              "mode": "immediate",
              "transition": {
               "duration": 0
              }
             }
            ],
            "label": "Rawson",
            "method": "animate"
           },
           {
            "args": [
             [
              "frame11"
             ],
             {
              "frame": {
               "duration": 400,
               "redraw": true
              },
              "mode": "immediate",
              "transition": {
               "duration": 0
              }
             }
            ],
            "label": "Resistencia",
            "method": "animate"
           },
           {
            "args": [
             [
              "frame12"
             ],
             {
              "frame": {
               "duration": 400,
               "redraw": true
              },
              "mode": "immediate",
              "transition": {
               "duration": 0
              }
             }
            ],
            "label": "Río Gallegos",
            "method": "animate"
           },
           {
            "args": [
             [
              "frame13"
             ],
             {
              "frame": {
               "duration": 400,
               "redraw": true
              },
              "mode": "immediate",
              "transition": {
               "duration": 0
              }
             }
            ],
            "label": "S.F.d.V.d. Catamarca",
            "method": "animate"
           },
           {
            "args": [
             [
              "frame14"
             ],
             {
              "frame": {
               "duration": 400,
               "redraw": true
              },
              "mode": "immediate",
              "transition": {
               "duration": 0
              }
             }
            ],
            "label": "S.M. de Tucumán",
            "method": "animate"
           },
           {
            "args": [
             [
              "frame15"
             ],
             {
              "frame": {
               "duration": 400,
               "redraw": true
              },
              "mode": "immediate",
              "transition": {
               "duration": 0
              }
             }
            ],
            "label": "S.S. de Jujuy",
            "method": "animate"
           },
           {
            "args": [
             [
              "frame16"
             ],
             {
              "frame": {
               "duration": 400,
               "redraw": true
              },
              "mode": "immediate",
              "transition": {
               "duration": 0
              }
             }
            ],
            "label": "Salta",
            "method": "animate"
           },
           {
            "args": [
             [
              "frame17"
             ],
             {
              "frame": {
               "duration": 400,
               "redraw": true
              },
              "mode": "immediate",
              "transition": {
               "duration": 0
              }
             }
            ],
            "label": "San Juan",
            "method": "animate"
           },
           {
            "args": [
             [
              "frame18"
             ],
             {
              "frame": {
               "duration": 400,
               "redraw": true
              },
              "mode": "immediate",
              "transition": {
               "duration": 0
              }
             }
            ],
            "label": "San Luis",
            "method": "animate"
           },
           {
            "args": [
             [
              "frame19"
             ],
             {
              "frame": {
               "duration": 400,
               "redraw": true
              },
              "mode": "immediate",
              "transition": {
               "duration": 0
              }
             }
            ],
            "label": "Santa Fe",
            "method": "animate"
           },
           {
            "args": [
             [
              "frame20"
             ],
             {
              "frame": {
               "duration": 400,
               "redraw": true
              },
              "mode": "immediate",
              "transition": {
               "duration": 0
              }
             }
            ],
            "label": "Santa Rosa",
            "method": "animate"
           },
           {
            "args": [
             [
              "frame21"
             ],
             {
              "frame": {
               "duration": 400,
               "redraw": true
              },
              "mode": "immediate",
              "transition": {
               "duration": 0
              }
             }
            ],
            "label": "Sgo. del Estero",
            "method": "animate"
           },
           {
            "args": [
             [
              "frame22"
             ],
             {
              "frame": {
               "duration": 400,
               "redraw": true
              },
              "mode": "immediate",
              "transition": {
               "duration": 0
              }
             }
            ],
            "label": "Ushuaia",
            "method": "animate"
           },
           {
            "args": [
             [
              "frame23"
             ],
             {
              "frame": {
               "duration": 400,
               "redraw": true
              },
              "mode": "immediate",
              "transition": {
               "duration": 0
              }
             }
            ],
            "label": "Viedma",
            "method": "animate"
           }
          ],
          "transition": {
           "duration": 500,
           "easing": "cubic-in-out"
          },
          "x": 0,
          "y": 0
         }
        ],
        "template": {
         "data": {
          "bar": [
           {
            "error_x": {
             "color": "#2a3f5f"
            },
            "error_y": {
             "color": "#2a3f5f"
            },
            "marker": {
             "line": {
              "color": "#E5ECF6",
              "width": 0.5
             }
            },
            "type": "bar"
           }
          ],
          "barpolar": [
           {
            "marker": {
             "line": {
              "color": "#E5ECF6",
              "width": 0.5
             }
            },
            "type": "barpolar"
           }
          ],
          "carpet": [
           {
            "aaxis": {
             "endlinecolor": "#2a3f5f",
             "gridcolor": "white",
             "linecolor": "white",
             "minorgridcolor": "white",
             "startlinecolor": "#2a3f5f"
            },
            "baxis": {
             "endlinecolor": "#2a3f5f",
             "gridcolor": "white",
             "linecolor": "white",
             "minorgridcolor": "white",
             "startlinecolor": "#2a3f5f"
            },
            "type": "carpet"
           }
          ],
          "choropleth": [
           {
            "colorbar": {
             "outlinewidth": 0,
             "ticks": ""
            },
            "type": "choropleth"
           }
          ],
          "contour": [
           {
            "colorbar": {
             "outlinewidth": 0,
             "ticks": ""
            },
            "colorscale": [
             [
              0,
              "#0d0887"
             ],
             [
              0.1111111111111111,
              "#46039f"
             ],
             [
              0.2222222222222222,
              "#7201a8"
             ],
             [
              0.3333333333333333,
              "#9c179e"
             ],
             [
              0.4444444444444444,
              "#bd3786"
             ],
             [
              0.5555555555555556,
              "#d8576b"
             ],
             [
              0.6666666666666666,
              "#ed7953"
             ],
             [
              0.7777777777777778,
              "#fb9f3a"
             ],
             [
              0.8888888888888888,
              "#fdca26"
             ],
             [
              1,
              "#f0f921"
             ]
            ],
            "type": "contour"
           }
          ],
          "contourcarpet": [
           {
            "colorbar": {
             "outlinewidth": 0,
             "ticks": ""
            },
            "type": "contourcarpet"
           }
          ],
          "heatmap": [
           {
            "colorbar": {
             "outlinewidth": 0,
             "ticks": ""
            },
            "colorscale": [
             [
              0,
              "#0d0887"
             ],
             [
              0.1111111111111111,
              "#46039f"
             ],
             [
              0.2222222222222222,
              "#7201a8"
             ],
             [
              0.3333333333333333,
              "#9c179e"
             ],
             [
              0.4444444444444444,
              "#bd3786"
             ],
             [
              0.5555555555555556,
              "#d8576b"
             ],
             [
              0.6666666666666666,
              "#ed7953"
             ],
             [
              0.7777777777777778,
              "#fb9f3a"
             ],
             [
              0.8888888888888888,
              "#fdca26"
             ],
             [
              1,
              "#f0f921"
             ]
            ],
            "type": "heatmap"
           }
          ],
          "heatmapgl": [
           {
            "colorbar": {
             "outlinewidth": 0,
             "ticks": ""
            },
            "colorscale": [
             [
              0,
              "#0d0887"
             ],
             [
              0.1111111111111111,
              "#46039f"
             ],
             [
              0.2222222222222222,
              "#7201a8"
             ],
             [
              0.3333333333333333,
              "#9c179e"
             ],
             [
              0.4444444444444444,
              "#bd3786"
             ],
             [
              0.5555555555555556,
              "#d8576b"
             ],
             [
              0.6666666666666666,
              "#ed7953"
             ],
             [
              0.7777777777777778,
              "#fb9f3a"
             ],
             [
              0.8888888888888888,
              "#fdca26"
             ],
             [
              1,
              "#f0f921"
             ]
            ],
            "type": "heatmapgl"
           }
          ],
          "histogram": [
           {
            "marker": {
             "colorbar": {
              "outlinewidth": 0,
              "ticks": ""
             }
            },
            "type": "histogram"
           }
          ],
          "histogram2d": [
           {
            "colorbar": {
             "outlinewidth": 0,
             "ticks": ""
            },
            "colorscale": [
             [
              0,
              "#0d0887"
             ],
             [
              0.1111111111111111,
              "#46039f"
             ],
             [
              0.2222222222222222,
              "#7201a8"
             ],
             [
              0.3333333333333333,
              "#9c179e"
             ],
             [
              0.4444444444444444,
              "#bd3786"
             ],
             [
              0.5555555555555556,
              "#d8576b"
             ],
             [
              0.6666666666666666,
              "#ed7953"
             ],
             [
              0.7777777777777778,
              "#fb9f3a"
             ],
             [
              0.8888888888888888,
              "#fdca26"
             ],
             [
              1,
              "#f0f921"
             ]
            ],
            "type": "histogram2d"
           }
          ],
          "histogram2dcontour": [
           {
            "colorbar": {
             "outlinewidth": 0,
             "ticks": ""
            },
            "colorscale": [
             [
              0,
              "#0d0887"
             ],
             [
              0.1111111111111111,
              "#46039f"
             ],
             [
              0.2222222222222222,
              "#7201a8"
             ],
             [
              0.3333333333333333,
              "#9c179e"
             ],
             [
              0.4444444444444444,
              "#bd3786"
             ],
             [
              0.5555555555555556,
              "#d8576b"
             ],
             [
              0.6666666666666666,
              "#ed7953"
             ],
             [
              0.7777777777777778,
              "#fb9f3a"
             ],
             [
              0.8888888888888888,
              "#fdca26"
             ],
             [
              1,
              "#f0f921"
             ]
            ],
            "type": "histogram2dcontour"
           }
          ],
          "mesh3d": [
           {
            "colorbar": {
             "outlinewidth": 0,
             "ticks": ""
            },
            "type": "mesh3d"
           }
          ],
          "parcoords": [
           {
            "line": {
             "colorbar": {
              "outlinewidth": 0,
              "ticks": ""
             }
            },
            "type": "parcoords"
           }
          ],
          "pie": [
           {
            "automargin": true,
            "type": "pie"
           }
          ],
          "scatter": [
           {
            "marker": {
             "colorbar": {
              "outlinewidth": 0,
              "ticks": ""
             }
            },
            "type": "scatter"
           }
          ],
          "scatter3d": [
           {
            "line": {
             "colorbar": {
              "outlinewidth": 0,
              "ticks": ""
             }
            },
            "marker": {
             "colorbar": {
              "outlinewidth": 0,
              "ticks": ""
             }
            },
            "type": "scatter3d"
           }
          ],
          "scattercarpet": [
           {
            "marker": {
             "colorbar": {
              "outlinewidth": 0,
              "ticks": ""
             }
            },
            "type": "scattercarpet"
           }
          ],
          "scattergeo": [
           {
            "marker": {
             "colorbar": {
              "outlinewidth": 0,
              "ticks": ""
             }
            },
            "type": "scattergeo"
           }
          ],
          "scattergl": [
           {
            "marker": {
             "colorbar": {
              "outlinewidth": 0,
              "ticks": ""
             }
            },
            "type": "scattergl"
           }
          ],
          "scattermapbox": [
           {
            "marker": {
             "colorbar": {
              "outlinewidth": 0,
              "ticks": ""
             }
            },
            "type": "scattermapbox"
           }
          ],
          "scatterpolar": [
           {
            "marker": {
             "colorbar": {
              "outlinewidth": 0,
              "ticks": ""
             }
            },
            "type": "scatterpolar"
           }
          ],
          "scatterpolargl": [
           {
            "marker": {
             "colorbar": {
              "outlinewidth": 0,
              "ticks": ""
             }
            },
            "type": "scatterpolargl"
           }
          ],
          "scatterternary": [
           {
            "marker": {
             "colorbar": {
              "outlinewidth": 0,
              "ticks": ""
             }
            },
            "type": "scatterternary"
           }
          ],
          "surface": [
           {
            "colorbar": {
             "outlinewidth": 0,
             "ticks": ""
            },
            "colorscale": [
             [
              0,
              "#0d0887"
             ],
             [
              0.1111111111111111,
              "#46039f"
             ],
             [
              0.2222222222222222,
              "#7201a8"
             ],
             [
              0.3333333333333333,
              "#9c179e"
             ],
             [
              0.4444444444444444,
              "#bd3786"
             ],
             [
              0.5555555555555556,
              "#d8576b"
             ],
             [
              0.6666666666666666,
              "#ed7953"
             ],
             [
              0.7777777777777778,
              "#fb9f3a"
             ],
             [
              0.8888888888888888,
              "#fdca26"
             ],
             [
              1,
              "#f0f921"
             ]
            ],
            "type": "surface"
           }
          ],
          "table": [
           {
            "cells": {
             "fill": {
              "color": "#EBF0F8"
             },
             "line": {
              "color": "white"
             }
            },
            "header": {
             "fill": {
              "color": "#C8D4E3"
             },
             "line": {
              "color": "white"
             }
            },
            "type": "table"
           }
          ]
         },
         "layout": {
          "annotationdefaults": {
           "arrowcolor": "#2a3f5f",
           "arrowhead": 0,
           "arrowwidth": 1
          },
          "coloraxis": {
           "colorbar": {
            "outlinewidth": 0,
            "ticks": ""
           }
          },
          "colorscale": {
           "diverging": [
            [
             0,
             "#8e0152"
            ],
            [
             0.1,
             "#c51b7d"
            ],
            [
             0.2,
             "#de77ae"
            ],
            [
             0.3,
             "#f1b6da"
            ],
            [
             0.4,
             "#fde0ef"
            ],
            [
             0.5,
             "#f7f7f7"
            ],
            [
             0.6,
             "#e6f5d0"
            ],
            [
             0.7,
             "#b8e186"
            ],
            [
             0.8,
             "#7fbc41"
            ],
            [
             0.9,
             "#4d9221"
            ],
            [
             1,
             "#276419"
            ]
           ],
           "sequential": [
            [
             0,
             "#0d0887"
            ],
            [
             0.1111111111111111,
             "#46039f"
            ],
            [
             0.2222222222222222,
             "#7201a8"
            ],
            [
             0.3333333333333333,
             "#9c179e"
            ],
            [
             0.4444444444444444,
             "#bd3786"
            ],
            [
             0.5555555555555556,
             "#d8576b"
            ],
            [
             0.6666666666666666,
             "#ed7953"
            ],
            [
             0.7777777777777778,
             "#fb9f3a"
            ],
            [
             0.8888888888888888,
             "#fdca26"
            ],
            [
             1,
             "#f0f921"
            ]
           ],
           "sequentialminus": [
            [
             0,
             "#0d0887"
            ],
            [
             0.1111111111111111,
             "#46039f"
            ],
            [
             0.2222222222222222,
             "#7201a8"
            ],
            [
             0.3333333333333333,
             "#9c179e"
            ],
            [
             0.4444444444444444,
             "#bd3786"
            ],
            [
             0.5555555555555556,
             "#d8576b"
            ],
            [
             0.6666666666666666,
             "#ed7953"
            ],
            [
             0.7777777777777778,
             "#fb9f3a"
            ],
            [
             0.8888888888888888,
             "#fdca26"
            ],
            [
             1,
             "#f0f921"
            ]
           ]
          },
          "colorway": [
           "#636efa",
           "#EF553B",
           "#00cc96",
           "#ab63fa",
           "#FFA15A",
           "#19d3f3",
           "#FF6692",
           "#B6E880",
           "#FF97FF",
           "#FECB52"
          ],
          "font": {
           "color": "#2a3f5f"
          },
          "geo": {
           "bgcolor": "white",
           "lakecolor": "white",
           "landcolor": "#E5ECF6",
           "showlakes": true,
           "showland": true,
           "subunitcolor": "white"
          },
          "hoverlabel": {
           "align": "left"
          },
          "hovermode": "closest",
          "mapbox": {
           "style": "light"
          },
          "paper_bgcolor": "white",
          "plot_bgcolor": "#E5ECF6",
          "polar": {
           "angularaxis": {
            "gridcolor": "white",
            "linecolor": "white",
            "ticks": ""
           },
           "bgcolor": "#E5ECF6",
           "radialaxis": {
            "gridcolor": "white",
            "linecolor": "white",
            "ticks": ""
           }
          },
          "scene": {
           "xaxis": {
            "backgroundcolor": "#E5ECF6",
            "gridcolor": "white",
            "gridwidth": 2,
            "linecolor": "white",
            "showbackground": true,
            "ticks": "",
            "zerolinecolor": "white"
           },
           "yaxis": {
            "backgroundcolor": "#E5ECF6",
            "gridcolor": "white",
            "gridwidth": 2,
            "linecolor": "white",
            "showbackground": true,
            "ticks": "",
            "zerolinecolor": "white"
           },
           "zaxis": {
            "backgroundcolor": "#E5ECF6",
            "gridcolor": "white",
            "gridwidth": 2,
            "linecolor": "white",
            "showbackground": true,
            "ticks": "",
            "zerolinecolor": "white"
           }
          },
          "shapedefaults": {
           "line": {
            "color": "#2a3f5f"
           }
          },
          "ternary": {
           "aaxis": {
            "gridcolor": "white",
            "linecolor": "white",
            "ticks": ""
           },
           "baxis": {
            "gridcolor": "white",
            "linecolor": "white",
            "ticks": ""
           },
           "bgcolor": "#E5ECF6",
           "caxis": {
            "gridcolor": "white",
            "linecolor": "white",
            "ticks": ""
           }
          },
          "title": {
           "x": 0.05
          },
          "xaxis": {
           "automargin": true,
           "gridcolor": "white",
           "linecolor": "white",
           "ticks": "",
           "title": {
            "standoff": 15
           },
           "zerolinecolor": "white",
           "zerolinewidth": 2
          },
          "yaxis": {
           "automargin": true,
           "gridcolor": "white",
           "linecolor": "white",
           "ticks": "",
           "title": {
            "standoff": 15
           },
           "zerolinecolor": "white",
           "zerolinewidth": 2
          }
         }
        },
        "updatemenus": [
         {
          "buttons": [
           {
            "args": [
             null,
             {
              "frame": {
               "duration": 1000,
               "redraw": true
              },
              "fromcurrent": true,
              "transition": {
               "duration": 500,
               "easing": "cubic-in-out"
              }
             }
            ],
            "label": "Play",
            "method": "animate"
           },
           {
            "args": [
             [
              null
             ],
             {
              "frame": {
               "duration": 0,
               "redraw": true
              },
              "mode": "immediate",
              "transition": {
               "duration": 0
              }
             }
            ],
            "label": "Pause",
            "method": "animate"
           }
          ],
          "direction": "left",
          "pad": {
           "r": 10,
           "t": 87
          },
          "showactive": false,
          "type": "buttons",
          "x": 0.1,
          "xanchor": "right",
          "y": 0,
          "yanchor": "top"
         }
        ]
       }
      },
      "image/png": "[encoded data removed]",
      "text/html": [
       "<div>\n",
       "        \n",
       "        \n",
       "            <div id=\"a7bdc6d8-411a-468d-af35-0ce3685b9041\" class=\"plotly-graph-div\" style=\"height:525px; width:100%;\"></div>\n",
       "            <script type=\"text/javascript\">\n",
       "                require([\"plotly\"], function(Plotly) {\n",
       "                    window.PLOTLYENV=window.PLOTLYENV || {};\n",
       "                    \n",
       "                if (document.getElementById(\"a7bdc6d8-411a-468d-af35-0ce3685b9041\")) {\n",
       "                    Plotly.newPlot(\n",
       "                        'a7bdc6d8-411a-468d-af35-0ce3685b9041',\n",
       "                        [{\"hoverinfo\": \"text\", \"lat\": [-34.560063, -31.4135, -27.483745000000003, -26.18129, -34.920879, -29.416017999999998, -32.890840000000004, -38.948093, -31.735546999999997, -27.38225, -43.298843, -27.426056, -51.627644000000004, -28.470552, -26.824140000000003, -24.192795, -24.793298999999998, -31.539365000000004, -33.29643, -31.630437, -36.619642, -27.803519, -54.818684999999995, -40.815129999999996], \"lon\": [-58.390526, -64.18105, -58.812996, -58.190585999999996, -57.954325, -66.872266, -68.82717, -68.07764399999999, -60.524664, -55.92013000000001, -65.092815, -58.988848, -69.242917, -65.78580500000001, -65.2226, -65.29888299999999, -65.41314, -68.534052, -66.320661, -60.705592, -64.285102, -64.26808100000001, -68.32900500000001, -62.995335], \"text\": [\"Cdad. de Bs. As.\", \"C\\u00f3rdoba\", \"Corrientes\", \"Formosa\", \"La Plata\", \"La Rioja\", \"Mendoza\", \"Neuquen\", \"Paran\\u00e1\", \"Posadas\", \"Rawson\", \"Resistencia\", \"R\\u00edo Gallegos\", \"S.F.d.V.d. Catamarca\", \"S.M. de Tucum\\u00e1n\", \"S.S. de Jujuy\", \"Salta\", \"San Juan\", \"San Luis\", \"Santa Fe\", \"Santa Rosa\", \"Sgo. del Estero\", \"Ushuaia\", \"Viedma\"], \"type\": \"scattermapbox\"}],\n",
       "                        {\"autosize\": true, \"hovermode\": \"closest\", \"mapbox\": {\"center\": {\"lat\": -35.876958, \"lon\": -65.293389}, \"style\": \"open-street-map\", \"zoom\": 3}, \"margin\": {\"b\": 0, \"l\": 0, \"r\": 0, \"t\": 0}, \"sliders\": [{\"active\": 0, \"currentvalue\": {\"font\": {\"size\": 25}, \"prefix\": \"Capital: \", \"visible\": true, \"xanchor\": \"center\"}, \"len\": 1.0, \"steps\": [{\"args\": [[\"frame0\"], {\"frame\": {\"duration\": 400, \"redraw\": true}, \"mode\": \"immediate\", \"transition\": {\"duration\": 0}}], \"label\": \"Cdad. de Bs. As.\", \"method\": \"animate\"}, {\"args\": [[\"frame1\"], {\"frame\": {\"duration\": 400, \"redraw\": true}, \"mode\": \"immediate\", \"transition\": {\"duration\": 0}}], \"label\": \"C\\u00f3rdoba\", \"method\": \"animate\"}, {\"args\": [[\"frame2\"], {\"frame\": {\"duration\": 400, \"redraw\": true}, \"mode\": \"immediate\", \"transition\": {\"duration\": 0}}], \"label\": \"Corrientes\", \"method\": \"animate\"}, {\"args\": [[\"frame3\"], {\"frame\": {\"duration\": 400, \"redraw\": true}, \"mode\": \"immediate\", \"transition\": {\"duration\": 0}}], \"label\": \"Formosa\", \"method\": \"animate\"}, {\"args\": [[\"frame4\"], {\"frame\": {\"duration\": 400, \"redraw\": true}, \"mode\": \"immediate\", \"transition\": {\"duration\": 0}}], \"label\": \"La Plata\", \"method\": \"animate\"}, {\"args\": [[\"frame5\"], {\"frame\": {\"duration\": 400, \"redraw\": true}, \"mode\": \"immediate\", \"transition\": {\"duration\": 0}}], \"label\": \"La Rioja\", \"method\": \"animate\"}, {\"args\": [[\"frame6\"], {\"frame\": {\"duration\": 400, \"redraw\": true}, \"mode\": \"immediate\", \"transition\": {\"duration\": 0}}], \"label\": \"Mendoza\", \"method\": \"animate\"}, {\"args\": [[\"frame7\"], {\"frame\": {\"duration\": 400, \"redraw\": true}, \"mode\": \"immediate\", \"transition\": {\"duration\": 0}}], \"label\": \"Neuquen\", \"method\": \"animate\"}, {\"args\": [[\"frame8\"], {\"frame\": {\"duration\": 400, \"redraw\": true}, \"mode\": \"immediate\", \"transition\": {\"duration\": 0}}], \"label\": \"Paran\\u00e1\", \"method\": \"animate\"}, {\"args\": [[\"frame9\"], {\"frame\": {\"duration\": 400, \"redraw\": true}, \"mode\": \"immediate\", \"transition\": {\"duration\": 0}}], \"label\": \"Posadas\", \"method\": \"animate\"}, {\"args\": [[\"frame10\"], {\"frame\": {\"duration\": 400, \"redraw\": true}, \"mode\": \"immediate\", \"transition\": {\"duration\": 0}}], \"label\": \"Rawson\", \"method\": \"animate\"}, {\"args\": [[\"frame11\"], {\"frame\": {\"duration\": 400, \"redraw\": true}, \"mode\": \"immediate\", \"transition\": {\"duration\": 0}}], \"label\": \"Resistencia\", \"method\": \"animate\"}, {\"args\": [[\"frame12\"], {\"frame\": {\"duration\": 400, \"redraw\": true}, \"mode\": \"immediate\", \"transition\": {\"duration\": 0}}], \"label\": \"R\\u00edo Gallegos\", \"method\": \"animate\"}, {\"args\": [[\"frame13\"], {\"frame\": {\"duration\": 400, \"redraw\": true}, \"mode\": \"immediate\", \"transition\": {\"duration\": 0}}], \"label\": \"S.F.d.V.d. Catamarca\", \"method\": \"animate\"}, {\"args\": [[\"frame14\"], {\"frame\": {\"duration\": 400, \"redraw\": true}, \"mode\": \"immediate\", \"transition\": {\"duration\": 0}}], \"label\": \"S.M. de Tucum\\u00e1n\", \"method\": \"animate\"}, {\"args\": [[\"frame15\"], {\"frame\": {\"duration\": 400, \"redraw\": true}, \"mode\": \"immediate\", \"transition\": {\"duration\": 0}}], \"label\": \"S.S. de Jujuy\", \"method\": \"animate\"}, {\"args\": [[\"frame16\"], {\"frame\": {\"duration\": 400, \"redraw\": true}, \"mode\": \"immediate\", \"transition\": {\"duration\": 0}}], \"label\": \"Salta\", \"method\": \"animate\"}, {\"args\": [[\"frame17\"], {\"frame\": {\"duration\": 400, \"redraw\": true}, \"mode\": \"immediate\", \"transition\": {\"duration\": 0}}], \"label\": \"San Juan\", \"method\": \"animate\"}, {\"args\": [[\"frame18\"], {\"frame\": {\"duration\": 400, \"redraw\": true}, \"mode\": \"immediate\", \"transition\": {\"duration\": 0}}], \"label\": \"San Luis\", \"method\": \"animate\"}, {\"args\": [[\"frame19\"], {\"frame\": {\"duration\": 400, \"redraw\": true}, \"mode\": \"immediate\", \"transition\": {\"duration\": 0}}], \"label\": \"Santa Fe\", \"method\": \"animate\"}, {\"args\": [[\"frame20\"], {\"frame\": {\"duration\": 400, \"redraw\": true}, \"mode\": \"immediate\", \"transition\": {\"duration\": 0}}], \"label\": \"Santa Rosa\", \"method\": \"animate\"}, {\"args\": [[\"frame21\"], {\"frame\": {\"duration\": 400, \"redraw\": true}, \"mode\": \"immediate\", \"transition\": {\"duration\": 0}}], \"label\": \"Sgo. del Estero\", \"method\": \"animate\"}, {\"args\": [[\"frame22\"], {\"frame\": {\"duration\": 400, \"redraw\": true}, \"mode\": \"immediate\", \"transition\": {\"duration\": 0}}], \"label\": \"Ushuaia\", \"method\": \"animate\"}, {\"args\": [[\"frame23\"], {\"frame\": {\"duration\": 400, \"redraw\": true}, \"mode\": \"immediate\", \"transition\": {\"duration\": 0}}], \"label\": \"Viedma\", \"method\": \"animate\"}], \"transition\": {\"duration\": 500, \"easing\": \"cubic-in-out\"}, \"x\": 0, \"y\": 0}], \"template\": {\"data\": {\"bar\": [{\"error_x\": {\"color\": \"#2a3f5f\"}, \"error_y\": {\"color\": \"#2a3f5f\"}, \"marker\": {\"line\": {\"color\": \"#E5ECF6\", \"width\": 0.5}}, \"type\": \"bar\"}], \"barpolar\": [{\"marker\": {\"line\": {\"color\": \"#E5ECF6\", \"width\": 0.5}}, \"type\": \"barpolar\"}], \"carpet\": [{\"aaxis\": {\"endlinecolor\": \"#2a3f5f\", \"gridcolor\": \"white\", \"linecolor\": \"white\", \"minorgridcolor\": \"white\", \"startlinecolor\": \"#2a3f5f\"}, \"baxis\": {\"endlinecolor\": \"#2a3f5f\", \"gridcolor\": \"white\", \"linecolor\": \"white\", \"minorgridcolor\": \"white\", \"startlinecolor\": \"#2a3f5f\"}, \"type\": \"carpet\"}], \"choropleth\": [{\"colorbar\": {\"outlinewidth\": 0, \"ticks\": \"\"}, \"type\": \"choropleth\"}], \"contour\": [{\"colorbar\": {\"outlinewidth\": 0, \"ticks\": \"\"}, \"colorscale\": [[0.0, \"#0d0887\"], [0.1111111111111111, \"#46039f\"], [0.2222222222222222, \"#7201a8\"], [0.3333333333333333, \"#9c179e\"], [0.4444444444444444, \"#bd3786\"], [0.5555555555555556, \"#d8576b\"], [0.6666666666666666, \"#ed7953\"], [0.7777777777777778, \"#fb9f3a\"], [0.8888888888888888, \"#fdca26\"], [1.0, \"#f0f921\"]], \"type\": \"contour\"}], \"contourcarpet\": [{\"colorbar\": {\"outlinewidth\": 0, \"ticks\": \"\"}, \"type\": \"contourcarpet\"}], \"heatmap\": [{\"colorbar\": {\"outlinewidth\": 0, \"ticks\": \"\"}, \"colorscale\": [[0.0, \"#0d0887\"], [0.1111111111111111, \"#46039f\"], [0.2222222222222222, \"#7201a8\"], [0.3333333333333333, \"#9c179e\"], [0.4444444444444444, \"#bd3786\"], [0.5555555555555556, \"#d8576b\"], [0.6666666666666666, \"#ed7953\"], [0.7777777777777778, \"#fb9f3a\"], [0.8888888888888888, \"#fdca26\"], [1.0, \"#f0f921\"]], \"type\": \"heatmap\"}], \"heatmapgl\": [{\"colorbar\": {\"outlinewidth\": 0, \"ticks\": \"\"}, \"colorscale\": [[0.0, \"#0d0887\"], [0.1111111111111111, \"#46039f\"], [0.2222222222222222, \"#7201a8\"], [0.3333333333333333, \"#9c179e\"], [0.4444444444444444, \"#bd3786\"], [0.5555555555555556, \"#d8576b\"], [0.6666666666666666, \"#ed7953\"], [0.7777777777777778, \"#fb9f3a\"], [0.8888888888888888, \"#fdca26\"], [1.0, \"#f0f921\"]], \"type\": \"heatmapgl\"}], \"histogram\": [{\"marker\": {\"colorbar\": {\"outlinewidth\": 0, \"ticks\": \"\"}}, \"type\": \"histogram\"}], \"histogram2d\": [{\"colorbar\": {\"outlinewidth\": 0, \"ticks\": \"\"}, \"colorscale\": [[0.0, \"#0d0887\"], [0.1111111111111111, \"#46039f\"], [0.2222222222222222, \"#7201a8\"], [0.3333333333333333, \"#9c179e\"], [0.4444444444444444, \"#bd3786\"], [0.5555555555555556, \"#d8576b\"], [0.6666666666666666, \"#ed7953\"], [0.7777777777777778, \"#fb9f3a\"], [0.8888888888888888, \"#fdca26\"], [1.0, \"#f0f921\"]], \"type\": \"histogram2d\"}], \"histogram2dcontour\": [{\"colorbar\": {\"outlinewidth\": 0, \"ticks\": \"\"}, \"colorscale\": [[0.0, \"#0d0887\"], [0.1111111111111111, \"#46039f\"], [0.2222222222222222, \"#7201a8\"], [0.3333333333333333, \"#9c179e\"], [0.4444444444444444, \"#bd3786\"], [0.5555555555555556, \"#d8576b\"], [0.6666666666666666, \"#ed7953\"], [0.7777777777777778, \"#fb9f3a\"], [0.8888888888888888, \"#fdca26\"], [1.0, \"#f0f921\"]], \"type\": \"histogram2dcontour\"}], \"mesh3d\": [{\"colorbar\": {\"outlinewidth\": 0, \"ticks\": \"\"}, \"type\": \"mesh3d\"}], \"parcoords\": [{\"line\": {\"colorbar\": {\"outlinewidth\": 0, \"ticks\": \"\"}}, \"type\": \"parcoords\"}], \"pie\": [{\"automargin\": true, \"type\": \"pie\"}], \"scatter\": [{\"marker\": {\"colorbar\": {\"outlinewidth\": 0, \"ticks\": \"\"}}, \"type\": \"scatter\"}], \"scatter3d\": [{\"line\": {\"colorbar\": {\"outlinewidth\": 0, \"ticks\": \"\"}}, \"marker\": {\"colorbar\": {\"outlinewidth\": 0, \"ticks\": \"\"}}, \"type\": \"scatter3d\"}], \"scattercarpet\": [{\"marker\": {\"colorbar\": {\"outlinewidth\": 0, \"ticks\": \"\"}}, \"type\": \"scattercarpet\"}], \"scattergeo\": [{\"marker\": {\"colorbar\": {\"outlinewidth\": 0, \"ticks\": \"\"}}, \"type\": \"scattergeo\"}], \"scattergl\": [{\"marker\": {\"colorbar\": {\"outlinewidth\": 0, \"ticks\": \"\"}}, \"type\": \"scattergl\"}], \"scattermapbox\": [{\"marker\": {\"colorbar\": {\"outlinewidth\": 0, \"ticks\": \"\"}}, \"type\": \"scattermapbox\"}], \"scatterpolar\": [{\"marker\": {\"colorbar\": {\"outlinewidth\": 0, \"ticks\": \"\"}}, \"type\": \"scatterpolar\"}], \"scatterpolargl\": [{\"marker\": {\"colorbar\": {\"outlinewidth\": 0, \"ticks\": \"\"}}, \"type\": \"scatterpolargl\"}], \"scatterternary\": [{\"marker\": {\"colorbar\": {\"outlinewidth\": 0, \"ticks\": \"\"}}, \"type\": \"scatterternary\"}], \"surface\": [{\"colorbar\": {\"outlinewidth\": 0, \"ticks\": \"\"}, \"colorscale\": [[0.0, \"#0d0887\"], [0.1111111111111111, \"#46039f\"], [0.2222222222222222, \"#7201a8\"], [0.3333333333333333, \"#9c179e\"], [0.4444444444444444, \"#bd3786\"], [0.5555555555555556, \"#d8576b\"], [0.6666666666666666, \"#ed7953\"], [0.7777777777777778, \"#fb9f3a\"], [0.8888888888888888, \"#fdca26\"], [1.0, \"#f0f921\"]], \"type\": \"surface\"}], \"table\": [{\"cells\": {\"fill\": {\"color\": \"#EBF0F8\"}, \"line\": {\"color\": \"white\"}}, \"header\": {\"fill\": {\"color\": \"#C8D4E3\"}, \"line\": {\"color\": \"white\"}}, \"type\": \"table\"}]}, \"layout\": {\"annotationdefaults\": {\"arrowcolor\": \"#2a3f5f\", \"arrowhead\": 0, \"arrowwidth\": 1}, \"coloraxis\": {\"colorbar\": {\"outlinewidth\": 0, \"ticks\": \"\"}}, \"colorscale\": {\"diverging\": [[0, \"#8e0152\"], [0.1, \"#c51b7d\"], [0.2, \"#de77ae\"], [0.3, \"#f1b6da\"], [0.4, \"#fde0ef\"], [0.5, \"#f7f7f7\"], [0.6, \"#e6f5d0\"], [0.7, \"#b8e186\"], [0.8, \"#7fbc41\"], [0.9, \"#4d9221\"], [1, \"#276419\"]], \"sequential\": [[0.0, \"#0d0887\"], [0.1111111111111111, \"#46039f\"], [0.2222222222222222, \"#7201a8\"], [0.3333333333333333, \"#9c179e\"], [0.4444444444444444, \"#bd3786\"], [0.5555555555555556, \"#d8576b\"], [0.6666666666666666, \"#ed7953\"], [0.7777777777777778, \"#fb9f3a\"], [0.8888888888888888, \"#fdca26\"], [1.0, \"#f0f921\"]], \"sequentialminus\": [[0.0, \"#0d0887\"], [0.1111111111111111, \"#46039f\"], [0.2222222222222222, \"#7201a8\"], [0.3333333333333333, \"#9c179e\"], [0.4444444444444444, \"#bd3786\"], [0.5555555555555556, \"#d8576b\"], [0.6666666666666666, \"#ed7953\"], [0.7777777777777778, \"#fb9f3a\"], [0.8888888888888888, \"#fdca26\"], [1.0, \"#f0f921\"]]}, \"colorway\": [\"#636efa\", \"#EF553B\", \"#00cc96\", \"#ab63fa\", \"#FFA15A\", \"#19d3f3\", \"#FF6692\", \"#B6E880\", \"#FF97FF\", \"#FECB52\"], \"font\": {\"color\": \"#2a3f5f\"}, \"geo\": {\"bgcolor\": \"white\", \"lakecolor\": \"white\", \"landcolor\": \"#E5ECF6\", \"showlakes\": true, \"showland\": true, \"subunitcolor\": \"white\"}, \"hoverlabel\": {\"align\": \"left\"}, \"hovermode\": \"closest\", \"mapbox\": {\"style\": \"light\"}, \"paper_bgcolor\": \"white\", \"plot_bgcolor\": \"#E5ECF6\", \"polar\": {\"angularaxis\": {\"gridcolor\": \"white\", \"linecolor\": \"white\", \"ticks\": \"\"}, \"bgcolor\": \"#E5ECF6\", \"radialaxis\": {\"gridcolor\": \"white\", \"linecolor\": \"white\", \"ticks\": \"\"}}, \"scene\": {\"xaxis\": {\"backgroundcolor\": \"#E5ECF6\", \"gridcolor\": \"white\", \"gridwidth\": 2, \"linecolor\": \"white\", \"showbackground\": true, \"ticks\": \"\", \"zerolinecolor\": \"white\"}, \"yaxis\": {\"backgroundcolor\": \"#E5ECF6\", \"gridcolor\": \"white\", \"gridwidth\": 2, \"linecolor\": \"white\", \"showbackground\": true, \"ticks\": \"\", \"zerolinecolor\": \"white\"}, \"zaxis\": {\"backgroundcolor\": \"#E5ECF6\", \"gridcolor\": \"white\", \"gridwidth\": 2, \"linecolor\": \"white\", \"showbackground\": true, \"ticks\": \"\", \"zerolinecolor\": \"white\"}}, \"shapedefaults\": {\"line\": {\"color\": \"#2a3f5f\"}}, \"ternary\": {\"aaxis\": {\"gridcolor\": \"white\", \"linecolor\": \"white\", \"ticks\": \"\"}, \"baxis\": {\"gridcolor\": \"white\", \"linecolor\": \"white\", \"ticks\": \"\"}, \"bgcolor\": \"#E5ECF6\", \"caxis\": {\"gridcolor\": \"white\", \"linecolor\": \"white\", \"ticks\": \"\"}}, \"title\": {\"x\": 0.05}, \"xaxis\": {\"automargin\": true, \"gridcolor\": \"white\", \"linecolor\": \"white\", \"ticks\": \"\", \"title\": {\"standoff\": 15}, \"zerolinecolor\": \"white\", \"zerolinewidth\": 2}, \"yaxis\": {\"automargin\": true, \"gridcolor\": \"white\", \"linecolor\": \"white\", \"ticks\": \"\", \"title\": {\"standoff\": 15}, \"zerolinecolor\": \"white\", \"zerolinewidth\": 2}}}, \"updatemenus\": [{\"buttons\": [{\"args\": [null, {\"frame\": {\"duration\": 1000, \"redraw\": true}, \"fromcurrent\": true, \"transition\": {\"duration\": 500, \"easing\": \"cubic-in-out\"}}], \"label\": \"Play\", \"method\": \"animate\"}, {\"args\": [[null], {\"frame\": {\"duration\": 0, \"redraw\": true}, \"mode\": \"immediate\", \"transition\": {\"duration\": 0}}], \"label\": \"Pause\", \"method\": \"animate\"}], \"direction\": \"left\", \"pad\": {\"r\": 10, \"t\": 87}, \"showactive\": false, \"type\": \"buttons\", \"x\": 0.1, \"xanchor\": \"right\", \"y\": 0, \"yanchor\": \"top\"}]},\n",
       "                        {\"responsive\": true}\n",
       "                    ).then(function(){\n",
       "                            Plotly.addFrames('a7bdc6d8-411a-468d-af35-0ce3685b9041', [{\"data\": [{\"lat\": [-34.560063, -31.4135], \"lon\": [-58.390526, -64.18105], \"mode\": \"lines\", \"type\": \"scattermapbox\"}], \"name\": \"frame0\"}, {\"data\": [{\"lat\": [-31.4135, -27.483745000000003], \"lon\": [-64.18105, -58.812996], \"mode\": \"lines\", \"type\": \"scattermapbox\"}], \"name\": \"frame1\"}, {\"data\": [{\"lat\": [-27.483745000000003, -26.18129], \"lon\": [-58.812996, -58.190585999999996], \"mode\": \"lines\", \"type\": \"scattermapbox\"}], \"name\": \"frame2\"}, {\"data\": [{\"lat\": [-26.18129, -34.920879], \"lon\": [-58.190585999999996, -57.954325], \"mode\": \"lines\", \"type\": \"scattermapbox\"}], \"name\": \"frame3\"}, {\"data\": [{\"lat\": [-34.920879, -29.416017999999998], \"lon\": [-57.954325, -66.872266], \"mode\": \"lines\", \"type\": \"scattermapbox\"}], \"name\": \"frame4\"}, {\"data\": [{\"lat\": [-29.416017999999998, -32.890840000000004], \"lon\": [-66.872266, -68.82717], \"mode\": \"lines\", \"type\": \"scattermapbox\"}], \"name\": \"frame5\"}, {\"data\": [{\"lat\": [-32.890840000000004, -38.948093], \"lon\": [-68.82717, -68.07764399999999], \"mode\": \"lines\", \"type\": \"scattermapbox\"}], \"name\": \"frame6\"}, {\"data\": [{\"lat\": [-38.948093, -31.735546999999997], \"lon\": [-68.07764399999999, -60.524664], \"mode\": \"lines\", \"type\": \"scattermapbox\"}], \"name\": \"frame7\"}, {\"data\": [{\"lat\": [-31.735546999999997, -27.38225], \"lon\": [-60.524664, -55.92013000000001], \"mode\": \"lines\", \"type\": \"scattermapbox\"}], \"name\": \"frame8\"}, {\"data\": [{\"lat\": [-27.38225, -43.298843], \"lon\": [-55.92013000000001, -65.092815], \"mode\": \"lines\", \"type\": \"scattermapbox\"}], \"name\": \"frame9\"}, {\"data\": [{\"lat\": [-43.298843, -27.426056], \"lon\": [-65.092815, -58.988848], \"mode\": \"lines\", \"type\": \"scattermapbox\"}], \"name\": \"frame10\"}, {\"data\": [{\"lat\": [-27.426056, -51.627644000000004], \"lon\": [-58.988848, -69.242917], \"mode\": \"lines\", \"type\": \"scattermapbox\"}], \"name\": \"frame11\"}, {\"data\": [{\"lat\": [-51.627644000000004, -28.470552], \"lon\": [-69.242917, -65.78580500000001], \"mode\": \"lines\", \"type\": \"scattermapbox\"}], \"name\": \"frame12\"}, {\"data\": [{\"lat\": [-28.470552, -26.824140000000003], \"lon\": [-65.78580500000001, -65.2226], \"mode\": \"lines\", \"type\": \"scattermapbox\"}], \"name\": \"frame13\"}, {\"data\": [{\"lat\": [-26.824140000000003, -24.192795], \"lon\": [-65.2226, -65.29888299999999], \"mode\": \"lines\", \"type\": \"scattermapbox\"}], \"name\": \"frame14\"}, {\"data\": [{\"lat\": [-24.192795, -24.793298999999998], \"lon\": [-65.29888299999999, -65.41314], \"mode\": \"lines\", \"type\": \"scattermapbox\"}], \"name\": \"frame15\"}, {\"data\": [{\"lat\": [-24.793298999999998, -31.539365000000004], \"lon\": [-65.41314, -68.534052], \"mode\": \"lines\", \"type\": \"scattermapbox\"}], \"name\": \"frame16\"}, {\"data\": [{\"lat\": [-31.539365000000004, -33.29643], \"lon\": [-68.534052, -66.320661], \"mode\": \"lines\", \"type\": \"scattermapbox\"}], \"name\": \"frame17\"}, {\"data\": [{\"lat\": [-33.29643, -31.630437], \"lon\": [-66.320661, -60.705592], \"mode\": \"lines\", \"type\": \"scattermapbox\"}], \"name\": \"frame18\"}, {\"data\": [{\"lat\": [-31.630437, -36.619642], \"lon\": [-60.705592, -64.285102], \"mode\": \"lines\", \"type\": \"scattermapbox\"}], \"name\": \"frame19\"}, {\"data\": [{\"lat\": [-36.619642, -27.803519], \"lon\": [-64.285102, -64.26808100000001], \"mode\": \"lines\", \"type\": \"scattermapbox\"}], \"name\": \"frame20\"}, {\"data\": [{\"lat\": [-27.803519, -54.818684999999995], \"lon\": [-64.26808100000001, -68.32900500000001], \"mode\": \"lines\", \"type\": \"scattermapbox\"}], \"name\": \"frame21\"}, {\"data\": [{\"lat\": [-54.818684999999995, -40.815129999999996], \"lon\": [-68.32900500000001, -62.995335], \"mode\": \"lines\", \"type\": \"scattermapbox\"}], \"name\": \"frame22\"}]);\n",
       "                        }).then(function(){\n",
       "                            \n",
       "var gd = document.getElementById('a7bdc6d8-411a-468d-af35-0ce3685b9041');\n",
       "var x = new MutationObserver(function (mutations, observer) {{\n",
       "        var display = window.getComputedStyle(gd).display;\n",
       "        if (!display || display === 'none') {{\n",
       "            console.log([gd, 'removed!']);\n",
       "            Plotly.purge(gd);\n",
       "            observer.disconnect();\n",
       "        }}\n",
       "}});\n",
       "\n",
       "// Listen for the removal of the full notebook cells\n",
       "var notebookContainer = gd.closest('#notebook-container');\n",
       "if (notebookContainer) {{\n",
       "    x.observe(notebookContainer, {childList: true});\n",
       "}}\n",
       "\n",
       "// Listen for the clearing of the current output cell\n",
       "var outputEl = gd.closest('.output');\n",
       "if (outputEl) {{\n",
       "    x.observe(outputEl, {childList: true});\n",
       "}}\n",
       "\n",
       "                        })\n",
       "                };\n",
       "                });\n",
       "            </script>\n",
       "        </div>"
      ]
     },
     "metadata": {},
     "output_type": "display_data"
    }
   ],
   "source": [
    "# primero, dibujo los cuadros que se animarán, cada uno es un mapa que tiene más trayectorias que el anterior\n",
    "mantener_trazo = False\n",
    "frames = []\n",
    "if mantener_trazo:\n",
    "    for k in range(len(cap)):\n",
    "        frames.append(go.Frame(data=[go.Scattermapbox(mode='lines', lat=cap['latitud'][:k+1],  lon=cap['longitud'][:k+1])], name=f'frame{k}'))\n",
    "else:\n",
    "    for k in range(len(cap)-1):\n",
    "        frames.append(go.Frame(data=[go.Scattermapbox(mode='lines', lat=[cap['latitud'][k], cap['latitud'][k+1]],  lon=[cap['longitud'][k], cap['longitud'][k+1]])], name=f'frame{k}'))\n",
    "# dibujo la figura, y le asigno los cuadros\n",
    "fig = go.Figure(\n",
    "    data=go.Scattermapbox(\n",
    "        lat=cap['latitud'], \n",
    "        lon=cap['longitud'],\n",
    "        text=cap['capital'],\n",
    "        hoverinfo='text'\n",
    "    ),\n",
    "    layout=go.Layout(),\n",
    "    frames=frames\n",
    ")\n",
    "\n",
    "\n",
    "updatemenus = [dict(\n",
    "        buttons = [\n",
    "            dict(\n",
    "                args = [None, {\"frame\": {\"duration\": 1000, \"redraw\": True},\n",
    "                                \"fromcurrent\": True, \"transition\": {\"duration\": 500, 'easing': 'cubic-in-out'}}],\n",
    "                label = \"Play\",\n",
    "                method = \"animate\"\n",
    "                ),\n",
    "            dict(\n",
    "                 args = [[None], {\"frame\": {\"duration\": 0, \"redraw\": True},\n",
    "                                  \"mode\": \"immediate\",\n",
    "                                  \"transition\": {\"duration\": 0}}],\n",
    "                label = \"Pause\",\n",
    "                method = \"animate\"\n",
    "                )\n",
    "        ],\n",
    "        direction = \"left\",\n",
    "        pad = {\"r\": 10, \"t\": 87},\n",
    "        showactive = False,\n",
    "        type = \"buttons\",\n",
    "        x = 0.1,\n",
    "        xanchor = \"right\",\n",
    "        y = 0,\n",
    "        yanchor = \"top\"\n",
    "    )]  \n",
    "\n",
    "sliders = [dict(steps = [dict(method= 'animate',\n",
    "                              args= [[f'frame{k}'],                           \n",
    "                              dict(mode= 'immediate',\n",
    "                                   frame=dict(duration=400, redraw=True),\n",
    "                                   transition=dict(duration= 0))\n",
    "                                 ],\n",
    "                              label=f'{cap[\"capital\"][k]}'\n",
    "                             ) for k in range(len(cap))], \n",
    "                active=0,\n",
    "                transition={'duration':500 , 'easing': 'cubic-in-out'},\n",
    "                x=0, # slider starting position  \n",
    "                y=0, \n",
    "                currentvalue=dict(font=dict(size=25), \n",
    "                                  prefix='Capital: ', \n",
    "                                  visible=True, \n",
    "                                  xanchor= 'center'\n",
    "                                 ),  \n",
    "                len=1.0) #slider length\n",
    "           ]\n",
    "fig.update_layout(updatemenus = updatemenus, sliders = sliders)\n",
    "\n",
    "\n",
    "fig.update_layout(margin={\"r\":0,\"t\":0,\"l\":0,\"b\":0})\n",
    "fig.update_layout(mapbox_style=\"open-street-map\")\n",
    "fig.update_layout(\n",
    "    autosize=True,\n",
    "    hovermode='closest',\n",
    "    mapbox=dict(\n",
    "        center=dict(\n",
    "            lat=-35.876958,\n",
    "            lon=-65.293389\n",
    "        ),\n",
    "        zoom=3\n",
    "    ),\n",
    ")\n",
    "fig.show()"
   ]
  },
  {
   "cell_type": "code",
   "execution_count": null,
   "metadata": {},
   "outputs": [],
   "source": []
  }
 ],
 "metadata": {
  "kernelspec": {
   "display_name": "Python 3",
   "language": "python",
   "name": "python3"
  },
  "language_info": {
   "codemirror_mode": {
    "name": "ipython",
    "version": 3
   },
   "file_extension": ".py",
   "mimetype": "text/x-python",
   "name": "python",
   "nbconvert_exporter": "python",
   "pygments_lexer": "ipython3",
   "version": "3.8.0"
  }
 },
 "nbformat": 4,
 "nbformat_minor": 4
}
