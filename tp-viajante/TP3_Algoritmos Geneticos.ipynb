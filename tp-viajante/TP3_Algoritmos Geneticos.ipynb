{
 "cells": [
  {
   "cell_type": "code",
   "execution_count": 1,
   "metadata": {},
   "outputs": [],
   "source": [
    "import numpy as np\n",
    "import matplotlib.pyplot as plt\n",
    "import pandas as pd\n",
    "from operator import itemgetter\n",
    "import matplotlib as mpl\n",
    "import matplotlib.pyplot as plt\n",
    "from timeit import time\n",
    "import itertools # para generar las permutaciones del exhaustivo\n",
    "import matplotlib.pyplot as plt\n",
    "\n",
    "capitales = pd.read_csv('capitales.csv')\n",
    "\n",
    "# ------------------------ formateo de tabla de distancias\n",
    "tabla_distancias = pd.read_csv('distancias_capitales.csv')\n",
    "tabla_distancias = tabla_distancias.rename(columns={'Distancias en kilómetros': 'Capital'})\n",
    "columnas = ['capital']\n",
    "for i in range(24):\n",
    "    columnas.append(i)\n",
    "tabla_distancias.columns = columnas\n",
    "# ------------------------"
   ]
  },
  {
   "cell_type": "code",
   "execution_count": 30,
   "metadata": {},
   "outputs": [
    {
     "name": "stdout",
     "output_type": "stream",
     "text": [
      "[646, 792, 933, 53, 986, 985, 989, 375, 834, 1127, 794, 2082, 979, 1080, 1334, 1282, 1005, 749, 393, 579, 939, 2373]\n",
      "53\n",
      "['5']\n"
     ]
    }
   ],
   "source": [
    "capitales=pd.read_excel('CapitalesArg.xlsx', index_col=None, header=None)\n",
    "a=[]\n",
    "a=list(capitales[1][1:24])\n",
    "b=[]\n",
    "for i in range(len(a)):\n",
    "    if type(a[i])!=float:\n",
    "        b.append(int(a[i]))\n",
    "print(b[:])\n",
    "print(str(np.min(b)))\n",
    "min=str(np.min(b))\n",
    "recorrido=[]\n",
    "capis=capitales[1][1:24]\n",
    "for id, cap in enumerate (capis):\n",
    "                if cap==min:\n",
    "                    recorrido.append(str(id+1))\n",
    "print(recorrido)"
   ]
  },
  {
   "cell_type": "code",
   "execution_count": null,
   "metadata": {},
   "outputs": [],
   "source": [
    "def formatear(tabla_capitales, recorrido):\n",
    "    # devuelve una tabla con latitudes y longitudes, ordenada por orden de recorrido lista para ser impresa en el mapa\n",
    "    tabla_final = pd.DataFrame(columns=['capital', 'latitud', 'longitud'])\n",
    "    \n",
    "    for i in range(len(recorrido)):\n",
    "        tabla_final = tabla_final.append(tabla_capitales.iloc[recorrido[i]])\n",
    "        \n",
    "    return tabla_final"
   ]
  },
  {
   "cell_type": "markdown",
   "metadata": {},
   "source": [
    "# Método Heuristico con Restricción de Ciudad"
   ]
  },
  {
   "cell_type": "code",
   "execution_count": 2,
   "metadata": {},
   "outputs": [],
   "source": [
    "def main_heuristicoA(tabla_distancias, nro_ciudad):\n",
    "    t0 = time.perf_counter()\n",
    "\n",
    "    recorrido = []\n",
    "    recorrido.append(nro_ciudad)\n",
    "    distancia_recorrida = 0\n",
    "    \n",
    "    id_capital_sig = nro_ciudad #\n",
    "    tabla_auxiliar = tabla_distancias[id_capital_sig].copy() #inicializar tabla auxiliar\n",
    "\n",
    "    while len(recorrido) < len(tabla_distancias):  # len(tabla_distancias) -> 24\n",
    "    \n",
    "        distancia_mas_cercana = tabla_auxiliar.min()\n",
    "        id_capital_sig = tabla_auxiliar.idxmin()\n",
    "        \n",
    "        if id_capital_sig in recorrido:  # si verdadero, esa capital ya se visitó y por lo tanto se elimina de tabla auxiliar\n",
    "            tabla_auxiliar = tabla_auxiliar.drop(id_capital_sig) \n",
    "        else:\n",
    "            distancia_recorrida += distancia_mas_cercana  \n",
    "            recorrido.append(id_capital_sig)\n",
    "            tabla_auxiliar = tabla_distancias[id_capital_sig].copy() # reinicio la tabla auxiliar para que tenga todas las filas\n",
    "    \n",
    "    recorrido.append(nro_ciudad) #vuelvo a la ciudad de inicio\n",
    "    distancia_recorrida += tabla_distancias[recorrido[-1]][recorrido[-2]] # sumo la distancia de vuelta a casa\n",
    "    tf = time.perf_counter()\n",
    "    tiempo_ejecucion = tf - t0\n",
    "    return recorrido, distancia_recorrida, tiempo_ejecucion"
   ]
  },
  {
   "cell_type": "markdown",
   "metadata": {},
   "source": [
    "# Método Heurístico sin Ingreso de Ciudad"
   ]
  },
  {
   "cell_type": "code",
   "execution_count": null,
   "metadata": {},
   "outputs": [],
   "source": [
    "def main_heuristicoB(tabla_distancias):\n",
    "    t0 = time.perf_counter()\n",
    "    menor_distancia = 99999999999\n",
    "\n",
    "    for i in range(len(tabla_distancias)):\n",
    "        recorrido_actual = []\n",
    "        recorrido_actual.append(i)\n",
    "        distancia_recorrida = 0\n",
    "        tabla_auxiliar = tabla_distancias[i].copy() #inicializar tabla auxiliar\n",
    "\n",
    "        while len(recorrido_actual) < len(tabla_distancias): \n",
    "            distancia_mas_cercana = tabla_auxiliar.min()\n",
    "            id_capital_sig = tabla_auxiliar.idxmin()\n",
    "            \n",
    "            if id_capital_sig in recorrido_actual:  # si verdadero, esa capital ya se visitó y por lo tanto se elimina de tabla auxiliar\n",
    "                tabla_auxiliar = tabla_auxiliar.drop(id_capital_sig) \n",
    "            else:\n",
    "                distancia_recorrida += distancia_mas_cercana  \n",
    "                recorrido_actual.append(id_capital_sig)\n",
    "                tabla_auxiliar = tabla_distancias[id_capital_sig].copy() # reinicio la tabla auxiliar para que tenga todas las filas\n",
    "        \n",
    "        recorrido_actual.append(i) #vuelvo a la ciudad de inicio\n",
    "        distancia_recorrida += tabla_distancias[recorrido_actual[-1]][recorrido_actual[-2]] # sumo la distancia de vuelta a casa\n",
    "\n",
    "        if distancia_recorrida < menor_distancia:\n",
    "            menor_distancia = distancia_recorrida\n",
    "            menor_recorrido = recorrido_actual\n",
    "\n",
    "    tf = time.perf_counter()\n",
    "    tiempo_ejecucion = tf - t0\n",
    "    return menor_recorrido, menor_distancia, tiempo_ejecucion"
   ]
  },
  {
   "cell_type": "markdown",
   "metadata": {},
   "source": [
    "# Resolución con Alg. Genéticos"
   ]
  },
  {
   "cell_type": "code",
   "execution_count": 2,
   "metadata": {},
   "outputs": [],
   "source": [
    "def inicializar(tamaño_poblacion, longitud_cromosoma):\n",
    "    poblacion_inicial = []\n",
    "    for i in range(tamaño_poblacion):\n",
    "        num = []\n",
    "        num.append(np.random.randint(0,24))\n",
    "        for i in range(1, longitud_cromosoma-1):\n",
    "            band=True\n",
    "            while(band==True):\n",
    "                prov=np.random.randint(0,24)\n",
    "                repetido=0\n",
    "                for j in (num):\n",
    "                    if prov==j:\n",
    "                        repetido=repetido+1\n",
    "                if repetido<1:\n",
    "                    num.append(prov)\n",
    "                    band=False\n",
    "        num.append(num[0])\n",
    "        poblacion_inicial.append(num)\n",
    "\n",
    "    return poblacion_inicial"
   ]
  },
  {
   "cell_type": "code",
   "execution_count": 3,
   "metadata": {},
   "outputs": [],
   "source": [
    "def mutacion(cromosoma):\n",
    "    # se aplica una swap mutation.\n",
    "    aux = cromosoma[:-1]  # aux es el cromosoma pero sin la vuelta a casa\n",
    "    \n",
    "    provA = np.random.randint(0, len(cromosoma)-1)\n",
    "    provB = np.random.randint(0, len(cromosoma)-1)\n",
    "    band=False\n",
    "    while (band==False):\n",
    "        if provA==provB:\n",
    "            provB = np.random.randint(0, len(cromosoma)-1)\n",
    "        else:\n",
    "            band=True\n",
    "    A=aux[provA]\n",
    "    B=aux[provB]\n",
    "    aux[provA]=B\n",
    "    aux[provB]=A\n",
    "    \n",
    "    aux.append(aux[0]) # vuelvo a agregar la vuelta a casa\n",
    "    return aux"
   ]
  },
  {
   "cell_type": "code",
   "execution_count": 4,
   "metadata": {},
   "outputs": [],
   "source": [
    "def crossover_ciclico(padre1, padre2):\n",
    "    \n",
    "    hijo1 = []\n",
    "    hijo2 = []\n",
    "    for i in range(len(padre1)):\n",
    "        hijo1.append(-1)\n",
    "        hijo2.append(-1)\n",
    "        \n",
    "    # HIJO 1\n",
    "    valor_inicial = padre1[0]\n",
    "    hijo1[0] = valor_inicial\n",
    "    gen = padre2[0]\n",
    " \n",
    "    i = 1\n",
    "    while True:\n",
    "        if padre1[0] == padre2[0]:\n",
    "            break\n",
    "        if padre1[i] == gen:\n",
    "            hijo1[i] = gen\n",
    "            gen = padre2[i]\n",
    "            if valor_inicial == padre2[i]:\n",
    "                break\n",
    "        if i >= len(padre1)-1:\n",
    "            i = 1\n",
    "        else:\n",
    "            i += 1\n",
    "    #intercambiar los que quedaron vacíos\n",
    "    for i, prov in enumerate(hijo1):\n",
    "        if prov == -1:\n",
    "            hijo1[i] = padre2[i]\n",
    "            \n",
    "    # HIJO 2\n",
    "    valor_inicial = padre2[0]\n",
    "    hijo2[0] = valor_inicial\n",
    "    gen = padre1[0]\n",
    " \n",
    "    i = 1\n",
    "    while True:\n",
    "        if padre1[0] == padre2[0]:\n",
    "            break\n",
    "        if padre2[i] == gen:\n",
    "            hijo2[i] = gen\n",
    "            gen = padre1[i]\n",
    "            if valor_inicial == padre1[i]:\n",
    "                break\n",
    "        if i >= len(padre1)-1:\n",
    "            i = 1\n",
    "        else:\n",
    "            i += 1\n",
    "    \n",
    "    #intercambiar los que quedaron vacíos\n",
    "    for i, prov in enumerate(hijo2):\n",
    "        if prov == -1:\n",
    "            hijo2[i] = padre1[i]\n",
    "    \n",
    "    return hijo1, hijo2"
   ]
  },
  {
   "cell_type": "code",
   "execution_count": 5,
   "metadata": {},
   "outputs": [],
   "source": [
    "def funcion_objetivo(tabla_distancias, recorrido):\n",
    "    '''\n",
    "    dado un recorrido [ciudad 1, ciudad 2,  .., ciudad n, ciudad 1], calcula la longitud del trayecto\n",
    "    '''\n",
    "    distancia_recorrida = 0\n",
    "    for i in range(len(recorrido) - 1):\n",
    "        distancia_actual = tabla_distancias[recorrido[i]][recorrido[i+1]]\n",
    "        distancia_recorrida += distancia_actual\n",
    "    return distancia_recorrida"
   ]
  },
  {
   "cell_type": "code",
   "execution_count": 6,
   "metadata": {},
   "outputs": [],
   "source": [
    "def fitness(cromosoma, f_obj, distancias):\n",
    "    #fitness=[(fobj - recorrido) / fobj)]\n",
    "    recorrido=0\n",
    "    id=0\n",
    "    for prov in cromosoma:\n",
    "        if id < len(cromosoma) - 1:\n",
    "            recorrido=int(distancias[int(prov)][int(cromosoma[id+1])])+recorrido\n",
    "            id=id+1\n",
    "    recorrido=recorrido+int(distancias[int(cromosoma[-2])][int(cromosoma[-1])])\n",
    "    fitness=(f_obj-recorrido)/f_obj\n",
    "    return fitness"
   ]
  },
  {
   "cell_type": "code",
   "execution_count": 7,
   "metadata": {},
   "outputs": [],
   "source": [
    "def fitness_v2(poblacion, cromosoma):\n",
    "    objetivo_cromosoma = funcion_objetivo(tabla_distancias, cromosoma)\n",
    "    \n",
    "    suma_objetivo = 0\n",
    "    for r in poblacion:\n",
    "        suma_objetivo += funcion_objetivo(tabla_distancias, r)\n",
    "        \n",
    "    suma_complemento = 0\n",
    "    for r in poblacion:\n",
    "        suma_complemento += suma_objetivo - funcion_objetivo(tabla_distancias, r)\n",
    "        \n",
    "    fitness = (suma_objetivo - objetivo_cromosoma) / suma_complemento\n",
    "    return fitness"
   ]
  },
  {
   "cell_type": "code",
   "execution_count": 8,
   "metadata": {},
   "outputs": [],
   "source": [
    "def seleccionar(lista_poblacion, distancias, elitismo = False):\n",
    "    id_seleccionado = 0\n",
    "    padres = []\n",
    "\n",
    "    if elitismo:\n",
    "        padres.append(lista_poblacion[0][1]) #los dos individuos elitistas\n",
    "        padres.append(lista_poblacion[1][1])\n",
    "    else:\n",
    "        # RULETA \n",
    "        while len(padres) < 2:  # porque necesitamos dos padres\n",
    "            num_aleatorio = np.random.rand()    \n",
    "            fitness_acumulada = lista_poblacion[0][2]\n",
    "            i = 0\n",
    "            \n",
    "            while(fitness_acumulada < 1):\n",
    "                if num_aleatorio <= fitness_acumulada:\n",
    "                    id_seleccionado = lista_poblacion[i][0]\n",
    "                    break\n",
    "                else: \n",
    "                    i += 1\n",
    "                    fitness_acumulada += lista_poblacion[i][2]\n",
    "                    \n",
    "            if fitness_acumulada == 1:\n",
    "                id_seleccionado = lista_poblacion[-1][0]\n",
    "\n",
    "            for sublista in lista_poblacion:\n",
    "                if sublista[0] == id_seleccionado:\n",
    "                    cromosoma_elegido = sublista[1]\n",
    "                    break\n",
    "                    \n",
    "            if cromosoma_elegido not in padres:\n",
    "                padres.append(cromosoma_elegido)\n",
    "                \n",
    "    return padres[0], padres[1]"
   ]
  },
  {
   "cell_type": "code",
   "execution_count": 9,
   "metadata": {},
   "outputs": [],
   "source": [
    "def generar_estadisticos(poblaciones, tabla_distancias):\n",
    "    '''Genera la tabla, cada fila es una población'''\n",
    "    resultados = [[],[],[],[],[]] # suma de objetivos en poblacion, recorrido minimo, recorrido maximo, mediana recorridos, mejor cromosoma\n",
    "    \n",
    "    for poblacion in poblaciones:\n",
    "        recorridos = []\n",
    "        menor_recorrido = 999999999\n",
    "        for cromosoma in poblacion:\n",
    "            recorrido = funcion_objetivo(tabla_distancias, cromosoma)\n",
    "            recorridos.append((cromosoma, recorrido))   \n",
    "            \n",
    "            if recorrido < menor_recorrido:\n",
    "                mejor_cromosoma = cromosoma\n",
    "                menor_recorrido = recorrido\n",
    "        recorridos = np.array(recorridos)\n",
    "\n",
    "        resultados[0].append(np.sum(recorridos[:, 1]))\n",
    "        resultados[1].append(np.min(recorridos[:, 1]))\n",
    "        resultados[2].append(np.max(recorridos[:, 1]))\n",
    "        resultados[3].append(np.median(recorridos[:, 1]))\n",
    "        resultados[4].append(mejor_cromosoma)\n",
    "        \n",
    "    df = pd.DataFrame(resultados).transpose()\n",
    "    df.columns = ['Suma Recorridos Población', 'Recorrido Mínimo', 'Recorrido Máximo', 'Mediana de Recorridos', 'Mejor cromosoma']\n",
    "    return df"
   ]
  },
  {
   "cell_type": "code",
   "execution_count": 10,
   "metadata": {},
   "outputs": [],
   "source": [
    "def main(distancias, p_crossover=0.9, p_mutacion=0.2, ciclos=200, tamaño_poblacion=50, longitud_cromosoma=25, elitismo=True):\n",
    "    t0 = time.perf_counter()\n",
    "    \n",
    "    poblacion_actual = inicializar(tamaño_poblacion, longitud_cromosoma)\n",
    "    poblaciones = []\n",
    "    poblaciones.append(poblacion_actual)\n",
    "    cantidad_selecciones = tamaño_poblacion // 2\n",
    "\n",
    "    for i in range(ciclos):  \n",
    "        print(f'ciclo actual: {i}')\n",
    "        lista_poblacion = []\n",
    "        for id, individuo in enumerate(poblacion_actual):\n",
    "            lista_poblacion.append([id, individuo, fitness_v2(poblacion_actual, individuo)])\n",
    "        lista_poblacion = sorted(lista_poblacion, key=itemgetter(2), reverse=True)\n",
    "\n",
    "        poblacion_nueva = []\n",
    "        if elitismo:\n",
    "            padre_1, padre_2 = seleccionar(lista_poblacion, distancias, elitismo)           \n",
    "            poblacion_nueva.append(padre_1)\n",
    "            poblacion_nueva.append(padre_2)\n",
    "        \n",
    "        for j in range(cantidad_selecciones+1):\n",
    "         \n",
    "            if len(poblacion_nueva) == tamaño_poblacion:\n",
    "                continue\n",
    "                \n",
    "            # SELECCIONAR\n",
    "            padre_1, padre_2 = seleccionar(lista_poblacion, distancias, False)\n",
    "\n",
    "            # CRUZAR\n",
    "            if np.random.rand() <= p_crossover:\n",
    "                hijo_1, hijo_2 = crossover_ciclico(padre_1[:-1], padre_2[:-1])\n",
    "                hijo_1.append(hijo_1[0])   # para que el hijo vuelva a casa\n",
    "                hijo_2.append(hijo_2[0])   # para que el hijo vuelva a casa\n",
    "\n",
    "            else: \n",
    "                hijo_1 = padre_1\n",
    "                hijo_2 = padre_2\n",
    "\n",
    "            # MUTAR\n",
    "            if np.random.rand() <= p_mutacion:\n",
    "                hijo_1 = mutacion(hijo_1)\n",
    "            if np.random.rand() <= p_mutacion:\n",
    "                hijo_2 = mutacion(hijo_2)\n",
    "\n",
    "            # PASAR A PROXIMA GENERACION\n",
    "            poblacion_nueva.append(hijo_1)\n",
    "            if len(poblacion_nueva) != tamaño_poblacion:\n",
    "                poblacion_nueva.append(hijo_2)\n",
    "\n",
    "        poblacion_actual = poblacion_nueva\n",
    "        \n",
    "        poblaciones.append(poblacion_nueva)\n",
    "    tf = time.perf_counter()\n",
    "    \n",
    "    poblaciones_df = pd.DataFrame(poblaciones)\n",
    "    resultados = generar_estadisticos(poblaciones, tabla_distancias)\n",
    "    tiempo_ejecucion = tf - t0\n",
    "    \n",
    "    return resultados, tiempo_ejecucion"
   ]
  },
  {
   "cell_type": "code",
   "execution_count": 11,
   "metadata": {},
   "outputs": [
    {
     "name": "stdout",
     "output_type": "stream",
     "text": [
      "ciclo actual: 0\n",
      "ciclo actual: 1\n",
      "ciclo actual: 2\n",
      "ciclo actual: 3\n",
      "ciclo actual: 4\n",
      "ciclo actual: 5\n"
     ]
    },
    {
     "ename": "KeyboardInterrupt",
     "evalue": "",
     "output_type": "error",
     "traceback": [
      "\u001b[0;31m---------------------------------------------------------------------------\u001b[0m",
      "\u001b[0;31mKeyboardInterrupt\u001b[0m                         Traceback (most recent call last)",
      "\u001b[0;32m<ipython-input-11-9c6b0406bb8f>\u001b[0m in \u001b[0;36m<module>\u001b[0;34m\u001b[0m\n\u001b[0;32m----> 1\u001b[0;31m \u001b[0mresultados\u001b[0m\u001b[0;34m,\u001b[0m \u001b[0mtiempo\u001b[0m \u001b[0;34m=\u001b[0m \u001b[0mmain\u001b[0m\u001b[0;34m(\u001b[0m\u001b[0mtabla_distancias\u001b[0m\u001b[0;34m,\u001b[0m \u001b[0mciclos\u001b[0m \u001b[0;34m=\u001b[0m \u001b[0;36m10\u001b[0m\u001b[0;34m,\u001b[0m \u001b[0mtamaño_poblacion\u001b[0m\u001b[0;34m=\u001b[0m\u001b[0;36m50\u001b[0m\u001b[0;34m,\u001b[0m \u001b[0melitismo\u001b[0m\u001b[0;34m=\u001b[0m\u001b[0;32mFalse\u001b[0m\u001b[0;34m)\u001b[0m\u001b[0;34m\u001b[0m\u001b[0;34m\u001b[0m\u001b[0m\n\u001b[0m\u001b[1;32m      2\u001b[0m \u001b[0mresultados\u001b[0m\u001b[0;34m\u001b[0m\u001b[0;34m\u001b[0m\u001b[0m\n",
      "\u001b[0;32m<ipython-input-10-eaa50f7118af>\u001b[0m in \u001b[0;36mmain\u001b[0;34m(distancias, p_crossover, p_mutacion, ciclos, tamaño_poblacion, longitud_cromosoma, elitismo)\u001b[0m\n\u001b[1;32m     11\u001b[0m         \u001b[0mlista_poblacion\u001b[0m \u001b[0;34m=\u001b[0m \u001b[0;34m[\u001b[0m\u001b[0;34m]\u001b[0m\u001b[0;34m\u001b[0m\u001b[0;34m\u001b[0m\u001b[0m\n\u001b[1;32m     12\u001b[0m         \u001b[0;32mfor\u001b[0m \u001b[0mid\u001b[0m\u001b[0;34m,\u001b[0m \u001b[0mindividuo\u001b[0m \u001b[0;32min\u001b[0m \u001b[0menumerate\u001b[0m\u001b[0;34m(\u001b[0m\u001b[0mpoblacion_actual\u001b[0m\u001b[0;34m)\u001b[0m\u001b[0;34m:\u001b[0m\u001b[0;34m\u001b[0m\u001b[0;34m\u001b[0m\u001b[0m\n\u001b[0;32m---> 13\u001b[0;31m             \u001b[0mlista_poblacion\u001b[0m\u001b[0;34m.\u001b[0m\u001b[0mappend\u001b[0m\u001b[0;34m(\u001b[0m\u001b[0;34m[\u001b[0m\u001b[0mid\u001b[0m\u001b[0;34m,\u001b[0m \u001b[0mindividuo\u001b[0m\u001b[0;34m,\u001b[0m \u001b[0mfitness_v2\u001b[0m\u001b[0;34m(\u001b[0m\u001b[0mpoblacion_actual\u001b[0m\u001b[0;34m,\u001b[0m \u001b[0mindividuo\u001b[0m\u001b[0;34m)\u001b[0m\u001b[0;34m]\u001b[0m\u001b[0;34m)\u001b[0m\u001b[0;34m\u001b[0m\u001b[0;34m\u001b[0m\u001b[0m\n\u001b[0m\u001b[1;32m     14\u001b[0m         \u001b[0mlista_poblacion\u001b[0m \u001b[0;34m=\u001b[0m \u001b[0msorted\u001b[0m\u001b[0;34m(\u001b[0m\u001b[0mlista_poblacion\u001b[0m\u001b[0;34m,\u001b[0m \u001b[0mkey\u001b[0m\u001b[0;34m=\u001b[0m\u001b[0mitemgetter\u001b[0m\u001b[0;34m(\u001b[0m\u001b[0;36m2\u001b[0m\u001b[0;34m)\u001b[0m\u001b[0;34m,\u001b[0m \u001b[0mreverse\u001b[0m\u001b[0;34m=\u001b[0m\u001b[0;32mTrue\u001b[0m\u001b[0;34m)\u001b[0m\u001b[0;34m\u001b[0m\u001b[0;34m\u001b[0m\u001b[0m\n\u001b[1;32m     15\u001b[0m \u001b[0;34m\u001b[0m\u001b[0m\n",
      "\u001b[0;32m<ipython-input-7-1a504789eafb>\u001b[0m in \u001b[0;36mfitness_v2\u001b[0;34m(poblacion, cromosoma)\u001b[0m\n\u001b[1;32m      8\u001b[0m     \u001b[0msuma_complemento\u001b[0m \u001b[0;34m=\u001b[0m \u001b[0;36m0\u001b[0m\u001b[0;34m\u001b[0m\u001b[0;34m\u001b[0m\u001b[0m\n\u001b[1;32m      9\u001b[0m     \u001b[0;32mfor\u001b[0m \u001b[0mr\u001b[0m \u001b[0;32min\u001b[0m \u001b[0mpoblacion\u001b[0m\u001b[0;34m:\u001b[0m\u001b[0;34m\u001b[0m\u001b[0;34m\u001b[0m\u001b[0m\n\u001b[0;32m---> 10\u001b[0;31m         \u001b[0msuma_complemento\u001b[0m \u001b[0;34m+=\u001b[0m \u001b[0msuma_objetivo\u001b[0m \u001b[0;34m-\u001b[0m \u001b[0mfuncion_objetivo\u001b[0m\u001b[0;34m(\u001b[0m\u001b[0mtabla_distancias\u001b[0m\u001b[0;34m,\u001b[0m \u001b[0mr\u001b[0m\u001b[0;34m)\u001b[0m\u001b[0;34m\u001b[0m\u001b[0;34m\u001b[0m\u001b[0m\n\u001b[0m\u001b[1;32m     11\u001b[0m \u001b[0;34m\u001b[0m\u001b[0m\n\u001b[1;32m     12\u001b[0m     \u001b[0mfitness\u001b[0m \u001b[0;34m=\u001b[0m \u001b[0;34m(\u001b[0m\u001b[0msuma_objetivo\u001b[0m \u001b[0;34m-\u001b[0m \u001b[0mobjetivo_cromosoma\u001b[0m\u001b[0;34m)\u001b[0m \u001b[0;34m/\u001b[0m \u001b[0msuma_complemento\u001b[0m\u001b[0;34m\u001b[0m\u001b[0;34m\u001b[0m\u001b[0m\n",
      "\u001b[0;32m<ipython-input-5-52bfa6e22dcc>\u001b[0m in \u001b[0;36mfuncion_objetivo\u001b[0;34m(tabla_distancias, recorrido)\u001b[0m\n\u001b[1;32m      5\u001b[0m     \u001b[0mdistancia_recorrida\u001b[0m \u001b[0;34m=\u001b[0m \u001b[0;36m0\u001b[0m\u001b[0;34m\u001b[0m\u001b[0;34m\u001b[0m\u001b[0m\n\u001b[1;32m      6\u001b[0m     \u001b[0;32mfor\u001b[0m \u001b[0mi\u001b[0m \u001b[0;32min\u001b[0m \u001b[0mrange\u001b[0m\u001b[0;34m(\u001b[0m\u001b[0mlen\u001b[0m\u001b[0;34m(\u001b[0m\u001b[0mrecorrido\u001b[0m\u001b[0;34m)\u001b[0m \u001b[0;34m-\u001b[0m \u001b[0;36m1\u001b[0m\u001b[0;34m)\u001b[0m\u001b[0;34m:\u001b[0m\u001b[0;34m\u001b[0m\u001b[0;34m\u001b[0m\u001b[0m\n\u001b[0;32m----> 7\u001b[0;31m         \u001b[0mdistancia_actual\u001b[0m \u001b[0;34m=\u001b[0m \u001b[0mtabla_distancias\u001b[0m\u001b[0;34m[\u001b[0m\u001b[0mrecorrido\u001b[0m\u001b[0;34m[\u001b[0m\u001b[0mi\u001b[0m\u001b[0;34m]\u001b[0m\u001b[0;34m]\u001b[0m\u001b[0;34m[\u001b[0m\u001b[0mrecorrido\u001b[0m\u001b[0;34m[\u001b[0m\u001b[0mi\u001b[0m\u001b[0;34m+\u001b[0m\u001b[0;36m1\u001b[0m\u001b[0;34m]\u001b[0m\u001b[0;34m]\u001b[0m\u001b[0;34m\u001b[0m\u001b[0;34m\u001b[0m\u001b[0m\n\u001b[0m\u001b[1;32m      8\u001b[0m         \u001b[0mdistancia_recorrida\u001b[0m \u001b[0;34m+=\u001b[0m \u001b[0mdistancia_actual\u001b[0m\u001b[0;34m\u001b[0m\u001b[0;34m\u001b[0m\u001b[0m\n\u001b[1;32m      9\u001b[0m     \u001b[0;32mreturn\u001b[0m \u001b[0mdistancia_recorrida\u001b[0m\u001b[0;34m\u001b[0m\u001b[0;34m\u001b[0m\u001b[0m\n",
      "\u001b[0;32m~/anaconda3/lib/python3.8/site-packages/pandas/core/series.py\u001b[0m in \u001b[0;36m__getitem__\u001b[0;34m(self, key)\u001b[0m\n\u001b[1;32m    869\u001b[0m         \u001b[0mkey\u001b[0m \u001b[0;34m=\u001b[0m \u001b[0mcom\u001b[0m\u001b[0;34m.\u001b[0m\u001b[0mapply_if_callable\u001b[0m\u001b[0;34m(\u001b[0m\u001b[0mkey\u001b[0m\u001b[0;34m,\u001b[0m \u001b[0mself\u001b[0m\u001b[0;34m)\u001b[0m\u001b[0;34m\u001b[0m\u001b[0;34m\u001b[0m\u001b[0m\n\u001b[1;32m    870\u001b[0m         \u001b[0;32mtry\u001b[0m\u001b[0;34m:\u001b[0m\u001b[0;34m\u001b[0m\u001b[0;34m\u001b[0m\u001b[0m\n\u001b[0;32m--> 871\u001b[0;31m             \u001b[0mresult\u001b[0m \u001b[0;34m=\u001b[0m \u001b[0mself\u001b[0m\u001b[0;34m.\u001b[0m\u001b[0mindex\u001b[0m\u001b[0;34m.\u001b[0m\u001b[0mget_value\u001b[0m\u001b[0;34m(\u001b[0m\u001b[0mself\u001b[0m\u001b[0;34m,\u001b[0m \u001b[0mkey\u001b[0m\u001b[0;34m)\u001b[0m\u001b[0;34m\u001b[0m\u001b[0;34m\u001b[0m\u001b[0m\n\u001b[0m\u001b[1;32m    872\u001b[0m \u001b[0;34m\u001b[0m\u001b[0m\n\u001b[1;32m    873\u001b[0m             \u001b[0;32mif\u001b[0m \u001b[0;32mnot\u001b[0m \u001b[0mis_scalar\u001b[0m\u001b[0;34m(\u001b[0m\u001b[0mresult\u001b[0m\u001b[0;34m)\u001b[0m\u001b[0;34m:\u001b[0m\u001b[0;34m\u001b[0m\u001b[0;34m\u001b[0m\u001b[0m\n",
      "\u001b[0;32m~/anaconda3/lib/python3.8/site-packages/pandas/core/indexes/base.py\u001b[0m in \u001b[0;36mget_value\u001b[0;34m(self, series, key)\u001b[0m\n\u001b[1;32m   4403\u001b[0m         \u001b[0mk\u001b[0m \u001b[0;34m=\u001b[0m \u001b[0mself\u001b[0m\u001b[0;34m.\u001b[0m\u001b[0m_convert_scalar_indexer\u001b[0m\u001b[0;34m(\u001b[0m\u001b[0mk\u001b[0m\u001b[0;34m,\u001b[0m \u001b[0mkind\u001b[0m\u001b[0;34m=\u001b[0m\u001b[0;34m\"getitem\"\u001b[0m\u001b[0;34m)\u001b[0m\u001b[0;34m\u001b[0m\u001b[0;34m\u001b[0m\u001b[0m\n\u001b[1;32m   4404\u001b[0m         \u001b[0;32mtry\u001b[0m\u001b[0;34m:\u001b[0m\u001b[0;34m\u001b[0m\u001b[0;34m\u001b[0m\u001b[0m\n\u001b[0;32m-> 4405\u001b[0;31m             \u001b[0;32mreturn\u001b[0m \u001b[0mself\u001b[0m\u001b[0;34m.\u001b[0m\u001b[0m_engine\u001b[0m\u001b[0;34m.\u001b[0m\u001b[0mget_value\u001b[0m\u001b[0;34m(\u001b[0m\u001b[0ms\u001b[0m\u001b[0;34m,\u001b[0m \u001b[0mk\u001b[0m\u001b[0;34m,\u001b[0m \u001b[0mtz\u001b[0m\u001b[0;34m=\u001b[0m\u001b[0mgetattr\u001b[0m\u001b[0;34m(\u001b[0m\u001b[0mseries\u001b[0m\u001b[0;34m.\u001b[0m\u001b[0mdtype\u001b[0m\u001b[0;34m,\u001b[0m \u001b[0;34m\"tz\"\u001b[0m\u001b[0;34m,\u001b[0m \u001b[0;32mNone\u001b[0m\u001b[0;34m)\u001b[0m\u001b[0;34m)\u001b[0m\u001b[0;34m\u001b[0m\u001b[0;34m\u001b[0m\u001b[0m\n\u001b[0m\u001b[1;32m   4406\u001b[0m         \u001b[0;32mexcept\u001b[0m \u001b[0mKeyError\u001b[0m \u001b[0;32mas\u001b[0m \u001b[0me1\u001b[0m\u001b[0;34m:\u001b[0m\u001b[0;34m\u001b[0m\u001b[0;34m\u001b[0m\u001b[0m\n\u001b[1;32m   4407\u001b[0m             \u001b[0;32mif\u001b[0m \u001b[0mlen\u001b[0m\u001b[0;34m(\u001b[0m\u001b[0mself\u001b[0m\u001b[0;34m)\u001b[0m \u001b[0;34m>\u001b[0m \u001b[0;36m0\u001b[0m \u001b[0;32mand\u001b[0m \u001b[0;34m(\u001b[0m\u001b[0mself\u001b[0m\u001b[0;34m.\u001b[0m\u001b[0mholds_integer\u001b[0m\u001b[0;34m(\u001b[0m\u001b[0;34m)\u001b[0m \u001b[0;32mor\u001b[0m \u001b[0mself\u001b[0m\u001b[0;34m.\u001b[0m\u001b[0mis_boolean\u001b[0m\u001b[0;34m(\u001b[0m\u001b[0;34m)\u001b[0m\u001b[0;34m)\u001b[0m\u001b[0;34m:\u001b[0m\u001b[0;34m\u001b[0m\u001b[0;34m\u001b[0m\u001b[0m\n",
      "\u001b[0;32m~/anaconda3/lib/python3.8/site-packages/pandas/core/series.py\u001b[0m in \u001b[0;36mdtype\u001b[0;34m(self)\u001b[0m\n\u001b[1;32m    417\u001b[0m         \u001b[0mReturn\u001b[0m \u001b[0mthe\u001b[0m \u001b[0mdtype\u001b[0m \u001b[0mobject\u001b[0m \u001b[0mof\u001b[0m \u001b[0mthe\u001b[0m \u001b[0munderlying\u001b[0m \u001b[0mdata\u001b[0m\u001b[0;34m.\u001b[0m\u001b[0;34m\u001b[0m\u001b[0;34m\u001b[0m\u001b[0m\n\u001b[1;32m    418\u001b[0m         \"\"\"\n\u001b[0;32m--> 419\u001b[0;31m         \u001b[0;32mreturn\u001b[0m \u001b[0mself\u001b[0m\u001b[0;34m.\u001b[0m\u001b[0m_data\u001b[0m\u001b[0;34m.\u001b[0m\u001b[0mdtype\u001b[0m\u001b[0;34m\u001b[0m\u001b[0;34m\u001b[0m\u001b[0m\n\u001b[0m\u001b[1;32m    420\u001b[0m \u001b[0;34m\u001b[0m\u001b[0m\n\u001b[1;32m    421\u001b[0m     \u001b[0;34m@\u001b[0m\u001b[0mproperty\u001b[0m\u001b[0;34m\u001b[0m\u001b[0;34m\u001b[0m\u001b[0m\n",
      "\u001b[0;32m~/anaconda3/lib/python3.8/site-packages/pandas/core/internals/managers.py\u001b[0m in \u001b[0;36mdtype\u001b[0;34m(self)\u001b[0m\n\u001b[1;32m   1546\u001b[0m         \u001b[0;32mreturn\u001b[0m \u001b[0mself\u001b[0m\u001b[0;34m.\u001b[0m\u001b[0maxes\u001b[0m\u001b[0;34m[\u001b[0m\u001b[0;36m0\u001b[0m\u001b[0;34m]\u001b[0m\u001b[0;34m\u001b[0m\u001b[0;34m\u001b[0m\u001b[0m\n\u001b[1;32m   1547\u001b[0m \u001b[0;34m\u001b[0m\u001b[0m\n\u001b[0;32m-> 1548\u001b[0;31m     \u001b[0;34m@\u001b[0m\u001b[0mproperty\u001b[0m\u001b[0;34m\u001b[0m\u001b[0;34m\u001b[0m\u001b[0m\n\u001b[0m\u001b[1;32m   1549\u001b[0m     \u001b[0;32mdef\u001b[0m \u001b[0mdtype\u001b[0m\u001b[0;34m(\u001b[0m\u001b[0mself\u001b[0m\u001b[0;34m)\u001b[0m\u001b[0;34m:\u001b[0m\u001b[0;34m\u001b[0m\u001b[0;34m\u001b[0m\u001b[0m\n\u001b[1;32m   1550\u001b[0m         \u001b[0;32mreturn\u001b[0m \u001b[0mself\u001b[0m\u001b[0;34m.\u001b[0m\u001b[0m_block\u001b[0m\u001b[0;34m.\u001b[0m\u001b[0mdtype\u001b[0m\u001b[0;34m\u001b[0m\u001b[0;34m\u001b[0m\u001b[0m\n",
      "\u001b[0;31mKeyboardInterrupt\u001b[0m: "
     ]
    }
   ],
   "source": [
    "resultados, tiempo = main(tabla_distancias, ciclos = 10, tamaño_poblacion=50, elitismo=False)\n",
    "resultados"
   ]
  },
  {
   "cell_type": "code",
   "execution_count": 56,
   "metadata": {},
   "outputs": [
    {
     "data": {
      "text/plain": [
       "[<matplotlib.lines.Line2D at 0x7ffaad173520>]"
      ]
     },
     "execution_count": 56,
     "metadata": {},
     "output_type": "execute_result"
    },
    {
     "data": {
      "image/png": "[encoded data removed]",
      "text/plain": [
       "<Figure size 432x288 with 1 Axes>"
      ]
     },
     "metadata": {
      "needs_background": "light"
     },
     "output_type": "display_data"
    }
   ],
   "source": [
    "plt.plot(resultados['Recorrido Mínimo'])"
   ]
  },
  {
   "cell_type": "markdown",
   "metadata": {},
   "source": [
    "# Método Exhaustivo"
   ]
  },
  {
   "cell_type": "code",
   "execution_count": 5,
   "metadata": {},
   "outputs": [],
   "source": [
    "def generar_recorridos_posibles(cantidad_ciudades):\n",
    "    '''\n",
    "    componente para el método exhaustivo. Genera todos los recorridos posibles de longitud cantidad_ciudades\n",
    "    siempre partiendo desde Bs. As. (para simplificar)\n",
    "    '''\n",
    "    aux = list(itertools.permutations([i for i in range(cantidad_ciudades)])) # generar permutaciones de las capitales\n",
    "    \n",
    "    recorridos_posibles = []\n",
    "    for recorrido in aux:\n",
    "        recorrido_aux = list(recorrido)   # itertools devuelve tuplas pero lo paso a listas\n",
    "        recorrido_aux.append(recorrido[0]) # para que vuelva a la ciudad de partida\n",
    "        recorridos_posibles.append(recorrido_aux)\n",
    "    return recorridos_posibles"
   ]
  },
  {
   "cell_type": "code",
   "execution_count": 9,
   "metadata": {},
   "outputs": [],
   "source": [
    "def main_exhaustivo(tabla_distancias, cantidad_ciudades):\n",
    "\n",
    "    distancia_minima = 9999999999\n",
    "    t0 = time.perf_counter()\n",
    "    recorridos_posibles = generar_recorridos_posibles(cantidad_ciudades)\n",
    "\n",
    "    for recorrido in recorridos_posibles:\n",
    "        distancia_recorrida = funcion_objetivo(tabla_distancias, recorrido)\n",
    "        if distancia_recorrida < distancia_minima:\n",
    "            distancia_minima = distancia_recorrida\n",
    "            recorrido_minimo = recorrido\n",
    "\n",
    "    t1 = time.perf_counter()\n",
    "    tiempo_ejecucion = t1 - t0\n",
    "\n",
    "    return recorrido_minimo, distancia_minima, tiempo_ejecucion"
   ]
  },
  {
   "cell_type": "code",
   "execution_count": null,
   "metadata": {},
   "outputs": [],
   "source": [
    "t = []\n",
    "for x in range(3,11):\n",
    "    print(x)\n",
    "    r, d, tiempo = main_exhaustivo(tabla_distancias, x)\n",
    "    t.append(tiempo)\n",
    "print(t)"
   ]
  },
  {
   "cell_type": "code",
   "execution_count": 19,
   "metadata": {},
   "outputs": [
    {
     "data": {
      "image/png": "[encoded data removed]",
      "text/plain": [
       "<Figure size 504x288 with 1 Axes>"
      ]
     },
     "metadata": {
      "needs_background": "light"
     },
     "output_type": "display_data"
    }
   ],
   "source": [
    "plt.figure(figsize= (7,4))\n",
    "plt.ylabel('Tiempo de ejecución (segundos)')\n",
    "plt.xlabel('Cantidad de ciudades')\n",
    "plt.title('Tiempos de ejecución del método exhaustivo')\n",
    "plt.grid()\n",
    "plt.plot(range(3,11), t)\n",
    "plt.savefig('tiempos-exhaustivo-viajante.png', dpi=200)"
   ]
  }
 ],
 "metadata": {
  "kernelspec": {
   "display_name": "Python 3",
   "language": "python",
   "name": "python3"
  },
  "language_info": {
   "codemirror_mode": {
    "name": "ipython",
    "version": 3
   },
   "file_extension": ".py",
   "mimetype": "text/x-python",
   "name": "python",
   "nbconvert_exporter": "python",
   "pygments_lexer": "ipython3",
   "version": "3.8.3"
  }
 },
 "nbformat": 4,
 "nbformat_minor": 4
}
