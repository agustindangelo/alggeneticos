{
 "cells": [
  {
   "cell_type": "markdown",
   "metadata": {},
   "source": [
    "**versión con botones anterior-siguiente**"
   ]
  },
  {
   "cell_type": "code",
   "execution_count": 9,
   "metadata": {},
   "outputs": [],
   "source": [
    "import dash\n",
    "import plotly.express as px\n",
    "from jupyter_dash import JupyterDash\n",
    "import dash_core_components as dcc\n",
    "import dash_html_components as html\n",
    "from dash.dependencies import Input, Output\n",
    "import plotly.graph_objs as go\n",
    "from operator import itemgetter\n",
    "import pandas as pd\n",
    "import numpy as np\n",
    "from bitarray import bitarray"
   ]
  },
  {
   "cell_type": "code",
   "execution_count": 5,
   "metadata": {},
   "outputs": [],
   "source": [
    "import dash\n",
    "import plotly.express as px\n",
    "from jupyter_dash import JupyterDash\n",
    "import dash_core_components as dcc\n",
    "import dash_html_components as html\n",
    "from dash.dependencies import Input, Output\n",
    "import plotly.graph_objs as go\n",
    "\n",
    "# Load Data\n",
    "cap = pd.read_csv('capitales.csv')\n",
    "# Build App\n",
    "app = JupyterDash(__name__)\n",
    "app.layout = html.Div([\n",
    "    html.H1(\"Recorrido sobre las capitales de Argentina\"),\n",
    "    \n",
    "    html.Button('Siguiente', id='btn-siguiente', n_clicks=0),\n",
    "    html.Button('Anterior', id='btn-anterior', n_clicks=0),\n",
    "    html.Div(id='container-button-basic',\n",
    "             children='Enter a value and press submit'),\n",
    "    dcc.Graph(id='graph'),\n",
    "])\n",
    "# Define callback to update graph\n",
    "@app.callback(\n",
    "    [Output('graph', 'figure'),\n",
    "     dash.dependencies.Output('container-button-basic', 'children')],\n",
    "    [Input(\"btn-siguiente\", 'n_clicks'),\n",
    "     Input(\"btn-anterior\", 'n_clicks')],\n",
    ")\n",
    "\n",
    "def update_figure(n_sig, n_ant):\n",
    "    changed_id = [p['prop_id'] for p in dash.callback_context.triggered][0]\n",
    "    pos_actual = n_sig - n_ant\n",
    "    if 'btn-siguiente.n_clicks' in changed_id:\n",
    "        fig = px.scatter_mapbox(cap, lat=\"latitud\", lon=\"longitud\", hover_name=\"capital\", hover_data=[\"capital\"],\n",
    "                        color_discrete_sequence=[\"red\"], zoom=3, height=500, width=500)\n",
    "        fig.update_layout(margin={\"r\":0,\"t\":0,\"l\":0,\"b\":0})\n",
    "        fig.update_layout(mapbox_style=\"open-street-map\")\n",
    "        fig.add_trace(\n",
    "            go.Scattermapbox(\n",
    "                mode = \"lines\",\n",
    "                lon = cap['longitud'][:pos_actual + 1],\n",
    "                lat = cap['latitud'][:pos_actual + 1],\n",
    "            )\n",
    "        )\n",
    "        return fig, f'pos_actual = {pos_actual} -- n_sig {n_sig}, n_ant {n_ant} -- changed_id {changed_id}'\n",
    "        \n",
    "    elif 'btn-anterior.n_clicks' in changed_id:  \n",
    "        if pos_actual > len(cap):\n",
    "            raise dash.exceptions.PreventUpdate\n",
    "        else:    \n",
    "            fig = px.scatter_mapbox(cap, lat=\"latitud\", lon=\"longitud\", hover_name=\"capital\", hover_data=[\"capital\"],\n",
    "                            color_discrete_sequence=[\"red\"], zoom=3, height=500, width=500)\n",
    "            fig.update_layout(margin={\"r\":0,\"t\":0,\"l\":0,\"b\":0})\n",
    "            fig.update_layout(mapbox_style=\"open-street-map\")\n",
    "            fig.add_trace(\n",
    "                go.Scattermapbox(\n",
    "                    mode = \"lines\",\n",
    "                    lon = cap['longitud'][:pos_actual + 1],\n",
    "                    lat = cap['latitud'][:pos_actual + 1],\n",
    "                )\n",
    "            )\n",
    "            return fig, f'pos_actual = {pos_actual} -- n_sig {n_sig}, n_ant {n_ant} -- changed_id {changed_id}'\n",
    "    else:\n",
    "        fig = px.scatter_mapbox(cap, lat=\"latitud\", lon=\"longitud\", hover_name=\"capital\", hover_data=[\"capital\"],\n",
    "                            color_discrete_sequence=[\"red\"], zoom=3, height=500, width=500)\n",
    "        fig.update_layout(margin={\"r\":0,\"t\":0,\"l\":0,\"b\":0})\n",
    "        fig.update_layout(mapbox_style=\"open-street-map\")\n",
    "        return fig, f'pos_actual = {pos_actual} -- n_sig {n_sig}, n_ant {n_ant} -- changed_id {changed_id}'\n",
    "\n",
    "# Run app and display result inline in the notebook\n",
    "app.run_server(mode='jupyterlab', port=8080)"
   ]
  },
  {
   "cell_type": "markdown",
   "metadata": {},
   "source": [
    "**Versión con slider**"
   ]
  },
  {
   "cell_type": "code",
   "execution_count": 10,
   "metadata": {},
   "outputs": [],
   "source": [
    "import dash\n",
    "import pandas as pd\n",
    "import plotly.express as px\n",
    "from jupyter_dash import JupyterDash\n",
    "import dash_core_components as dcc\n",
    "import dash_html_components as html\n",
    "import dash_bootstrap_components as dbc\n",
    "from dash.dependencies import Input, Output\n",
    "import plotly.graph_objs as go\n",
    "\n",
    "# Load Data\n",
    "cap = pd.read_csv('capitales.csv')\n",
    "\n",
    "app = JupyterDash(__name__,\n",
    "external_stylesheets=[dbc.themes.BOOTSTRAP])\n",
    "\n",
    "# Build App\n",
    "app.layout = html.Div(\n",
    "    [ \n",
    "        dbc.NavbarSimple(\n",
    "            children=[\n",
    "                dbc.NavItem(dbc.NavLink(\"Ejercicio 1\", href=\"#\", className='disabled')),\n",
    "                dbc.NavItem(dbc.NavLink(\"Ejercicio 2\", href=\"ejercicio-2.ipynb\")),\n",
    "                dbc.NavItem(dbc.NavLink(\"Ejercicio 3\", href=\"ejercicio-3.ipynb\"))\n",
    "            ],\n",
    "            brand=\"GRUPO 1 - TRABAJO PRÁCICO N°3\",\n",
    "            color=\"primary\",\n",
    "            dark=True,\n",
    "        ),\n",
    "        dbc.Row(\n",
    "            dbc.Col(\n",
    "                html.H3(\"Recorrido sobre las capitales de Argentina\")\n",
    "            )\n",
    "       ),\n",
    "        dbc.Row(\n",
    "            [\n",
    "                dbc.Col(\n",
    "                    dcc.Slider(\n",
    "                        id='slider',\n",
    "                        vertical=True,\n",
    "                        min=1,\n",
    "                        max=23,\n",
    "                        marks={i: str(cap['capital'][i]) for i in range(1, len(cap))},\n",
    "                        value=23,\n",
    "                        verticalHeight=800\n",
    "                        )\n",
    "                    ),\n",
    "                    dbc.Col(dcc.Graph(id='graph'))\n",
    "            ]\n",
    "        )\n",
    "    ]\n",
    ")\n",
    "# Define callback to update graph\n",
    "@app.callback(\n",
    "    Output('graph', 'figure'),\n",
    "    Input('slider', 'value'),\n",
    ")\n",
    "\n",
    "def update_figure(slider_value):\n",
    "    pos_actual = slider_value\n",
    "    fig = px.scatter_mapbox(cap, lat=\"latitud\", lon=\"longitud\", hover_name=\"capital\", hover_data=[\"capital\"],\n",
    "                    color_discrete_sequence=[\"red\"], zoom=3, height=400, width=500)\n",
    "    \n",
    "    fig.update_layout(margin={\"r\":0,\"t\":0,\"l\":0,\"b\":0})\n",
    "    fig.update_layout(mapbox_style=\"open-street-map\")\n",
    "    \n",
    "    fig.add_trace(\n",
    "        go.Scattermapbox(\n",
    "            mode = \"lines\",\n",
    "            lon = cap['longitud'][:pos_actual],\n",
    "            lat = cap['latitud'][:pos_actual],\n",
    "        )\n",
    "    )\n",
    "    return fig\n",
    "\n",
    "# Run app and display result inline in the notebook\n",
    "app.run_server(mode='jupyterlab', port=8080)"
   ]
  },
  {
   "cell_type": "code",
   "execution_count": 22,
   "metadata": {},
   "outputs": [],
   "source": [
    "import dash\n",
    "import pandas as pd\n",
    "import plotly.express as px\n",
    "from jupyter_dash import JupyterDash\n",
    "import dash_core_components as dcc\n",
    "import dash_html_components as html\n",
    "import dash_bootstrap_components as dbc\n",
    "from dash.dependencies import Input, Output\n",
    "import plotly.graph_objs as go\n",
    "\n",
    "# Since we're adding callbacks to elements that don't exist in the app.layout,\n",
    "# Dash will raise an exception to warn us that we might be\n",
    "# doing something wrong.\n",
    "# In this case, we're adding the elements through a callback, so we can ignore\n",
    "# the exception.\n",
    "app = JupyterDash(__name__, external_stylesheets=[dbc.themes.BOOTSTRAP], suppress_callback_exceptions=True)\n",
    "\n",
    "app.layout = html.Div([\n",
    "    dcc.Location(id='url', refresh=False),\n",
    "    html.Div(id='contenido')\n",
    "])\n",
    "\n",
    "pagina_inicio = html.Div(\n",
    "    [\n",
    "        dbc.NavbarSimple(\n",
    "                children=[\n",
    "                    dbc.NavItem(dbc.NavLink(\"Ejercicio 1\", href=\"/ejercicio-1\")),\n",
    "                    dbc.NavItem(dbc.NavLink(\"Ejercicio 2\", href=\"/page-2\")),\n",
    "                    dbc.NavItem(dbc.NavLink(\"Ejercicio 3\", href=\"/page-3\"))\n",
    "                ],\n",
    "                brand=\"GRUPO 1 - TRABAJO PRÁCICO N°3\",\n",
    "                color=\"primary\",\n",
    "                dark=True,\n",
    "        ),\n",
    "        html.Div(id=\"pagina-inicio-content\"),\n",
    "        dbc.Jumbotron(\n",
    "            [\n",
    "                html.H3(\"Grupo 1 - Problema del Viajante\", className=\"display-3\"),\n",
    "                html.H3(\n",
    "                    \"Integrantes:\"\n",
    "                ),\n",
    "                html.P(\n",
    "                    \"D'Angelo Agustín, Fabbri Lucía, Lostumbo Julian, Serenelli Lucio\"\n",
    "                ),\n",
    "                html.P(dbc.Button(\"Continuar\", color=\"primary\", href=\"/page-1\"), className=\"lead\"),\n",
    "            ]\n",
    "        )\n",
    "    ]\n",
    ")\n",
    "\n",
    "ejercicio_1_layout = html.Div(\n",
    "    [\n",
    "        dbc.NavbarSimple(\n",
    "            children=[\n",
    "                dbc.NavItem(dbc.NavLink(\"Ejercicio 1\", href=\"/ejercicio-1\")),\n",
    "                dbc.NavItem(dbc.NavLink(\"Ejercicio 2\", href=\"/ejercicio-2\")),\n",
    "                dbc.NavItem(dbc.NavLink(\"Ejercicio 3\", href=\"/ejercicio-3\"))\n",
    "            ],\n",
    "            brand=\"Grupo 1 - Ejercicio 1\",\n",
    "            color=\"primary\",\n",
    "            dark=True,\n",
    "        ),\n",
    "        html.Div(id=\"ejercicio-1-content\"),\n",
    "        html.P(\"primera linea de la pagina 1\"),\n",
    "        html.P(\"segunda linea de la pagina 1\")         \n",
    "    ]\n",
    ")\n",
    "ejercicio_2_layout = html.Div(\n",
    "    [\n",
    "        dbc.NavbarSimple(\n",
    "            children=[\n",
    "                dbc.NavItem(dbc.NavLink(\"Ejercicio 1\", href=\"/ejercicio-1\")),\n",
    "                dbc.NavItem(dbc.NavLink(\"Ejercicio 2\", href=\"/ejercicio-2\")),\n",
    "                dbc.NavItem(dbc.NavLink(\"Ejercicio 3\", href=\"/ejercicio-3\"))\n",
    "            ],\n",
    "            brand=\"Grupo 1 - Ejercicio 2\",\n",
    "            color=\"primary\",\n",
    "            dark=True,\n",
    "        ),\n",
    "        html.Div(id=\"ejercicio-2-content\"),\n",
    "        html.P(\"primera linea de la pagina 2\"),\n",
    "        html.P(\"segunda linea de la pagina 2\")\n",
    "    ]\n",
    ")\n",
    "ejercicio_3_layout = html.Div(\n",
    "    [\n",
    "        dbc.NavbarSimple(\n",
    "            children=[\n",
    "                dbc.NavItem(dbc.NavLink(\"Ejercicio 1\", href=\"/ejercicio-1\")),\n",
    "                dbc.NavItem(dbc.NavLink(\"Ejercicio 2\", href=\"/ejercicio-2\")),\n",
    "                dbc.NavItem(dbc.NavLink(\"Ejercicio 3\", href=\"/ejercicio-3\"))\n",
    "            ],\n",
    "            brand=\"Grupo 1 - Ejercicio 3\",\n",
    "            color=\"primary\",\n",
    "            dark=True,\n",
    "        ),\n",
    "        html.Div(id=\"ejercicio-3-content\"),\n",
    "        html.P(\"primera linea de la pagina 3\"),\n",
    "        html.P(\"segunda linea de la pagina 3\")\n",
    "    ]\n",
    ")\n",
    "\n",
    "@app.callback(dash.dependencies.Output('ejercicio-1-content', 'children'),\n",
    "              [dash.dependencies.Input('ejercicio-1-dropdown', 'value')])\n",
    "\n",
    "\n",
    "@app.callback(dash.dependencies.Output('ejercicio-2-content', 'children'),\n",
    "              [dash.dependencies.Input('ejercicio-2-radios', 'value')])\n",
    "\n",
    "@app.callback(dash.dependencies.Output('ejercicio-3-content', 'children'),\n",
    "              [dash.dependencies.Input('ejercicio-3-radios', 'value')])\n",
    "\n",
    "# Update the index\n",
    "@app.callback(dash.dependencies.Output('contenido', 'children'),\n",
    "              [dash.dependencies.Input('url', 'pathname')])\n",
    "\n",
    "def display_page(pathname):\n",
    "    if pathname == '/ejercicio-1':\n",
    "        return ejercicio_1_layout\n",
    "    elif pathname == '/ejercicio-2':\n",
    "        return ejercicio_2_layout\n",
    "    elif pathname == '/ejercicio-3':\n",
    "        return ejercicio_3_layout\n",
    "    else:\n",
    "        return pagina_inicio\n",
    "\n",
    "app.run_server(mode='jupyterlab', port=8080)"
   ]
  },
  {
   "cell_type": "code",
   "execution_count": null,
   "metadata": {},
   "outputs": [],
   "source": []
  },
  {
   "cell_type": "code",
   "execution_count": 19,
   "metadata": {},
   "outputs": [],
   "source": [
    "cap = pd.read_csv('capitales.csv')\n",
    "def permutacion_binaria(n, m):\n",
    "  # función recursiva que genera permutaciones en cadenas binarias de longitud n, con m cantidad de unos\n",
    "  # Detalle de implementacion en python: la palabra clave yield es el análogo de return, pero retorna un objeto generador\n",
    "    if m < n:                                                  \n",
    "        if m > 0:\n",
    "            for x in permutacion_binaria(n-1,m-1):\n",
    "                yield bitarray([1]) + x\n",
    "            for x in permutacion_binaria(n-1,m):\n",
    "                yield bitarray([0]) + x\n",
    "        else:\n",
    "            yield n * bitarray('0') \n",
    "    else:\n",
    "        yield n * bitarray('1')\n",
    "\n",
    "def generar_combinaciones(n):\n",
    " \n",
    "    # función que genera todas las cadenas binarias posibles de longitud n,\n",
    "    # el valor de n debe indicarse como parámetro de la función.\n",
    "    n = int(n)\n",
    "    cadenas = []\n",
    "    for i in range(n):\n",
    "        for cadena in permutacion_binaria(n,i):\n",
    "            cadenas.append((cadena))\n",
    " \n",
    "    for index, cadena in enumerate(cadenas):\n",
    "        cadenas[index] = [int(xi) for xi in cadena.tolist()]   # convertimos el arreglo de bits en una lista de python\n",
    "    for index, cadena in enumerate(cadenas):\n",
    "        cadenas[index] = ''.join([str(xi) for xi in cadena])   # convertimos la lista de python en un string\n",
    " \n",
    "    cadenas.append('1' * n)\n",
    "    #se devuelve una lista con las combinaciones posibles de '1's y '0's donde cada bit representa un elemento y si ese elemento se encuentra en la combinacion o no   \n",
    "    return cadenas"
   ]
  },
  {
   "cell_type": "code",
   "execution_count": 41,
   "metadata": {},
   "outputs": [
    {
     "data": {
      "application/vnd.plotly.v1+json": {
       "config": {
        "plotlyServerURL": "https://plot.ly"
       },
       "data": [
        {
         "lat": [
          -34.560063,
          -31.4135,
          -27.483745000000003,
          -26.18129,
          -34.920879,
          -29.416017999999998,
          -32.890840000000004,
          -38.948093,
          -31.735546999999997,
          -27.38225,
          -43.298843,
          -27.426056,
          -51.627644000000004,
          -28.470552,
          -26.824140000000003,
          -24.192795,
          -24.793298999999998,
          -31.539365000000004,
          -33.29643,
          -31.630437,
          -36.619642,
          -27.803519,
          -54.818684999999995,
          -40.815129999999996
         ],
         "lon": [
          -58.390526,
          -64.18105,
          -58.812996,
          -58.190585999999996,
          -57.954325,
          -66.872266,
          -68.82717,
          -68.07764399999999,
          -60.524664,
          -55.92013000000001,
          -65.092815,
          -58.988848,
          -69.242917,
          -65.78580500000001,
          -65.2226,
          -65.29888299999999,
          -65.41314,
          -68.534052,
          -66.320661,
          -60.705592,
          -64.285102,
          -64.26808100000001,
          -68.32900500000001,
          -62.995335
         ],
         "type": "scattermapbox"
        },
        {
         "lat": [
          -34.560063,
          -31.4135,
          -27.483745000000003,
          -26.18129,
          -34.920879,
          -29.416017999999998,
          -32.890840000000004,
          -38.948093,
          -31.735546999999997,
          -27.38225,
          -43.298843,
          -27.426056,
          -51.627644000000004,
          -28.470552,
          -26.824140000000003,
          -24.192795,
          -24.793298999999998,
          -31.539365000000004,
          -33.29643,
          -31.630437,
          -36.619642,
          -27.803519,
          -54.818684999999995,
          -40.815129999999996
         ],
         "lon": [
          -58.390526,
          -64.18105,
          -58.812996,
          -58.190585999999996,
          -57.954325,
          -66.872266,
          -68.82717,
          -68.07764399999999,
          -60.524664,
          -55.92013000000001,
          -65.092815,
          -58.988848,
          -69.242917,
          -65.78580500000001,
          -65.2226,
          -65.29888299999999,
          -65.41314,
          -68.534052,
          -66.320661,
          -60.705592,
          -64.285102,
          -64.26808100000001,
          -68.32900500000001,
          -62.995335
         ],
         "mode": "lines",
         "type": "scattermapbox"
        }
       ],
       "layout": {
        "autosize": true,
        "mapbox": {
         "bearing": 0,
         "center": {
          "lat": -39.865260300755196,
          "lon": -45.43503643360782
         },
         "pitch": 0,
         "style": "open-street-map",
         "zoom": 2.5617302557268795
        },
        "margin": {
         "b": 0,
         "l": 0,
         "r": 0,
         "t": 0
        },
        "template": {
         "data": {
          "bar": [
           {
            "error_x": {
             "color": "#2a3f5f"
            },
            "error_y": {
             "color": "#2a3f5f"
            },
            "marker": {
             "line": {
              "color": "#E5ECF6",
              "width": 0.5
             }
            },
            "type": "bar"
           }
          ],
          "barpolar": [
           {
            "marker": {
             "line": {
              "color": "#E5ECF6",
              "width": 0.5
             }
            },
            "type": "barpolar"
           }
          ],
          "carpet": [
           {
            "aaxis": {
             "endlinecolor": "#2a3f5f",
             "gridcolor": "white",
             "linecolor": "white",
             "minorgridcolor": "white",
             "startlinecolor": "#2a3f5f"
            },
            "baxis": {
             "endlinecolor": "#2a3f5f",
             "gridcolor": "white",
             "linecolor": "white",
             "minorgridcolor": "white",
             "startlinecolor": "#2a3f5f"
            },
            "type": "carpet"
           }
          ],
          "choropleth": [
           {
            "colorbar": {
             "outlinewidth": 0,
             "ticks": ""
            },
            "type": "choropleth"
           }
          ],
          "contour": [
           {
            "colorbar": {
             "outlinewidth": 0,
             "ticks": ""
            },
            "colorscale": [
             [
              0,
              "#0d0887"
             ],
             [
              0.1111111111111111,
              "#46039f"
             ],
             [
              0.2222222222222222,
              "#7201a8"
             ],
             [
              0.3333333333333333,
              "#9c179e"
             ],
             [
              0.4444444444444444,
              "#bd3786"
             ],
             [
              0.5555555555555556,
              "#d8576b"
             ],
             [
              0.6666666666666666,
              "#ed7953"
             ],
             [
              0.7777777777777778,
              "#fb9f3a"
             ],
             [
              0.8888888888888888,
              "#fdca26"
             ],
             [
              1,
              "#f0f921"
             ]
            ],
            "type": "contour"
           }
          ],
          "contourcarpet": [
           {
            "colorbar": {
             "outlinewidth": 0,
             "ticks": ""
            },
            "type": "contourcarpet"
           }
          ],
          "heatmap": [
           {
            "colorbar": {
             "outlinewidth": 0,
             "ticks": ""
            },
            "colorscale": [
             [
              0,
              "#0d0887"
             ],
             [
              0.1111111111111111,
              "#46039f"
             ],
             [
              0.2222222222222222,
              "#7201a8"
             ],
             [
              0.3333333333333333,
              "#9c179e"
             ],
             [
              0.4444444444444444,
              "#bd3786"
             ],
             [
              0.5555555555555556,
              "#d8576b"
             ],
             [
              0.6666666666666666,
              "#ed7953"
             ],
             [
              0.7777777777777778,
              "#fb9f3a"
             ],
             [
              0.8888888888888888,
              "#fdca26"
             ],
             [
              1,
              "#f0f921"
             ]
            ],
            "type": "heatmap"
           }
          ],
          "heatmapgl": [
           {
            "colorbar": {
             "outlinewidth": 0,
             "ticks": ""
            },
            "colorscale": [
             [
              0,
              "#0d0887"
             ],
             [
              0.1111111111111111,
              "#46039f"
             ],
             [
              0.2222222222222222,
              "#7201a8"
             ],
             [
              0.3333333333333333,
              "#9c179e"
             ],
             [
              0.4444444444444444,
              "#bd3786"
             ],
             [
              0.5555555555555556,
              "#d8576b"
             ],
             [
              0.6666666666666666,
              "#ed7953"
             ],
             [
              0.7777777777777778,
              "#fb9f3a"
             ],
             [
              0.8888888888888888,
              "#fdca26"
             ],
             [
              1,
              "#f0f921"
             ]
            ],
            "type": "heatmapgl"
           }
          ],
          "histogram": [
           {
            "marker": {
             "colorbar": {
              "outlinewidth": 0,
              "ticks": ""
             }
            },
            "type": "histogram"
           }
          ],
          "histogram2d": [
           {
            "colorbar": {
             "outlinewidth": 0,
             "ticks": ""
            },
            "colorscale": [
             [
              0,
              "#0d0887"
             ],
             [
              0.1111111111111111,
              "#46039f"
             ],
             [
              0.2222222222222222,
              "#7201a8"
             ],
             [
              0.3333333333333333,
              "#9c179e"
             ],
             [
              0.4444444444444444,
              "#bd3786"
             ],
             [
              0.5555555555555556,
              "#d8576b"
             ],
             [
              0.6666666666666666,
              "#ed7953"
             ],
             [
              0.7777777777777778,
              "#fb9f3a"
             ],
             [
              0.8888888888888888,
              "#fdca26"
             ],
             [
              1,
              "#f0f921"
             ]
            ],
            "type": "histogram2d"
           }
          ],
          "histogram2dcontour": [
           {
            "colorbar": {
             "outlinewidth": 0,
             "ticks": ""
            },
            "colorscale": [
             [
              0,
              "#0d0887"
             ],
             [
              0.1111111111111111,
              "#46039f"
             ],
             [
              0.2222222222222222,
              "#7201a8"
             ],
             [
              0.3333333333333333,
              "#9c179e"
             ],
             [
              0.4444444444444444,
              "#bd3786"
             ],
             [
              0.5555555555555556,
              "#d8576b"
             ],
             [
              0.6666666666666666,
              "#ed7953"
             ],
             [
              0.7777777777777778,
              "#fb9f3a"
             ],
             [
              0.8888888888888888,
              "#fdca26"
             ],
             [
              1,
              "#f0f921"
             ]
            ],
            "type": "histogram2dcontour"
           }
          ],
          "mesh3d": [
           {
            "colorbar": {
             "outlinewidth": 0,
             "ticks": ""
            },
            "type": "mesh3d"
           }
          ],
          "parcoords": [
           {
            "line": {
             "colorbar": {
              "outlinewidth": 0,
              "ticks": ""
             }
            },
            "type": "parcoords"
           }
          ],
          "pie": [
           {
            "automargin": true,
            "type": "pie"
           }
          ],
          "scatter": [
           {
            "marker": {
             "colorbar": {
              "outlinewidth": 0,
              "ticks": ""
             }
            },
            "type": "scatter"
           }
          ],
          "scatter3d": [
           {
            "line": {
             "colorbar": {
              "outlinewidth": 0,
              "ticks": ""
             }
            },
            "marker": {
             "colorbar": {
              "outlinewidth": 0,
              "ticks": ""
             }
            },
            "type": "scatter3d"
           }
          ],
          "scattercarpet": [
           {
            "marker": {
             "colorbar": {
              "outlinewidth": 0,
              "ticks": ""
             }
            },
            "type": "scattercarpet"
           }
          ],
          "scattergeo": [
           {
            "marker": {
             "colorbar": {
              "outlinewidth": 0,
              "ticks": ""
             }
            },
            "type": "scattergeo"
           }
          ],
          "scattergl": [
           {
            "marker": {
             "colorbar": {
              "outlinewidth": 0,
              "ticks": ""
             }
            },
            "type": "scattergl"
           }
          ],
          "scattermapbox": [
           {
            "marker": {
             "colorbar": {
              "outlinewidth": 0,
              "ticks": ""
             }
            },
            "type": "scattermapbox"
           }
          ],
          "scatterpolar": [
           {
            "marker": {
             "colorbar": {
              "outlinewidth": 0,
              "ticks": ""
             }
            },
            "type": "scatterpolar"
           }
          ],
          "scatterpolargl": [
           {
            "marker": {
             "colorbar": {
              "outlinewidth": 0,
              "ticks": ""
             }
            },
            "type": "scatterpolargl"
           }
          ],
          "scatterternary": [
           {
            "marker": {
             "colorbar": {
              "outlinewidth": 0,
              "ticks": ""
             }
            },
            "type": "scatterternary"
           }
          ],
          "surface": [
           {
            "colorbar": {
             "outlinewidth": 0,
             "ticks": ""
            },
            "colorscale": [
             [
              0,
              "#0d0887"
             ],
             [
              0.1111111111111111,
              "#46039f"
             ],
             [
              0.2222222222222222,
              "#7201a8"
             ],
             [
              0.3333333333333333,
              "#9c179e"
             ],
             [
              0.4444444444444444,
              "#bd3786"
             ],
             [
              0.5555555555555556,
              "#d8576b"
             ],
             [
              0.6666666666666666,
              "#ed7953"
             ],
             [
              0.7777777777777778,
              "#fb9f3a"
             ],
             [
              0.8888888888888888,
              "#fdca26"
             ],
             [
              1,
              "#f0f921"
             ]
            ],
            "type": "surface"
           }
          ],
          "table": [
           {
            "cells": {
             "fill": {
              "color": "#EBF0F8"
             },
             "line": {
              "color": "white"
             }
            },
            "header": {
             "fill": {
              "color": "#C8D4E3"
             },
             "line": {
              "color": "white"
             }
            },
            "type": "table"
           }
          ]
         },
         "layout": {
          "annotationdefaults": {
           "arrowcolor": "#2a3f5f",
           "arrowhead": 0,
           "arrowwidth": 1
          },
          "coloraxis": {
           "colorbar": {
            "outlinewidth": 0,
            "ticks": ""
           }
          },
          "colorscale": {
           "diverging": [
            [
             0,
             "#8e0152"
            ],
            [
             0.1,
             "#c51b7d"
            ],
            [
             0.2,
             "#de77ae"
            ],
            [
             0.3,
             "#f1b6da"
            ],
            [
             0.4,
             "#fde0ef"
            ],
            [
             0.5,
             "#f7f7f7"
            ],
            [
             0.6,
             "#e6f5d0"
            ],
            [
             0.7,
             "#b8e186"
            ],
            [
             0.8,
             "#7fbc41"
            ],
            [
             0.9,
             "#4d9221"
            ],
            [
             1,
             "#276419"
            ]
           ],
           "sequential": [
            [
             0,
             "#0d0887"
            ],
            [
             0.1111111111111111,
             "#46039f"
            ],
            [
             0.2222222222222222,
             "#7201a8"
            ],
            [
             0.3333333333333333,
             "#9c179e"
            ],
            [
             0.4444444444444444,
             "#bd3786"
            ],
            [
             0.5555555555555556,
             "#d8576b"
            ],
            [
             0.6666666666666666,
             "#ed7953"
            ],
            [
             0.7777777777777778,
             "#fb9f3a"
            ],
            [
             0.8888888888888888,
             "#fdca26"
            ],
            [
             1,
             "#f0f921"
            ]
           ],
           "sequentialminus": [
            [
             0,
             "#0d0887"
            ],
            [
             0.1111111111111111,
             "#46039f"
            ],
            [
             0.2222222222222222,
             "#7201a8"
            ],
            [
             0.3333333333333333,
             "#9c179e"
            ],
            [
             0.4444444444444444,
             "#bd3786"
            ],
            [
             0.5555555555555556,
             "#d8576b"
            ],
            [
             0.6666666666666666,
             "#ed7953"
            ],
            [
             0.7777777777777778,
             "#fb9f3a"
            ],
            [
             0.8888888888888888,
             "#fdca26"
            ],
            [
             1,
             "#f0f921"
            ]
           ]
          },
          "colorway": [
           "#636efa",
           "#EF553B",
           "#00cc96",
           "#ab63fa",
           "#FFA15A",
           "#19d3f3",
           "#FF6692",
           "#B6E880",
           "#FF97FF",
           "#FECB52"
          ],
          "font": {
           "color": "#2a3f5f"
          },
          "geo": {
           "bgcolor": "white",
           "lakecolor": "white",
           "landcolor": "#E5ECF6",
           "showlakes": true,
           "showland": true,
           "subunitcolor": "white"
          },
          "hoverlabel": {
           "align": "left"
          },
          "hovermode": "closest",
          "mapbox": {
           "style": "light"
          },
          "paper_bgcolor": "white",
          "plot_bgcolor": "#E5ECF6",
          "polar": {
           "angularaxis": {
            "gridcolor": "white",
            "linecolor": "white",
            "ticks": ""
           },
           "bgcolor": "#E5ECF6",
           "radialaxis": {
            "gridcolor": "white",
            "linecolor": "white",
            "ticks": ""
           }
          },
          "scene": {
           "xaxis": {
            "backgroundcolor": "#E5ECF6",
            "gridcolor": "white",
            "gridwidth": 2,
            "linecolor": "white",
            "showbackground": true,
            "ticks": "",
            "zerolinecolor": "white"
           },
           "yaxis": {
            "backgroundcolor": "#E5ECF6",
            "gridcolor": "white",
            "gridwidth": 2,
            "linecolor": "white",
            "showbackground": true,
            "ticks": "",
            "zerolinecolor": "white"
           },
           "zaxis": {
            "backgroundcolor": "#E5ECF6",
            "gridcolor": "white",
            "gridwidth": 2,
            "linecolor": "white",
            "showbackground": true,
            "ticks": "",
            "zerolinecolor": "white"
           }
          },
          "shapedefaults": {
           "line": {
            "color": "#2a3f5f"
           }
          },
          "ternary": {
           "aaxis": {
            "gridcolor": "white",
            "linecolor": "white",
            "ticks": ""
           },
           "baxis": {
            "gridcolor": "white",
            "linecolor": "white",
            "ticks": ""
           },
           "bgcolor": "#E5ECF6",
           "caxis": {
            "gridcolor": "white",
            "linecolor": "white",
            "ticks": ""
           }
          },
          "title": {
           "x": 0.05
          },
          "xaxis": {
           "automargin": true,
           "gridcolor": "white",
           "linecolor": "white",
           "ticks": "",
           "title": {
            "standoff": 15
           },
           "zerolinecolor": "white",
           "zerolinewidth": 2
          },
          "yaxis": {
           "automargin": true,
           "gridcolor": "white",
           "linecolor": "white",
           "ticks": "",
           "title": {
            "standoff": 15
           },
           "zerolinecolor": "white",
           "zerolinewidth": 2
          }
         }
        }
       }
      },
      "image/png": "[encoded data removed]",
      "text/html": [
       "<div>\n",
       "        \n",
       "        \n",
       "            <div id=\"be4976c3-94a8-4ca7-a909-60eda23ac46e\" class=\"plotly-graph-div\" style=\"height:525px; width:100%;\"></div>\n",
       "            <script type=\"text/javascript\">\n",
       "                require([\"plotly\"], function(Plotly) {\n",
       "                    window.PLOTLYENV=window.PLOTLYENV || {};\n",
       "                    \n",
       "                if (document.getElementById(\"be4976c3-94a8-4ca7-a909-60eda23ac46e\")) {\n",
       "                    Plotly.newPlot(\n",
       "                        'be4976c3-94a8-4ca7-a909-60eda23ac46e',\n",
       "                        [{\"lat\": [-34.560063, -31.4135, -27.483745000000003, -26.18129, -34.920879, -29.416017999999998, -32.890840000000004, -38.948093, -31.735546999999997, -27.38225, -43.298843, -27.426056, -51.627644000000004, -28.470552, -26.824140000000003, -24.192795, -24.793298999999998, -31.539365000000004, -33.29643, -31.630437, -36.619642, -27.803519, -54.818684999999995, -40.815129999999996], \"lon\": [-58.390526, -64.18105, -58.812996, -58.190585999999996, -57.954325, -66.872266, -68.82717, -68.07764399999999, -60.524664, -55.92013000000001, -65.092815, -58.988848, -69.242917, -65.78580500000001, -65.2226, -65.29888299999999, -65.41314, -68.534052, -66.320661, -60.705592, -64.285102, -64.26808100000001, -68.32900500000001, -62.995335], \"type\": \"scattermapbox\"}, {\"lat\": [-34.560063, -31.4135, -27.483745000000003, -26.18129, -34.920879, -29.416017999999998, -32.890840000000004, -38.948093, -31.735546999999997, -27.38225, -43.298843, -27.426056, -51.627644000000004, -28.470552, -26.824140000000003, -24.192795, -24.793298999999998, -31.539365000000004, -33.29643, -31.630437, -36.619642, -27.803519, -54.818684999999995, -40.815129999999996], \"lon\": [-58.390526, -64.18105, -58.812996, -58.190585999999996, -57.954325, -66.872266, -68.82717, -68.07764399999999, -60.524664, -55.92013000000001, -65.092815, -58.988848, -69.242917, -65.78580500000001, -65.2226, -65.29888299999999, -65.41314, -68.534052, -66.320661, -60.705592, -64.285102, -64.26808100000001, -68.32900500000001, -62.995335], \"mode\": \"lines\", \"type\": \"scattermapbox\"}],\n",
       "                        {\"mapbox\": {\"style\": \"open-street-map\"}, \"margin\": {\"b\": 0, \"l\": 0, \"r\": 0, \"t\": 0}, \"template\": {\"data\": {\"bar\": [{\"error_x\": {\"color\": \"#2a3f5f\"}, \"error_y\": {\"color\": \"#2a3f5f\"}, \"marker\": {\"line\": {\"color\": \"#E5ECF6\", \"width\": 0.5}}, \"type\": \"bar\"}], \"barpolar\": [{\"marker\": {\"line\": {\"color\": \"#E5ECF6\", \"width\": 0.5}}, \"type\": \"barpolar\"}], \"carpet\": [{\"aaxis\": {\"endlinecolor\": \"#2a3f5f\", \"gridcolor\": \"white\", \"linecolor\": \"white\", \"minorgridcolor\": \"white\", \"startlinecolor\": \"#2a3f5f\"}, \"baxis\": {\"endlinecolor\": \"#2a3f5f\", \"gridcolor\": \"white\", \"linecolor\": \"white\", \"minorgridcolor\": \"white\", \"startlinecolor\": \"#2a3f5f\"}, \"type\": \"carpet\"}], \"choropleth\": [{\"colorbar\": {\"outlinewidth\": 0, \"ticks\": \"\"}, \"type\": \"choropleth\"}], \"contour\": [{\"colorbar\": {\"outlinewidth\": 0, \"ticks\": \"\"}, \"colorscale\": [[0.0, \"#0d0887\"], [0.1111111111111111, \"#46039f\"], [0.2222222222222222, \"#7201a8\"], [0.3333333333333333, \"#9c179e\"], [0.4444444444444444, \"#bd3786\"], [0.5555555555555556, \"#d8576b\"], [0.6666666666666666, \"#ed7953\"], [0.7777777777777778, \"#fb9f3a\"], [0.8888888888888888, \"#fdca26\"], [1.0, \"#f0f921\"]], \"type\": \"contour\"}], \"contourcarpet\": [{\"colorbar\": {\"outlinewidth\": 0, \"ticks\": \"\"}, \"type\": \"contourcarpet\"}], \"heatmap\": [{\"colorbar\": {\"outlinewidth\": 0, \"ticks\": \"\"}, \"colorscale\": [[0.0, \"#0d0887\"], [0.1111111111111111, \"#46039f\"], [0.2222222222222222, \"#7201a8\"], [0.3333333333333333, \"#9c179e\"], [0.4444444444444444, \"#bd3786\"], [0.5555555555555556, \"#d8576b\"], [0.6666666666666666, \"#ed7953\"], [0.7777777777777778, \"#fb9f3a\"], [0.8888888888888888, \"#fdca26\"], [1.0, \"#f0f921\"]], \"type\": \"heatmap\"}], \"heatmapgl\": [{\"colorbar\": {\"outlinewidth\": 0, \"ticks\": \"\"}, \"colorscale\": [[0.0, \"#0d0887\"], [0.1111111111111111, \"#46039f\"], [0.2222222222222222, \"#7201a8\"], [0.3333333333333333, \"#9c179e\"], [0.4444444444444444, \"#bd3786\"], [0.5555555555555556, \"#d8576b\"], [0.6666666666666666, \"#ed7953\"], [0.7777777777777778, \"#fb9f3a\"], [0.8888888888888888, \"#fdca26\"], [1.0, \"#f0f921\"]], \"type\": \"heatmapgl\"}], \"histogram\": [{\"marker\": {\"colorbar\": {\"outlinewidth\": 0, \"ticks\": \"\"}}, \"type\": \"histogram\"}], \"histogram2d\": [{\"colorbar\": {\"outlinewidth\": 0, \"ticks\": \"\"}, \"colorscale\": [[0.0, \"#0d0887\"], [0.1111111111111111, \"#46039f\"], [0.2222222222222222, \"#7201a8\"], [0.3333333333333333, \"#9c179e\"], [0.4444444444444444, \"#bd3786\"], [0.5555555555555556, \"#d8576b\"], [0.6666666666666666, \"#ed7953\"], [0.7777777777777778, \"#fb9f3a\"], [0.8888888888888888, \"#fdca26\"], [1.0, \"#f0f921\"]], \"type\": \"histogram2d\"}], \"histogram2dcontour\": [{\"colorbar\": {\"outlinewidth\": 0, \"ticks\": \"\"}, \"colorscale\": [[0.0, \"#0d0887\"], [0.1111111111111111, \"#46039f\"], [0.2222222222222222, \"#7201a8\"], [0.3333333333333333, \"#9c179e\"], [0.4444444444444444, \"#bd3786\"], [0.5555555555555556, \"#d8576b\"], [0.6666666666666666, \"#ed7953\"], [0.7777777777777778, \"#fb9f3a\"], [0.8888888888888888, \"#fdca26\"], [1.0, \"#f0f921\"]], \"type\": \"histogram2dcontour\"}], \"mesh3d\": [{\"colorbar\": {\"outlinewidth\": 0, \"ticks\": \"\"}, \"type\": \"mesh3d\"}], \"parcoords\": [{\"line\": {\"colorbar\": {\"outlinewidth\": 0, \"ticks\": \"\"}}, \"type\": \"parcoords\"}], \"pie\": [{\"automargin\": true, \"type\": \"pie\"}], \"scatter\": [{\"marker\": {\"colorbar\": {\"outlinewidth\": 0, \"ticks\": \"\"}}, \"type\": \"scatter\"}], \"scatter3d\": [{\"line\": {\"colorbar\": {\"outlinewidth\": 0, \"ticks\": \"\"}}, \"marker\": {\"colorbar\": {\"outlinewidth\": 0, \"ticks\": \"\"}}, \"type\": \"scatter3d\"}], \"scattercarpet\": [{\"marker\": {\"colorbar\": {\"outlinewidth\": 0, \"ticks\": \"\"}}, \"type\": \"scattercarpet\"}], \"scattergeo\": [{\"marker\": {\"colorbar\": {\"outlinewidth\": 0, \"ticks\": \"\"}}, \"type\": \"scattergeo\"}], \"scattergl\": [{\"marker\": {\"colorbar\": {\"outlinewidth\": 0, \"ticks\": \"\"}}, \"type\": \"scattergl\"}], \"scattermapbox\": [{\"marker\": {\"colorbar\": {\"outlinewidth\": 0, \"ticks\": \"\"}}, \"type\": \"scattermapbox\"}], \"scatterpolar\": [{\"marker\": {\"colorbar\": {\"outlinewidth\": 0, \"ticks\": \"\"}}, \"type\": \"scatterpolar\"}], \"scatterpolargl\": [{\"marker\": {\"colorbar\": {\"outlinewidth\": 0, \"ticks\": \"\"}}, \"type\": \"scatterpolargl\"}], \"scatterternary\": [{\"marker\": {\"colorbar\": {\"outlinewidth\": 0, \"ticks\": \"\"}}, \"type\": \"scatterternary\"}], \"surface\": [{\"colorbar\": {\"outlinewidth\": 0, \"ticks\": \"\"}, \"colorscale\": [[0.0, \"#0d0887\"], [0.1111111111111111, \"#46039f\"], [0.2222222222222222, \"#7201a8\"], [0.3333333333333333, \"#9c179e\"], [0.4444444444444444, \"#bd3786\"], [0.5555555555555556, \"#d8576b\"], [0.6666666666666666, \"#ed7953\"], [0.7777777777777778, \"#fb9f3a\"], [0.8888888888888888, \"#fdca26\"], [1.0, \"#f0f921\"]], \"type\": \"surface\"}], \"table\": [{\"cells\": {\"fill\": {\"color\": \"#EBF0F8\"}, \"line\": {\"color\": \"white\"}}, \"header\": {\"fill\": {\"color\": \"#C8D4E3\"}, \"line\": {\"color\": \"white\"}}, \"type\": \"table\"}]}, \"layout\": {\"annotationdefaults\": {\"arrowcolor\": \"#2a3f5f\", \"arrowhead\": 0, \"arrowwidth\": 1}, \"coloraxis\": {\"colorbar\": {\"outlinewidth\": 0, \"ticks\": \"\"}}, \"colorscale\": {\"diverging\": [[0, \"#8e0152\"], [0.1, \"#c51b7d\"], [0.2, \"#de77ae\"], [0.3, \"#f1b6da\"], [0.4, \"#fde0ef\"], [0.5, \"#f7f7f7\"], [0.6, \"#e6f5d0\"], [0.7, \"#b8e186\"], [0.8, \"#7fbc41\"], [0.9, \"#4d9221\"], [1, \"#276419\"]], \"sequential\": [[0.0, \"#0d0887\"], [0.1111111111111111, \"#46039f\"], [0.2222222222222222, \"#7201a8\"], [0.3333333333333333, \"#9c179e\"], [0.4444444444444444, \"#bd3786\"], [0.5555555555555556, \"#d8576b\"], [0.6666666666666666, \"#ed7953\"], [0.7777777777777778, \"#fb9f3a\"], [0.8888888888888888, \"#fdca26\"], [1.0, \"#f0f921\"]], \"sequentialminus\": [[0.0, \"#0d0887\"], [0.1111111111111111, \"#46039f\"], [0.2222222222222222, \"#7201a8\"], [0.3333333333333333, \"#9c179e\"], [0.4444444444444444, \"#bd3786\"], [0.5555555555555556, \"#d8576b\"], [0.6666666666666666, \"#ed7953\"], [0.7777777777777778, \"#fb9f3a\"], [0.8888888888888888, \"#fdca26\"], [1.0, \"#f0f921\"]]}, \"colorway\": [\"#636efa\", \"#EF553B\", \"#00cc96\", \"#ab63fa\", \"#FFA15A\", \"#19d3f3\", \"#FF6692\", \"#B6E880\", \"#FF97FF\", \"#FECB52\"], \"font\": {\"color\": \"#2a3f5f\"}, \"geo\": {\"bgcolor\": \"white\", \"lakecolor\": \"white\", \"landcolor\": \"#E5ECF6\", \"showlakes\": true, \"showland\": true, \"subunitcolor\": \"white\"}, \"hoverlabel\": {\"align\": \"left\"}, \"hovermode\": \"closest\", \"mapbox\": {\"style\": \"light\"}, \"paper_bgcolor\": \"white\", \"plot_bgcolor\": \"#E5ECF6\", \"polar\": {\"angularaxis\": {\"gridcolor\": \"white\", \"linecolor\": \"white\", \"ticks\": \"\"}, \"bgcolor\": \"#E5ECF6\", \"radialaxis\": {\"gridcolor\": \"white\", \"linecolor\": \"white\", \"ticks\": \"\"}}, \"scene\": {\"xaxis\": {\"backgroundcolor\": \"#E5ECF6\", \"gridcolor\": \"white\", \"gridwidth\": 2, \"linecolor\": \"white\", \"showbackground\": true, \"ticks\": \"\", \"zerolinecolor\": \"white\"}, \"yaxis\": {\"backgroundcolor\": \"#E5ECF6\", \"gridcolor\": \"white\", \"gridwidth\": 2, \"linecolor\": \"white\", \"showbackground\": true, \"ticks\": \"\", \"zerolinecolor\": \"white\"}, \"zaxis\": {\"backgroundcolor\": \"#E5ECF6\", \"gridcolor\": \"white\", \"gridwidth\": 2, \"linecolor\": \"white\", \"showbackground\": true, \"ticks\": \"\", \"zerolinecolor\": \"white\"}}, \"shapedefaults\": {\"line\": {\"color\": \"#2a3f5f\"}}, \"ternary\": {\"aaxis\": {\"gridcolor\": \"white\", \"linecolor\": \"white\", \"ticks\": \"\"}, \"baxis\": {\"gridcolor\": \"white\", \"linecolor\": \"white\", \"ticks\": \"\"}, \"bgcolor\": \"#E5ECF6\", \"caxis\": {\"gridcolor\": \"white\", \"linecolor\": \"white\", \"ticks\": \"\"}}, \"title\": {\"x\": 0.05}, \"xaxis\": {\"automargin\": true, \"gridcolor\": \"white\", \"linecolor\": \"white\", \"ticks\": \"\", \"title\": {\"standoff\": 15}, \"zerolinecolor\": \"white\", \"zerolinewidth\": 2}, \"yaxis\": {\"automargin\": true, \"gridcolor\": \"white\", \"linecolor\": \"white\", \"ticks\": \"\", \"title\": {\"standoff\": 15}, \"zerolinecolor\": \"white\", \"zerolinewidth\": 2}}}},\n",
       "                        {\"responsive\": true}\n",
       "                    ).then(function(){\n",
       "                            \n",
       "var gd = document.getElementById('be4976c3-94a8-4ca7-a909-60eda23ac46e');\n",
       "var x = new MutationObserver(function (mutations, observer) {{\n",
       "        var display = window.getComputedStyle(gd).display;\n",
       "        if (!display || display === 'none') {{\n",
       "            console.log([gd, 'removed!']);\n",
       "            Plotly.purge(gd);\n",
       "            observer.disconnect();\n",
       "        }}\n",
       "}});\n",
       "\n",
       "// Listen for the removal of the full notebook cells\n",
       "var notebookContainer = gd.closest('#notebook-container');\n",
       "if (notebookContainer) {{\n",
       "    x.observe(notebookContainer, {childList: true});\n",
       "}}\n",
       "\n",
       "// Listen for the clearing of the current output cell\n",
       "var outputEl = gd.closest('.output');\n",
       "if (outputEl) {{\n",
       "    x.observe(outputEl, {childList: true});\n",
       "}}\n",
       "\n",
       "                        })\n",
       "                };\n",
       "                });\n",
       "            </script>\n",
       "        </div>"
      ]
     },
     "metadata": {},
     "output_type": "display_data"
    }
   ],
   "source": [
    "fig = go.Figure(go.Scattermapbox(lat=cap['latitud'], lon=cap['longitud']))\n",
    "fig.update_layout(margin={\"r\":0,\"t\":0,\"l\":0,\"b\":0})\n",
    "fig.update_layout(mapbox_style=\"open-street-map\")\n",
    "\n",
    "fig.add_trace(\n",
    "    go.Scattermapbox(\n",
    "        mode = \"lines\",\n",
    "        lon = cap['longitud'],\n",
    "        lat = cap['latitud'],\n",
    "    )\n",
    ")\n",
    "fig.show()"
   ]
  },
  {
   "cell_type": "code",
   "execution_count": null,
   "metadata": {},
   "outputs": [],
   "source": [
    "frames = [go.Frame(data=[go.Scattermapbox(mode='lines',lon=[cap['longitud'][0], cap['longitud'][1]], lat=[cap['latitud'][0], cap['latitud'][1]])])]\n",
    "frames.append(go.Frame(data=[go.Scattermapbox(mode='lines',lon=[cap['longitud'][1], cap['longitud'][2]], lat=[cap['latitud'][1], cap['latitud'][2]])]))\n",
    "frames.append(go.Frame(data=[go.Scattermapbox(mode='lines',lon=[cap['longitud'][2], cap['longitud'][3]], lat=[cap['latitud'][2], cap['latitud'][3]])]))\n"
   ]
  },
  {
   "cell_type": "code",
   "execution_count": 72,
   "metadata": {},
   "outputs": [
    {
     "data": {
      "application/vnd.plotly.v1+json": {
       "config": {
        "plotlyServerURL": "https://plot.ly"
       },
       "data": [
        {
         "hoverinfo": "text",
         "lat": [
          -34.560063,
          -31.4135,
          -27.483745000000003,
          -26.18129,
          -34.920879,
          -29.416017999999998,
          -32.890840000000004,
          -38.948093,
          -31.735546999999997,
          -27.38225,
          -43.298843,
          -27.426056,
          -51.627644000000004,
          -28.470552,
          -26.824140000000003,
          -24.192795,
          -24.793298999999998,
          -31.539365000000004,
          -33.29643,
          -31.630437,
          -36.619642,
          -27.803519,
          -54.818684999999995,
          -40.815129999999996
         ],
         "lon": [
          -58.390526,
          -64.18105,
          -58.812996,
          -58.190585999999996,
          -57.954325,
          -66.872266,
          -68.82717,
          -68.07764399999999,
          -60.524664,
          -55.92013000000001,
          -65.092815,
          -58.988848,
          -69.242917,
          -65.78580500000001,
          -65.2226,
          -65.29888299999999,
          -65.41314,
          -68.534052,
          -66.320661,
          -60.705592,
          -64.285102,
          -64.26808100000001,
          -68.32900500000001,
          -62.995335
         ],
         "text": [
          "Cdad. de Bs. As.",
          "Córdoba",
          "Corrientes",
          "Formosa",
          "La Plata",
          "La Rioja",
          "Mendoza",
          "Neuquen",
          "Paraná",
          "Posadas",
          "Rawson",
          "Resistencia",
          "Río Gallegos",
          "S.F.d.V.d. Catamarca",
          "S.M. de Tucumán",
          "S.S. de Jujuy",
          "Salta",
          "San Juan",
          "San Luis",
          "Santa Fe",
          "Santa Rosa",
          "Sgo. del Estero",
          "Ushuaia",
          "Viedma"
         ],
         "type": "scattermapbox"
        }
       ],
       "frames": [
        {
         "data": [
          {
           "lat": [
            -34.560063
           ],
           "lon": [
            -58.390526
           ],
           "mode": "lines",
           "type": "scattermapbox"
          }
         ]
        },
        {
         "data": [
          {
           "lat": [
            -34.560063,
            -31.4135
           ],
           "lon": [
            -58.390526,
            -64.18105
           ],
           "mode": "lines",
           "type": "scattermapbox"
          }
         ]
        },
        {
         "data": [
          {
           "lat": [
            -34.560063,
            -31.4135,
            -27.483745000000003
           ],
           "lon": [
            -58.390526,
            -64.18105,
            -58.812996
           ],
           "mode": "lines",
           "type": "scattermapbox"
          }
         ]
        },
        {
         "data": [
          {
           "lat": [
            -34.560063,
            -31.4135,
            -27.483745000000003,
            -26.18129
           ],
           "lon": [
            -58.390526,
            -64.18105,
            -58.812996,
            -58.190585999999996
           ],
           "mode": "lines",
           "type": "scattermapbox"
          }
         ]
        },
        {
         "data": [
          {
           "lat": [
            -34.560063,
            -31.4135,
            -27.483745000000003,
            -26.18129,
            -34.920879
           ],
           "lon": [
            -58.390526,
            -64.18105,
            -58.812996,
            -58.190585999999996,
            -57.954325
           ],
           "mode": "lines",
           "type": "scattermapbox"
          }
         ]
        },
        {
         "data": [
          {
           "lat": [
            -34.560063,
            -31.4135,
            -27.483745000000003,
            -26.18129,
            -34.920879,
            -29.416017999999998
           ],
           "lon": [
            -58.390526,
            -64.18105,
            -58.812996,
            -58.190585999999996,
            -57.954325,
            -66.872266
           ],
           "mode": "lines",
           "type": "scattermapbox"
          }
         ]
        },
        {
         "data": [
          {
           "lat": [
            -34.560063,
            -31.4135,
            -27.483745000000003,
            -26.18129,
            -34.920879,
            -29.416017999999998,
            -32.890840000000004
           ],
           "lon": [
            -58.390526,
            -64.18105,
            -58.812996,
            -58.190585999999996,
            -57.954325,
            -66.872266,
            -68.82717
           ],
           "mode": "lines",
           "type": "scattermapbox"
          }
         ]
        },
        {
         "data": [
          {
           "lat": [
            -34.560063,
            -31.4135,
            -27.483745000000003,
            -26.18129,
            -34.920879,
            -29.416017999999998,
            -32.890840000000004,
            -38.948093
           ],
           "lon": [
            -58.390526,
            -64.18105,
            -58.812996,
            -58.190585999999996,
            -57.954325,
            -66.872266,
            -68.82717,
            -68.07764399999999
           ],
           "mode": "lines",
           "type": "scattermapbox"
          }
         ]
        },
        {
         "data": [
          {
           "lat": [
            -34.560063,
            -31.4135,
            -27.483745000000003,
            -26.18129,
            -34.920879,
            -29.416017999999998,
            -32.890840000000004,
            -38.948093,
            -31.735546999999997
           ],
           "lon": [
            -58.390526,
            -64.18105,
            -58.812996,
            -58.190585999999996,
            -57.954325,
            -66.872266,
            -68.82717,
            -68.07764399999999,
            -60.524664
           ],
           "mode": "lines",
           "type": "scattermapbox"
          }
         ]
        },
        {
         "data": [
          {
           "lat": [
            -34.560063,
            -31.4135,
            -27.483745000000003,
            -26.18129,
            -34.920879,
            -29.416017999999998,
            -32.890840000000004,
            -38.948093,
            -31.735546999999997,
            -27.38225
           ],
           "lon": [
            -58.390526,
            -64.18105,
            -58.812996,
            -58.190585999999996,
            -57.954325,
            -66.872266,
            -68.82717,
            -68.07764399999999,
            -60.524664,
            -55.92013000000001
           ],
           "mode": "lines",
           "type": "scattermapbox"
          }
         ]
        },
        {
         "data": [
          {
           "lat": [
            -34.560063,
            -31.4135,
            -27.483745000000003,
            -26.18129,
            -34.920879,
            -29.416017999999998,
            -32.890840000000004,
            -38.948093,
            -31.735546999999997,
            -27.38225,
            -43.298843
           ],
           "lon": [
            -58.390526,
            -64.18105,
            -58.812996,
            -58.190585999999996,
            -57.954325,
            -66.872266,
            -68.82717,
            -68.07764399999999,
            -60.524664,
            -55.92013000000001,
            -65.092815
           ],
           "mode": "lines",
           "type": "scattermapbox"
          }
         ]
        },
        {
         "data": [
          {
           "lat": [
            -34.560063,
            -31.4135,
            -27.483745000000003,
            -26.18129,
            -34.920879,
            -29.416017999999998,
            -32.890840000000004,
            -38.948093,
            -31.735546999999997,
            -27.38225,
            -43.298843,
            -27.426056
           ],
           "lon": [
            -58.390526,
            -64.18105,
            -58.812996,
            -58.190585999999996,
            -57.954325,
            -66.872266,
            -68.82717,
            -68.07764399999999,
            -60.524664,
            -55.92013000000001,
            -65.092815,
            -58.988848
           ],
           "mode": "lines",
           "type": "scattermapbox"
          }
         ]
        },
        {
         "data": [
          {
           "lat": [
            -34.560063,
            -31.4135,
            -27.483745000000003,
            -26.18129,
            -34.920879,
            -29.416017999999998,
            -32.890840000000004,
            -38.948093,
            -31.735546999999997,
            -27.38225,
            -43.298843,
            -27.426056,
            -51.627644000000004
           ],
           "lon": [
            -58.390526,
            -64.18105,
            -58.812996,
            -58.190585999999996,
            -57.954325,
            -66.872266,
            -68.82717,
            -68.07764399999999,
            -60.524664,
            -55.92013000000001,
            -65.092815,
            -58.988848,
            -69.242917
           ],
           "mode": "lines",
           "type": "scattermapbox"
          }
         ]
        },
        {
         "data": [
          {
           "lat": [
            -34.560063,
            -31.4135,
            -27.483745000000003,
            -26.18129,
            -34.920879,
            -29.416017999999998,
            -32.890840000000004,
            -38.948093,
            -31.735546999999997,
            -27.38225,
            -43.298843,
            -27.426056,
            -51.627644000000004,
            -28.470552
           ],
           "lon": [
            -58.390526,
            -64.18105,
            -58.812996,
            -58.190585999999996,
            -57.954325,
            -66.872266,
            -68.82717,
            -68.07764399999999,
            -60.524664,
            -55.92013000000001,
            -65.092815,
            -58.988848,
            -69.242917,
            -65.78580500000001
           ],
           "mode": "lines",
           "type": "scattermapbox"
          }
         ]
        },
        {
         "data": [
          {
           "lat": [
            -34.560063,
            -31.4135,
            -27.483745000000003,
            -26.18129,
            -34.920879,
            -29.416017999999998,
            -32.890840000000004,
            -38.948093,
            -31.735546999999997,
            -27.38225,
            -43.298843,
            -27.426056,
            -51.627644000000004,
            -28.470552,
            -26.824140000000003
           ],
           "lon": [
            -58.390526,
            -64.18105,
            -58.812996,
            -58.190585999999996,
            -57.954325,
            -66.872266,
            -68.82717,
            -68.07764399999999,
            -60.524664,
            -55.92013000000001,
            -65.092815,
            -58.988848,
            -69.242917,
            -65.78580500000001,
            -65.2226
           ],
           "mode": "lines",
           "type": "scattermapbox"
          }
         ]
        },
        {
         "data": [
          {
           "lat": [
            -34.560063,
            -31.4135,
            -27.483745000000003,
            -26.18129,
            -34.920879,
            -29.416017999999998,
            -32.890840000000004,
            -38.948093,
            -31.735546999999997,
            -27.38225,
            -43.298843,
            -27.426056,
            -51.627644000000004,
            -28.470552,
            -26.824140000000003,
            -24.192795
           ],
           "lon": [
            -58.390526,
            -64.18105,
            -58.812996,
            -58.190585999999996,
            -57.954325,
            -66.872266,
            -68.82717,
            -68.07764399999999,
            -60.524664,
            -55.92013000000001,
            -65.092815,
            -58.988848,
            -69.242917,
            -65.78580500000001,
            -65.2226,
            -65.29888299999999
           ],
           "mode": "lines",
           "type": "scattermapbox"
          }
         ]
        },
        {
         "data": [
          {
           "lat": [
            -34.560063,
            -31.4135,
            -27.483745000000003,
            -26.18129,
            -34.920879,
            -29.416017999999998,
            -32.890840000000004,
            -38.948093,
            -31.735546999999997,
            -27.38225,
            -43.298843,
            -27.426056,
            -51.627644000000004,
            -28.470552,
            -26.824140000000003,
            -24.192795,
            -24.793298999999998
           ],
           "lon": [
            -58.390526,
            -64.18105,
            -58.812996,
            -58.190585999999996,
            -57.954325,
            -66.872266,
            -68.82717,
            -68.07764399999999,
            -60.524664,
            -55.92013000000001,
            -65.092815,
            -58.988848,
            -69.242917,
            -65.78580500000001,
            -65.2226,
            -65.29888299999999,
            -65.41314
           ],
           "mode": "lines",
           "type": "scattermapbox"
          }
         ]
        },
        {
         "data": [
          {
           "lat": [
            -34.560063,
            -31.4135,
            -27.483745000000003,
            -26.18129,
            -34.920879,
            -29.416017999999998,
            -32.890840000000004,
            -38.948093,
            -31.735546999999997,
            -27.38225,
            -43.298843,
            -27.426056,
            -51.627644000000004,
            -28.470552,
            -26.824140000000003,
            -24.192795,
            -24.793298999999998,
            -31.539365000000004
           ],
           "lon": [
            -58.390526,
            -64.18105,
            -58.812996,
            -58.190585999999996,
            -57.954325,
            -66.872266,
            -68.82717,
            -68.07764399999999,
            -60.524664,
            -55.92013000000001,
            -65.092815,
            -58.988848,
            -69.242917,
            -65.78580500000001,
            -65.2226,
            -65.29888299999999,
            -65.41314,
            -68.534052
           ],
           "mode": "lines",
           "type": "scattermapbox"
          }
         ]
        },
        {
         "data": [
          {
           "lat": [
            -34.560063,
            -31.4135,
            -27.483745000000003,
            -26.18129,
            -34.920879,
            -29.416017999999998,
            -32.890840000000004,
            -38.948093,
            -31.735546999999997,
            -27.38225,
            -43.298843,
            -27.426056,
            -51.627644000000004,
            -28.470552,
            -26.824140000000003,
            -24.192795,
            -24.793298999999998,
            -31.539365000000004,
            -33.29643
           ],
           "lon": [
            -58.390526,
            -64.18105,
            -58.812996,
            -58.190585999999996,
            -57.954325,
            -66.872266,
            -68.82717,
            -68.07764399999999,
            -60.524664,
            -55.92013000000001,
            -65.092815,
            -58.988848,
            -69.242917,
            -65.78580500000001,
            -65.2226,
            -65.29888299999999,
            -65.41314,
            -68.534052,
            -66.320661
           ],
           "mode": "lines",
           "type": "scattermapbox"
          }
         ]
        },
        {
         "data": [
          {
           "lat": [
            -34.560063,
            -31.4135,
            -27.483745000000003,
            -26.18129,
            -34.920879,
            -29.416017999999998,
            -32.890840000000004,
            -38.948093,
            -31.735546999999997,
            -27.38225,
            -43.298843,
            -27.426056,
            -51.627644000000004,
            -28.470552,
            -26.824140000000003,
            -24.192795,
            -24.793298999999998,
            -31.539365000000004,
            -33.29643,
            -31.630437
           ],
           "lon": [
            -58.390526,
            -64.18105,
            -58.812996,
            -58.190585999999996,
            -57.954325,
            -66.872266,
            -68.82717,
            -68.07764399999999,
            -60.524664,
            -55.92013000000001,
            -65.092815,
            -58.988848,
            -69.242917,
            -65.78580500000001,
            -65.2226,
            -65.29888299999999,
            -65.41314,
            -68.534052,
            -66.320661,
            -60.705592
           ],
           "mode": "lines",
           "type": "scattermapbox"
          }
         ]
        },
        {
         "data": [
          {
           "lat": [
            -34.560063,
            -31.4135,
            -27.483745000000003,
            -26.18129,
            -34.920879,
            -29.416017999999998,
            -32.890840000000004,
            -38.948093,
            -31.735546999999997,
            -27.38225,
            -43.298843,
            -27.426056,
            -51.627644000000004,
            -28.470552,
            -26.824140000000003,
            -24.192795,
            -24.793298999999998,
            -31.539365000000004,
            -33.29643,
            -31.630437,
            -36.619642
           ],
           "lon": [
            -58.390526,
            -64.18105,
            -58.812996,
            -58.190585999999996,
            -57.954325,
            -66.872266,
            -68.82717,
            -68.07764399999999,
            -60.524664,
            -55.92013000000001,
            -65.092815,
            -58.988848,
            -69.242917,
            -65.78580500000001,
            -65.2226,
            -65.29888299999999,
            -65.41314,
            -68.534052,
            -66.320661,
            -60.705592,
            -64.285102
           ],
           "mode": "lines",
           "type": "scattermapbox"
          }
         ]
        },
        {
         "data": [
          {
           "lat": [
            -34.560063,
            -31.4135,
            -27.483745000000003,
            -26.18129,
            -34.920879,
            -29.416017999999998,
            -32.890840000000004,
            -38.948093,
            -31.735546999999997,
            -27.38225,
            -43.298843,
            -27.426056,
            -51.627644000000004,
            -28.470552,
            -26.824140000000003,
            -24.192795,
            -24.793298999999998,
            -31.539365000000004,
            -33.29643,
            -31.630437,
            -36.619642,
            -27.803519
           ],
           "lon": [
            -58.390526,
            -64.18105,
            -58.812996,
            -58.190585999999996,
            -57.954325,
            -66.872266,
            -68.82717,
            -68.07764399999999,
            -60.524664,
            -55.92013000000001,
            -65.092815,
            -58.988848,
            -69.242917,
            -65.78580500000001,
            -65.2226,
            -65.29888299999999,
            -65.41314,
            -68.534052,
            -66.320661,
            -60.705592,
            -64.285102,
            -64.26808100000001
           ],
           "mode": "lines",
           "type": "scattermapbox"
          }
         ]
        },
        {
         "data": [
          {
           "lat": [
            -34.560063,
            -31.4135,
            -27.483745000000003,
            -26.18129,
            -34.920879,
            -29.416017999999998,
            -32.890840000000004,
            -38.948093,
            -31.735546999999997,
            -27.38225,
            -43.298843,
            -27.426056,
            -51.627644000000004,
            -28.470552,
            -26.824140000000003,
            -24.192795,
            -24.793298999999998,
            -31.539365000000004,
            -33.29643,
            -31.630437,
            -36.619642,
            -27.803519,
            -54.818684999999995
           ],
           "lon": [
            -58.390526,
            -64.18105,
            -58.812996,
            -58.190585999999996,
            -57.954325,
            -66.872266,
            -68.82717,
            -68.07764399999999,
            -60.524664,
            -55.92013000000001,
            -65.092815,
            -58.988848,
            -69.242917,
            -65.78580500000001,
            -65.2226,
            -65.29888299999999,
            -65.41314,
            -68.534052,
            -66.320661,
            -60.705592,
            -64.285102,
            -64.26808100000001,
            -68.32900500000001
           ],
           "mode": "lines",
           "type": "scattermapbox"
          }
         ]
        },
        {
         "data": [
          {
           "lat": [
            -34.560063,
            -31.4135,
            -27.483745000000003,
            -26.18129,
            -34.920879,
            -29.416017999999998,
            -32.890840000000004,
            -38.948093,
            -31.735546999999997,
            -27.38225,
            -43.298843,
            -27.426056,
            -51.627644000000004,
            -28.470552,
            -26.824140000000003,
            -24.192795,
            -24.793298999999998,
            -31.539365000000004,
            -33.29643,
            -31.630437,
            -36.619642,
            -27.803519,
            -54.818684999999995,
            -40.815129999999996
           ],
           "lon": [
            -58.390526,
            -64.18105,
            -58.812996,
            -58.190585999999996,
            -57.954325,
            -66.872266,
            -68.82717,
            -68.07764399999999,
            -60.524664,
            -55.92013000000001,
            -65.092815,
            -58.988848,
            -69.242917,
            -65.78580500000001,
            -65.2226,
            -65.29888299999999,
            -65.41314,
            -68.534052,
            -66.320661,
            -60.705592,
            -64.285102,
            -64.26808100000001,
            -68.32900500000001,
            -62.995335
           ],
           "mode": "lines",
           "type": "scattermapbox"
          }
         ]
        }
       ],
       "layout": {
        "autosize": true,
        "hovermode": "closest",
        "mapbox": {
         "bearing": 0,
         "center": {
          "lat": -36.71632187912804,
          "lon": -49.57619245633873
         },
         "pitch": 0,
         "style": "open-street-map",
         "zoom": 3.8295688697215295
        },
        "margin": {
         "b": 0,
         "l": 0,
         "r": 0,
         "t": 0
        },
        "template": {
         "data": {
          "bar": [
           {
            "error_x": {
             "color": "#2a3f5f"
            },
            "error_y": {
             "color": "#2a3f5f"
            },
            "marker": {
             "line": {
              "color": "#E5ECF6",
              "width": 0.5
             }
            },
            "type": "bar"
           }
          ],
          "barpolar": [
           {
            "marker": {
             "line": {
              "color": "#E5ECF6",
              "width": 0.5
             }
            },
            "type": "barpolar"
           }
          ],
          "carpet": [
           {
            "aaxis": {
             "endlinecolor": "#2a3f5f",
             "gridcolor": "white",
             "linecolor": "white",
             "minorgridcolor": "white",
             "startlinecolor": "#2a3f5f"
            },
            "baxis": {
             "endlinecolor": "#2a3f5f",
             "gridcolor": "white",
             "linecolor": "white",
             "minorgridcolor": "white",
             "startlinecolor": "#2a3f5f"
            },
            "type": "carpet"
           }
          ],
          "choropleth": [
           {
            "colorbar": {
             "outlinewidth": 0,
             "ticks": ""
            },
            "type": "choropleth"
           }
          ],
          "contour": [
           {
            "colorbar": {
             "outlinewidth": 0,
             "ticks": ""
            },
            "colorscale": [
             [
              0,
              "#0d0887"
             ],
             [
              0.1111111111111111,
              "#46039f"
             ],
             [
              0.2222222222222222,
              "#7201a8"
             ],
             [
              0.3333333333333333,
              "#9c179e"
             ],
             [
              0.4444444444444444,
              "#bd3786"
             ],
             [
              0.5555555555555556,
              "#d8576b"
             ],
             [
              0.6666666666666666,
              "#ed7953"
             ],
             [
              0.7777777777777778,
              "#fb9f3a"
             ],
             [
              0.8888888888888888,
              "#fdca26"
             ],
             [
              1,
              "#f0f921"
             ]
            ],
            "type": "contour"
           }
          ],
          "contourcarpet": [
           {
            "colorbar": {
             "outlinewidth": 0,
             "ticks": ""
            },
            "type": "contourcarpet"
           }
          ],
          "heatmap": [
           {
            "colorbar": {
             "outlinewidth": 0,
             "ticks": ""
            },
            "colorscale": [
             [
              0,
              "#0d0887"
             ],
             [
              0.1111111111111111,
              "#46039f"
             ],
             [
              0.2222222222222222,
              "#7201a8"
             ],
             [
              0.3333333333333333,
              "#9c179e"
             ],
             [
              0.4444444444444444,
              "#bd3786"
             ],
             [
              0.5555555555555556,
              "#d8576b"
             ],
             [
              0.6666666666666666,
              "#ed7953"
             ],
             [
              0.7777777777777778,
              "#fb9f3a"
             ],
             [
              0.8888888888888888,
              "#fdca26"
             ],
             [
              1,
              "#f0f921"
             ]
            ],
            "type": "heatmap"
           }
          ],
          "heatmapgl": [
           {
            "colorbar": {
             "outlinewidth": 0,
             "ticks": ""
            },
            "colorscale": [
             [
              0,
              "#0d0887"
             ],
             [
              0.1111111111111111,
              "#46039f"
             ],
             [
              0.2222222222222222,
              "#7201a8"
             ],
             [
              0.3333333333333333,
              "#9c179e"
             ],
             [
              0.4444444444444444,
              "#bd3786"
             ],
             [
              0.5555555555555556,
              "#d8576b"
             ],
             [
              0.6666666666666666,
              "#ed7953"
             ],
             [
              0.7777777777777778,
              "#fb9f3a"
             ],
             [
              0.8888888888888888,
              "#fdca26"
             ],
             [
              1,
              "#f0f921"
             ]
            ],
            "type": "heatmapgl"
           }
          ],
          "histogram": [
           {
            "marker": {
             "colorbar": {
              "outlinewidth": 0,
              "ticks": ""
             }
            },
            "type": "histogram"
           }
          ],
          "histogram2d": [
           {
            "colorbar": {
             "outlinewidth": 0,
             "ticks": ""
            },
            "colorscale": [
             [
              0,
              "#0d0887"
             ],
             [
              0.1111111111111111,
              "#46039f"
             ],
             [
              0.2222222222222222,
              "#7201a8"
             ],
             [
              0.3333333333333333,
              "#9c179e"
             ],
             [
              0.4444444444444444,
              "#bd3786"
             ],
             [
              0.5555555555555556,
              "#d8576b"
             ],
             [
              0.6666666666666666,
              "#ed7953"
             ],
             [
              0.7777777777777778,
              "#fb9f3a"
             ],
             [
              0.8888888888888888,
              "#fdca26"
             ],
             [
              1,
              "#f0f921"
             ]
            ],
            "type": "histogram2d"
           }
          ],
          "histogram2dcontour": [
           {
            "colorbar": {
             "outlinewidth": 0,
             "ticks": ""
            },
            "colorscale": [
             [
              0,
              "#0d0887"
             ],
             [
              0.1111111111111111,
              "#46039f"
             ],
             [
              0.2222222222222222,
              "#7201a8"
             ],
             [
              0.3333333333333333,
              "#9c179e"
             ],
             [
              0.4444444444444444,
              "#bd3786"
             ],
             [
              0.5555555555555556,
              "#d8576b"
             ],
             [
              0.6666666666666666,
              "#ed7953"
             ],
             [
              0.7777777777777778,
              "#fb9f3a"
             ],
             [
              0.8888888888888888,
              "#fdca26"
             ],
             [
              1,
              "#f0f921"
             ]
            ],
            "type": "histogram2dcontour"
           }
          ],
          "mesh3d": [
           {
            "colorbar": {
             "outlinewidth": 0,
             "ticks": ""
            },
            "type": "mesh3d"
           }
          ],
          "parcoords": [
           {
            "line": {
             "colorbar": {
              "outlinewidth": 0,
              "ticks": ""
             }
            },
            "type": "parcoords"
           }
          ],
          "pie": [
           {
            "automargin": true,
            "type": "pie"
           }
          ],
          "scatter": [
           {
            "marker": {
             "colorbar": {
              "outlinewidth": 0,
              "ticks": ""
             }
            },
            "type": "scatter"
           }
          ],
          "scatter3d": [
           {
            "line": {
             "colorbar": {
              "outlinewidth": 0,
              "ticks": ""
             }
            },
            "marker": {
             "colorbar": {
              "outlinewidth": 0,
              "ticks": ""
             }
            },
            "type": "scatter3d"
           }
          ],
          "scattercarpet": [
           {
            "marker": {
             "colorbar": {
              "outlinewidth": 0,
              "ticks": ""
             }
            },
            "type": "scattercarpet"
           }
          ],
          "scattergeo": [
           {
            "marker": {
             "colorbar": {
              "outlinewidth": 0,
              "ticks": ""
             }
            },
            "type": "scattergeo"
           }
          ],
          "scattergl": [
           {
            "marker": {
             "colorbar": {
              "outlinewidth": 0,
              "ticks": ""
             }
            },
            "type": "scattergl"
           }
          ],
          "scattermapbox": [
           {
            "marker": {
             "colorbar": {
              "outlinewidth": 0,
              "ticks": ""
             }
            },
            "type": "scattermapbox"
           }
          ],
          "scatterpolar": [
           {
            "marker": {
             "colorbar": {
              "outlinewidth": 0,
              "ticks": ""
             }
            },
            "type": "scatterpolar"
           }
          ],
          "scatterpolargl": [
           {
            "marker": {
             "colorbar": {
              "outlinewidth": 0,
              "ticks": ""
             }
            },
            "type": "scatterpolargl"
           }
          ],
          "scatterternary": [
           {
            "marker": {
             "colorbar": {
              "outlinewidth": 0,
              "ticks": ""
             }
            },
            "type": "scatterternary"
           }
          ],
          "surface": [
           {
            "colorbar": {
             "outlinewidth": 0,
             "ticks": ""
            },
            "colorscale": [
             [
              0,
              "#0d0887"
             ],
             [
              0.1111111111111111,
              "#46039f"
             ],
             [
              0.2222222222222222,
              "#7201a8"
             ],
             [
              0.3333333333333333,
              "#9c179e"
             ],
             [
              0.4444444444444444,
              "#bd3786"
             ],
             [
              0.5555555555555556,
              "#d8576b"
             ],
             [
              0.6666666666666666,
              "#ed7953"
             ],
             [
              0.7777777777777778,
              "#fb9f3a"
             ],
             [
              0.8888888888888888,
              "#fdca26"
             ],
             [
              1,
              "#f0f921"
             ]
            ],
            "type": "surface"
           }
          ],
          "table": [
           {
            "cells": {
             "fill": {
              "color": "#EBF0F8"
             },
             "line": {
              "color": "white"
             }
            },
            "header": {
             "fill": {
              "color": "#C8D4E3"
             },
             "line": {
              "color": "white"
             }
            },
            "type": "table"
           }
          ]
         },
         "layout": {
          "annotationdefaults": {
           "arrowcolor": "#2a3f5f",
           "arrowhead": 0,
           "arrowwidth": 1
          },
          "coloraxis": {
           "colorbar": {
            "outlinewidth": 0,
            "ticks": ""
           }
          },
          "colorscale": {
           "diverging": [
            [
             0,
             "#8e0152"
            ],
            [
             0.1,
             "#c51b7d"
            ],
            [
             0.2,
             "#de77ae"
            ],
            [
             0.3,
             "#f1b6da"
            ],
            [
             0.4,
             "#fde0ef"
            ],
            [
             0.5,
             "#f7f7f7"
            ],
            [
             0.6,
             "#e6f5d0"
            ],
            [
             0.7,
             "#b8e186"
            ],
            [
             0.8,
             "#7fbc41"
            ],
            [
             0.9,
             "#4d9221"
            ],
            [
             1,
             "#276419"
            ]
           ],
           "sequential": [
            [
             0,
             "#0d0887"
            ],
            [
             0.1111111111111111,
             "#46039f"
            ],
            [
             0.2222222222222222,
             "#7201a8"
            ],
            [
             0.3333333333333333,
             "#9c179e"
            ],
            [
             0.4444444444444444,
             "#bd3786"
            ],
            [
             0.5555555555555556,
             "#d8576b"
            ],
            [
             0.6666666666666666,
             "#ed7953"
            ],
            [
             0.7777777777777778,
             "#fb9f3a"
            ],
            [
             0.8888888888888888,
             "#fdca26"
            ],
            [
             1,
             "#f0f921"
            ]
           ],
           "sequentialminus": [
            [
             0,
             "#0d0887"
            ],
            [
             0.1111111111111111,
             "#46039f"
            ],
            [
             0.2222222222222222,
             "#7201a8"
            ],
            [
             0.3333333333333333,
             "#9c179e"
            ],
            [
             0.4444444444444444,
             "#bd3786"
            ],
            [
             0.5555555555555556,
             "#d8576b"
            ],
            [
             0.6666666666666666,
             "#ed7953"
            ],
            [
             0.7777777777777778,
             "#fb9f3a"
            ],
            [
             0.8888888888888888,
             "#fdca26"
            ],
            [
             1,
             "#f0f921"
            ]
           ]
          },
          "colorway": [
           "#636efa",
           "#EF553B",
           "#00cc96",
           "#ab63fa",
           "#FFA15A",
           "#19d3f3",
           "#FF6692",
           "#B6E880",
           "#FF97FF",
           "#FECB52"
          ],
          "font": {
           "color": "#2a3f5f"
          },
          "geo": {
           "bgcolor": "white",
           "lakecolor": "white",
           "landcolor": "#E5ECF6",
           "showlakes": true,
           "showland": true,
           "subunitcolor": "white"
          },
          "hoverlabel": {
           "align": "left"
          },
          "hovermode": "closest",
          "mapbox": {
           "style": "light"
          },
          "paper_bgcolor": "white",
          "plot_bgcolor": "#E5ECF6",
          "polar": {
           "angularaxis": {
            "gridcolor": "white",
            "linecolor": "white",
            "ticks": ""
           },
           "bgcolor": "#E5ECF6",
           "radialaxis": {
            "gridcolor": "white",
            "linecolor": "white",
            "ticks": ""
           }
          },
          "scene": {
           "xaxis": {
            "backgroundcolor": "#E5ECF6",
            "gridcolor": "white",
            "gridwidth": 2,
            "linecolor": "white",
            "showbackground": true,
            "ticks": "",
            "zerolinecolor": "white"
           },
           "yaxis": {
            "backgroundcolor": "#E5ECF6",
            "gridcolor": "white",
            "gridwidth": 2,
            "linecolor": "white",
            "showbackground": true,
            "ticks": "",
            "zerolinecolor": "white"
           },
           "zaxis": {
            "backgroundcolor": "#E5ECF6",
            "gridcolor": "white",
            "gridwidth": 2,
            "linecolor": "white",
            "showbackground": true,
            "ticks": "",
            "zerolinecolor": "white"
           }
          },
          "shapedefaults": {
           "line": {
            "color": "#2a3f5f"
           }
          },
          "ternary": {
           "aaxis": {
            "gridcolor": "white",
            "linecolor": "white",
            "ticks": ""
           },
           "baxis": {
            "gridcolor": "white",
            "linecolor": "white",
            "ticks": ""
           },
           "bgcolor": "#E5ECF6",
           "caxis": {
            "gridcolor": "white",
            "linecolor": "white",
            "ticks": ""
           }
          },
          "title": {
           "x": 0.05
          },
          "xaxis": {
           "automargin": true,
           "gridcolor": "white",
           "linecolor": "white",
           "ticks": "",
           "title": {
            "standoff": 15
           },
           "zerolinecolor": "white",
           "zerolinewidth": 2
          },
          "yaxis": {
           "automargin": true,
           "gridcolor": "white",
           "linecolor": "white",
           "ticks": "",
           "title": {
            "standoff": 15
           },
           "zerolinecolor": "white",
           "zerolinewidth": 2
          }
         }
        },
        "updatemenus": [
         {
          "buttons": [
           {
            "args": [
             null
            ],
            "label": "Play",
            "method": "animate"
           }
          ],
          "type": "buttons"
         }
        ]
       }
      },
      "image/png": "[encoded data removed]",
      "text/html": [
       "<div>\n",
       "        \n",
       "        \n",
       "            <div id=\"3b2b90b9-ee7a-4e63-a069-afc0aa261ba3\" class=\"plotly-graph-div\" style=\"height:525px; width:100%;\"></div>\n",
       "            <script type=\"text/javascript\">\n",
       "                require([\"plotly\"], function(Plotly) {\n",
       "                    window.PLOTLYENV=window.PLOTLYENV || {};\n",
       "                    \n",
       "                if (document.getElementById(\"3b2b90b9-ee7a-4e63-a069-afc0aa261ba3\")) {\n",
       "                    Plotly.newPlot(\n",
       "                        '3b2b90b9-ee7a-4e63-a069-afc0aa261ba3',\n",
       "                        [{\"hoverinfo\": \"text\", \"lat\": [-34.560063, -31.4135, -27.483745000000003, -26.18129, -34.920879, -29.416017999999998, -32.890840000000004, -38.948093, -31.735546999999997, -27.38225, -43.298843, -27.426056, -51.627644000000004, -28.470552, -26.824140000000003, -24.192795, -24.793298999999998, -31.539365000000004, -33.29643, -31.630437, -36.619642, -27.803519, -54.818684999999995, -40.815129999999996], \"lon\": [-58.390526, -64.18105, -58.812996, -58.190585999999996, -57.954325, -66.872266, -68.82717, -68.07764399999999, -60.524664, -55.92013000000001, -65.092815, -58.988848, -69.242917, -65.78580500000001, -65.2226, -65.29888299999999, -65.41314, -68.534052, -66.320661, -60.705592, -64.285102, -64.26808100000001, -68.32900500000001, -62.995335], \"text\": [\"Cdad. de Bs. As.\", \"C\\u00f3rdoba\", \"Corrientes\", \"Formosa\", \"La Plata\", \"La Rioja\", \"Mendoza\", \"Neuquen\", \"Paran\\u00e1\", \"Posadas\", \"Rawson\", \"Resistencia\", \"R\\u00edo Gallegos\", \"S.F.d.V.d. Catamarca\", \"S.M. de Tucum\\u00e1n\", \"S.S. de Jujuy\", \"Salta\", \"San Juan\", \"San Luis\", \"Santa Fe\", \"Santa Rosa\", \"Sgo. del Estero\", \"Ushuaia\", \"Viedma\"], \"type\": \"scattermapbox\"}],\n",
       "                        {\"autosize\": true, \"hovermode\": \"closest\", \"mapbox\": {\"center\": {\"lat\": -35.876958, \"lon\": -65.293389}, \"style\": \"open-street-map\", \"zoom\": 3}, \"margin\": {\"b\": 0, \"l\": 0, \"r\": 0, \"t\": 0}, \"template\": {\"data\": {\"bar\": [{\"error_x\": {\"color\": \"#2a3f5f\"}, \"error_y\": {\"color\": \"#2a3f5f\"}, \"marker\": {\"line\": {\"color\": \"#E5ECF6\", \"width\": 0.5}}, \"type\": \"bar\"}], \"barpolar\": [{\"marker\": {\"line\": {\"color\": \"#E5ECF6\", \"width\": 0.5}}, \"type\": \"barpolar\"}], \"carpet\": [{\"aaxis\": {\"endlinecolor\": \"#2a3f5f\", \"gridcolor\": \"white\", \"linecolor\": \"white\", \"minorgridcolor\": \"white\", \"startlinecolor\": \"#2a3f5f\"}, \"baxis\": {\"endlinecolor\": \"#2a3f5f\", \"gridcolor\": \"white\", \"linecolor\": \"white\", \"minorgridcolor\": \"white\", \"startlinecolor\": \"#2a3f5f\"}, \"type\": \"carpet\"}], \"choropleth\": [{\"colorbar\": {\"outlinewidth\": 0, \"ticks\": \"\"}, \"type\": \"choropleth\"}], \"contour\": [{\"colorbar\": {\"outlinewidth\": 0, \"ticks\": \"\"}, \"colorscale\": [[0.0, \"#0d0887\"], [0.1111111111111111, \"#46039f\"], [0.2222222222222222, \"#7201a8\"], [0.3333333333333333, \"#9c179e\"], [0.4444444444444444, \"#bd3786\"], [0.5555555555555556, \"#d8576b\"], [0.6666666666666666, \"#ed7953\"], [0.7777777777777778, \"#fb9f3a\"], [0.8888888888888888, \"#fdca26\"], [1.0, \"#f0f921\"]], \"type\": \"contour\"}], \"contourcarpet\": [{\"colorbar\": {\"outlinewidth\": 0, \"ticks\": \"\"}, \"type\": \"contourcarpet\"}], \"heatmap\": [{\"colorbar\": {\"outlinewidth\": 0, \"ticks\": \"\"}, \"colorscale\": [[0.0, \"#0d0887\"], [0.1111111111111111, \"#46039f\"], [0.2222222222222222, \"#7201a8\"], [0.3333333333333333, \"#9c179e\"], [0.4444444444444444, \"#bd3786\"], [0.5555555555555556, \"#d8576b\"], [0.6666666666666666, \"#ed7953\"], [0.7777777777777778, \"#fb9f3a\"], [0.8888888888888888, \"#fdca26\"], [1.0, \"#f0f921\"]], \"type\": \"heatmap\"}], \"heatmapgl\": [{\"colorbar\": {\"outlinewidth\": 0, \"ticks\": \"\"}, \"colorscale\": [[0.0, \"#0d0887\"], [0.1111111111111111, \"#46039f\"], [0.2222222222222222, \"#7201a8\"], [0.3333333333333333, \"#9c179e\"], [0.4444444444444444, \"#bd3786\"], [0.5555555555555556, \"#d8576b\"], [0.6666666666666666, \"#ed7953\"], [0.7777777777777778, \"#fb9f3a\"], [0.8888888888888888, \"#fdca26\"], [1.0, \"#f0f921\"]], \"type\": \"heatmapgl\"}], \"histogram\": [{\"marker\": {\"colorbar\": {\"outlinewidth\": 0, \"ticks\": \"\"}}, \"type\": \"histogram\"}], \"histogram2d\": [{\"colorbar\": {\"outlinewidth\": 0, \"ticks\": \"\"}, \"colorscale\": [[0.0, \"#0d0887\"], [0.1111111111111111, \"#46039f\"], [0.2222222222222222, \"#7201a8\"], [0.3333333333333333, \"#9c179e\"], [0.4444444444444444, \"#bd3786\"], [0.5555555555555556, \"#d8576b\"], [0.6666666666666666, \"#ed7953\"], [0.7777777777777778, \"#fb9f3a\"], [0.8888888888888888, \"#fdca26\"], [1.0, \"#f0f921\"]], \"type\": \"histogram2d\"}], \"histogram2dcontour\": [{\"colorbar\": {\"outlinewidth\": 0, \"ticks\": \"\"}, \"colorscale\": [[0.0, \"#0d0887\"], [0.1111111111111111, \"#46039f\"], [0.2222222222222222, \"#7201a8\"], [0.3333333333333333, \"#9c179e\"], [0.4444444444444444, \"#bd3786\"], [0.5555555555555556, \"#d8576b\"], [0.6666666666666666, \"#ed7953\"], [0.7777777777777778, \"#fb9f3a\"], [0.8888888888888888, \"#fdca26\"], [1.0, \"#f0f921\"]], \"type\": \"histogram2dcontour\"}], \"mesh3d\": [{\"colorbar\": {\"outlinewidth\": 0, \"ticks\": \"\"}, \"type\": \"mesh3d\"}], \"parcoords\": [{\"line\": {\"colorbar\": {\"outlinewidth\": 0, \"ticks\": \"\"}}, \"type\": \"parcoords\"}], \"pie\": [{\"automargin\": true, \"type\": \"pie\"}], \"scatter\": [{\"marker\": {\"colorbar\": {\"outlinewidth\": 0, \"ticks\": \"\"}}, \"type\": \"scatter\"}], \"scatter3d\": [{\"line\": {\"colorbar\": {\"outlinewidth\": 0, \"ticks\": \"\"}}, \"marker\": {\"colorbar\": {\"outlinewidth\": 0, \"ticks\": \"\"}}, \"type\": \"scatter3d\"}], \"scattercarpet\": [{\"marker\": {\"colorbar\": {\"outlinewidth\": 0, \"ticks\": \"\"}}, \"type\": \"scattercarpet\"}], \"scattergeo\": [{\"marker\": {\"colorbar\": {\"outlinewidth\": 0, \"ticks\": \"\"}}, \"type\": \"scattergeo\"}], \"scattergl\": [{\"marker\": {\"colorbar\": {\"outlinewidth\": 0, \"ticks\": \"\"}}, \"type\": \"scattergl\"}], \"scattermapbox\": [{\"marker\": {\"colorbar\": {\"outlinewidth\": 0, \"ticks\": \"\"}}, \"type\": \"scattermapbox\"}], \"scatterpolar\": [{\"marker\": {\"colorbar\": {\"outlinewidth\": 0, \"ticks\": \"\"}}, \"type\": \"scatterpolar\"}], \"scatterpolargl\": [{\"marker\": {\"colorbar\": {\"outlinewidth\": 0, \"ticks\": \"\"}}, \"type\": \"scatterpolargl\"}], \"scatterternary\": [{\"marker\": {\"colorbar\": {\"outlinewidth\": 0, \"ticks\": \"\"}}, \"type\": \"scatterternary\"}], \"surface\": [{\"colorbar\": {\"outlinewidth\": 0, \"ticks\": \"\"}, \"colorscale\": [[0.0, \"#0d0887\"], [0.1111111111111111, \"#46039f\"], [0.2222222222222222, \"#7201a8\"], [0.3333333333333333, \"#9c179e\"], [0.4444444444444444, \"#bd3786\"], [0.5555555555555556, \"#d8576b\"], [0.6666666666666666, \"#ed7953\"], [0.7777777777777778, \"#fb9f3a\"], [0.8888888888888888, \"#fdca26\"], [1.0, \"#f0f921\"]], \"type\": \"surface\"}], \"table\": [{\"cells\": {\"fill\": {\"color\": \"#EBF0F8\"}, \"line\": {\"color\": \"white\"}}, \"header\": {\"fill\": {\"color\": \"#C8D4E3\"}, \"line\": {\"color\": \"white\"}}, \"type\": \"table\"}]}, \"layout\": {\"annotationdefaults\": {\"arrowcolor\": \"#2a3f5f\", \"arrowhead\": 0, \"arrowwidth\": 1}, \"coloraxis\": {\"colorbar\": {\"outlinewidth\": 0, \"ticks\": \"\"}}, \"colorscale\": {\"diverging\": [[0, \"#8e0152\"], [0.1, \"#c51b7d\"], [0.2, \"#de77ae\"], [0.3, \"#f1b6da\"], [0.4, \"#fde0ef\"], [0.5, \"#f7f7f7\"], [0.6, \"#e6f5d0\"], [0.7, \"#b8e186\"], [0.8, \"#7fbc41\"], [0.9, \"#4d9221\"], [1, \"#276419\"]], \"sequential\": [[0.0, \"#0d0887\"], [0.1111111111111111, \"#46039f\"], [0.2222222222222222, \"#7201a8\"], [0.3333333333333333, \"#9c179e\"], [0.4444444444444444, \"#bd3786\"], [0.5555555555555556, \"#d8576b\"], [0.6666666666666666, \"#ed7953\"], [0.7777777777777778, \"#fb9f3a\"], [0.8888888888888888, \"#fdca26\"], [1.0, \"#f0f921\"]], \"sequentialminus\": [[0.0, \"#0d0887\"], [0.1111111111111111, \"#46039f\"], [0.2222222222222222, \"#7201a8\"], [0.3333333333333333, \"#9c179e\"], [0.4444444444444444, \"#bd3786\"], [0.5555555555555556, \"#d8576b\"], [0.6666666666666666, \"#ed7953\"], [0.7777777777777778, \"#fb9f3a\"], [0.8888888888888888, \"#fdca26\"], [1.0, \"#f0f921\"]]}, \"colorway\": [\"#636efa\", \"#EF553B\", \"#00cc96\", \"#ab63fa\", \"#FFA15A\", \"#19d3f3\", \"#FF6692\", \"#B6E880\", \"#FF97FF\", \"#FECB52\"], \"font\": {\"color\": \"#2a3f5f\"}, \"geo\": {\"bgcolor\": \"white\", \"lakecolor\": \"white\", \"landcolor\": \"#E5ECF6\", \"showlakes\": true, \"showland\": true, \"subunitcolor\": \"white\"}, \"hoverlabel\": {\"align\": \"left\"}, \"hovermode\": \"closest\", \"mapbox\": {\"style\": \"light\"}, \"paper_bgcolor\": \"white\", \"plot_bgcolor\": \"#E5ECF6\", \"polar\": {\"angularaxis\": {\"gridcolor\": \"white\", \"linecolor\": \"white\", \"ticks\": \"\"}, \"bgcolor\": \"#E5ECF6\", \"radialaxis\": {\"gridcolor\": \"white\", \"linecolor\": \"white\", \"ticks\": \"\"}}, \"scene\": {\"xaxis\": {\"backgroundcolor\": \"#E5ECF6\", \"gridcolor\": \"white\", \"gridwidth\": 2, \"linecolor\": \"white\", \"showbackground\": true, \"ticks\": \"\", \"zerolinecolor\": \"white\"}, \"yaxis\": {\"backgroundcolor\": \"#E5ECF6\", \"gridcolor\": \"white\", \"gridwidth\": 2, \"linecolor\": \"white\", \"showbackground\": true, \"ticks\": \"\", \"zerolinecolor\": \"white\"}, \"zaxis\": {\"backgroundcolor\": \"#E5ECF6\", \"gridcolor\": \"white\", \"gridwidth\": 2, \"linecolor\": \"white\", \"showbackground\": true, \"ticks\": \"\", \"zerolinecolor\": \"white\"}}, \"shapedefaults\": {\"line\": {\"color\": \"#2a3f5f\"}}, \"ternary\": {\"aaxis\": {\"gridcolor\": \"white\", \"linecolor\": \"white\", \"ticks\": \"\"}, \"baxis\": {\"gridcolor\": \"white\", \"linecolor\": \"white\", \"ticks\": \"\"}, \"bgcolor\": \"#E5ECF6\", \"caxis\": {\"gridcolor\": \"white\", \"linecolor\": \"white\", \"ticks\": \"\"}}, \"title\": {\"x\": 0.05}, \"xaxis\": {\"automargin\": true, \"gridcolor\": \"white\", \"linecolor\": \"white\", \"ticks\": \"\", \"title\": {\"standoff\": 15}, \"zerolinecolor\": \"white\", \"zerolinewidth\": 2}, \"yaxis\": {\"automargin\": true, \"gridcolor\": \"white\", \"linecolor\": \"white\", \"ticks\": \"\", \"title\": {\"standoff\": 15}, \"zerolinecolor\": \"white\", \"zerolinewidth\": 2}}}, \"updatemenus\": [{\"buttons\": [{\"args\": [null], \"label\": \"Play\", \"method\": \"animate\"}], \"type\": \"buttons\"}]},\n",
       "                        {\"responsive\": true}\n",
       "                    ).then(function(){\n",
       "                            Plotly.addFrames('3b2b90b9-ee7a-4e63-a069-afc0aa261ba3', [{\"data\": [{\"lat\": [-34.560063], \"lon\": [-58.390526], \"mode\": \"lines\", \"type\": \"scattermapbox\"}]}, {\"data\": [{\"lat\": [-34.560063, -31.4135], \"lon\": [-58.390526, -64.18105], \"mode\": \"lines\", \"type\": \"scattermapbox\"}]}, {\"data\": [{\"lat\": [-34.560063, -31.4135, -27.483745000000003], \"lon\": [-58.390526, -64.18105, -58.812996], \"mode\": \"lines\", \"type\": \"scattermapbox\"}]}, {\"data\": [{\"lat\": [-34.560063, -31.4135, -27.483745000000003, -26.18129], \"lon\": [-58.390526, -64.18105, -58.812996, -58.190585999999996], \"mode\": \"lines\", \"type\": \"scattermapbox\"}]}, {\"data\": [{\"lat\": [-34.560063, -31.4135, -27.483745000000003, -26.18129, -34.920879], \"lon\": [-58.390526, -64.18105, -58.812996, -58.190585999999996, -57.954325], \"mode\": \"lines\", \"type\": \"scattermapbox\"}]}, {\"data\": [{\"lat\": [-34.560063, -31.4135, -27.483745000000003, -26.18129, -34.920879, -29.416017999999998], \"lon\": [-58.390526, -64.18105, -58.812996, -58.190585999999996, -57.954325, -66.872266], \"mode\": \"lines\", \"type\": \"scattermapbox\"}]}, {\"data\": [{\"lat\": [-34.560063, -31.4135, -27.483745000000003, -26.18129, -34.920879, -29.416017999999998, -32.890840000000004], \"lon\": [-58.390526, -64.18105, -58.812996, -58.190585999999996, -57.954325, -66.872266, -68.82717], \"mode\": \"lines\", \"type\": \"scattermapbox\"}]}, {\"data\": [{\"lat\": [-34.560063, -31.4135, -27.483745000000003, -26.18129, -34.920879, -29.416017999999998, -32.890840000000004, -38.948093], \"lon\": [-58.390526, -64.18105, -58.812996, -58.190585999999996, -57.954325, -66.872266, -68.82717, -68.07764399999999], \"mode\": \"lines\", \"type\": \"scattermapbox\"}]}, {\"data\": [{\"lat\": [-34.560063, -31.4135, -27.483745000000003, -26.18129, -34.920879, -29.416017999999998, -32.890840000000004, -38.948093, -31.735546999999997], \"lon\": [-58.390526, -64.18105, -58.812996, -58.190585999999996, -57.954325, -66.872266, -68.82717, -68.07764399999999, -60.524664], \"mode\": \"lines\", \"type\": \"scattermapbox\"}]}, {\"data\": [{\"lat\": [-34.560063, -31.4135, -27.483745000000003, -26.18129, -34.920879, -29.416017999999998, -32.890840000000004, -38.948093, -31.735546999999997, -27.38225], \"lon\": [-58.390526, -64.18105, -58.812996, -58.190585999999996, -57.954325, -66.872266, -68.82717, -68.07764399999999, -60.524664, -55.92013000000001], \"mode\": \"lines\", \"type\": \"scattermapbox\"}]}, {\"data\": [{\"lat\": [-34.560063, -31.4135, -27.483745000000003, -26.18129, -34.920879, -29.416017999999998, -32.890840000000004, -38.948093, -31.735546999999997, -27.38225, -43.298843], \"lon\": [-58.390526, -64.18105, -58.812996, -58.190585999999996, -57.954325, -66.872266, -68.82717, -68.07764399999999, -60.524664, -55.92013000000001, -65.092815], \"mode\": \"lines\", \"type\": \"scattermapbox\"}]}, {\"data\": [{\"lat\": [-34.560063, -31.4135, -27.483745000000003, -26.18129, -34.920879, -29.416017999999998, -32.890840000000004, -38.948093, -31.735546999999997, -27.38225, -43.298843, -27.426056], \"lon\": [-58.390526, -64.18105, -58.812996, -58.190585999999996, -57.954325, -66.872266, -68.82717, -68.07764399999999, -60.524664, -55.92013000000001, -65.092815, -58.988848], \"mode\": \"lines\", \"type\": \"scattermapbox\"}]}, {\"data\": [{\"lat\": [-34.560063, -31.4135, -27.483745000000003, -26.18129, -34.920879, -29.416017999999998, -32.890840000000004, -38.948093, -31.735546999999997, -27.38225, -43.298843, -27.426056, -51.627644000000004], \"lon\": [-58.390526, -64.18105, -58.812996, -58.190585999999996, -57.954325, -66.872266, -68.82717, -68.07764399999999, -60.524664, -55.92013000000001, -65.092815, -58.988848, -69.242917], \"mode\": \"lines\", \"type\": \"scattermapbox\"}]}, {\"data\": [{\"lat\": [-34.560063, -31.4135, -27.483745000000003, -26.18129, -34.920879, -29.416017999999998, -32.890840000000004, -38.948093, -31.735546999999997, -27.38225, -43.298843, -27.426056, -51.627644000000004, -28.470552], \"lon\": [-58.390526, -64.18105, -58.812996, -58.190585999999996, -57.954325, -66.872266, -68.82717, -68.07764399999999, -60.524664, -55.92013000000001, -65.092815, -58.988848, -69.242917, -65.78580500000001], \"mode\": \"lines\", \"type\": \"scattermapbox\"}]}, {\"data\": [{\"lat\": [-34.560063, -31.4135, -27.483745000000003, -26.18129, -34.920879, -29.416017999999998, -32.890840000000004, -38.948093, -31.735546999999997, -27.38225, -43.298843, -27.426056, -51.627644000000004, -28.470552, -26.824140000000003], \"lon\": [-58.390526, -64.18105, -58.812996, -58.190585999999996, -57.954325, -66.872266, -68.82717, -68.07764399999999, -60.524664, -55.92013000000001, -65.092815, -58.988848, -69.242917, -65.78580500000001, -65.2226], \"mode\": \"lines\", \"type\": \"scattermapbox\"}]}, {\"data\": [{\"lat\": [-34.560063, -31.4135, -27.483745000000003, -26.18129, -34.920879, -29.416017999999998, -32.890840000000004, -38.948093, -31.735546999999997, -27.38225, -43.298843, -27.426056, -51.627644000000004, -28.470552, -26.824140000000003, -24.192795], \"lon\": [-58.390526, -64.18105, -58.812996, -58.190585999999996, -57.954325, -66.872266, -68.82717, -68.07764399999999, -60.524664, -55.92013000000001, -65.092815, -58.988848, -69.242917, -65.78580500000001, -65.2226, -65.29888299999999], \"mode\": \"lines\", \"type\": \"scattermapbox\"}]}, {\"data\": [{\"lat\": [-34.560063, -31.4135, -27.483745000000003, -26.18129, -34.920879, -29.416017999999998, -32.890840000000004, -38.948093, -31.735546999999997, -27.38225, -43.298843, -27.426056, -51.627644000000004, -28.470552, -26.824140000000003, -24.192795, -24.793298999999998], \"lon\": [-58.390526, -64.18105, -58.812996, -58.190585999999996, -57.954325, -66.872266, -68.82717, -68.07764399999999, -60.524664, -55.92013000000001, -65.092815, -58.988848, -69.242917, -65.78580500000001, -65.2226, -65.29888299999999, -65.41314], \"mode\": \"lines\", \"type\": \"scattermapbox\"}]}, {\"data\": [{\"lat\": [-34.560063, -31.4135, -27.483745000000003, -26.18129, -34.920879, -29.416017999999998, -32.890840000000004, -38.948093, -31.735546999999997, -27.38225, -43.298843, -27.426056, -51.627644000000004, -28.470552, -26.824140000000003, -24.192795, -24.793298999999998, -31.539365000000004], \"lon\": [-58.390526, -64.18105, -58.812996, -58.190585999999996, -57.954325, -66.872266, -68.82717, -68.07764399999999, -60.524664, -55.92013000000001, -65.092815, -58.988848, -69.242917, -65.78580500000001, -65.2226, -65.29888299999999, -65.41314, -68.534052], \"mode\": \"lines\", \"type\": \"scattermapbox\"}]}, {\"data\": [{\"lat\": [-34.560063, -31.4135, -27.483745000000003, -26.18129, -34.920879, -29.416017999999998, -32.890840000000004, -38.948093, -31.735546999999997, -27.38225, -43.298843, -27.426056, -51.627644000000004, -28.470552, -26.824140000000003, -24.192795, -24.793298999999998, -31.539365000000004, -33.29643], \"lon\": [-58.390526, -64.18105, -58.812996, -58.190585999999996, -57.954325, -66.872266, -68.82717, -68.07764399999999, -60.524664, -55.92013000000001, -65.092815, -58.988848, -69.242917, -65.78580500000001, -65.2226, -65.29888299999999, -65.41314, -68.534052, -66.320661], \"mode\": \"lines\", \"type\": \"scattermapbox\"}]}, {\"data\": [{\"lat\": [-34.560063, -31.4135, -27.483745000000003, -26.18129, -34.920879, -29.416017999999998, -32.890840000000004, -38.948093, -31.735546999999997, -27.38225, -43.298843, -27.426056, -51.627644000000004, -28.470552, -26.824140000000003, -24.192795, -24.793298999999998, -31.539365000000004, -33.29643, -31.630437], \"lon\": [-58.390526, -64.18105, -58.812996, -58.190585999999996, -57.954325, -66.872266, -68.82717, -68.07764399999999, -60.524664, -55.92013000000001, -65.092815, -58.988848, -69.242917, -65.78580500000001, -65.2226, -65.29888299999999, -65.41314, -68.534052, -66.320661, -60.705592], \"mode\": \"lines\", \"type\": \"scattermapbox\"}]}, {\"data\": [{\"lat\": [-34.560063, -31.4135, -27.483745000000003, -26.18129, -34.920879, -29.416017999999998, -32.890840000000004, -38.948093, -31.735546999999997, -27.38225, -43.298843, -27.426056, -51.627644000000004, -28.470552, -26.824140000000003, -24.192795, -24.793298999999998, -31.539365000000004, -33.29643, -31.630437, -36.619642], \"lon\": [-58.390526, -64.18105, -58.812996, -58.190585999999996, -57.954325, -66.872266, -68.82717, -68.07764399999999, -60.524664, -55.92013000000001, -65.092815, -58.988848, -69.242917, -65.78580500000001, -65.2226, -65.29888299999999, -65.41314, -68.534052, -66.320661, -60.705592, -64.285102], \"mode\": \"lines\", \"type\": \"scattermapbox\"}]}, {\"data\": [{\"lat\": [-34.560063, -31.4135, -27.483745000000003, -26.18129, -34.920879, -29.416017999999998, -32.890840000000004, -38.948093, -31.735546999999997, -27.38225, -43.298843, -27.426056, -51.627644000000004, -28.470552, -26.824140000000003, -24.192795, -24.793298999999998, -31.539365000000004, -33.29643, -31.630437, -36.619642, -27.803519], \"lon\": [-58.390526, -64.18105, -58.812996, -58.190585999999996, -57.954325, -66.872266, -68.82717, -68.07764399999999, -60.524664, -55.92013000000001, -65.092815, -58.988848, -69.242917, -65.78580500000001, -65.2226, -65.29888299999999, -65.41314, -68.534052, -66.320661, -60.705592, -64.285102, -64.26808100000001], \"mode\": \"lines\", \"type\": \"scattermapbox\"}]}, {\"data\": [{\"lat\": [-34.560063, -31.4135, -27.483745000000003, -26.18129, -34.920879, -29.416017999999998, -32.890840000000004, -38.948093, -31.735546999999997, -27.38225, -43.298843, -27.426056, -51.627644000000004, -28.470552, -26.824140000000003, -24.192795, -24.793298999999998, -31.539365000000004, -33.29643, -31.630437, -36.619642, -27.803519, -54.818684999999995], \"lon\": [-58.390526, -64.18105, -58.812996, -58.190585999999996, -57.954325, -66.872266, -68.82717, -68.07764399999999, -60.524664, -55.92013000000001, -65.092815, -58.988848, -69.242917, -65.78580500000001, -65.2226, -65.29888299999999, -65.41314, -68.534052, -66.320661, -60.705592, -64.285102, -64.26808100000001, -68.32900500000001], \"mode\": \"lines\", \"type\": \"scattermapbox\"}]}, {\"data\": [{\"lat\": [-34.560063, -31.4135, -27.483745000000003, -26.18129, -34.920879, -29.416017999999998, -32.890840000000004, -38.948093, -31.735546999999997, -27.38225, -43.298843, -27.426056, -51.627644000000004, -28.470552, -26.824140000000003, -24.192795, -24.793298999999998, -31.539365000000004, -33.29643, -31.630437, -36.619642, -27.803519, -54.818684999999995, -40.815129999999996], \"lon\": [-58.390526, -64.18105, -58.812996, -58.190585999999996, -57.954325, -66.872266, -68.82717, -68.07764399999999, -60.524664, -55.92013000000001, -65.092815, -58.988848, -69.242917, -65.78580500000001, -65.2226, -65.29888299999999, -65.41314, -68.534052, -66.320661, -60.705592, -64.285102, -64.26808100000001, -68.32900500000001, -62.995335], \"mode\": \"lines\", \"type\": \"scattermapbox\"}]}]);\n",
       "                        }).then(function(){\n",
       "                            \n",
       "var gd = document.getElementById('3b2b90b9-ee7a-4e63-a069-afc0aa261ba3');\n",
       "var x = new MutationObserver(function (mutations, observer) {{\n",
       "        var display = window.getComputedStyle(gd).display;\n",
       "        if (!display || display === 'none') {{\n",
       "            console.log([gd, 'removed!']);\n",
       "            Plotly.purge(gd);\n",
       "            observer.disconnect();\n",
       "        }}\n",
       "}});\n",
       "\n",
       "// Listen for the removal of the full notebook cells\n",
       "var notebookContainer = gd.closest('#notebook-container');\n",
       "if (notebookContainer) {{\n",
       "    x.observe(notebookContainer, {childList: true});\n",
       "}}\n",
       "\n",
       "// Listen for the clearing of the current output cell\n",
       "var outputEl = gd.closest('.output');\n",
       "if (outputEl) {{\n",
       "    x.observe(outputEl, {childList: true});\n",
       "}}\n",
       "\n",
       "                        })\n",
       "                };\n",
       "                });\n",
       "            </script>\n",
       "        </div>"
      ]
     },
     "metadata": {},
     "output_type": "display_data"
    }
   ],
   "source": [
    "# primero, dibujo los cuadros que se animarán, cada uno es un mapa que tiene más trayectorias que el anterior\n",
    "frames = [go.Frame(data=[go.Scattermapbox(mode='lines', lat=cap['latitud'][:k+1],  lon=cap['longitud'][:k+1])])\n",
    "          for k in range(len(cap))]    \n",
    "\n",
    "# dibujo la figura, y le asigno los cuadros\n",
    "fig = go.Figure(\n",
    "    data=go.Scattermapbox(\n",
    "        lat=cap['latitud'], \n",
    "        lon=cap['longitud'],\n",
    "        text=cap['capital'],\n",
    "        hoverinfo='text'\n",
    "    ),\n",
    "    layout=go.Layout( #dibujo el boton de play\n",
    "        updatemenus=[dict(\n",
    "            type=\"buttons\",\n",
    "            buttons=[dict(label=\"Play\",\n",
    "                          method=\"animate\",\n",
    "                          args=[None])])]\n",
    "    ),\n",
    "    frames=frames\n",
    ")\n",
    "\n",
    "fig.update_layout(margin={\"r\":0,\"t\":0,\"l\":0,\"b\":0})\n",
    "fig.update_layout(mapbox_style=\"open-street-map\")\n",
    "fig.update_layout(\n",
    "    autosize=True,\n",
    "    hovermode='closest',\n",
    "    mapbox=dict(\n",
    "        center=dict(\n",
    "            lat=-35.876958,\n",
    "            lon=-65.293389\n",
    "        ),\n",
    "        zoom=3\n",
    "    ),\n",
    ")\n",
    "fig.show()"
   ]
  },
  {
   "cell_type": "code",
   "execution_count": 49,
   "metadata": {},
   "outputs": [
    {
     "data": {
      "text/plain": [
       "Frame({\n",
       "    'data': [{'lat': [-34.560063, -31.4135], 'lon': [-58.390526, -64.18105], 'mode': 'lines', 'type': 'scattermapbox'}]\n",
       "})"
      ]
     },
     "execution_count": 49,
     "metadata": {},
     "output_type": "execute_result"
    }
   ],
   "source": [
    "frames[0]"
   ]
  },
  {
   "cell_type": "code",
   "execution_count": 50,
   "metadata": {},
   "outputs": [
    {
     "data": {
      "text/plain": [
       "Frame({\n",
       "    'data': [{'lat': [-31.4135, -27.483745000000003],\n",
       "              'lon': [-64.18105, -58.812996],\n",
       "              'mode': 'lines',\n",
       "              'type': 'scattermapbox'}]\n",
       "})"
      ]
     },
     "execution_count": 50,
     "metadata": {},
     "output_type": "execute_result"
    }
   ],
   "source": [
    "go.Frame"
   ]
  },
  {
   "cell_type": "code",
   "execution_count": 70,
   "metadata": {},
   "outputs": [
    {
     "data": {
      "text/plain": [
       "\u001b[0;31mInit signature:\u001b[0m\n",
       "\u001b[0mgo\u001b[0m\u001b[0;34m.\u001b[0m\u001b[0mScattermapbox\u001b[0m\u001b[0;34m(\u001b[0m\u001b[0;34m\u001b[0m\n",
       "\u001b[0;34m\u001b[0m    \u001b[0marg\u001b[0m\u001b[0;34m=\u001b[0m\u001b[0;32mNone\u001b[0m\u001b[0;34m,\u001b[0m\u001b[0;34m\u001b[0m\n",
       "\u001b[0;34m\u001b[0m    \u001b[0mbelow\u001b[0m\u001b[0;34m=\u001b[0m\u001b[0;32mNone\u001b[0m\u001b[0;34m,\u001b[0m\u001b[0;34m\u001b[0m\n",
       "\u001b[0;34m\u001b[0m    \u001b[0mconnectgaps\u001b[0m\u001b[0;34m=\u001b[0m\u001b[0;32mNone\u001b[0m\u001b[0;34m,\u001b[0m\u001b[0;34m\u001b[0m\n",
       "\u001b[0;34m\u001b[0m    \u001b[0mcustomdata\u001b[0m\u001b[0;34m=\u001b[0m\u001b[0;32mNone\u001b[0m\u001b[0;34m,\u001b[0m\u001b[0;34m\u001b[0m\n",
       "\u001b[0;34m\u001b[0m    \u001b[0mcustomdatasrc\u001b[0m\u001b[0;34m=\u001b[0m\u001b[0;32mNone\u001b[0m\u001b[0;34m,\u001b[0m\u001b[0;34m\u001b[0m\n",
       "\u001b[0;34m\u001b[0m    \u001b[0mfill\u001b[0m\u001b[0;34m=\u001b[0m\u001b[0;32mNone\u001b[0m\u001b[0;34m,\u001b[0m\u001b[0;34m\u001b[0m\n",
       "\u001b[0;34m\u001b[0m    \u001b[0mfillcolor\u001b[0m\u001b[0;34m=\u001b[0m\u001b[0;32mNone\u001b[0m\u001b[0;34m,\u001b[0m\u001b[0;34m\u001b[0m\n",
       "\u001b[0;34m\u001b[0m    \u001b[0mhoverinfo\u001b[0m\u001b[0;34m=\u001b[0m\u001b[0;32mNone\u001b[0m\u001b[0;34m,\u001b[0m\u001b[0;34m\u001b[0m\n",
       "\u001b[0;34m\u001b[0m    \u001b[0mhoverinfosrc\u001b[0m\u001b[0;34m=\u001b[0m\u001b[0;32mNone\u001b[0m\u001b[0;34m,\u001b[0m\u001b[0;34m\u001b[0m\n",
       "\u001b[0;34m\u001b[0m    \u001b[0mhoverlabel\u001b[0m\u001b[0;34m=\u001b[0m\u001b[0;32mNone\u001b[0m\u001b[0;34m,\u001b[0m\u001b[0;34m\u001b[0m\n",
       "\u001b[0;34m\u001b[0m    \u001b[0mhovertemplate\u001b[0m\u001b[0;34m=\u001b[0m\u001b[0;32mNone\u001b[0m\u001b[0;34m,\u001b[0m\u001b[0;34m\u001b[0m\n",
       "\u001b[0;34m\u001b[0m    \u001b[0mhovertemplatesrc\u001b[0m\u001b[0;34m=\u001b[0m\u001b[0;32mNone\u001b[0m\u001b[0;34m,\u001b[0m\u001b[0;34m\u001b[0m\n",
       "\u001b[0;34m\u001b[0m    \u001b[0mhovertext\u001b[0m\u001b[0;34m=\u001b[0m\u001b[0;32mNone\u001b[0m\u001b[0;34m,\u001b[0m\u001b[0;34m\u001b[0m\n",
       "\u001b[0;34m\u001b[0m    \u001b[0mhovertextsrc\u001b[0m\u001b[0;34m=\u001b[0m\u001b[0;32mNone\u001b[0m\u001b[0;34m,\u001b[0m\u001b[0;34m\u001b[0m\n",
       "\u001b[0;34m\u001b[0m    \u001b[0mids\u001b[0m\u001b[0;34m=\u001b[0m\u001b[0;32mNone\u001b[0m\u001b[0;34m,\u001b[0m\u001b[0;34m\u001b[0m\n",
       "\u001b[0;34m\u001b[0m    \u001b[0midssrc\u001b[0m\u001b[0;34m=\u001b[0m\u001b[0;32mNone\u001b[0m\u001b[0;34m,\u001b[0m\u001b[0;34m\u001b[0m\n",
       "\u001b[0;34m\u001b[0m    \u001b[0mlat\u001b[0m\u001b[0;34m=\u001b[0m\u001b[0;32mNone\u001b[0m\u001b[0;34m,\u001b[0m\u001b[0;34m\u001b[0m\n",
       "\u001b[0;34m\u001b[0m    \u001b[0mlatsrc\u001b[0m\u001b[0;34m=\u001b[0m\u001b[0;32mNone\u001b[0m\u001b[0;34m,\u001b[0m\u001b[0;34m\u001b[0m\n",
       "\u001b[0;34m\u001b[0m    \u001b[0mlegendgroup\u001b[0m\u001b[0;34m=\u001b[0m\u001b[0;32mNone\u001b[0m\u001b[0;34m,\u001b[0m\u001b[0;34m\u001b[0m\n",
       "\u001b[0;34m\u001b[0m    \u001b[0mline\u001b[0m\u001b[0;34m=\u001b[0m\u001b[0;32mNone\u001b[0m\u001b[0;34m,\u001b[0m\u001b[0;34m\u001b[0m\n",
       "\u001b[0;34m\u001b[0m    \u001b[0mlon\u001b[0m\u001b[0;34m=\u001b[0m\u001b[0;32mNone\u001b[0m\u001b[0;34m,\u001b[0m\u001b[0;34m\u001b[0m\n",
       "\u001b[0;34m\u001b[0m    \u001b[0mlonsrc\u001b[0m\u001b[0;34m=\u001b[0m\u001b[0;32mNone\u001b[0m\u001b[0;34m,\u001b[0m\u001b[0;34m\u001b[0m\n",
       "\u001b[0;34m\u001b[0m    \u001b[0mmarker\u001b[0m\u001b[0;34m=\u001b[0m\u001b[0;32mNone\u001b[0m\u001b[0;34m,\u001b[0m\u001b[0;34m\u001b[0m\n",
       "\u001b[0;34m\u001b[0m    \u001b[0mmeta\u001b[0m\u001b[0;34m=\u001b[0m\u001b[0;32mNone\u001b[0m\u001b[0;34m,\u001b[0m\u001b[0;34m\u001b[0m\n",
       "\u001b[0;34m\u001b[0m    \u001b[0mmetasrc\u001b[0m\u001b[0;34m=\u001b[0m\u001b[0;32mNone\u001b[0m\u001b[0;34m,\u001b[0m\u001b[0;34m\u001b[0m\n",
       "\u001b[0;34m\u001b[0m    \u001b[0mmode\u001b[0m\u001b[0;34m=\u001b[0m\u001b[0;32mNone\u001b[0m\u001b[0;34m,\u001b[0m\u001b[0;34m\u001b[0m\n",
       "\u001b[0;34m\u001b[0m    \u001b[0mname\u001b[0m\u001b[0;34m=\u001b[0m\u001b[0;32mNone\u001b[0m\u001b[0;34m,\u001b[0m\u001b[0;34m\u001b[0m\n",
       "\u001b[0;34m\u001b[0m    \u001b[0mopacity\u001b[0m\u001b[0;34m=\u001b[0m\u001b[0;32mNone\u001b[0m\u001b[0;34m,\u001b[0m\u001b[0;34m\u001b[0m\n",
       "\u001b[0;34m\u001b[0m    \u001b[0mselected\u001b[0m\u001b[0;34m=\u001b[0m\u001b[0;32mNone\u001b[0m\u001b[0;34m,\u001b[0m\u001b[0;34m\u001b[0m\n",
       "\u001b[0;34m\u001b[0m    \u001b[0mselectedpoints\u001b[0m\u001b[0;34m=\u001b[0m\u001b[0;32mNone\u001b[0m\u001b[0;34m,\u001b[0m\u001b[0;34m\u001b[0m\n",
       "\u001b[0;34m\u001b[0m    \u001b[0mshowlegend\u001b[0m\u001b[0;34m=\u001b[0m\u001b[0;32mNone\u001b[0m\u001b[0;34m,\u001b[0m\u001b[0;34m\u001b[0m\n",
       "\u001b[0;34m\u001b[0m    \u001b[0mstream\u001b[0m\u001b[0;34m=\u001b[0m\u001b[0;32mNone\u001b[0m\u001b[0;34m,\u001b[0m\u001b[0;34m\u001b[0m\n",
       "\u001b[0;34m\u001b[0m    \u001b[0msubplot\u001b[0m\u001b[0;34m=\u001b[0m\u001b[0;32mNone\u001b[0m\u001b[0;34m,\u001b[0m\u001b[0;34m\u001b[0m\n",
       "\u001b[0;34m\u001b[0m    \u001b[0mtext\u001b[0m\u001b[0;34m=\u001b[0m\u001b[0;32mNone\u001b[0m\u001b[0;34m,\u001b[0m\u001b[0;34m\u001b[0m\n",
       "\u001b[0;34m\u001b[0m    \u001b[0mtextfont\u001b[0m\u001b[0;34m=\u001b[0m\u001b[0;32mNone\u001b[0m\u001b[0;34m,\u001b[0m\u001b[0;34m\u001b[0m\n",
       "\u001b[0;34m\u001b[0m    \u001b[0mtextposition\u001b[0m\u001b[0;34m=\u001b[0m\u001b[0;32mNone\u001b[0m\u001b[0;34m,\u001b[0m\u001b[0;34m\u001b[0m\n",
       "\u001b[0;34m\u001b[0m    \u001b[0mtextsrc\u001b[0m\u001b[0;34m=\u001b[0m\u001b[0;32mNone\u001b[0m\u001b[0;34m,\u001b[0m\u001b[0;34m\u001b[0m\n",
       "\u001b[0;34m\u001b[0m    \u001b[0mtexttemplate\u001b[0m\u001b[0;34m=\u001b[0m\u001b[0;32mNone\u001b[0m\u001b[0;34m,\u001b[0m\u001b[0;34m\u001b[0m\n",
       "\u001b[0;34m\u001b[0m    \u001b[0mtexttemplatesrc\u001b[0m\u001b[0;34m=\u001b[0m\u001b[0;32mNone\u001b[0m\u001b[0;34m,\u001b[0m\u001b[0;34m\u001b[0m\n",
       "\u001b[0;34m\u001b[0m    \u001b[0muid\u001b[0m\u001b[0;34m=\u001b[0m\u001b[0;32mNone\u001b[0m\u001b[0;34m,\u001b[0m\u001b[0;34m\u001b[0m\n",
       "\u001b[0;34m\u001b[0m    \u001b[0muirevision\u001b[0m\u001b[0;34m=\u001b[0m\u001b[0;32mNone\u001b[0m\u001b[0;34m,\u001b[0m\u001b[0;34m\u001b[0m\n",
       "\u001b[0;34m\u001b[0m    \u001b[0munselected\u001b[0m\u001b[0;34m=\u001b[0m\u001b[0;32mNone\u001b[0m\u001b[0;34m,\u001b[0m\u001b[0;34m\u001b[0m\n",
       "\u001b[0;34m\u001b[0m    \u001b[0mvisible\u001b[0m\u001b[0;34m=\u001b[0m\u001b[0;32mNone\u001b[0m\u001b[0;34m,\u001b[0m\u001b[0;34m\u001b[0m\n",
       "\u001b[0;34m\u001b[0m    \u001b[0;34m**\u001b[0m\u001b[0mkwargs\u001b[0m\u001b[0;34m,\u001b[0m\u001b[0;34m\u001b[0m\n",
       "\u001b[0;34m\u001b[0m\u001b[0;34m)\u001b[0m\u001b[0;34m\u001b[0m\u001b[0;34m\u001b[0m\u001b[0m\n",
       "\u001b[0;31mDocstring:\u001b[0m     \n",
       "Base class for the all trace types.\n",
       "\n",
       "Specific trace type classes (Scatter, Bar, etc.) are code generated as\n",
       "subclasses of this class.\n",
       "\u001b[0;31mInit docstring:\u001b[0m\n",
       "Construct a new Scattermapbox object\n",
       "\n",
       "The data visualized as scatter point, lines or marker symbols\n",
       "on a Mapbox GL geographic map is provided by longitude/latitude\n",
       "pairs in `lon` and `lat`.\n",
       "\n",
       "Parameters\n",
       "----------\n",
       "arg\n",
       "    dict of properties compatible with this constructor or\n",
       "    an instance of plotly.graph_objs.Scattermapbox\n",
       "below\n",
       "    Determines if this scattermapbox trace's layers are to\n",
       "    be inserted before the layer with the specified ID. By\n",
       "    default, scattermapbox layers are inserted above all\n",
       "    the base layers. To place the scattermapbox layers\n",
       "    above every other layer, set `below` to \"''\".\n",
       "connectgaps\n",
       "    Determines whether or not gaps (i.e. {nan} or missing\n",
       "    values) in the provided data arrays are connected.\n",
       "customdata\n",
       "    Assigns extra data each datum. This may be useful when\n",
       "    listening to hover, click and selection events. Note\n",
       "    that, \"scatter\" traces also appends customdata items in\n",
       "    the markers DOM elements\n",
       "customdatasrc\n",
       "    Sets the source reference on plot.ly for  customdata .\n",
       "fill\n",
       "    Sets the area to fill with a solid color. Use with\n",
       "    `fillcolor` if not \"none\". \"toself\" connects the\n",
       "    endpoints of the trace (or each segment of the trace if\n",
       "    it has gaps) into a closed shape.\n",
       "fillcolor\n",
       "    Sets the fill color. Defaults to a half-transparent\n",
       "    variant of the line color, marker color, or marker line\n",
       "    color, whichever is available.\n",
       "hoverinfo\n",
       "    Determines which trace information appear on hover. If\n",
       "    `none` or `skip` are set, no information is displayed\n",
       "    upon hovering. But, if `none` is set, click and hover\n",
       "    events are still fired.\n",
       "hoverinfosrc\n",
       "    Sets the source reference on plot.ly for  hoverinfo .\n",
       "hoverlabel\n",
       "    plotly.graph_objects.scattermapbox.Hoverlabel instance\n",
       "    or dict with compatible properties\n",
       "hovertemplate\n",
       "    Template string used for rendering the information that\n",
       "    appear on hover box. Note that this will override\n",
       "    `hoverinfo`. Variables are inserted using %{variable},\n",
       "    for example \"y: %{y}\". Numbers are formatted using\n",
       "    d3-format's syntax %{variable:d3-format}, for example\n",
       "    \"Price: %{y:$.2f}\". https://github.com/d3/d3-3.x-api-\n",
       "    reference/blob/master/Formatting.md#d3_format for\n",
       "    details on the formatting syntax. Dates are formatted\n",
       "    using d3-time-format's syntax %{variable|d3-time-\n",
       "    format}, for example \"Day: %{2019-01-01|%A}\".\n",
       "    https://github.com/d3/d3-3.x-api-\n",
       "    reference/blob/master/Time-Formatting.md#format for\n",
       "    details on the date formatting syntax. The variables\n",
       "    available in `hovertemplate` are the ones emitted as\n",
       "    event data described at this link\n",
       "    https://plot.ly/javascript/plotlyjs-events/#event-data.\n",
       "    Additionally, every attributes that can be specified\n",
       "    per-point (the ones that are `arrayOk: true`) are\n",
       "    available.  Anything contained in tag `<extra>` is\n",
       "    displayed in the secondary box, for example\n",
       "    \"<extra>{fullData.name}</extra>\". To hide the secondary\n",
       "    box completely, use an empty tag `<extra></extra>`.\n",
       "hovertemplatesrc\n",
       "    Sets the source reference on plot.ly for  hovertemplate\n",
       "    .\n",
       "hovertext\n",
       "    Sets hover text elements associated with each (lon,lat)\n",
       "    pair If a single string, the same string appears over\n",
       "    all the data points. If an array of string, the items\n",
       "    are mapped in order to the this trace's (lon,lat)\n",
       "    coordinates. To be seen, trace `hoverinfo` must contain\n",
       "    a \"text\" flag.\n",
       "hovertextsrc\n",
       "    Sets the source reference on plot.ly for  hovertext .\n",
       "ids\n",
       "    Assigns id labels to each datum. These ids for object\n",
       "    constancy of data points during animation. Should be an\n",
       "    array of strings, not numbers or any other type.\n",
       "idssrc\n",
       "    Sets the source reference on plot.ly for  ids .\n",
       "lat\n",
       "    Sets the latitude coordinates (in degrees North).\n",
       "latsrc\n",
       "    Sets the source reference on plot.ly for  lat .\n",
       "legendgroup\n",
       "    Sets the legend group for this trace. Traces part of\n",
       "    the same legend group hide/show at the same time when\n",
       "    toggling legend items.\n",
       "line\n",
       "    plotly.graph_objects.scattermapbox.Line instance or\n",
       "    dict with compatible properties\n",
       "lon\n",
       "    Sets the longitude coordinates (in degrees East).\n",
       "lonsrc\n",
       "    Sets the source reference on plot.ly for  lon .\n",
       "marker\n",
       "    plotly.graph_objects.scattermapbox.Marker instance or\n",
       "    dict with compatible properties\n",
       "meta\n",
       "    Assigns extra meta information associated with this\n",
       "    trace that can be used in various text attributes.\n",
       "    Attributes such as trace `name`, graph, axis and\n",
       "    colorbar `title.text`, annotation `text`\n",
       "    `rangeselector`, `updatemenues` and `sliders` `label`\n",
       "    text all support `meta`. To access the trace `meta`\n",
       "    values in an attribute in the same trace, simply use\n",
       "    `%{meta[i]}` where `i` is the index or key of the\n",
       "    `meta` item in question. To access trace `meta` in\n",
       "    layout attributes, use `%{data[n[.meta[i]}` where `i`\n",
       "    is the index or key of the `meta` and `n` is the trace\n",
       "    index.\n",
       "metasrc\n",
       "    Sets the source reference on plot.ly for  meta .\n",
       "mode\n",
       "    Determines the drawing mode for this scatter trace. If\n",
       "    the provided `mode` includes \"text\" then the `text`\n",
       "    elements appear at the coordinates. Otherwise, the\n",
       "    `text` elements appear on hover.\n",
       "name\n",
       "    Sets the trace name. The trace name appear as the\n",
       "    legend item and on hover.\n",
       "opacity\n",
       "    Sets the opacity of the trace.\n",
       "selected\n",
       "    plotly.graph_objects.scattermapbox.Selected instance or\n",
       "    dict with compatible properties\n",
       "selectedpoints\n",
       "    Array containing integer indices of selected points.\n",
       "    Has an effect only for traces that support selections.\n",
       "    Note that an empty array means an empty selection where\n",
       "    the `unselected` are turned on for all points, whereas,\n",
       "    any other non-array values means no selection all where\n",
       "    the `selected` and `unselected` styles have no effect.\n",
       "showlegend\n",
       "    Determines whether or not an item corresponding to this\n",
       "    trace is shown in the legend.\n",
       "stream\n",
       "    plotly.graph_objects.scattermapbox.Stream instance or\n",
       "    dict with compatible properties\n",
       "subplot\n",
       "    Sets a reference between this trace's data coordinates\n",
       "    and a mapbox subplot. If \"mapbox\" (the default value),\n",
       "    the data refer to `layout.mapbox`. If \"mapbox2\", the\n",
       "    data refer to `layout.mapbox2`, and so on.\n",
       "text\n",
       "    Sets text elements associated with each (lon,lat) pair\n",
       "    If a single string, the same string appears over all\n",
       "    the data points. If an array of string, the items are\n",
       "    mapped in order to the this trace's (lon,lat)\n",
       "    coordinates. If trace `hoverinfo` contains a \"text\"\n",
       "    flag and \"hovertext\" is not set, these elements will be\n",
       "    seen in the hover labels.\n",
       "textfont\n",
       "    Sets the icon text font (color=mapbox.layer.paint.text-\n",
       "    color, size=mapbox.layer.layout.text-size). Has an\n",
       "    effect only when `type` is set to \"symbol\".\n",
       "textposition\n",
       "    Sets the positions of the `text` elements with respects\n",
       "    to the (x,y) coordinates.\n",
       "textsrc\n",
       "    Sets the source reference on plot.ly for  text .\n",
       "texttemplate\n",
       "    Template string used for rendering the information text\n",
       "    that appear on points. Note that this will override\n",
       "    `textinfo`. Variables are inserted using %{variable},\n",
       "    for example \"y: %{y}\". Numbers are formatted using\n",
       "    d3-format's syntax %{variable:d3-format}, for example\n",
       "    \"Price: %{y:$.2f}\". https://github.com/d3/d3-3.x-api-\n",
       "    reference/blob/master/Formatting.md#d3_format for\n",
       "    details on the formatting syntax. Dates are formatted\n",
       "    using d3-time-format's syntax %{variable|d3-time-\n",
       "    format}, for example \"Day: %{2019-01-01|%A}\".\n",
       "    https://github.com/d3/d3-3.x-api-\n",
       "    reference/blob/master/Time-Formatting.md#format for\n",
       "    details on the date formatting syntax. Every attributes\n",
       "    that can be specified per-point (the ones that are\n",
       "    `arrayOk: true`) are available. variables `lat`, `lon`\n",
       "    and `text`.\n",
       "texttemplatesrc\n",
       "    Sets the source reference on plot.ly for  texttemplate\n",
       "    .\n",
       "uid\n",
       "    Assign an id to this trace, Use this to provide object\n",
       "    constancy between traces during animations and\n",
       "    transitions.\n",
       "uirevision\n",
       "    Controls persistence of some user-driven changes to the\n",
       "    trace: `constraintrange` in `parcoords` traces, as well\n",
       "    as some `editable: true` modifications such as `name`\n",
       "    and `colorbar.title`. Defaults to `layout.uirevision`.\n",
       "    Note that other user-driven trace attribute changes are\n",
       "    controlled by `layout` attributes: `trace.visible` is\n",
       "    controlled by `layout.legend.uirevision`,\n",
       "    `selectedpoints` is controlled by\n",
       "    `layout.selectionrevision`, and `colorbar.(x|y)`\n",
       "    (accessible with `config: {editable: true}`) is\n",
       "    controlled by `layout.editrevision`. Trace changes are\n",
       "    tracked by `uid`, which only falls back on trace index\n",
       "    if no `uid` is provided. So if your app can add/remove\n",
       "    traces before the end of the `data` array, such that\n",
       "    the same trace has a different index, you can still\n",
       "    preserve user-driven changes if you give each trace a\n",
       "    `uid` that stays with it as it moves.\n",
       "unselected\n",
       "    plotly.graph_objects.scattermapbox.Unselected instance\n",
       "    or dict with compatible properties\n",
       "visible\n",
       "    Determines whether or not this trace is visible. If\n",
       "    \"legendonly\", the trace is not drawn, but can appear as\n",
       "    a legend item (provided that the legend itself is\n",
       "    visible).\n",
       "\n",
       "Returns\n",
       "-------\n",
       "Scattermapbox\n",
       "\u001b[0;31mFile:\u001b[0m           ~/anaconda3/envs/dash-env/lib/python3.8/site-packages/plotly/graph_objs/__init__.py\n",
       "\u001b[0;31mType:\u001b[0m           type\n",
       "\u001b[0;31mSubclasses:\u001b[0m     \n"
      ]
     },
     "metadata": {},
     "output_type": "display_data"
    }
   ],
   "source": [
    "go.Scattermapbox?"
   ]
  },
  {
   "cell_type": "code",
   "execution_count": null,
   "metadata": {},
   "outputs": [],
   "source": []
  }
 ],
 "metadata": {
  "kernelspec": {
   "display_name": "Python 3",
   "language": "python",
   "name": "python3"
  },
  "language_info": {
   "codemirror_mode": {
    "name": "ipython",
    "version": 3
   },
   "file_extension": ".py",
   "mimetype": "text/x-python",
   "name": "python",
   "nbconvert_exporter": "python",
   "pygments_lexer": "ipython3",
   "version": "3.8.0"
  }
 },
 "nbformat": 4,
 "nbformat_minor": 4
}
